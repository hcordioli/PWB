{
 "cells": [
  {
   "cell_type": "markdown",
   "id": "35cdb27f",
   "metadata": {},
   "source": [
    "# Versionamento"
   ]
  },
  {
   "cell_type": "markdown",
   "id": "a64b68d1",
   "metadata": {},
   "source": [
    "V2: \n",
    "<ul>\n",
    "    <li>Inclusão da variável categórica x28 que está relacionada com o tipo de papel em produção</li>\n",
    "    <li>Feature Selection</li>\n",
    "    <li>Feature Scalling</li>\n",
    "</ul>"
   ]
  },
  {
   "cell_type": "markdown",
   "id": "ab4d4236",
   "metadata": {},
   "source": [
    "V3:\n",
    "<ul>\n",
    "    <li>Ajuste de parâmetros dos modelos</li>\n",
    "    <li> V2: correção da função lstm_data_transform para pegar o target correto</li>\n",
    "</ul>"
   ]
  },
  {
   "cell_type": "markdown",
   "id": "b906e725",
   "metadata": {},
   "source": [
    "V4:\n",
    "<ul>\n",
    "    <li>Redução de feature usando resultado do PCA (notebook DimRedPCAOnTS) </li>\n",
    "    <li>num_steps de 30 para 10</li>\n",
    "</ul>"
   ]
  },
  {
   "cell_type": "markdown",
   "id": "8af147a2",
   "metadata": {},
   "source": [
    "# O problema"
   ]
  },
  {
   "cell_type": "markdown",
   "id": "a5640d24",
   "metadata": {},
   "source": [
    "Paper manufacturing can be viewed as a continuous rolling process. During this process, sometimes the paper breaks. If a break happens, the entire process is stopped, the reel is taken out, any found problem is fixed, and the production is resumed. The resumption can take more than an hour.\n",
    "\n",
    "The cost of this lost production time is significant for a mill. Even a 5% reduction in the break events will give a significant cost saving for a mill. The objective of the given problem is to predict such breaks in advance (early prediction) and identify the potential cause(s) to prevent the break. \n",
    "\n",
    "To build such a prediction model, we will use the data collected from the network of sensors in a mill."
   ]
  },
  {
   "cell_type": "markdown",
   "id": "da647642",
   "metadata": {},
   "source": [
    "This is a multivariate time series data with break as the response (a\n",
    "binary variable).\n",
    "The provided data has,\n",
    "<ul>\n",
    "    <li>18,398 records.</li>\n",
    "    <li>Columns:</li>\n",
    "        <ul>\n",
    "        <li>time: the timestamp of the row</li>\n",
    "        <li>y: the binary response variable. There are only 124 rows with y = 1, rest are y = 0.</li>\n",
    "        <li>x1-x61: predictor variables. All the predictors are continuous variables, except x28 and x61. x61 is a binary variable, and x28 is a\n",
    "        categorical variable. All the predictors are centered. Besides, the predictors are a mixture of raw materials and process variables. Their descriptions are omitted for data anonymity.\n",
    "            Several sensors are placed in different parts of the machine along its length\n",
    "and breadth. These sensors measure both raw materials (e.g. amount of pulp\n",
    "fiber, chemicals, etc.) and process variables (e.g. blade type, couch vacuum,\n",
    "rotor speed, etc.).</li>\n",
    "        </ul>\n",
    "</ul>"
   ]
  },
  {
   "cell_type": "markdown",
   "id": "b2e887af",
   "metadata": {},
   "source": [
    "# Setup"
   ]
  },
  {
   "cell_type": "code",
   "execution_count": 1,
   "id": "bc68ad8b",
   "metadata": {},
   "outputs": [],
   "source": [
    "import pandas as pd\n",
    "import numpy as np\n",
    "import seaborn as sns\n",
    "import matplotlib.pyplot as plt\n",
    "from matplotlib.pyplot import figure\n",
    "from sklearn.metrics import confusion_matrix, recall_score, precision_score, accuracy_score, plot_confusion_matrix\n",
    "import datetime"
   ]
  },
  {
   "cell_type": "markdown",
   "id": "fb011b14",
   "metadata": {},
   "source": [
    "# Load Data"
   ]
  },
  {
   "cell_type": "code",
   "execution_count": 2,
   "id": "6d0806f3",
   "metadata": {},
   "outputs": [],
   "source": [
    "pwbdatafile = '..\\\\data\\\\pwb-data-augmented.csv'\n",
    "pwbds = pd.read_csv(pwbdatafile)\n",
    "pwbds.drop('Unnamed: 0',axis=1,inplace=True)"
   ]
  },
  {
   "cell_type": "markdown",
   "id": "c75c014a",
   "metadata": {},
   "source": [
    "## Cálculo do Remaining Usefull Lifecycle (RUL)"
   ]
  },
  {
   "cell_type": "code",
   "execution_count": 3,
   "id": "1ef667a8",
   "metadata": {},
   "outputs": [],
   "source": [
    "# Dates whith break\n",
    "df_sub = sorted(pwbds[pwbds['y'] == 1]['timestamp'].tolist())"
   ]
  },
  {
   "cell_type": "code",
   "execution_count": 4,
   "id": "c87afe51",
   "metadata": {},
   "outputs": [],
   "source": [
    "# variable to store all days\n",
    "breakSubIdx=0\n",
    "breakLstIdx=0\n",
    "breakList = pwbds['y'].tolist()\n",
    "nextbreak = []\n",
    "for v1 in pwbds['timestamp'].tolist():\n",
    "    if((breakList[breakLstIdx] == 1)):\n",
    "#        print ('1')\n",
    "        nextbreak.append(v1)\n",
    "        breakSubIdx = breakSubIdx+1\n",
    "    else:\n",
    "#        print('0')\n",
    "        if (breakSubIdx < len(df_sub)):\n",
    "            nextbreak.append(df_sub[breakSubIdx])\n",
    "        else:\n",
    "            nextbreak.append(df_sub[breakSubIdx-1])\n",
    "    breakLstIdx = breakLstIdx+1\n",
    "pwbds['nextbreaktime'] = pd.Series(nextbreak)"
   ]
  },
  {
   "cell_type": "code",
   "execution_count": 5,
   "id": "80323e1e",
   "metadata": {},
   "outputs": [
    {
     "data": {
      "text/html": [
       "<div>\n",
       "<style scoped>\n",
       "    .dataframe tbody tr th:only-of-type {\n",
       "        vertical-align: middle;\n",
       "    }\n",
       "\n",
       "    .dataframe tbody tr th {\n",
       "        vertical-align: top;\n",
       "    }\n",
       "\n",
       "    .dataframe thead th {\n",
       "        text-align: right;\n",
       "    }\n",
       "</style>\n",
       "<table border=\"1\" class=\"dataframe\">\n",
       "  <thead>\n",
       "    <tr style=\"text-align: right;\">\n",
       "      <th></th>\n",
       "      <th>y</th>\n",
       "      <th>x1</th>\n",
       "      <th>x2</th>\n",
       "      <th>x3</th>\n",
       "      <th>x4</th>\n",
       "      <th>x5</th>\n",
       "      <th>x6</th>\n",
       "      <th>x7</th>\n",
       "      <th>x8</th>\n",
       "      <th>x9</th>\n",
       "      <th>...</th>\n",
       "      <th>x54</th>\n",
       "      <th>x55</th>\n",
       "      <th>x56</th>\n",
       "      <th>x57</th>\n",
       "      <th>x58</th>\n",
       "      <th>x59</th>\n",
       "      <th>x60</th>\n",
       "      <th>x61</th>\n",
       "      <th>timestamp</th>\n",
       "      <th>nextbreaktime</th>\n",
       "    </tr>\n",
       "  </thead>\n",
       "  <tbody>\n",
       "    <tr>\n",
       "      <th>0</th>\n",
       "      <td>0</td>\n",
       "      <td>0.376665</td>\n",
       "      <td>-4.596435</td>\n",
       "      <td>-4.095756</td>\n",
       "      <td>13.497687</td>\n",
       "      <td>-0.118830</td>\n",
       "      <td>-20.669883</td>\n",
       "      <td>0.000732</td>\n",
       "      <td>-0.061114</td>\n",
       "      <td>-0.059966</td>\n",
       "      <td>...</td>\n",
       "      <td>-4.936434</td>\n",
       "      <td>-24.590146</td>\n",
       "      <td>18.515436</td>\n",
       "      <td>3.473400</td>\n",
       "      <td>0.033444</td>\n",
       "      <td>0.953219</td>\n",
       "      <td>0.006076</td>\n",
       "      <td>0</td>\n",
       "      <td>0</td>\n",
       "      <td>259</td>\n",
       "    </tr>\n",
       "    <tr>\n",
       "      <th>1</th>\n",
       "      <td>0</td>\n",
       "      <td>0.475720</td>\n",
       "      <td>-4.542502</td>\n",
       "      <td>-4.018359</td>\n",
       "      <td>16.230659</td>\n",
       "      <td>-0.128733</td>\n",
       "      <td>-18.758079</td>\n",
       "      <td>0.000732</td>\n",
       "      <td>-0.061114</td>\n",
       "      <td>-0.059966</td>\n",
       "      <td>...</td>\n",
       "      <td>-4.937179</td>\n",
       "      <td>-32.413266</td>\n",
       "      <td>22.760065</td>\n",
       "      <td>2.682933</td>\n",
       "      <td>0.033536</td>\n",
       "      <td>1.090502</td>\n",
       "      <td>0.006083</td>\n",
       "      <td>0</td>\n",
       "      <td>1</td>\n",
       "      <td>259</td>\n",
       "    </tr>\n",
       "    <tr>\n",
       "      <th>2</th>\n",
       "      <td>0</td>\n",
       "      <td>0.363848</td>\n",
       "      <td>-4.681394</td>\n",
       "      <td>-4.353147</td>\n",
       "      <td>14.127997</td>\n",
       "      <td>-0.138636</td>\n",
       "      <td>-17.836632</td>\n",
       "      <td>0.010803</td>\n",
       "      <td>-0.061114</td>\n",
       "      <td>-0.030057</td>\n",
       "      <td>...</td>\n",
       "      <td>-4.937924</td>\n",
       "      <td>-34.183774</td>\n",
       "      <td>27.004663</td>\n",
       "      <td>3.537487</td>\n",
       "      <td>0.033629</td>\n",
       "      <td>1.840540</td>\n",
       "      <td>0.006090</td>\n",
       "      <td>0</td>\n",
       "      <td>2</td>\n",
       "      <td>259</td>\n",
       "    </tr>\n",
       "    <tr>\n",
       "      <th>3</th>\n",
       "      <td>0</td>\n",
       "      <td>0.301590</td>\n",
       "      <td>-4.758934</td>\n",
       "      <td>-4.023612</td>\n",
       "      <td>13.161566</td>\n",
       "      <td>-0.148142</td>\n",
       "      <td>-18.517601</td>\n",
       "      <td>0.002075</td>\n",
       "      <td>-0.061114</td>\n",
       "      <td>-0.019986</td>\n",
       "      <td>...</td>\n",
       "      <td>-4.938669</td>\n",
       "      <td>-35.954281</td>\n",
       "      <td>21.672449</td>\n",
       "      <td>3.986095</td>\n",
       "      <td>0.033721</td>\n",
       "      <td>2.554880</td>\n",
       "      <td>0.006097</td>\n",
       "      <td>0</td>\n",
       "      <td>3</td>\n",
       "      <td>259</td>\n",
       "    </tr>\n",
       "    <tr>\n",
       "      <th>4</th>\n",
       "      <td>0</td>\n",
       "      <td>0.265578</td>\n",
       "      <td>-4.749928</td>\n",
       "      <td>-4.333150</td>\n",
       "      <td>15.267340</td>\n",
       "      <td>-0.155314</td>\n",
       "      <td>-17.505913</td>\n",
       "      <td>0.000732</td>\n",
       "      <td>-0.061114</td>\n",
       "      <td>-0.030057</td>\n",
       "      <td>...</td>\n",
       "      <td>-4.939414</td>\n",
       "      <td>-37.724789</td>\n",
       "      <td>21.907251</td>\n",
       "      <td>3.601573</td>\n",
       "      <td>0.033777</td>\n",
       "      <td>1.410494</td>\n",
       "      <td>0.006105</td>\n",
       "      <td>0</td>\n",
       "      <td>4</td>\n",
       "      <td>259</td>\n",
       "    </tr>\n",
       "  </tbody>\n",
       "</table>\n",
       "<p>5 rows × 64 columns</p>\n",
       "</div>"
      ],
      "text/plain": [
       "   y        x1        x2        x3         x4        x5         x6        x7  \\\n",
       "0  0  0.376665 -4.596435 -4.095756  13.497687 -0.118830 -20.669883  0.000732   \n",
       "1  0  0.475720 -4.542502 -4.018359  16.230659 -0.128733 -18.758079  0.000732   \n",
       "2  0  0.363848 -4.681394 -4.353147  14.127997 -0.138636 -17.836632  0.010803   \n",
       "3  0  0.301590 -4.758934 -4.023612  13.161566 -0.148142 -18.517601  0.002075   \n",
       "4  0  0.265578 -4.749928 -4.333150  15.267340 -0.155314 -17.505913  0.000732   \n",
       "\n",
       "         x8        x9  ...       x54        x55        x56       x57  \\\n",
       "0 -0.061114 -0.059966  ... -4.936434 -24.590146  18.515436  3.473400   \n",
       "1 -0.061114 -0.059966  ... -4.937179 -32.413266  22.760065  2.682933   \n",
       "2 -0.061114 -0.030057  ... -4.937924 -34.183774  27.004663  3.537487   \n",
       "3 -0.061114 -0.019986  ... -4.938669 -35.954281  21.672449  3.986095   \n",
       "4 -0.061114 -0.030057  ... -4.939414 -37.724789  21.907251  3.601573   \n",
       "\n",
       "        x58       x59       x60  x61  timestamp  nextbreaktime  \n",
       "0  0.033444  0.953219  0.006076    0          0            259  \n",
       "1  0.033536  1.090502  0.006083    0          1            259  \n",
       "2  0.033629  1.840540  0.006090    0          2            259  \n",
       "3  0.033721  2.554880  0.006097    0          3            259  \n",
       "4  0.033777  1.410494  0.006105    0          4            259  \n",
       "\n",
       "[5 rows x 64 columns]"
      ]
     },
     "execution_count": 5,
     "metadata": {},
     "output_type": "execute_result"
    }
   ],
   "source": [
    "pwbds.head()"
   ]
  },
  {
   "cell_type": "code",
   "execution_count": 6,
   "id": "700b77e4",
   "metadata": {},
   "outputs": [],
   "source": [
    "pwbds['RUL']=(pwbds['nextbreaktime']-pwbds['timestamp'])\n",
    "#pwbds.drop(pwbds[pwbds.RUL < 0].index, inplace=True)\n",
    "pwbds.drop(['timestamp','nextbreaktime'], axis=1, inplace=True)"
   ]
  },
  {
   "cell_type": "code",
   "execution_count": 7,
   "id": "b15b6d91",
   "metadata": {},
   "outputs": [
    {
     "data": {
      "text/html": [
       "<div>\n",
       "<style scoped>\n",
       "    .dataframe tbody tr th:only-of-type {\n",
       "        vertical-align: middle;\n",
       "    }\n",
       "\n",
       "    .dataframe tbody tr th {\n",
       "        vertical-align: top;\n",
       "    }\n",
       "\n",
       "    .dataframe thead th {\n",
       "        text-align: right;\n",
       "    }\n",
       "</style>\n",
       "<table border=\"1\" class=\"dataframe\">\n",
       "  <thead>\n",
       "    <tr style=\"text-align: right;\">\n",
       "      <th></th>\n",
       "      <th>y</th>\n",
       "      <th>x1</th>\n",
       "      <th>x2</th>\n",
       "      <th>x3</th>\n",
       "      <th>x4</th>\n",
       "      <th>x5</th>\n",
       "      <th>x6</th>\n",
       "      <th>x7</th>\n",
       "      <th>x8</th>\n",
       "      <th>x9</th>\n",
       "      <th>...</th>\n",
       "      <th>x53</th>\n",
       "      <th>x54</th>\n",
       "      <th>x55</th>\n",
       "      <th>x56</th>\n",
       "      <th>x57</th>\n",
       "      <th>x58</th>\n",
       "      <th>x59</th>\n",
       "      <th>x60</th>\n",
       "      <th>x61</th>\n",
       "      <th>RUL</th>\n",
       "    </tr>\n",
       "  </thead>\n",
       "  <tbody>\n",
       "    <tr>\n",
       "      <th>0</th>\n",
       "      <td>0</td>\n",
       "      <td>0.376665</td>\n",
       "      <td>-4.596435</td>\n",
       "      <td>-4.095756</td>\n",
       "      <td>13.497687</td>\n",
       "      <td>-0.118830</td>\n",
       "      <td>-20.669883</td>\n",
       "      <td>0.000732</td>\n",
       "      <td>-0.061114</td>\n",
       "      <td>-0.059966</td>\n",
       "      <td>...</td>\n",
       "      <td>0.053279</td>\n",
       "      <td>-4.936434</td>\n",
       "      <td>-24.590146</td>\n",
       "      <td>18.515436</td>\n",
       "      <td>3.473400</td>\n",
       "      <td>0.033444</td>\n",
       "      <td>0.953219</td>\n",
       "      <td>0.006076</td>\n",
       "      <td>0</td>\n",
       "      <td>259</td>\n",
       "    </tr>\n",
       "    <tr>\n",
       "      <th>1</th>\n",
       "      <td>0</td>\n",
       "      <td>0.475720</td>\n",
       "      <td>-4.542502</td>\n",
       "      <td>-4.018359</td>\n",
       "      <td>16.230659</td>\n",
       "      <td>-0.128733</td>\n",
       "      <td>-18.758079</td>\n",
       "      <td>0.000732</td>\n",
       "      <td>-0.061114</td>\n",
       "      <td>-0.059966</td>\n",
       "      <td>...</td>\n",
       "      <td>0.062801</td>\n",
       "      <td>-4.937179</td>\n",
       "      <td>-32.413266</td>\n",
       "      <td>22.760065</td>\n",
       "      <td>2.682933</td>\n",
       "      <td>0.033536</td>\n",
       "      <td>1.090502</td>\n",
       "      <td>0.006083</td>\n",
       "      <td>0</td>\n",
       "      <td>258</td>\n",
       "    </tr>\n",
       "    <tr>\n",
       "      <th>2</th>\n",
       "      <td>0</td>\n",
       "      <td>0.363848</td>\n",
       "      <td>-4.681394</td>\n",
       "      <td>-4.353147</td>\n",
       "      <td>14.127997</td>\n",
       "      <td>-0.138636</td>\n",
       "      <td>-17.836632</td>\n",
       "      <td>0.010803</td>\n",
       "      <td>-0.061114</td>\n",
       "      <td>-0.030057</td>\n",
       "      <td>...</td>\n",
       "      <td>0.072322</td>\n",
       "      <td>-4.937924</td>\n",
       "      <td>-34.183774</td>\n",
       "      <td>27.004663</td>\n",
       "      <td>3.537487</td>\n",
       "      <td>0.033629</td>\n",
       "      <td>1.840540</td>\n",
       "      <td>0.006090</td>\n",
       "      <td>0</td>\n",
       "      <td>257</td>\n",
       "    </tr>\n",
       "    <tr>\n",
       "      <th>3</th>\n",
       "      <td>0</td>\n",
       "      <td>0.301590</td>\n",
       "      <td>-4.758934</td>\n",
       "      <td>-4.023612</td>\n",
       "      <td>13.161566</td>\n",
       "      <td>-0.148142</td>\n",
       "      <td>-18.517601</td>\n",
       "      <td>0.002075</td>\n",
       "      <td>-0.061114</td>\n",
       "      <td>-0.019986</td>\n",
       "      <td>...</td>\n",
       "      <td>0.081600</td>\n",
       "      <td>-4.938669</td>\n",
       "      <td>-35.954281</td>\n",
       "      <td>21.672449</td>\n",
       "      <td>3.986095</td>\n",
       "      <td>0.033721</td>\n",
       "      <td>2.554880</td>\n",
       "      <td>0.006097</td>\n",
       "      <td>0</td>\n",
       "      <td>256</td>\n",
       "    </tr>\n",
       "    <tr>\n",
       "      <th>4</th>\n",
       "      <td>0</td>\n",
       "      <td>0.265578</td>\n",
       "      <td>-4.749928</td>\n",
       "      <td>-4.333150</td>\n",
       "      <td>15.267340</td>\n",
       "      <td>-0.155314</td>\n",
       "      <td>-17.505913</td>\n",
       "      <td>0.000732</td>\n",
       "      <td>-0.061114</td>\n",
       "      <td>-0.030057</td>\n",
       "      <td>...</td>\n",
       "      <td>0.091121</td>\n",
       "      <td>-4.939414</td>\n",
       "      <td>-37.724789</td>\n",
       "      <td>21.907251</td>\n",
       "      <td>3.601573</td>\n",
       "      <td>0.033777</td>\n",
       "      <td>1.410494</td>\n",
       "      <td>0.006105</td>\n",
       "      <td>0</td>\n",
       "      <td>255</td>\n",
       "    </tr>\n",
       "  </tbody>\n",
       "</table>\n",
       "<p>5 rows × 63 columns</p>\n",
       "</div>"
      ],
      "text/plain": [
       "   y        x1        x2        x3         x4        x5         x6        x7  \\\n",
       "0  0  0.376665 -4.596435 -4.095756  13.497687 -0.118830 -20.669883  0.000732   \n",
       "1  0  0.475720 -4.542502 -4.018359  16.230659 -0.128733 -18.758079  0.000732   \n",
       "2  0  0.363848 -4.681394 -4.353147  14.127997 -0.138636 -17.836632  0.010803   \n",
       "3  0  0.301590 -4.758934 -4.023612  13.161566 -0.148142 -18.517601  0.002075   \n",
       "4  0  0.265578 -4.749928 -4.333150  15.267340 -0.155314 -17.505913  0.000732   \n",
       "\n",
       "         x8        x9  ...       x53       x54        x55        x56  \\\n",
       "0 -0.061114 -0.059966  ...  0.053279 -4.936434 -24.590146  18.515436   \n",
       "1 -0.061114 -0.059966  ...  0.062801 -4.937179 -32.413266  22.760065   \n",
       "2 -0.061114 -0.030057  ...  0.072322 -4.937924 -34.183774  27.004663   \n",
       "3 -0.061114 -0.019986  ...  0.081600 -4.938669 -35.954281  21.672449   \n",
       "4 -0.061114 -0.030057  ...  0.091121 -4.939414 -37.724789  21.907251   \n",
       "\n",
       "        x57       x58       x59       x60  x61  RUL  \n",
       "0  3.473400  0.033444  0.953219  0.006076    0  259  \n",
       "1  2.682933  0.033536  1.090502  0.006083    0  258  \n",
       "2  3.537487  0.033629  1.840540  0.006090    0  257  \n",
       "3  3.986095  0.033721  2.554880  0.006097    0  256  \n",
       "4  3.601573  0.033777  1.410494  0.006105    0  255  \n",
       "\n",
       "[5 rows x 63 columns]"
      ]
     },
     "execution_count": 7,
     "metadata": {},
     "output_type": "execute_result"
    }
   ],
   "source": [
    "pwbds.head()"
   ]
  },
  {
   "cell_type": "markdown",
   "id": "846c03bb",
   "metadata": {},
   "source": [
    "### Verificando cálculo do RUL"
   ]
  },
  {
   "cell_type": "code",
   "execution_count": 8,
   "id": "393fc7de",
   "metadata": {},
   "outputs": [
    {
     "data": {
      "text/html": [
       "<div>\n",
       "<style scoped>\n",
       "    .dataframe tbody tr th:only-of-type {\n",
       "        vertical-align: middle;\n",
       "    }\n",
       "\n",
       "    .dataframe tbody tr th {\n",
       "        vertical-align: top;\n",
       "    }\n",
       "\n",
       "    .dataframe thead th {\n",
       "        text-align: right;\n",
       "    }\n",
       "</style>\n",
       "<table border=\"1\" class=\"dataframe\">\n",
       "  <thead>\n",
       "    <tr style=\"text-align: right;\">\n",
       "      <th></th>\n",
       "      <th>y</th>\n",
       "      <th>x1</th>\n",
       "      <th>x2</th>\n",
       "      <th>x3</th>\n",
       "      <th>x4</th>\n",
       "      <th>x5</th>\n",
       "      <th>x6</th>\n",
       "      <th>x7</th>\n",
       "      <th>x8</th>\n",
       "      <th>x9</th>\n",
       "      <th>...</th>\n",
       "      <th>x53</th>\n",
       "      <th>x54</th>\n",
       "      <th>x55</th>\n",
       "      <th>x56</th>\n",
       "      <th>x57</th>\n",
       "      <th>x58</th>\n",
       "      <th>x59</th>\n",
       "      <th>x60</th>\n",
       "      <th>x61</th>\n",
       "      <th>RUL</th>\n",
       "    </tr>\n",
       "  </thead>\n",
       "  <tbody>\n",
       "    <tr>\n",
       "      <th>259</th>\n",
       "      <td>1</td>\n",
       "      <td>0.892311</td>\n",
       "      <td>-13.332664</td>\n",
       "      <td>-10.006578</td>\n",
       "      <td>2.855933</td>\n",
       "      <td>-0.448832</td>\n",
       "      <td>15.986336</td>\n",
       "      <td>0.000732</td>\n",
       "      <td>-0.061114</td>\n",
       "      <td>-0.030057</td>\n",
       "      <td>...</td>\n",
       "      <td>-0.752385</td>\n",
       "      <td>-5.015553</td>\n",
       "      <td>-75.896664</td>\n",
       "      <td>69.585016</td>\n",
       "      <td>3.113292</td>\n",
       "      <td>0.032223</td>\n",
       "      <td>5.685793</td>\n",
       "      <td>0.007663</td>\n",
       "      <td>1</td>\n",
       "      <td>0</td>\n",
       "    </tr>\n",
       "    <tr>\n",
       "      <th>776</th>\n",
       "      <td>1</td>\n",
       "      <td>-0.782471</td>\n",
       "      <td>-12.118747</td>\n",
       "      <td>-16.855194</td>\n",
       "      <td>-322.781610</td>\n",
       "      <td>-0.738810</td>\n",
       "      <td>25.966042</td>\n",
       "      <td>0.040711</td>\n",
       "      <td>-0.071186</td>\n",
       "      <td>0.012574</td>\n",
       "      <td>...</td>\n",
       "      <td>-5.337590</td>\n",
       "      <td>2.680329</td>\n",
       "      <td>-7.209775</td>\n",
       "      <td>-37.195777</td>\n",
       "      <td>1.642284</td>\n",
       "      <td>0.013798</td>\n",
       "      <td>2.664362</td>\n",
       "      <td>0.007856</td>\n",
       "      <td>0</td>\n",
       "      <td>0</td>\n",
       "    </tr>\n",
       "    <tr>\n",
       "      <th>835</th>\n",
       "      <td>1</td>\n",
       "      <td>-0.697450</td>\n",
       "      <td>-1.696176</td>\n",
       "      <td>4.145142</td>\n",
       "      <td>121.152838</td>\n",
       "      <td>-0.598597</td>\n",
       "      <td>-7.789024</td>\n",
       "      <td>0.060853</td>\n",
       "      <td>0.048752</td>\n",
       "      <td>-0.120087</td>\n",
       "      <td>...</td>\n",
       "      <td>-6.368351</td>\n",
       "      <td>2.568616</td>\n",
       "      <td>-26.245907</td>\n",
       "      <td>-74.477362</td>\n",
       "      <td>-0.097279</td>\n",
       "      <td>0.015905</td>\n",
       "      <td>2.700281</td>\n",
       "      <td>0.007745</td>\n",
       "      <td>0</td>\n",
       "      <td>0</td>\n",
       "    </tr>\n",
       "    <tr>\n",
       "      <th>1036</th>\n",
       "      <td>1</td>\n",
       "      <td>-0.791718</td>\n",
       "      <td>-0.076644</td>\n",
       "      <td>-1.012134</td>\n",
       "      <td>162.257269</td>\n",
       "      <td>-0.062876</td>\n",
       "      <td>9.005471</td>\n",
       "      <td>0.005767</td>\n",
       "      <td>0.033764</td>\n",
       "      <td>-0.120087</td>\n",
       "      <td>...</td>\n",
       "      <td>-6.856144</td>\n",
       "      <td>2.703874</td>\n",
       "      <td>-29.833432</td>\n",
       "      <td>-53.421866</td>\n",
       "      <td>-1.165393</td>\n",
       "      <td>0.019691</td>\n",
       "      <td>3.348276</td>\n",
       "      <td>0.006241</td>\n",
       "      <td>0</td>\n",
       "      <td>0</td>\n",
       "    </tr>\n",
       "    <tr>\n",
       "      <th>1263</th>\n",
       "      <td>1</td>\n",
       "      <td>-1.212083</td>\n",
       "      <td>-2.326809</td>\n",
       "      <td>0.922287</td>\n",
       "      <td>31.935858</td>\n",
       "      <td>-0.920100</td>\n",
       "      <td>14.183205</td>\n",
       "      <td>-0.089298</td>\n",
       "      <td>0.028915</td>\n",
       "      <td>-0.120087</td>\n",
       "      <td>...</td>\n",
       "      <td>-6.856144</td>\n",
       "      <td>2.762956</td>\n",
       "      <td>0.965763</td>\n",
       "      <td>-49.512961</td>\n",
       "      <td>-0.219349</td>\n",
       "      <td>0.041640</td>\n",
       "      <td>2.740404</td>\n",
       "      <td>0.005131</td>\n",
       "      <td>0</td>\n",
       "      <td>0</td>\n",
       "    </tr>\n",
       "    <tr>\n",
       "      <th>...</th>\n",
       "      <td>...</td>\n",
       "      <td>...</td>\n",
       "      <td>...</td>\n",
       "      <td>...</td>\n",
       "      <td>...</td>\n",
       "      <td>...</td>\n",
       "      <td>...</td>\n",
       "      <td>...</td>\n",
       "      <td>...</td>\n",
       "      <td>...</td>\n",
       "      <td>...</td>\n",
       "      <td>...</td>\n",
       "      <td>...</td>\n",
       "      <td>...</td>\n",
       "      <td>...</td>\n",
       "      <td>...</td>\n",
       "      <td>...</td>\n",
       "      <td>...</td>\n",
       "      <td>...</td>\n",
       "      <td>...</td>\n",
       "      <td>...</td>\n",
       "    </tr>\n",
       "    <tr>\n",
       "      <th>52626</th>\n",
       "      <td>1</td>\n",
       "      <td>-0.367076</td>\n",
       "      <td>-8.876281</td>\n",
       "      <td>-9.826331</td>\n",
       "      <td>-81.548181</td>\n",
       "      <td>0.719656</td>\n",
       "      <td>-31.805839</td>\n",
       "      <td>-0.058545</td>\n",
       "      <td>-0.000993</td>\n",
       "      <td>0.009922</td>\n",
       "      <td>...</td>\n",
       "      <td>10.091365</td>\n",
       "      <td>3.105512</td>\n",
       "      <td>101.055728</td>\n",
       "      <td>-59.396201</td>\n",
       "      <td>-2.111499</td>\n",
       "      <td>0.001227</td>\n",
       "      <td>1.458925</td>\n",
       "      <td>0.018978</td>\n",
       "      <td>0</td>\n",
       "      <td>0</td>\n",
       "    </tr>\n",
       "    <tr>\n",
       "      <th>52630</th>\n",
       "      <td>1</td>\n",
       "      <td>0.381548</td>\n",
       "      <td>-7.119146</td>\n",
       "      <td>-7.791697</td>\n",
       "      <td>-68.089395</td>\n",
       "      <td>0.172140</td>\n",
       "      <td>-61.932670</td>\n",
       "      <td>0.000732</td>\n",
       "      <td>-0.101094</td>\n",
       "      <td>0.009922</td>\n",
       "      <td>...</td>\n",
       "      <td>5.405574</td>\n",
       "      <td>-5.013181</td>\n",
       "      <td>-46.756772</td>\n",
       "      <td>-52.525641</td>\n",
       "      <td>-0.860218</td>\n",
       "      <td>0.016202</td>\n",
       "      <td>3.409899</td>\n",
       "      <td>0.007643</td>\n",
       "      <td>0</td>\n",
       "      <td>0</td>\n",
       "    </tr>\n",
       "    <tr>\n",
       "      <th>52708</th>\n",
       "      <td>1</td>\n",
       "      <td>0.386066</td>\n",
       "      <td>-9.029249</td>\n",
       "      <td>-8.759439</td>\n",
       "      <td>83.883705</td>\n",
       "      <td>-0.509745</td>\n",
       "      <td>52.357521</td>\n",
       "      <td>0.180791</td>\n",
       "      <td>0.268791</td>\n",
       "      <td>0.139931</td>\n",
       "      <td>...</td>\n",
       "      <td>1.914363</td>\n",
       "      <td>3.143712</td>\n",
       "      <td>18.257755</td>\n",
       "      <td>-72.250327</td>\n",
       "      <td>-1.775806</td>\n",
       "      <td>-0.149790</td>\n",
       "      <td>-0.102720</td>\n",
       "      <td>0.000803</td>\n",
       "      <td>1</td>\n",
       "      <td>0</td>\n",
       "    </tr>\n",
       "    <tr>\n",
       "      <th>52892</th>\n",
       "      <td>1</td>\n",
       "      <td>-0.082568</td>\n",
       "      <td>-8.880742</td>\n",
       "      <td>-16.979639</td>\n",
       "      <td>61.011024</td>\n",
       "      <td>-0.183390</td>\n",
       "      <td>26.041847</td>\n",
       "      <td>-0.059389</td>\n",
       "      <td>-0.091023</td>\n",
       "      <td>-0.040129</td>\n",
       "      <td>...</td>\n",
       "      <td>3.983455</td>\n",
       "      <td>-4.996303</td>\n",
       "      <td>-31.832699</td>\n",
       "      <td>54.449090</td>\n",
       "      <td>3.473400</td>\n",
       "      <td>0.011233</td>\n",
       "      <td>1.377375</td>\n",
       "      <td>0.007596</td>\n",
       "      <td>0</td>\n",
       "      <td>0</td>\n",
       "    </tr>\n",
       "    <tr>\n",
       "      <th>52900</th>\n",
       "      <td>1</td>\n",
       "      <td>-0.132460</td>\n",
       "      <td>0.664956</td>\n",
       "      <td>-9.645391</td>\n",
       "      <td>-70.156457</td>\n",
       "      <td>-0.163660</td>\n",
       "      <td>-62.941185</td>\n",
       "      <td>0.000732</td>\n",
       "      <td>-0.111165</td>\n",
       "      <td>-0.070037</td>\n",
       "      <td>...</td>\n",
       "      <td>4.488338</td>\n",
       "      <td>-4.995505</td>\n",
       "      <td>-29.216122</td>\n",
       "      <td>-54.312064</td>\n",
       "      <td>-0.860218</td>\n",
       "      <td>0.013202</td>\n",
       "      <td>2.419375</td>\n",
       "      <td>0.007412</td>\n",
       "      <td>0</td>\n",
       "      <td>0</td>\n",
       "    </tr>\n",
       "  </tbody>\n",
       "</table>\n",
       "<p>363 rows × 63 columns</p>\n",
       "</div>"
      ],
      "text/plain": [
       "       y        x1         x2         x3          x4        x5         x6  \\\n",
       "259    1  0.892311 -13.332664 -10.006578    2.855933 -0.448832  15.986336   \n",
       "776    1 -0.782471 -12.118747 -16.855194 -322.781610 -0.738810  25.966042   \n",
       "835    1 -0.697450  -1.696176   4.145142  121.152838 -0.598597  -7.789024   \n",
       "1036   1 -0.791718  -0.076644  -1.012134  162.257269 -0.062876   9.005471   \n",
       "1263   1 -1.212083  -2.326809   0.922287   31.935858 -0.920100  14.183205   \n",
       "...   ..       ...        ...        ...         ...       ...        ...   \n",
       "52626  1 -0.367076  -8.876281  -9.826331  -81.548181  0.719656 -31.805839   \n",
       "52630  1  0.381548  -7.119146  -7.791697  -68.089395  0.172140 -61.932670   \n",
       "52708  1  0.386066  -9.029249  -8.759439   83.883705 -0.509745  52.357521   \n",
       "52892  1 -0.082568  -8.880742 -16.979639   61.011024 -0.183390  26.041847   \n",
       "52900  1 -0.132460   0.664956  -9.645391  -70.156457 -0.163660 -62.941185   \n",
       "\n",
       "             x7        x8        x9  ...        x53       x54         x55  \\\n",
       "259    0.000732 -0.061114 -0.030057  ...  -0.752385 -5.015553  -75.896664   \n",
       "776    0.040711 -0.071186  0.012574  ...  -5.337590  2.680329   -7.209775   \n",
       "835    0.060853  0.048752 -0.120087  ...  -6.368351  2.568616  -26.245907   \n",
       "1036   0.005767  0.033764 -0.120087  ...  -6.856144  2.703874  -29.833432   \n",
       "1263  -0.089298  0.028915 -0.120087  ...  -6.856144  2.762956    0.965763   \n",
       "...         ...       ...       ...  ...        ...       ...         ...   \n",
       "52626 -0.058545 -0.000993  0.009922  ...  10.091365  3.105512  101.055728   \n",
       "52630  0.000732 -0.101094  0.009922  ...   5.405574 -5.013181  -46.756772   \n",
       "52708  0.180791  0.268791  0.139931  ...   1.914363  3.143712   18.257755   \n",
       "52892 -0.059389 -0.091023 -0.040129  ...   3.983455 -4.996303  -31.832699   \n",
       "52900  0.000732 -0.111165 -0.070037  ...   4.488338 -4.995505  -29.216122   \n",
       "\n",
       "             x56       x57       x58       x59       x60  x61  RUL  \n",
       "259    69.585016  3.113292  0.032223  5.685793  0.007663    1    0  \n",
       "776   -37.195777  1.642284  0.013798  2.664362  0.007856    0    0  \n",
       "835   -74.477362 -0.097279  0.015905  2.700281  0.007745    0    0  \n",
       "1036  -53.421866 -1.165393  0.019691  3.348276  0.006241    0    0  \n",
       "1263  -49.512961 -0.219349  0.041640  2.740404  0.005131    0    0  \n",
       "...          ...       ...       ...       ...       ...  ...  ...  \n",
       "52626 -59.396201 -2.111499  0.001227  1.458925  0.018978    0    0  \n",
       "52630 -52.525641 -0.860218  0.016202  3.409899  0.007643    0    0  \n",
       "52708 -72.250327 -1.775806 -0.149790 -0.102720  0.000803    1    0  \n",
       "52892  54.449090  3.473400  0.011233  1.377375  0.007596    0    0  \n",
       "52900 -54.312064 -0.860218  0.013202  2.419375  0.007412    0    0  \n",
       "\n",
       "[363 rows x 63 columns]"
      ]
     },
     "execution_count": 8,
     "metadata": {},
     "output_type": "execute_result"
    }
   ],
   "source": [
    "pwbds[pwbds.y==1]"
   ]
  },
  {
   "cell_type": "code",
   "execution_count": 9,
   "id": "591219c1",
   "metadata": {},
   "outputs": [
    {
     "data": {
      "text/html": [
       "<div>\n",
       "<style scoped>\n",
       "    .dataframe tbody tr th:only-of-type {\n",
       "        vertical-align: middle;\n",
       "    }\n",
       "\n",
       "    .dataframe tbody tr th {\n",
       "        vertical-align: top;\n",
       "    }\n",
       "\n",
       "    .dataframe thead th {\n",
       "        text-align: right;\n",
       "    }\n",
       "</style>\n",
       "<table border=\"1\" class=\"dataframe\">\n",
       "  <thead>\n",
       "    <tr style=\"text-align: right;\">\n",
       "      <th></th>\n",
       "      <th>y</th>\n",
       "      <th>RUL</th>\n",
       "    </tr>\n",
       "  </thead>\n",
       "  <tbody>\n",
       "    <tr>\n",
       "      <th>257</th>\n",
       "      <td>0</td>\n",
       "      <td>2</td>\n",
       "    </tr>\n",
       "    <tr>\n",
       "      <th>258</th>\n",
       "      <td>0</td>\n",
       "      <td>1</td>\n",
       "    </tr>\n",
       "    <tr>\n",
       "      <th>259</th>\n",
       "      <td>1</td>\n",
       "      <td>0</td>\n",
       "    </tr>\n",
       "    <tr>\n",
       "      <th>260</th>\n",
       "      <td>0</td>\n",
       "      <td>516</td>\n",
       "    </tr>\n",
       "    <tr>\n",
       "      <th>261</th>\n",
       "      <td>0</td>\n",
       "      <td>515</td>\n",
       "    </tr>\n",
       "  </tbody>\n",
       "</table>\n",
       "</div>"
      ],
      "text/plain": [
       "     y  RUL\n",
       "257  0    2\n",
       "258  0    1\n",
       "259  1    0\n",
       "260  0  516\n",
       "261  0  515"
      ]
     },
     "execution_count": 9,
     "metadata": {},
     "output_type": "execute_result"
    }
   ],
   "source": [
    "pwbds.iloc[257:262,][['y','RUL']]"
   ]
  },
  {
   "cell_type": "markdown",
   "id": "b6b53e69",
   "metadata": {},
   "source": [
    "### Remove Break Avalanche"
   ]
  },
  {
   "cell_type": "code",
   "execution_count": 10,
   "id": "7f409854",
   "metadata": {},
   "outputs": [],
   "source": [
    "def removeBreakAvalanche (fullds):\n",
    "    clean_ds = pd.DataFrame([])\n",
    "    breaks = np.array(np.where(pwbds['y'] == 1)).reshape(-1)\n",
    "    start = 0 \n",
    "    for breakpt in breaks:\n",
    "        if (breakpt-start >= 30):\n",
    "            clean_ds = clean_ds.append(fullds.iloc[start:breakpt+1,],ignore_index = True)\n",
    "        start = breakpt+1\n",
    "    return (clean_ds)"
   ]
  },
  {
   "cell_type": "code",
   "execution_count": 11,
   "id": "98c0a5ff",
   "metadata": {},
   "outputs": [],
   "source": [
    "clean_ds = removeBreakAvalanche(pwbds)"
   ]
  },
  {
   "cell_type": "markdown",
   "id": "386c0a62",
   "metadata": {},
   "source": [
    "## Marcação de falha no próximo período (próxima hora)"
   ]
  },
  {
   "cell_type": "markdown",
   "id": "11757518",
   "metadata": {},
   "source": [
    "Using RUL, we can create a label indicating time to failure. We define a boolean (True\\False) value for NEXT_H indicating the engine will fail within 60 minutes (RUL  <=60 ). \n",
    "\n",
    "We can also define a multiclass MULTI  ∈{0,1,2}  indicating {Healthy, RUL <=60, RUL <=120} minutes."
   ]
  },
  {
   "cell_type": "code",
   "execution_count": 12,
   "id": "4b70995b",
   "metadata": {},
   "outputs": [],
   "source": [
    "clean_ds['NEXT_H'] = np.where(clean_ds['RUL'] <= 60, 1, 0 )"
   ]
  },
  {
   "cell_type": "code",
   "execution_count": 13,
   "id": "bcfeb089",
   "metadata": {},
   "outputs": [
    {
     "data": {
      "text/plain": [
       "0    37592\n",
       "1    13620\n",
       "Name: NEXT_H, dtype: int64"
      ]
     },
     "execution_count": 13,
     "metadata": {},
     "output_type": "execute_result"
    }
   ],
   "source": [
    "clean_ds['NEXT_H'].value_counts()"
   ]
  },
  {
   "cell_type": "markdown",
   "id": "bcc64091",
   "metadata": {},
   "source": [
    "### Verificando a marcação de falha na próxima hora"
   ]
  },
  {
   "cell_type": "code",
   "execution_count": 14,
   "id": "ae1f6de5",
   "metadata": {},
   "outputs": [
    {
     "data": {
      "text/html": [
       "<div>\n",
       "<style scoped>\n",
       "    .dataframe tbody tr th:only-of-type {\n",
       "        vertical-align: middle;\n",
       "    }\n",
       "\n",
       "    .dataframe tbody tr th {\n",
       "        vertical-align: top;\n",
       "    }\n",
       "\n",
       "    .dataframe thead th {\n",
       "        text-align: right;\n",
       "    }\n",
       "</style>\n",
       "<table border=\"1\" class=\"dataframe\">\n",
       "  <thead>\n",
       "    <tr style=\"text-align: right;\">\n",
       "      <th></th>\n",
       "      <th>y</th>\n",
       "      <th>RUL</th>\n",
       "      <th>NEXT_H</th>\n",
       "    </tr>\n",
       "  </thead>\n",
       "  <tbody>\n",
       "    <tr>\n",
       "      <th>228</th>\n",
       "      <td>0</td>\n",
       "      <td>31</td>\n",
       "      <td>1</td>\n",
       "    </tr>\n",
       "    <tr>\n",
       "      <th>229</th>\n",
       "      <td>0</td>\n",
       "      <td>30</td>\n",
       "      <td>1</td>\n",
       "    </tr>\n",
       "    <tr>\n",
       "      <th>230</th>\n",
       "      <td>0</td>\n",
       "      <td>29</td>\n",
       "      <td>1</td>\n",
       "    </tr>\n",
       "    <tr>\n",
       "      <th>231</th>\n",
       "      <td>0</td>\n",
       "      <td>28</td>\n",
       "      <td>1</td>\n",
       "    </tr>\n",
       "    <tr>\n",
       "      <th>232</th>\n",
       "      <td>0</td>\n",
       "      <td>27</td>\n",
       "      <td>1</td>\n",
       "    </tr>\n",
       "    <tr>\n",
       "      <th>233</th>\n",
       "      <td>0</td>\n",
       "      <td>26</td>\n",
       "      <td>1</td>\n",
       "    </tr>\n",
       "    <tr>\n",
       "      <th>234</th>\n",
       "      <td>0</td>\n",
       "      <td>25</td>\n",
       "      <td>1</td>\n",
       "    </tr>\n",
       "    <tr>\n",
       "      <th>235</th>\n",
       "      <td>0</td>\n",
       "      <td>24</td>\n",
       "      <td>1</td>\n",
       "    </tr>\n",
       "    <tr>\n",
       "      <th>236</th>\n",
       "      <td>0</td>\n",
       "      <td>23</td>\n",
       "      <td>1</td>\n",
       "    </tr>\n",
       "    <tr>\n",
       "      <th>237</th>\n",
       "      <td>0</td>\n",
       "      <td>22</td>\n",
       "      <td>1</td>\n",
       "    </tr>\n",
       "    <tr>\n",
       "      <th>238</th>\n",
       "      <td>0</td>\n",
       "      <td>21</td>\n",
       "      <td>1</td>\n",
       "    </tr>\n",
       "    <tr>\n",
       "      <th>239</th>\n",
       "      <td>0</td>\n",
       "      <td>20</td>\n",
       "      <td>1</td>\n",
       "    </tr>\n",
       "    <tr>\n",
       "      <th>240</th>\n",
       "      <td>0</td>\n",
       "      <td>19</td>\n",
       "      <td>1</td>\n",
       "    </tr>\n",
       "    <tr>\n",
       "      <th>241</th>\n",
       "      <td>0</td>\n",
       "      <td>18</td>\n",
       "      <td>1</td>\n",
       "    </tr>\n",
       "    <tr>\n",
       "      <th>242</th>\n",
       "      <td>0</td>\n",
       "      <td>17</td>\n",
       "      <td>1</td>\n",
       "    </tr>\n",
       "    <tr>\n",
       "      <th>243</th>\n",
       "      <td>0</td>\n",
       "      <td>16</td>\n",
       "      <td>1</td>\n",
       "    </tr>\n",
       "    <tr>\n",
       "      <th>244</th>\n",
       "      <td>0</td>\n",
       "      <td>15</td>\n",
       "      <td>1</td>\n",
       "    </tr>\n",
       "    <tr>\n",
       "      <th>245</th>\n",
       "      <td>0</td>\n",
       "      <td>14</td>\n",
       "      <td>1</td>\n",
       "    </tr>\n",
       "    <tr>\n",
       "      <th>246</th>\n",
       "      <td>0</td>\n",
       "      <td>13</td>\n",
       "      <td>1</td>\n",
       "    </tr>\n",
       "    <tr>\n",
       "      <th>247</th>\n",
       "      <td>0</td>\n",
       "      <td>12</td>\n",
       "      <td>1</td>\n",
       "    </tr>\n",
       "    <tr>\n",
       "      <th>248</th>\n",
       "      <td>0</td>\n",
       "      <td>11</td>\n",
       "      <td>1</td>\n",
       "    </tr>\n",
       "    <tr>\n",
       "      <th>249</th>\n",
       "      <td>0</td>\n",
       "      <td>10</td>\n",
       "      <td>1</td>\n",
       "    </tr>\n",
       "    <tr>\n",
       "      <th>250</th>\n",
       "      <td>0</td>\n",
       "      <td>9</td>\n",
       "      <td>1</td>\n",
       "    </tr>\n",
       "    <tr>\n",
       "      <th>251</th>\n",
       "      <td>0</td>\n",
       "      <td>8</td>\n",
       "      <td>1</td>\n",
       "    </tr>\n",
       "    <tr>\n",
       "      <th>252</th>\n",
       "      <td>0</td>\n",
       "      <td>7</td>\n",
       "      <td>1</td>\n",
       "    </tr>\n",
       "    <tr>\n",
       "      <th>253</th>\n",
       "      <td>0</td>\n",
       "      <td>6</td>\n",
       "      <td>1</td>\n",
       "    </tr>\n",
       "    <tr>\n",
       "      <th>254</th>\n",
       "      <td>0</td>\n",
       "      <td>5</td>\n",
       "      <td>1</td>\n",
       "    </tr>\n",
       "    <tr>\n",
       "      <th>255</th>\n",
       "      <td>0</td>\n",
       "      <td>4</td>\n",
       "      <td>1</td>\n",
       "    </tr>\n",
       "    <tr>\n",
       "      <th>256</th>\n",
       "      <td>0</td>\n",
       "      <td>3</td>\n",
       "      <td>1</td>\n",
       "    </tr>\n",
       "    <tr>\n",
       "      <th>257</th>\n",
       "      <td>0</td>\n",
       "      <td>2</td>\n",
       "      <td>1</td>\n",
       "    </tr>\n",
       "    <tr>\n",
       "      <th>258</th>\n",
       "      <td>0</td>\n",
       "      <td>1</td>\n",
       "      <td>1</td>\n",
       "    </tr>\n",
       "    <tr>\n",
       "      <th>259</th>\n",
       "      <td>1</td>\n",
       "      <td>0</td>\n",
       "      <td>1</td>\n",
       "    </tr>\n",
       "    <tr>\n",
       "      <th>260</th>\n",
       "      <td>0</td>\n",
       "      <td>516</td>\n",
       "      <td>0</td>\n",
       "    </tr>\n",
       "    <tr>\n",
       "      <th>261</th>\n",
       "      <td>0</td>\n",
       "      <td>515</td>\n",
       "      <td>0</td>\n",
       "    </tr>\n",
       "  </tbody>\n",
       "</table>\n",
       "</div>"
      ],
      "text/plain": [
       "     y  RUL  NEXT_H\n",
       "228  0   31       1\n",
       "229  0   30       1\n",
       "230  0   29       1\n",
       "231  0   28       1\n",
       "232  0   27       1\n",
       "233  0   26       1\n",
       "234  0   25       1\n",
       "235  0   24       1\n",
       "236  0   23       1\n",
       "237  0   22       1\n",
       "238  0   21       1\n",
       "239  0   20       1\n",
       "240  0   19       1\n",
       "241  0   18       1\n",
       "242  0   17       1\n",
       "243  0   16       1\n",
       "244  0   15       1\n",
       "245  0   14       1\n",
       "246  0   13       1\n",
       "247  0   12       1\n",
       "248  0   11       1\n",
       "249  0   10       1\n",
       "250  0    9       1\n",
       "251  0    8       1\n",
       "252  0    7       1\n",
       "253  0    6       1\n",
       "254  0    5       1\n",
       "255  0    4       1\n",
       "256  0    3       1\n",
       "257  0    2       1\n",
       "258  0    1       1\n",
       "259  1    0       1\n",
       "260  0  516       0\n",
       "261  0  515       0"
      ]
     },
     "execution_count": 14,
     "metadata": {},
     "output_type": "execute_result"
    }
   ],
   "source": [
    "clean_ds.iloc[228:262,][['y','RUL','NEXT_H']]"
   ]
  },
  {
   "cell_type": "markdown",
   "id": "4a1bb14a",
   "metadata": {},
   "source": [
    "# Feature Selection and Scaling"
   ]
  },
  {
   "cell_type": "code",
   "execution_count": 15,
   "id": "6cdf6cf2",
   "metadata": {},
   "outputs": [
    {
     "data": {
      "text/plain": [
       "NEXT_H   -0.588799\n",
       "x4       -0.313762\n",
       "x24      -0.172275\n",
       "x48      -0.171677\n",
       "x28      -0.133086\n",
       "x49      -0.097299\n",
       "x60      -0.088347\n",
       "y        -0.079818\n",
       "x46      -0.077195\n",
       "x45      -0.067877\n",
       "x34      -0.065293\n",
       "x6       -0.041568\n",
       "x42      -0.032789\n",
       "x61      -0.029354\n",
       "x15      -0.019570\n",
       "x23      -0.018657\n",
       "x38      -0.017668\n",
       "x30      -0.017249\n",
       "x33      -0.004398\n",
       "x9       -0.003474\n",
       "Name: RUL, dtype: float64"
      ]
     },
     "execution_count": 15,
     "metadata": {},
     "output_type": "execute_result"
    }
   ],
   "source": [
    "corrmat = clean_ds.corr()\n",
    "corrmat.loc['RUL',].sort_values().head(20)"
   ]
  },
  {
   "cell_type": "code",
   "execution_count": 16,
   "id": "7388d6a2",
   "metadata": {},
   "outputs": [
    {
     "data": {
      "text/plain": [
       "x13    0.118777\n",
       "x16    0.129807\n",
       "x57    0.130940\n",
       "x11    0.132080\n",
       "x12    0.141796\n",
       "x21    0.145788\n",
       "x1     0.156287\n",
       "x27    0.156848\n",
       "x50    0.160561\n",
       "x8     0.165457\n",
       "x47    0.168285\n",
       "x52    0.173944\n",
       "x54    0.175197\n",
       "x37    0.179483\n",
       "x44    0.187198\n",
       "x26    0.206558\n",
       "x29    0.220890\n",
       "x2     0.233275\n",
       "x55    0.251456\n",
       "RUL    1.000000\n",
       "Name: RUL, dtype: float64"
      ]
     },
     "execution_count": 16,
     "metadata": {},
     "output_type": "execute_result"
    }
   ],
   "source": [
    "corrmat.loc['RUL',].sort_values().tail(20)"
   ]
  },
  {
   "cell_type": "code",
   "execution_count": 17,
   "id": "8183c485",
   "metadata": {},
   "outputs": [
    {
     "data": {
      "text/html": [
       "<div>\n",
       "<style scoped>\n",
       "    .dataframe tbody tr th:only-of-type {\n",
       "        vertical-align: middle;\n",
       "    }\n",
       "\n",
       "    .dataframe tbody tr th {\n",
       "        vertical-align: top;\n",
       "    }\n",
       "\n",
       "    .dataframe thead th {\n",
       "        text-align: right;\n",
       "    }\n",
       "</style>\n",
       "<table border=\"1\" class=\"dataframe\">\n",
       "  <thead>\n",
       "    <tr style=\"text-align: right;\">\n",
       "      <th></th>\n",
       "      <th>x1</th>\n",
       "      <th>x2</th>\n",
       "      <th>x3</th>\n",
       "      <th>x4</th>\n",
       "      <th>x5</th>\n",
       "      <th>x6</th>\n",
       "      <th>x7</th>\n",
       "      <th>x8</th>\n",
       "      <th>x9</th>\n",
       "      <th>x10</th>\n",
       "      <th>...</th>\n",
       "      <th>x51</th>\n",
       "      <th>x52</th>\n",
       "      <th>x53</th>\n",
       "      <th>x54</th>\n",
       "      <th>x55</th>\n",
       "      <th>x56</th>\n",
       "      <th>x57</th>\n",
       "      <th>x58</th>\n",
       "      <th>x59</th>\n",
       "      <th>x60</th>\n",
       "    </tr>\n",
       "  </thead>\n",
       "  <tbody>\n",
       "    <tr>\n",
       "      <th>51207</th>\n",
       "      <td>-0.151683</td>\n",
       "      <td>-3.954797</td>\n",
       "      <td>-4.299529</td>\n",
       "      <td>62.011024</td>\n",
       "      <td>-0.096552</td>\n",
       "      <td>25.731026</td>\n",
       "      <td>-0.059389</td>\n",
       "      <td>-0.091023</td>\n",
       "      <td>-0.030057</td>\n",
       "      <td>0.001791</td>\n",
       "      <td>...</td>\n",
       "      <td>27.413823</td>\n",
       "      <td>11.055832</td>\n",
       "      <td>4.041316</td>\n",
       "      <td>-4.996629</td>\n",
       "      <td>-31.080624</td>\n",
       "      <td>60.825372</td>\n",
       "      <td>4.114269</td>\n",
       "      <td>0.011547</td>\n",
       "      <td>1.405894</td>\n",
       "      <td>0.007603</td>\n",
       "    </tr>\n",
       "    <tr>\n",
       "      <th>51208</th>\n",
       "      <td>-0.186095</td>\n",
       "      <td>-4.056258</td>\n",
       "      <td>-4.205272</td>\n",
       "      <td>58.932471</td>\n",
       "      <td>-0.118266</td>\n",
       "      <td>25.050453</td>\n",
       "      <td>-0.059389</td>\n",
       "      <td>-0.091023</td>\n",
       "      <td>-0.040129</td>\n",
       "      <td>-0.001682</td>\n",
       "      <td>...</td>\n",
       "      <td>27.467778</td>\n",
       "      <td>11.113205</td>\n",
       "      <td>4.026912</td>\n",
       "      <td>-4.996548</td>\n",
       "      <td>-31.341977</td>\n",
       "      <td>58.203699</td>\n",
       "      <td>4.114269</td>\n",
       "      <td>0.011469</td>\n",
       "      <td>0.341051</td>\n",
       "      <td>0.007601</td>\n",
       "    </tr>\n",
       "    <tr>\n",
       "      <th>51209</th>\n",
       "      <td>-0.141189</td>\n",
       "      <td>-3.946290</td>\n",
       "      <td>-4.257756</td>\n",
       "      <td>64.271431</td>\n",
       "      <td>-0.139964</td>\n",
       "      <td>25.380898</td>\n",
       "      <td>-0.059389</td>\n",
       "      <td>-0.091023</td>\n",
       "      <td>-0.040129</td>\n",
       "      <td>-0.008280</td>\n",
       "      <td>...</td>\n",
       "      <td>27.521489</td>\n",
       "      <td>11.170578</td>\n",
       "      <td>4.012264</td>\n",
       "      <td>-4.996466</td>\n",
       "      <td>-31.505551</td>\n",
       "      <td>55.582056</td>\n",
       "      <td>3.473400</td>\n",
       "      <td>0.011390</td>\n",
       "      <td>0.110140</td>\n",
       "      <td>0.007599</td>\n",
       "    </tr>\n",
       "    <tr>\n",
       "      <th>51210</th>\n",
       "      <td>-0.163747</td>\n",
       "      <td>-6.551871</td>\n",
       "      <td>-6.632444</td>\n",
       "      <td>62.363684</td>\n",
       "      <td>-0.161677</td>\n",
       "      <td>25.711373</td>\n",
       "      <td>-0.059389</td>\n",
       "      <td>-0.091023</td>\n",
       "      <td>-0.040129</td>\n",
       "      <td>-0.008280</td>\n",
       "      <td>...</td>\n",
       "      <td>27.575444</td>\n",
       "      <td>11.227951</td>\n",
       "      <td>3.997859</td>\n",
       "      <td>-4.996385</td>\n",
       "      <td>-31.669125</td>\n",
       "      <td>54.916864</td>\n",
       "      <td>4.175304</td>\n",
       "      <td>0.011312</td>\n",
       "      <td>0.718683</td>\n",
       "      <td>0.007598</td>\n",
       "    </tr>\n",
       "    <tr>\n",
       "      <th>51211</th>\n",
       "      <td>-0.082568</td>\n",
       "      <td>-8.880742</td>\n",
       "      <td>-16.979639</td>\n",
       "      <td>61.011024</td>\n",
       "      <td>-0.183390</td>\n",
       "      <td>26.041847</td>\n",
       "      <td>-0.059389</td>\n",
       "      <td>-0.091023</td>\n",
       "      <td>-0.040129</td>\n",
       "      <td>-0.008280</td>\n",
       "      <td>...</td>\n",
       "      <td>27.629399</td>\n",
       "      <td>11.280441</td>\n",
       "      <td>3.983455</td>\n",
       "      <td>-4.996303</td>\n",
       "      <td>-31.832699</td>\n",
       "      <td>54.449090</td>\n",
       "      <td>3.473400</td>\n",
       "      <td>0.011233</td>\n",
       "      <td>1.377375</td>\n",
       "      <td>0.007596</td>\n",
       "    </tr>\n",
       "  </tbody>\n",
       "</table>\n",
       "<p>5 rows × 60 columns</p>\n",
       "</div>"
      ],
      "text/plain": [
       "             x1        x2         x3         x4        x5         x6  \\\n",
       "51207 -0.151683 -3.954797  -4.299529  62.011024 -0.096552  25.731026   \n",
       "51208 -0.186095 -4.056258  -4.205272  58.932471 -0.118266  25.050453   \n",
       "51209 -0.141189 -3.946290  -4.257756  64.271431 -0.139964  25.380898   \n",
       "51210 -0.163747 -6.551871  -6.632444  62.363684 -0.161677  25.711373   \n",
       "51211 -0.082568 -8.880742 -16.979639  61.011024 -0.183390  26.041847   \n",
       "\n",
       "             x7        x8        x9       x10  ...        x51        x52  \\\n",
       "51207 -0.059389 -0.091023 -0.030057  0.001791  ...  27.413823  11.055832   \n",
       "51208 -0.059389 -0.091023 -0.040129 -0.001682  ...  27.467778  11.113205   \n",
       "51209 -0.059389 -0.091023 -0.040129 -0.008280  ...  27.521489  11.170578   \n",
       "51210 -0.059389 -0.091023 -0.040129 -0.008280  ...  27.575444  11.227951   \n",
       "51211 -0.059389 -0.091023 -0.040129 -0.008280  ...  27.629399  11.280441   \n",
       "\n",
       "            x53       x54        x55        x56       x57       x58       x59  \\\n",
       "51207  4.041316 -4.996629 -31.080624  60.825372  4.114269  0.011547  1.405894   \n",
       "51208  4.026912 -4.996548 -31.341977  58.203699  4.114269  0.011469  0.341051   \n",
       "51209  4.012264 -4.996466 -31.505551  55.582056  3.473400  0.011390  0.110140   \n",
       "51210  3.997859 -4.996385 -31.669125  54.916864  4.175304  0.011312  0.718683   \n",
       "51211  3.983455 -4.996303 -31.832699  54.449090  3.473400  0.011233  1.377375   \n",
       "\n",
       "            x60  \n",
       "51207  0.007603  \n",
       "51208  0.007601  \n",
       "51209  0.007599  \n",
       "51210  0.007598  \n",
       "51211  0.007596  \n",
       "\n",
       "[5 rows x 60 columns]"
      ]
     },
     "execution_count": 17,
     "metadata": {},
     "output_type": "execute_result"
    }
   ],
   "source": [
    "# Feature Selection\n",
    "# List of considered Features\n",
    "\n",
    "FEATURES = [\n",
    "    'x1', 'x2', 'x3', 'x4', 'x5', 'x6', 'x7', 'x8', 'x9', 'x10','x11','x12','x13','x14','x15','x16','x17','x18','x19','x20',\n",
    "    'x21','x22','x23','x24','x25','x26','x27','x28','x29','x30','x31','x32','x33','x34','x35','x36','x37','x38','x39','x40',\n",
    "    'x41','x42','x43','x44','x45','x46','x47','x48','x49','x50','x51','x52','x53','x54','x55','x56','x57','x58','x59','x60'\n",
    "#]\n",
    "# Redução de feature usando resultado do PCA (notebook DimRedPCAOnTS)\n",
    "#    'x1','x5','x8','x10','x13','x14','x15','x17','x18','x19','x20','x21','x22','x26','x28','x30','x31','x34',\n",
    "#    'x35','x37','x38','x40','x41','x43','x46','x48','x49','x51','x53','x54','x55','x58'\n",
    "\n",
    "# Usando as features com base na sua relação com RUL\n",
    "#    'x4','x24','x48','x58','x60','x42','x45','x61','x46','x49','x9','x10','x38','x17','x5','x28','x33','x41',   \n",
    "#    'x13','x16','x56','x8','x12','x1','x57','x50','x44','x47','x52','x27','x37','x3','x54','x26','x2','x29','x55'\n",
    "\n",
    "# Cj 1 - Não usar: derrubou métricas quando adicionado ao Cj 4 + Cj 6\n",
    "#    'x1','x2','x4','x5','x6','x7','x10', 'x11','x13','x15','x17','x28',\n",
    "#    'x1','x5','x10','x13','x14','x15',\n",
    "    \n",
    "# Cj 2\n",
    "# Medidos sem C3:\n",
    "#    'x3','x8','x10','x12','x13','x16','x18','x19','x20','x23','x25', # Precision: 0.781, Recall: 0.390, F1: 0.520\n",
    "#    'x3','x8','x10','x12','x13','x16',                               # Precision: 0.834, Recall: 0.375, F1: 0.518\n",
    "#    'x18','x19','x20','x23','x25',                                   # Precision: 0.980, Recall: 0.156, F1: 0.269\n",
    "#    'x3','x8','x10','x18','x19','x20',                               # Precision: 0.848, Recall: 0.251, F1: 0.387\n",
    "#    'x12','x13','x16','x23','x25',                                   # Precision: 0.900, Recall: 0.218, F1: 0.351\n",
    "# Medidos com C3:\n",
    "###    'x3','x8','x10','x12','x13','x16','x18','x19','x20','x23','x25',  # Precision: 0.735, Recall: 0.470, F1: 0.573\n",
    "\n",
    "    # Cj 3\n",
    "###   'x9','x21','x22','x24','x26','x27','x29','x30',                   # Precision: 0.735, Recall: 0.470, F1: 0.573\n",
    "#    'x9','x21','x22','x24',                                          # Precision: 0.785, Recall: 0.451, F1: 0.573\n",
    "#    'x26','x27','x29','x30',                                         # Precision: 0.766, Recall: 0.406, F1: 0.530\n",
    "#    'x9','x21','x29','x30',                                          # Precision: 0.742, Recall: 0.353, F1: 0.478\n",
    "#    'x22','x24','x26','x27',                                          # Precision: 0.801, Recall: 0.383, F1: 0.518   \n",
    "    \n",
    "# Cj 4\n",
    "###    'x28','x36','x37','x38','x39','x40','x31','x32','x33','x34','x35',\n",
    "    \n",
    "# Cj 5\n",
    "#    'x41','x42','x43','x44','x45','x46','x47','x48','x49','x52',\n",
    "\n",
    "# Cj 6\n",
    "###   'x50','x51','x53','x54','x55','x56','x57','x58','x59','x60'\n",
    "]\n",
    "\n",
    "# Create the dataset with features and filter the data to the list of FEATURES\n",
    "pwbds_filtered = clean_ds[FEATURES]\n",
    "\n",
    "# Print the tail of the dataframe\n",
    "pwbds_filtered.tail()"
   ]
  },
  {
   "cell_type": "code",
   "execution_count": 18,
   "id": "65250f0f",
   "metadata": {},
   "outputs": [
    {
     "name": "stdout",
     "output_type": "stream",
     "text": [
      "(51212, 60)\n"
     ]
    }
   ],
   "source": [
    "# This Scaler removes the median and scales the data according to the quantile range to normalize the price data \n",
    "from sklearn.preprocessing import RobustScaler, MinMaxScaler \n",
    "\n",
    "# Get the number of rows in the data\n",
    "nrows = pwbds_filtered.shape[0]\n",
    "\n",
    "# Convert the data to numpy values\n",
    "np_data_unscaled = np.array(pwbds_filtered)\n",
    "np_data = np.reshape(np_data_unscaled, (nrows, -1))\n",
    "print(np_data.shape)\n",
    "\n",
    "# Transform the data by scaling each feature to a range between 0 and 1\n",
    "scaler = MinMaxScaler()\n",
    "np_data_scaled = scaler.fit_transform(np_data_unscaled)\n",
    "pwbds_scaled = pd.DataFrame(\n",
    "    np_data_scaled,\n",
    "    columns=FEATURES\n",
    ")\n",
    "pwbds_scaled['NEXT_H'] = clean_ds['NEXT_H']"
   ]
  },
  {
   "cell_type": "markdown",
   "id": "fd709b30",
   "metadata": {},
   "source": [
    "# Shaping & Splitting"
   ]
  },
  {
   "cell_type": "code",
   "execution_count": 19,
   "id": "8936176d",
   "metadata": {},
   "outputs": [],
   "source": [
    "def lstm_data_transform(x_data, y_data, num_steps=5):\n",
    "    \"\"\" Changes data to the format for LSTM training for sliding window approach \"\"\"\n",
    "    # Prepare the list for the transformed data\n",
    "    X, y = list(), list()\n",
    "    # Loop of the entire data set\n",
    "    for i in range(x_data.shape[0]):\n",
    "        # compute a new (sliding window) index\n",
    "        end_ix = i + num_steps\n",
    "        \n",
    "        # if index is larger than the size of the dataset, we stop\n",
    "        if end_ix > x_data.shape[0]:\n",
    "            break\n",
    "        \n",
    "        # Get a sequence of data for x\n",
    "        seq_X = x_data[i:end_ix]\n",
    "        \n",
    "        # Get only the last element of the sequency for y\n",
    "        seq_y = y_data[end_ix-1]\n",
    "        \n",
    "        # Append the list with sequencies\n",
    "        X.append(seq_X)\n",
    "        y.append(seq_y)\n",
    "    \n",
    "    # Make final arrays\n",
    "    x_array = np.array(X)\n",
    "    y_array = np.array(y)\n",
    "    return x_array, y_array"
   ]
  },
  {
   "cell_type": "markdown",
   "id": "1ffe7672",
   "metadata": {},
   "source": [
    "# Modeling 2: Binary Classification - Break in the next hour"
   ]
  },
  {
   "cell_type": "markdown",
   "id": "d42d2271",
   "metadata": {},
   "source": [
    "## Dataset for model 2"
   ]
  },
  {
   "cell_type": "code",
   "execution_count": 20,
   "id": "6481d239",
   "metadata": {},
   "outputs": [],
   "source": [
    "pwbds_m2 = pwbds_scaled\n",
    "yds_m2 = pwbds_m2.pop('NEXT_H')"
   ]
  },
  {
   "cell_type": "markdown",
   "id": "532e285f",
   "metadata": {},
   "source": [
    "### Apply PCA"
   ]
  },
  {
   "cell_type": "code",
   "execution_count": 21,
   "id": "fa7474e4",
   "metadata": {},
   "outputs": [],
   "source": [
    "from sklearn.decomposition import PCA # for PCA calculation\n",
    "pca = PCA()\n",
    "X_pca = pca.fit(pwbds_m2)"
   ]
  },
  {
   "cell_type": "code",
   "execution_count": 22,
   "id": "0c22a8e9",
   "metadata": {},
   "outputs": [
    {
     "data": {
      "image/png": "[encoded data removed]",
      "text/plain": [
       "<Figure size 432x288 with 1 Axes>"
      ]
     },
     "metadata": {
      "needs_background": "light"
     },
     "output_type": "display_data"
    }
   ],
   "source": [
    "plt.plot(np.cumsum(pca.explained_variance_ratio_))\n",
    "plt.xlabel('number of components')\n",
    "plt.ylabel('cumulative explained variance');"
   ]
  },
  {
   "cell_type": "code",
   "execution_count": 23,
   "id": "1bc82b83",
   "metadata": {},
   "outputs": [],
   "source": [
    "num_components = 40\n",
    "pca = PCA(num_components)  \n",
    "X_pca = pca.fit_transform(pwbds_m2) # fit and reduce dimension"
   ]
  },
  {
   "cell_type": "code",
   "execution_count": 24,
   "id": "1a28290b",
   "metadata": {},
   "outputs": [
    {
     "data": {
      "text/plain": [
       "(51212, 40)"
      ]
     },
     "execution_count": 24,
     "metadata": {},
     "output_type": "execute_result"
    }
   ],
   "source": [
    "X_pca.shape"
   ]
  },
  {
   "cell_type": "code",
   "execution_count": 25,
   "id": "130dbd5d",
   "metadata": {},
   "outputs": [],
   "source": [
    "pwbds_scaled_copy = X_pca"
   ]
  },
  {
   "cell_type": "code",
   "execution_count": 26,
   "id": "87961fff",
   "metadata": {},
   "outputs": [
    {
     "name": "stdout",
     "output_type": "stream",
     "text": [
      "The new shape of x is (51208, 5, 40)\n"
     ]
    }
   ],
   "source": [
    "num_steps = 5 # Intervalo entre medições é de 2 minutos\n",
    "#x_new, y_new = lstm_data_transform(pwbds_m2, yds_m2, num_steps=num_steps)\n",
    "x_new, y_new = lstm_data_transform(X_pca, yds_m2, num_steps=num_steps)\n",
    "\n",
    "print (\"The new shape of x is\", x_new.shape)"
   ]
  },
  {
   "cell_type": "code",
   "execution_count": 27,
   "id": "95639f7e",
   "metadata": {},
   "outputs": [],
   "source": [
    "train_ind = int(0.7 * pwbds_m2.shape[0])\n",
    "x_train = x_new[:train_ind]\n",
    "y_train = y_new[:train_ind]\n",
    "x_test = x_new[train_ind:]\n",
    "y_test = y_new[train_ind:]"
   ]
  },
  {
   "cell_type": "code",
   "execution_count": 28,
   "id": "cfcb25c1",
   "metadata": {},
   "outputs": [
    {
     "data": {
      "text/plain": [
       "(15360, 5, 40)"
      ]
     },
     "execution_count": 28,
     "metadata": {},
     "output_type": "execute_result"
    }
   ],
   "source": [
    "x_test.shape"
   ]
  },
  {
   "cell_type": "markdown",
   "id": "a3c5f876",
   "metadata": {},
   "source": [
    "# Model 2"
   ]
  },
  {
   "cell_type": "code",
   "execution_count": 29,
   "id": "5cb97343",
   "metadata": {},
   "outputs": [
    {
     "name": "stderr",
     "output_type": "stream",
     "text": [
      "C:\\Users\\hcord\\anaconda3\\envs\\paper3\\lib\\site-packages\\tensorflow\\python\\framework\\dtypes.py:516: FutureWarning: Passing (type, 1) or '1type' as a synonym of type is deprecated; in a future version of numpy, it will be understood as (type, (1,)) / '(1,)type'.\n",
      "  _np_qint8 = np.dtype([(\"qint8\", np.int8, 1)])\n",
      "C:\\Users\\hcord\\anaconda3\\envs\\paper3\\lib\\site-packages\\tensorflow\\python\\framework\\dtypes.py:517: FutureWarning: Passing (type, 1) or '1type' as a synonym of type is deprecated; in a future version of numpy, it will be understood as (type, (1,)) / '(1,)type'.\n",
      "  _np_quint8 = np.dtype([(\"quint8\", np.uint8, 1)])\n",
      "C:\\Users\\hcord\\anaconda3\\envs\\paper3\\lib\\site-packages\\tensorflow\\python\\framework\\dtypes.py:518: FutureWarning: Passing (type, 1) or '1type' as a synonym of type is deprecated; in a future version of numpy, it will be understood as (type, (1,)) / '(1,)type'.\n",
      "  _np_qint16 = np.dtype([(\"qint16\", np.int16, 1)])\n",
      "C:\\Users\\hcord\\anaconda3\\envs\\paper3\\lib\\site-packages\\tensorflow\\python\\framework\\dtypes.py:519: FutureWarning: Passing (type, 1) or '1type' as a synonym of type is deprecated; in a future version of numpy, it will be understood as (type, (1,)) / '(1,)type'.\n",
      "  _np_quint16 = np.dtype([(\"quint16\", np.uint16, 1)])\n",
      "C:\\Users\\hcord\\anaconda3\\envs\\paper3\\lib\\site-packages\\tensorflow\\python\\framework\\dtypes.py:520: FutureWarning: Passing (type, 1) or '1type' as a synonym of type is deprecated; in a future version of numpy, it will be understood as (type, (1,)) / '(1,)type'.\n",
      "  _np_qint32 = np.dtype([(\"qint32\", np.int32, 1)])\n",
      "C:\\Users\\hcord\\anaconda3\\envs\\paper3\\lib\\site-packages\\tensorflow\\python\\framework\\dtypes.py:525: FutureWarning: Passing (type, 1) or '1type' as a synonym of type is deprecated; in a future version of numpy, it will be understood as (type, (1,)) / '(1,)type'.\n",
      "  np_resource = np.dtype([(\"resource\", np.ubyte, 1)])\n",
      "C:\\Users\\hcord\\anaconda3\\envs\\paper3\\lib\\site-packages\\tensorboard\\compat\\tensorflow_stub\\dtypes.py:541: FutureWarning: Passing (type, 1) or '1type' as a synonym of type is deprecated; in a future version of numpy, it will be understood as (type, (1,)) / '(1,)type'.\n",
      "  _np_qint8 = np.dtype([(\"qint8\", np.int8, 1)])\n",
      "C:\\Users\\hcord\\anaconda3\\envs\\paper3\\lib\\site-packages\\tensorboard\\compat\\tensorflow_stub\\dtypes.py:542: FutureWarning: Passing (type, 1) or '1type' as a synonym of type is deprecated; in a future version of numpy, it will be understood as (type, (1,)) / '(1,)type'.\n",
      "  _np_quint8 = np.dtype([(\"quint8\", np.uint8, 1)])\n",
      "C:\\Users\\hcord\\anaconda3\\envs\\paper3\\lib\\site-packages\\tensorboard\\compat\\tensorflow_stub\\dtypes.py:543: FutureWarning: Passing (type, 1) or '1type' as a synonym of type is deprecated; in a future version of numpy, it will be understood as (type, (1,)) / '(1,)type'.\n",
      "  _np_qint16 = np.dtype([(\"qint16\", np.int16, 1)])\n",
      "C:\\Users\\hcord\\anaconda3\\envs\\paper3\\lib\\site-packages\\tensorboard\\compat\\tensorflow_stub\\dtypes.py:544: FutureWarning: Passing (type, 1) or '1type' as a synonym of type is deprecated; in a future version of numpy, it will be understood as (type, (1,)) / '(1,)type'.\n",
      "  _np_quint16 = np.dtype([(\"quint16\", np.uint16, 1)])\n",
      "C:\\Users\\hcord\\anaconda3\\envs\\paper3\\lib\\site-packages\\tensorboard\\compat\\tensorflow_stub\\dtypes.py:545: FutureWarning: Passing (type, 1) or '1type' as a synonym of type is deprecated; in a future version of numpy, it will be understood as (type, (1,)) / '(1,)type'.\n",
      "  _np_qint32 = np.dtype([(\"qint32\", np.int32, 1)])\n",
      "C:\\Users\\hcord\\anaconda3\\envs\\paper3\\lib\\site-packages\\tensorboard\\compat\\tensorflow_stub\\dtypes.py:550: FutureWarning: Passing (type, 1) or '1type' as a synonym of type is deprecated; in a future version of numpy, it will be understood as (type, (1,)) / '(1,)type'.\n",
      "  np_resource = np.dtype([(\"resource\", np.ubyte, 1)])\n",
      "Using TensorFlow backend.\n"
     ]
    }
   ],
   "source": [
    "import tensorflow as tf\n",
    "from keras.models import Sequential\n",
    "from tensorflow import keras\n",
    "from keras.layers import Dense, Dropout, LSTM, Activation\n",
    "from tensorflow.keras import layers\n"
   ]
  },
  {
   "cell_type": "code",
   "execution_count": 30,
   "id": "b2909e82",
   "metadata": {},
   "outputs": [
    {
     "name": "stdout",
     "output_type": "stream",
     "text": [
      "1.14.0\n",
      "1.19.5\n",
      "3.6.9\n"
     ]
    }
   ],
   "source": [
    "print(tf. __version__)\n",
    "print(np. __version__)\n",
    "from platform import python_version\n",
    "\n",
    "print(python_version())"
   ]
  },
  {
   "cell_type": "code",
   "execution_count": 31,
   "id": "888a2a6b",
   "metadata": {},
   "outputs": [
    {
     "data": {
      "text/plain": [
       "40"
      ]
     },
     "execution_count": 31,
     "metadata": {},
     "output_type": "execute_result"
    }
   ],
   "source": [
    "x_train.shape[2]"
   ]
  },
  {
   "cell_type": "code",
   "execution_count": 32,
   "id": "28fc07bc",
   "metadata": {},
   "outputs": [
    {
     "name": "stdout",
     "output_type": "stream",
     "text": [
      "WARNING:tensorflow:From C:\\Users\\hcord\\anaconda3\\envs\\paper3\\lib\\site-packages\\tensorflow\\python\\ops\\init_ops.py:1251: calling VarianceScaling.__init__ (from tensorflow.python.ops.init_ops) with dtype is deprecated and will be removed in a future version.\n",
      "Instructions for updating:\n",
      "Call initializer instance with the dtype argument instead of passing it to the constructor\n",
      "WARNING:tensorflow:From C:\\Users\\hcord\\anaconda3\\envs\\paper3\\lib\\site-packages\\tensorflow\\python\\ops\\init_ops.py:97: calling GlorotUniform.__init__ (from tensorflow.python.ops.init_ops) with dtype is deprecated and will be removed in a future version.\n",
      "Instructions for updating:\n",
      "Call initializer instance with the dtype argument instead of passing it to the constructor\n",
      "WARNING:tensorflow:From C:\\Users\\hcord\\anaconda3\\envs\\paper3\\lib\\site-packages\\tensorflow\\python\\ops\\init_ops.py:97: calling Orthogonal.__init__ (from tensorflow.python.ops.init_ops) with dtype is deprecated and will be removed in a future version.\n",
      "Instructions for updating:\n",
      "Call initializer instance with the dtype argument instead of passing it to the constructor\n",
      "WARNING:tensorflow:From C:\\Users\\hcord\\anaconda3\\envs\\paper3\\lib\\site-packages\\tensorflow\\python\\ops\\init_ops.py:97: calling Zeros.__init__ (from tensorflow.python.ops.init_ops) with dtype is deprecated and will be removed in a future version.\n",
      "Instructions for updating:\n",
      "Call initializer instance with the dtype argument instead of passing it to the constructor\n"
     ]
    }
   ],
   "source": [
    "# LSTM model\n",
    "model = keras.Sequential()\n",
    "\n",
    "# The first layer\n",
    "model.add(layers.Bidirectional(layers.LSTM(\n",
    "         input_shape=(num_steps, x_train.shape[2]),\n",
    "         units=120,\n",
    "         activation='tanh',\n",
    "         return_sequences=True)))\n",
    "model.add(layers.BatchNormalization())\n",
    "\n",
    "# Plus a 20% dropout rate\n",
    "model.add(layers.Dropout(0.2))\n",
    "\n",
    "# The second layer\n",
    "model.add(layers.Bidirectional(layers.LSTM(\n",
    "          units=60,\n",
    "          return_sequences=False)))\n",
    "model.add(layers.BatchNormalization())\n",
    "\n",
    "# Plus a 20% dropout rate\n",
    "model.add(layers.Dropout(0.2))\n",
    "model.add(layers.Dense(units=30, activation='relu'))\n",
    "model.add(layers.Dropout(0.2))\n",
    "model.add(layers.Dense(units=10, activation='relu'))\n",
    "model.add(layers.Dropout(0.2))\n",
    "\n",
    "# Dense sigmoid layer\n",
    "model.add(layers.Dense(units=1, activation='sigmoid'))\n",
    "\n",
    "# With adam optimizer and a binary crossentropy loss. We will opimize for model accuracy.\n",
    "adam = keras.optimizers.Adam(lr=0.0001,amsgrad=True)\n",
    "adagrad = keras.optimizers.Adagrad(learning_rate=0.0001,initial_accumulator_value=0.1, epsilon=1e-07)\n",
    "rmsprop = keras.optimizers.RMSprop(learning_rate=0.0001,rho=0.9, momentum=0.001, epsilon=1e-07)\n",
    "\n",
    "metrics = [\n",
    "    tf.keras.metrics.FalseNegatives(name=\"fn\"),\n",
    "    tf.keras.metrics.FalsePositives(name=\"fp\"),\n",
    "    tf.keras.metrics.TrueNegatives(name=\"tn\"),\n",
    "    tf.keras.metrics.TruePositives(name=\"tp\"),\n",
    "    tf.keras.metrics.Precision(name=\"precision\"),\n",
    "    tf.keras.metrics.Recall(name=\"recall\"),\n",
    "    tf.keras.metrics.BinaryAccuracy(name=\"accuracy\")\n",
    "]\n",
    "\n",
    "model.compile(loss='binary_crossentropy', optimizer=adam, metrics=metrics)\n"
   ]
  },
  {
   "cell_type": "code",
   "execution_count": 33,
   "id": "cdb673ef",
   "metadata": {},
   "outputs": [],
   "source": [
    "# EarlyStopping Callback\n",
    "callback = tf.keras.callbacks.EarlyStopping(monitor='loss', patience=3)"
   ]
  },
  {
   "cell_type": "code",
   "execution_count": 34,
   "id": "04d389b3",
   "metadata": {},
   "outputs": [
    {
     "name": "stdout",
     "output_type": "stream",
     "text": [
      "WARNING:tensorflow:From C:\\Users\\hcord\\anaconda3\\envs\\paper3\\lib\\site-packages\\tensorflow\\python\\ops\\nn_impl.py:180: add_dispatch_support.<locals>.wrapper (from tensorflow.python.ops.array_ops) is deprecated and will be removed in a future version.\n",
      "Instructions for updating:\n",
      "Use tf.where in 2.0, which has the same broadcast rule as np.where\n",
      "Train on 32263 samples, validate on 3585 samples\n",
      "Epoch 1/60\n",
      "32263/32263 [==============================] - 22s 689us/sample - loss: 0.5370 - fn: 5292.0000 - fp: 3801.0000 - tn: 19818.0000 - tp: 3352.0000 - precision: 0.4686 - recall: 0.3878 - accuracy: 0.7182 - val_loss: 0.4398 - val_fn: 726.0000 - val_fp: 161.0000 - val_tn: 2405.0000 - val_tp: 293.0000 - val_precision: 0.6454 - val_recall: 0.2875 - val_accuracy: 0.7526\n",
      "Epoch 2/60\n",
      "32263/32263 [==============================] - 22s 666us/sample - loss: 0.4273 - fn: 4840.0000 - fp: 1795.0000 - tn: 21824.0000 - tp: 3804.0000 - precision: 0.6794 - recall: 0.4401 - accuracy: 0.7943 - val_loss: 0.3616 - val_fn: 549.0000 - val_fp: 156.0000 - val_tn: 2410.0000 - val_tp: 470.0000 - val_precision: 0.7508 - val_recall: 0.4612 - val_accuracy: 0.8033\n",
      "Epoch 3/60\n",
      "32263/32263 [==============================] - 21s 665us/sample - loss: 0.3716 - fn: 3847.0000 - fp: 1754.0000 - tn: 21865.0000 - tp: 4797.0000 - precision: 0.7323 - recall: 0.5550 - accuracy: 0.8264 - val_loss: 0.3219 - val_fn: 396.0000 - val_fp: 156.0000 - val_tn: 2410.0000 - val_tp: 623.0000 - val_precision: 0.7997 - val_recall: 0.6114 - val_accuracy: 0.8460\n",
      "Epoch 4/60\n",
      "32263/32263 [==============================] - 21s 658us/sample - loss: 0.3188 - fn: 3025.0000 - fp: 1694.0000 - tn: 21925.0000 - tp: 5619.0000 - precision: 0.7684 - recall: 0.6500 - accuracy: 0.8537 - val_loss: 0.2660 - val_fn: 319.0000 - val_fp: 91.0000 - val_tn: 2475.0000 - val_tp: 700.0000 - val_precision: 0.8850 - val_recall: 0.6869 - val_accuracy: 0.8856\n",
      "Epoch 5/60\n",
      "32263/32263 [==============================] - 21s 662us/sample - loss: 0.2813 - fn: 2361.0000 - fp: 1677.0000 - tn: 21942.0000 - tp: 6283.0000 - precision: 0.7893 - recall: 0.7269 - accuracy: 0.8748 - val_loss: 0.2302 - val_fn: 133.0000 - val_fp: 210.0000 - val_tn: 2356.0000 - val_tp: 886.0000 - val_precision: 0.8084 - val_recall: 0.8695 - val_accuracy: 0.9043\n",
      "Epoch 6/60\n",
      "32263/32263 [==============================] - 21s 665us/sample - loss: 0.2483 - fn: 1889.0000 - fp: 1595.0000 - tn: 22024.0000 - tp: 6755.0000 - precision: 0.8090 - recall: 0.7815 - accuracy: 0.8920 - val_loss: 0.1995 - val_fn: 167.0000 - val_fp: 168.0000 - val_tn: 2398.0000 - val_tp: 852.0000 - val_precision: 0.8353 - val_recall: 0.8361 - val_accuracy: 0.9066\n",
      "Epoch 7/60\n",
      "32263/32263 [==============================] - 21s 664us/sample - loss: 0.2220 - fn: 1522.0000 - fp: 1471.0000 - tn: 22148.0000 - tp: 7122.0000 - precision: 0.8288 - recall: 0.8239 - accuracy: 0.9072 - val_loss: 0.1706 - val_fn: 78.0000 - val_fp: 162.0000 - val_tn: 2404.0000 - val_tp: 941.0000 - val_precision: 0.8531 - val_recall: 0.9235 - val_accuracy: 0.9331\n",
      "Epoch 8/60\n",
      "32263/32263 [==============================] - 22s 694us/sample - loss: 0.2012 - fn: 1331.0000 - fp: 1375.0000 - tn: 22244.0000 - tp: 7313.0000 - precision: 0.8417 - recall: 0.8460 - accuracy: 0.9161 - val_loss: 0.1489 - val_fn: 72.0000 - val_fp: 135.0000 - val_tn: 2431.0000 - val_tp: 947.0000 - val_precision: 0.8752 - val_recall: 0.9293 - val_accuracy: 0.9423\n",
      "Epoch 9/60\n",
      "32263/32263 [==============================] - 22s 667us/sample - loss: 0.1851 - fn: 1186.0000 - fp: 1270.0000 - tn: 22349.0000 - tp: 7458.0000 - precision: 0.8545 - recall: 0.8628 - accuracy: 0.9239 - val_loss: 0.1350 - val_fn: 57.0000 - val_fp: 117.0000 - val_tn: 2449.0000 - val_tp: 962.0000 - val_precision: 0.8916 - val_recall: 0.9441 - val_accuracy: 0.9515\n",
      "Epoch 10/60\n",
      "32263/32263 [==============================] - 22s 670us/sample - loss: 0.1725 - fn: 1077.0000 - fp: 1215.0000 - tn: 22404.0000 - tp: 7567.0000 - precision: 0.8616 - recall: 0.8754 - accuracy: 0.9290 - val_loss: 0.1183 - val_fn: 62.0000 - val_fp: 98.0000 - val_tn: 2468.0000 - val_tp: 957.0000 - val_precision: 0.9071 - val_recall: 0.9392 - val_accuracy: 0.9554\n",
      "Epoch 11/60\n",
      "32263/32263 [==============================] - 22s 688us/sample - loss: 0.1632 - fn: 1003.0000 - fp: 1175.0000 - tn: 22444.0000 - tp: 7641.0000 - precision: 0.8667 - recall: 0.8840 - accuracy: 0.9325 - val_loss: 0.1116 - val_fn: 70.0000 - val_fp: 74.0000 - val_tn: 2492.0000 - val_tp: 949.0000 - val_precision: 0.9277 - val_recall: 0.9313 - val_accuracy: 0.9598\n",
      "Epoch 12/60\n",
      "32263/32263 [==============================] - 23s 700us/sample - loss: 0.1489 - fn: 868.0000 - fp: 1043.0000 - tn: 22576.0000 - tp: 7776.0000 - precision: 0.8817 - recall: 0.8996 - accuracy: 0.9408 - val_loss: 0.1080 - val_fn: 73.0000 - val_fp: 54.0000 - val_tn: 2512.0000 - val_tp: 946.0000 - val_precision: 0.9460 - val_recall: 0.9284 - val_accuracy: 0.9646\n",
      "Epoch 13/60\n",
      "32263/32263 [==============================] - 22s 672us/sample - loss: 0.1486 - fn: 874.0000 - fp: 985.0000 - tn: 22634.0000 - tp: 7770.0000 - precision: 0.8875 - recall: 0.8989 - accuracy: 0.9424 - val_loss: 0.1063 - val_fn: 26.0000 - val_fp: 116.0000 - val_tn: 2450.0000 - val_tp: 993.0000 - val_precision: 0.8954 - val_recall: 0.9745 - val_accuracy: 0.9604\n",
      "Epoch 14/60\n",
      "32263/32263 [==============================] - 22s 683us/sample - loss: 0.1366 - fn: 785.0000 - fp: 971.0000 - tn: 22648.0000 - tp: 7859.0000 - precision: 0.8900 - recall: 0.9092 - accuracy: 0.9456 - val_loss: 0.1014 - val_fn: 61.0000 - val_fp: 87.0000 - val_tn: 2479.0000 - val_tp: 958.0000 - val_precision: 0.9167 - val_recall: 0.9401 - val_accuracy: 0.9587\n",
      "Epoch 15/60\n",
      "32263/32263 [==============================] - 22s 675us/sample - loss: 0.1287 - fn: 778.0000 - fp: 843.0000 - tn: 22776.0000 - tp: 7866.0000 - precision: 0.9032 - recall: 0.9100 - accuracy: 0.9498 - val_loss: 0.0822 - val_fn: 55.0000 - val_fp: 57.0000 - val_tn: 2509.0000 - val_tp: 964.0000 - val_precision: 0.9442 - val_recall: 0.9460 - val_accuracy: 0.9688\n",
      "Epoch 16/60\n",
      "32263/32263 [==============================] - 22s 678us/sample - loss: 0.1267 - fn: 730.0000 - fp: 837.0000 - tn: 22782.0000 - tp: 7914.0000 - precision: 0.9044 - recall: 0.9155 - accuracy: 0.9514 - val_loss: 0.0788 - val_fn: 36.0000 - val_fp: 63.0000 - val_tn: 2503.0000 - val_tp: 983.0000 - val_precision: 0.9398 - val_recall: 0.9647 - val_accuracy: 0.9724\n",
      "Epoch 17/60\n",
      "32263/32263 [==============================] - 22s 693us/sample - loss: 0.1220 - fn: 676.0000 - fp: 813.0000 - tn: 22806.0000 - tp: 7968.0000 - precision: 0.9074 - recall: 0.9218 - accuracy: 0.9538 - val_loss: 0.0799 - val_fn: 62.0000 - val_fp: 37.0000 - val_tn: 2529.0000 - val_tp: 957.0000 - val_precision: 0.9628 - val_recall: 0.9392 - val_accuracy: 0.9724\n",
      "Epoch 18/60\n",
      "32263/32263 [==============================] - 22s 678us/sample - loss: 0.1128 - fn: 633.0000 - fp: 733.0000 - tn: 22886.0000 - tp: 8011.0000 - precision: 0.9162 - recall: 0.9268 - accuracy: 0.9577 - val_loss: 0.0797 - val_fn: 50.0000 - val_fp: 70.0000 - val_tn: 2496.0000 - val_tp: 969.0000 - val_precision: 0.9326 - val_recall: 0.9509 - val_accuracy: 0.9665\n",
      "Epoch 19/60\n",
      "32263/32263 [==============================] - 22s 677us/sample - loss: 0.1118 - fn: 624.0000 - fp: 731.0000 - tn: 22888.0000 - tp: 8020.0000 - precision: 0.9165 - recall: 0.9278 - accuracy: 0.9580 - val_loss: 0.0694 - val_fn: 39.0000 - val_fp: 61.0000 - val_tn: 2505.0000 - val_tp: 980.0000 - val_precision: 0.9414 - val_recall: 0.9617 - val_accuracy: 0.9721\n",
      "Epoch 20/60\n",
      "32263/32263 [==============================] - 22s 676us/sample - loss: 0.1044 - fn: 602.0000 - fp: 640.0000 - tn: 22979.0000 - tp: 8042.0000 - precision: 0.9263 - recall: 0.9304 - accuracy: 0.9615 - val_loss: 0.0708 - val_fn: 32.0000 - val_fp: 74.0000 - val_tn: 2492.0000 - val_tp: 987.0000 - val_precision: 0.9303 - val_recall: 0.9686 - val_accuracy: 0.9704\n",
      "Epoch 21/60\n"
     ]
    },
    {
     "name": "stdout",
     "output_type": "stream",
     "text": [
      "32263/32263 [==============================] - 22s 679us/sample - loss: 0.1012 - fn: 530.0000 - fp: 658.0000 - tn: 22961.0000 - tp: 8114.0000 - precision: 0.9250 - recall: 0.9387 - accuracy: 0.9632 - val_loss: 0.0591 - val_fn: 15.0000 - val_fp: 57.0000 - val_tn: 2509.0000 - val_tp: 1004.0000 - val_precision: 0.9463 - val_recall: 0.9853 - val_accuracy: 0.9799\n",
      "Epoch 22/60\n",
      "32263/32263 [==============================] - 22s 676us/sample - loss: 0.0956 - fn: 537.0000 - fp: 613.0000 - tn: 23006.0000 - tp: 8107.0000 - precision: 0.9297 - recall: 0.9379 - accuracy: 0.9644 - val_loss: 0.0600 - val_fn: 32.0000 - val_fp: 47.0000 - val_tn: 2519.0000 - val_tp: 987.0000 - val_precision: 0.9545 - val_recall: 0.9686 - val_accuracy: 0.9780\n",
      "Epoch 23/60\n",
      "32263/32263 [==============================] - 22s 673us/sample - loss: 0.0941 - fn: 499.0000 - fp: 595.0000 - tn: 23024.0000 - tp: 8145.0000 - precision: 0.9319 - recall: 0.9423 - accuracy: 0.9661 - val_loss: 0.0560 - val_fn: 22.0000 - val_fp: 48.0000 - val_tn: 2518.0000 - val_tp: 997.0000 - val_precision: 0.9541 - val_recall: 0.9784 - val_accuracy: 0.9805\n",
      "Epoch 24/60\n",
      "32263/32263 [==============================] - 22s 675us/sample - loss: 0.0965 - fn: 558.0000 - fp: 603.0000 - tn: 23016.0000 - tp: 8086.0000 - precision: 0.9306 - recall: 0.9354 - accuracy: 0.9640 - val_loss: 0.0599 - val_fn: 39.0000 - val_fp: 41.0000 - val_tn: 2525.0000 - val_tp: 980.0000 - val_precision: 0.9598 - val_recall: 0.9617 - val_accuracy: 0.9777\n",
      "Epoch 25/60\n",
      "32263/32263 [==============================] - 22s 674us/sample - loss: 0.0893 - fn: 512.0000 - fp: 555.0000 - tn: 23064.0000 - tp: 8132.0000 - precision: 0.9361 - recall: 0.9408 - accuracy: 0.9669 - val_loss: 0.0635 - val_fn: 45.0000 - val_fp: 45.0000 - val_tn: 2521.0000 - val_tp: 974.0000 - val_precision: 0.9558 - val_recall: 0.9558 - val_accuracy: 0.9749\n",
      "Epoch 26/60\n",
      "32263/32263 [==============================] - 22s 676us/sample - loss: 0.0844 - fn: 457.0000 - fp: 510.0000 - tn: 23109.0000 - tp: 8187.0000 - precision: 0.9414 - recall: 0.9471 - accuracy: 0.9700 - val_loss: 0.0559 - val_fn: 22.0000 - val_fp: 55.0000 - val_tn: 2511.0000 - val_tp: 997.0000 - val_precision: 0.9477 - val_recall: 0.9784 - val_accuracy: 0.9785\n",
      "Epoch 27/60\n",
      "32263/32263 [==============================] - 22s 673us/sample - loss: 0.0833 - fn: 460.0000 - fp: 535.0000 - tn: 23084.0000 - tp: 8184.0000 - precision: 0.9386 - recall: 0.9468 - accuracy: 0.9692 - val_loss: 0.0631 - val_fn: 39.0000 - val_fp: 60.0000 - val_tn: 2506.0000 - val_tp: 980.0000 - val_precision: 0.9423 - val_recall: 0.9617 - val_accuracy: 0.9724\n",
      "Epoch 28/60\n",
      "32263/32263 [==============================] - 23s 716us/sample - loss: 0.0782 - fn: 437.0000 - fp: 492.0000 - tn: 23127.0000 - tp: 8207.0000 - precision: 0.9434 - recall: 0.9494 - accuracy: 0.9712 - val_loss: 0.0619 - val_fn: 39.0000 - val_fp: 38.0000 - val_tn: 2528.0000 - val_tp: 980.0000 - val_precision: 0.9627 - val_recall: 0.9617 - val_accuracy: 0.9785\n",
      "Epoch 29/60\n",
      "32263/32263 [==============================] - 22s 695us/sample - loss: 0.0768 - fn: 404.0000 - fp: 464.0000 - tn: 23155.0000 - tp: 8240.0000 - precision: 0.9467 - recall: 0.9533 - accuracy: 0.9731 - val_loss: 0.0474 - val_fn: 23.0000 - val_fp: 43.0000 - val_tn: 2523.0000 - val_tp: 996.0000 - val_precision: 0.9586 - val_recall: 0.9774 - val_accuracy: 0.9816\n",
      "Epoch 30/60\n",
      "32263/32263 [==============================] - 22s 684us/sample - loss: 0.0755 - fn: 439.0000 - fp: 435.0000 - tn: 23184.0000 - tp: 8205.0000 - precision: 0.9497 - recall: 0.9492 - accuracy: 0.9729 - val_loss: 0.0489 - val_fn: 28.0000 - val_fp: 33.0000 - val_tn: 2533.0000 - val_tp: 991.0000 - val_precision: 0.9678 - val_recall: 0.9725 - val_accuracy: 0.9830\n",
      "Epoch 31/60\n",
      "32263/32263 [==============================] - 22s 688us/sample - loss: 0.0699 - fn: 387.0000 - fp: 421.0000 - tn: 23198.0000 - tp: 8257.0000 - precision: 0.9515 - recall: 0.9552 - accuracy: 0.9750 - val_loss: 0.0481 - val_fn: 35.0000 - val_fp: 35.0000 - val_tn: 2531.0000 - val_tp: 984.0000 - val_precision: 0.9657 - val_recall: 0.9657 - val_accuracy: 0.9805\n",
      "Epoch 32/60\n",
      "32263/32263 [==============================] - 22s 685us/sample - loss: 0.0710 - fn: 401.0000 - fp: 430.0000 - tn: 23189.0000 - tp: 8243.0000 - precision: 0.9504 - recall: 0.9536 - accuracy: 0.9742 - val_loss: 0.0481 - val_fn: 17.0000 - val_fp: 40.0000 - val_tn: 2526.0000 - val_tp: 1002.0000 - val_precision: 0.9616 - val_recall: 0.9833 - val_accuracy: 0.9841\n",
      "Epoch 33/60\n",
      "32263/32263 [==============================] - 23s 698us/sample - loss: 0.0672 - fn: 377.0000 - fp: 400.0000 - tn: 23219.0000 - tp: 8267.0000 - precision: 0.9538 - recall: 0.9564 - accuracy: 0.9759 - val_loss: 0.0479 - val_fn: 32.0000 - val_fp: 30.0000 - val_tn: 2536.0000 - val_tp: 987.0000 - val_precision: 0.9705 - val_recall: 0.9686 - val_accuracy: 0.9827\n",
      "Epoch 34/60\n",
      "32263/32263 [==============================] - 22s 685us/sample - loss: 0.0694 - fn: 383.0000 - fp: 412.0000 - tn: 23207.0000 - tp: 8261.0000 - precision: 0.9525 - recall: 0.9557 - accuracy: 0.9754 - val_loss: 0.0450 - val_fn: 26.0000 - val_fp: 28.0000 - val_tn: 2538.0000 - val_tp: 993.0000 - val_precision: 0.9726 - val_recall: 0.9745 - val_accuracy: 0.9849\n",
      "Epoch 35/60\n",
      "32263/32263 [==============================] - 22s 685us/sample - loss: 0.0678 - fn: 352.0000 - fp: 388.0000 - tn: 23231.0000 - tp: 8292.0000 - precision: 0.9553 - recall: 0.9593 - accuracy: 0.9771 - val_loss: 0.0516 - val_fn: 20.0000 - val_fp: 47.0000 - val_tn: 2519.0000 - val_tp: 999.0000 - val_precision: 0.9551 - val_recall: 0.9804 - val_accuracy: 0.9813\n",
      "Epoch 36/60\n",
      "32263/32263 [==============================] - 22s 685us/sample - loss: 0.0622 - fn: 346.0000 - fp: 384.0000 - tn: 23235.0000 - tp: 8298.0000 - precision: 0.9558 - recall: 0.9600 - accuracy: 0.9774 - val_loss: 0.0442 - val_fn: 11.0000 - val_fp: 44.0000 - val_tn: 2522.0000 - val_tp: 1008.0000 - val_precision: 0.9582 - val_recall: 0.9892 - val_accuracy: 0.9847\n",
      "Epoch 37/60\n",
      "32263/32263 [==============================] - 22s 686us/sample - loss: 0.0640 - fn: 337.0000 - fp: 369.0000 - tn: 23250.0000 - tp: 8307.0000 - precision: 0.9575 - recall: 0.9610 - accuracy: 0.9781 - val_loss: 0.0414 - val_fn: 13.0000 - val_fp: 43.0000 - val_tn: 2523.0000 - val_tp: 1006.0000 - val_precision: 0.9590 - val_recall: 0.9872 - val_accuracy: 0.9844\n",
      "Epoch 38/60\n",
      "32263/32263 [==============================] - 22s 686us/sample - loss: 0.0634 - fn: 327.0000 - fp: 378.0000 - tn: 23241.0000 - tp: 8317.0000 - precision: 0.9565 - recall: 0.9622 - accuracy: 0.9781 - val_loss: 0.0468 - val_fn: 21.0000 - val_fp: 37.0000 - val_tn: 2529.0000 - val_tp: 998.0000 - val_precision: 0.9643 - val_recall: 0.9794 - val_accuracy: 0.9838\n",
      "Epoch 39/60\n",
      "32263/32263 [==============================] - 22s 696us/sample - loss: 0.0582 - fn: 317.0000 - fp: 344.0000 - tn: 23275.0000 - tp: 8327.0000 - precision: 0.9603 - recall: 0.9633 - accuracy: 0.9795 - val_loss: 0.0505 - val_fn: 37.0000 - val_fp: 30.0000 - val_tn: 2536.0000 - val_tp: 982.0000 - val_precision: 0.9704 - val_recall: 0.9637 - val_accuracy: 0.9813\n",
      "Epoch 40/60\n",
      "32263/32263 [==============================] - 22s 694us/sample - loss: 0.0587 - fn: 310.0000 - fp: 364.0000 - tn: 23255.0000 - tp: 8334.0000 - precision: 0.9582 - recall: 0.9641 - accuracy: 0.9791 - val_loss: 0.0404 - val_fn: 15.0000 - val_fp: 38.0000 - val_tn: 2528.0000 - val_tp: 1004.0000 - val_precision: 0.9635 - val_recall: 0.9853 - val_accuracy: 0.9852\n",
      "Epoch 41/60\n",
      "32263/32263 [==============================] - 22s 686us/sample - loss: 0.0585 - fn: 331.0000 - fp: 357.0000 - tn: 23262.0000 - tp: 8313.0000 - precision: 0.9588 - recall: 0.9617 - accuracy: 0.9787 - val_loss: 0.0408 - val_fn: 11.0000 - val_fp: 41.0000 - val_tn: 2525.0000 - val_tp: 1008.0000 - val_precision: 0.9609 - val_recall: 0.9892 - val_accuracy: 0.9855\n",
      "Epoch 42/60\n",
      "32263/32263 [==============================] - 22s 675us/sample - loss: 0.0553 - fn: 299.0000 - fp: 315.0000 - tn: 23304.0000 - tp: 8345.0000 - precision: 0.9636 - recall: 0.9654 - accuracy: 0.9810 - val_loss: 0.0417 - val_fn: 12.0000 - val_fp: 46.0000 - val_tn: 2520.0000 - val_tp: 1007.0000 - val_precision: 0.9563 - val_recall: 0.9882 - val_accuracy: 0.9838\n",
      "Epoch 43/60\n"
     ]
    },
    {
     "name": "stdout",
     "output_type": "stream",
     "text": [
      "32263/32263 [==============================] - 21s 664us/sample - loss: 0.0545 - fn: 289.0000 - fp: 301.0000 - tn: 23318.0000 - tp: 8355.0000 - precision: 0.9652 - recall: 0.9666 - accuracy: 0.9817 - val_loss: 0.0384 - val_fn: 13.0000 - val_fp: 30.0000 - val_tn: 2536.0000 - val_tp: 1006.0000 - val_precision: 0.9710 - val_recall: 0.9872 - val_accuracy: 0.9880\n",
      "Epoch 44/60\n",
      "32263/32263 [==============================] - 22s 686us/sample - loss: 0.0523 - fn: 269.0000 - fp: 300.0000 - tn: 23319.0000 - tp: 8375.0000 - precision: 0.9654 - recall: 0.9689 - accuracy: 0.9824 - val_loss: 0.0447 - val_fn: 19.0000 - val_fp: 31.0000 - val_tn: 2535.0000 - val_tp: 1000.0000 - val_precision: 0.9699 - val_recall: 0.9814 - val_accuracy: 0.9861\n",
      "Epoch 45/60\n",
      "32263/32263 [==============================] - 22s 692us/sample - loss: 0.0522 - fn: 277.0000 - fp: 305.0000 - tn: 23314.0000 - tp: 8367.0000 - precision: 0.9648 - recall: 0.9680 - accuracy: 0.9820 - val_loss: 0.0394 - val_fn: 17.0000 - val_fp: 30.0000 - val_tn: 2536.0000 - val_tp: 1002.0000 - val_precision: 0.9709 - val_recall: 0.9833 - val_accuracy: 0.9869\n",
      "Epoch 46/60\n",
      "32263/32263 [==============================] - 22s 673us/sample - loss: 0.0520 - fn: 267.0000 - fp: 287.0000 - tn: 23332.0000 - tp: 8377.0000 - precision: 0.9669 - recall: 0.9691 - accuracy: 0.9828 - val_loss: 0.0406 - val_fn: 13.0000 - val_fp: 47.0000 - val_tn: 2519.0000 - val_tp: 1006.0000 - val_precision: 0.9554 - val_recall: 0.9872 - val_accuracy: 0.9833\n",
      "Epoch 47/60\n",
      "32263/32263 [==============================] - 22s 689us/sample - loss: 0.0492 - fn: 268.0000 - fp: 271.0000 - tn: 23348.0000 - tp: 8376.0000 - precision: 0.9687 - recall: 0.9690 - accuracy: 0.9833 - val_loss: 0.0417 - val_fn: 12.0000 - val_fp: 36.0000 - val_tn: 2530.0000 - val_tp: 1007.0000 - val_precision: 0.9655 - val_recall: 0.9882 - val_accuracy: 0.9866\n",
      "Epoch 48/60\n",
      "32263/32263 [==============================] - 21s 666us/sample - loss: 0.0482 - fn: 258.0000 - fp: 303.0000 - tn: 23316.0000 - tp: 8386.0000 - precision: 0.9651 - recall: 0.9702 - accuracy: 0.9826 - val_loss: 0.0379 - val_fn: 16.0000 - val_fp: 33.0000 - val_tn: 2533.0000 - val_tp: 1003.0000 - val_precision: 0.9681 - val_recall: 0.9843 - val_accuracy: 0.9863\n",
      "Epoch 49/60\n",
      "32263/32263 [==============================] - 22s 693us/sample - loss: 0.0475 - fn: 249.0000 - fp: 258.0000 - tn: 23361.0000 - tp: 8395.0000 - precision: 0.9702 - recall: 0.9712 - accuracy: 0.9843 - val_loss: 0.0407 - val_fn: 15.0000 - val_fp: 31.0000 - val_tn: 2535.0000 - val_tp: 1004.0000 - val_precision: 0.9700 - val_recall: 0.9853 - val_accuracy: 0.9872\n",
      "Epoch 50/60\n",
      "32263/32263 [==============================] - 22s 694us/sample - loss: 0.0499 - fn: 265.0000 - fp: 300.0000 - tn: 23319.0000 - tp: 8379.0000 - precision: 0.9654 - recall: 0.9693 - accuracy: 0.9825 - val_loss: 0.0413 - val_fn: 12.0000 - val_fp: 49.0000 - val_tn: 2517.0000 - val_tp: 1007.0000 - val_precision: 0.9536 - val_recall: 0.9882 - val_accuracy: 0.9830\n",
      "Epoch 51/60\n",
      "32263/32263 [==============================] - 22s 685us/sample - loss: 0.0471 - fn: 253.0000 - fp: 278.0000 - tn: 23341.0000 - tp: 8391.0000 - precision: 0.9679 - recall: 0.9707 - accuracy: 0.9835 - val_loss: 0.0422 - val_fn: 19.0000 - val_fp: 34.0000 - val_tn: 2532.0000 - val_tp: 1000.0000 - val_precision: 0.9671 - val_recall: 0.9814 - val_accuracy: 0.9852\n",
      "Epoch 52/60\n",
      "32263/32263 [==============================] - 22s 684us/sample - loss: 0.0479 - fn: 242.0000 - fp: 296.0000 - tn: 23323.0000 - tp: 8402.0000 - precision: 0.9660 - recall: 0.9720 - accuracy: 0.9833 - val_loss: 0.0362 - val_fn: 14.0000 - val_fp: 25.0000 - val_tn: 2541.0000 - val_tp: 1005.0000 - val_precision: 0.9757 - val_recall: 0.9863 - val_accuracy: 0.9891\n",
      "Epoch 53/60\n",
      "32263/32263 [==============================] - 22s 685us/sample - loss: 0.0440 - fn: 236.0000 - fp: 247.0000 - tn: 23372.0000 - tp: 8408.0000 - precision: 0.9715 - recall: 0.9727 - accuracy: 0.9850 - val_loss: 0.0379 - val_fn: 16.0000 - val_fp: 27.0000 - val_tn: 2539.0000 - val_tp: 1003.0000 - val_precision: 0.9738 - val_recall: 0.9843 - val_accuracy: 0.9880\n",
      "Epoch 54/60\n",
      "32263/32263 [==============================] - 22s 686us/sample - loss: 0.0443 - fn: 241.0000 - fp: 239.0000 - tn: 23380.0000 - tp: 8403.0000 - precision: 0.9723 - recall: 0.9721 - accuracy: 0.9851 - val_loss: 0.0383 - val_fn: 19.0000 - val_fp: 19.0000 - val_tn: 2547.0000 - val_tp: 1000.0000 - val_precision: 0.9814 - val_recall: 0.9814 - val_accuracy: 0.9894\n",
      "Epoch 55/60\n",
      "32263/32263 [==============================] - 22s 684us/sample - loss: 0.0453 - fn: 235.0000 - fp: 270.0000 - tn: 23349.0000 - tp: 8409.0000 - precision: 0.9689 - recall: 0.9728 - accuracy: 0.9843 - val_loss: 0.0413 - val_fn: 14.0000 - val_fp: 31.0000 - val_tn: 2535.0000 - val_tp: 1005.0000 - val_precision: 0.9701 - val_recall: 0.9863 - val_accuracy: 0.9874\n",
      "Epoch 56/60\n",
      "32263/32263 [==============================] - 22s 693us/sample - loss: 0.0433 - fn: 234.0000 - fp: 251.0000 - tn: 23368.0000 - tp: 8410.0000 - precision: 0.9710 - recall: 0.9729 - accuracy: 0.9850 - val_loss: 0.0352 - val_fn: 14.0000 - val_fp: 29.0000 - val_tn: 2537.0000 - val_tp: 1005.0000 - val_precision: 0.9720 - val_recall: 0.9863 - val_accuracy: 0.9880\n",
      "Epoch 57/60\n",
      "32263/32263 [==============================] - 22s 687us/sample - loss: 0.0433 - fn: 230.0000 - fp: 226.0000 - tn: 23393.0000 - tp: 8414.0000 - precision: 0.9738 - recall: 0.9734 - accuracy: 0.9859 - val_loss: 0.0398 - val_fn: 13.0000 - val_fp: 34.0000 - val_tn: 2532.0000 - val_tp: 1006.0000 - val_precision: 0.9673 - val_recall: 0.9872 - val_accuracy: 0.9869\n",
      "Epoch 58/60\n",
      "32263/32263 [==============================] - 22s 691us/sample - loss: 0.0417 - fn: 201.0000 - fp: 239.0000 - tn: 23380.0000 - tp: 8443.0000 - precision: 0.9725 - recall: 0.9767 - accuracy: 0.9864 - val_loss: 0.0363 - val_fn: 14.0000 - val_fp: 27.0000 - val_tn: 2539.0000 - val_tp: 1005.0000 - val_precision: 0.9738 - val_recall: 0.9863 - val_accuracy: 0.9886\n",
      "Epoch 59/60\n",
      "32263/32263 [==============================] - 22s 687us/sample - loss: 0.0425 - fn: 224.0000 - fp: 227.0000 - tn: 23392.0000 - tp: 8420.0000 - precision: 0.9737 - recall: 0.9741 - accuracy: 0.9860 - val_loss: 0.0350 - val_fn: 18.0000 - val_fp: 22.0000 - val_tn: 2544.0000 - val_tp: 1001.0000 - val_precision: 0.9785 - val_recall: 0.9823 - val_accuracy: 0.9888\n",
      "Epoch 60/60\n",
      "32263/32263 [==============================] - 22s 685us/sample - loss: 0.0391 - fn: 208.0000 - fp: 213.0000 - tn: 23406.0000 - tp: 8436.0000 - precision: 0.9754 - recall: 0.9759 - accuracy: 0.9870 - val_loss: 0.0339 - val_fn: 11.0000 - val_fp: 34.0000 - val_tn: 2532.0000 - val_tp: 1008.0000 - val_precision: 0.9674 - val_recall: 0.9892 - val_accuracy: 0.9874\n"
     ]
    }
   ],
   "source": [
    "history = model.fit(\n",
    "    x_train, \n",
    "    y_train, \n",
    "    epochs=60,\n",
    "#    batch_size=60,\n",
    "    validation_split=0.10,\n",
    "    callbacks = [callback])"
   ]
  },
  {
   "cell_type": "code",
   "execution_count": 48,
   "id": "30934a7d",
   "metadata": {},
   "outputs": [
    {
     "name": "stdout",
     "output_type": "stream",
     "text": [
      "Model: \"sequential\"\n",
      "_________________________________________________________________\n",
      "Layer (type)                 Output Shape              Param #   \n",
      "=================================================================\n",
      "bidirectional (Bidirectional multiple                  154560    \n",
      "_________________________________________________________________\n",
      "batch_normalization (BatchNo multiple                  960       \n",
      "_________________________________________________________________\n",
      "dropout (Dropout)            multiple                  0         \n",
      "_________________________________________________________________\n",
      "bidirectional_1 (Bidirection multiple                  144480    \n",
      "_________________________________________________________________\n",
      "batch_normalization_1 (Batch multiple                  480       \n",
      "_________________________________________________________________\n",
      "dropout_1 (Dropout)          multiple                  0         \n",
      "_________________________________________________________________\n",
      "dense (Dense)                multiple                  3630      \n",
      "_________________________________________________________________\n",
      "dropout_2 (Dropout)          multiple                  0         \n",
      "_________________________________________________________________\n",
      "dense_1 (Dense)              multiple                  310       \n",
      "_________________________________________________________________\n",
      "dropout_3 (Dropout)          multiple                  0         \n",
      "_________________________________________________________________\n",
      "dense_2 (Dense)              multiple                  11        \n",
      "=================================================================\n",
      "Total params: 304,431\n",
      "Trainable params: 303,711\n",
      "Non-trainable params: 720\n",
      "_________________________________________________________________\n",
      "None\n"
     ]
    }
   ],
   "source": [
    "# Verify the architecture \n",
    "print(model.summary())"
   ]
  },
  {
   "cell_type": "code",
   "execution_count": 49,
   "id": "8ae529d6",
   "metadata": {},
   "outputs": [
    {
     "data": {
      "text/plain": [
       "(15360, 5, 40)"
      ]
     },
     "execution_count": 49,
     "metadata": {},
     "output_type": "execute_result"
    }
   ],
   "source": [
    "x_test.shape"
   ]
  },
  {
   "cell_type": "code",
   "execution_count": 50,
   "id": "96e32bdc",
   "metadata": {},
   "outputs": [
    {
     "data": {
      "text/plain": [
       "Text(0.5, 0, 'epochs')"
      ]
     },
     "execution_count": 50,
     "metadata": {},
     "output_type": "execute_result"
    },
    {
     "data": {
      "image/png": "[encoded data removed]",
      "text/plain": [
       "<Figure size 1440x720 with 1 Axes>"
      ]
     },
     "metadata": {
      "needs_background": "light"
     },
     "output_type": "display_data"
    }
   ],
   "source": [
    "# Plot History\n",
    "pd.DataFrame(history.history).plot(figsize=(20, 10))\n",
    "plt.ylabel('loss')\n",
    "plt.xlabel('epochs')\n"
   ]
  },
  {
   "cell_type": "code",
   "execution_count": 51,
   "id": "d8e521b1",
   "metadata": {},
   "outputs": [
    {
     "name": "stdout",
     "output_type": "stream",
     "text": [
      "15360/15360 [==============================] - 2s 117us/sample - loss: 0.0220 - fn: 21.0000 - fp: 85.0000 - tn: 11318.0000 - tp: 3936.0000 - precision: 0.9789 - recall: 0.9947 - accuracy: 0.9931\n",
      "Test Accurracy: 21.0\n"
     ]
    }
   ],
   "source": [
    "#scores_2 = model.evaluate(x_test, y_test, verbose=1, batch_size=200)\n",
    "scores_2 = model.evaluate(x_test, y_test, verbose=1)\n",
    "print('Test Accurracy: {}'.format(scores_2[1]))"
   ]
  },
  {
   "cell_type": "code",
   "execution_count": 52,
   "id": "68172399",
   "metadata": {},
   "outputs": [
    {
     "data": {
      "text/plain": [
       "(15360, 5, 40)"
      ]
     },
     "execution_count": 52,
     "metadata": {},
     "output_type": "execute_result"
    }
   ],
   "source": [
    "x_test.shape"
   ]
  },
  {
   "cell_type": "code",
   "execution_count": 53,
   "id": "e5bbdab9",
   "metadata": {},
   "outputs": [
    {
     "name": "stdout",
     "output_type": "stream",
     "text": [
      "15360/15360 [==============================] - 2s 108us/sample\n"
     ]
    },
    {
     "data": {
      "text/plain": [
       "array([[11318,    85],\n",
       "       [   21,  3936]], dtype=int64)"
      ]
     },
     "execution_count": 53,
     "metadata": {},
     "output_type": "execute_result"
    }
   ],
   "source": [
    "# make predictions and compute confusion matrix\n",
    "#y_pred = model.predict_classes(x_test,verbose=1, batch_size=200)\n",
    "y_pred = model.predict_classes(x_test,verbose=1)\n",
    "y_true = y_test\n",
    "\n",
    "cm = confusion_matrix(y_true, y_pred)\n",
    "cm"
   ]
  },
  {
   "cell_type": "code",
   "execution_count": 54,
   "id": "ca0cac40",
   "metadata": {},
   "outputs": [
    {
     "name": "stdout",
     "output_type": "stream",
     "text": [
      "Test Accuracy:  0.9930989583333333 \n",
      " Test Precision:  0.9788609798557573 \n",
      " Test Recall:  0.9946929492039424 \n",
      " Test F1 Score: 0.9867134620205564\n"
     ]
    }
   ],
   "source": [
    "# compute precision and recall\n",
    "accuracy_test = accuracy_score(y_true, y_pred)\n",
    "precision_test = precision_score(y_true, y_pred)\n",
    "recall_test = recall_score(y_true, y_pred)\n",
    "f1_test = 2 * (precision_test * recall_test) / (precision_test + recall_test)\n",
    "print('Test Accuracy: ', accuracy_test, '\\n','Test Precision: ', precision_test, '\\n', 'Test Recall: ', recall_test, '\\n', 'Test F1 Score:', f1_test)"
   ]
  },
  {
   "cell_type": "code",
   "execution_count": 55,
   "id": "a0f19946",
   "metadata": {},
   "outputs": [
    {
     "name": "stdout",
     "output_type": "stream",
     "text": [
      "        pred:0  pred:1\n",
      "true:0   11318      85\n",
      "true:1      21    3936\n"
     ]
    }
   ],
   "source": [
    "cm = confusion_matrix(y_true, y_pred)\n",
    "cmtx = pd.DataFrame(\n",
    "    confusion_matrix(y_true, y_pred),\n",
    "    index=['true:0', 'true:1'], \n",
    "    columns=['pred:0', 'pred:1']\n",
    ")\n",
    "print(cmtx)"
   ]
  },
  {
   "cell_type": "code",
   "execution_count": 56,
   "id": "0472b959",
   "metadata": {},
   "outputs": [
    {
     "data": {
      "text/plain": [
       "(array([0, 1]), array([11403,  3957], dtype=int64))"
      ]
     },
     "execution_count": 56,
     "metadata": {},
     "output_type": "execute_result"
    }
   ],
   "source": [
    "np.unique(y_test,return_counts=True)"
   ]
  },
  {
   "cell_type": "code",
   "execution_count": 57,
   "id": "da2d0682",
   "metadata": {},
   "outputs": [
    {
     "data": {
      "text/plain": [
       "[<matplotlib.lines.Line2D at 0x1bff3e60d68>]"
      ]
     },
     "execution_count": 57,
     "metadata": {},
     "output_type": "execute_result"
    },
    {
     "data": {
      "image/png": "[encoded data removed]",
      "text/plain": [
       "<Figure size 1200x480 with 1 Axes>"
      ]
     },
     "metadata": {
      "needs_background": "light"
     },
     "output_type": "display_data"
    }
   ],
   "source": [
    "figure(figsize=(15, 6), dpi=80)\n",
    "plt.plot(y_true+0.01,'r+')\n",
    "plt.plot(y_pred,'b+')"
   ]
  },
  {
   "cell_type": "code",
   "execution_count": 58,
   "id": "b425f9a3",
   "metadata": {},
   "outputs": [],
   "source": [
    "import shap  # package used to calculate Shap values\n",
    "\n",
    "# use Deep SHAP to explain test set predictions\n",
    "#k_explainer = shap.KernelExplainer(model_1.predict_proba, x_test)\n",
    "#k_shap_values = k_explainer.shap_values(x_test.reshape(14315*30,32))\n",
    "#shap.force_plot(k_explainer.expected_value[1], k_shap_values[1], x_test)"
   ]
  },
  {
   "cell_type": "markdown",
   "id": "91d3fca7",
   "metadata": {},
   "source": [
    "## Salvando o modelo"
   ]
  },
  {
   "cell_type": "code",
   "execution_count": 59,
   "id": "8119934a",
   "metadata": {},
   "outputs": [],
   "source": [
    "model.save('../data/pwb_classification_noavalanche')"
   ]
  },
  {
   "cell_type": "markdown",
   "id": "5e4cbb13",
   "metadata": {},
   "source": [
    "# Random Forest"
   ]
  },
  {
   "cell_type": "code",
   "execution_count": 61,
   "id": "b9210bc5",
   "metadata": {},
   "outputs": [],
   "source": [
    "train_ind = int(0.7 * pwbds_scaled_copy.shape[0])\n",
    "x_train = pwbds_scaled_copy[:train_ind]\n",
    "y_train = clean_ds.NEXT_H[:train_ind]\n",
    "x_test = pwbds_scaled_copy[train_ind:]\n",
    "y_test = clean_ds.NEXT_H[train_ind:]"
   ]
  },
  {
   "cell_type": "code",
   "execution_count": 62,
   "id": "6ac231ee",
   "metadata": {},
   "outputs": [],
   "source": [
    "from sklearn.ensemble import RandomForestClassifier as rfc\n",
    "clf_rf = rfc(random_state=0).fit(x_train, y_train)"
   ]
  },
  {
   "cell_type": "code",
   "execution_count": 65,
   "id": "1ad30894",
   "metadata": {},
   "outputs": [
    {
     "data": {
      "text/plain": [
       "1.0"
      ]
     },
     "execution_count": 65,
     "metadata": {},
     "output_type": "execute_result"
    }
   ],
   "source": [
    "clf_rf.score(x_test, y_test)"
   ]
  },
  {
   "cell_type": "code",
   "execution_count": 66,
   "id": "99c131f6",
   "metadata": {},
   "outputs": [],
   "source": [
    "y_pred = clf_rf.predict(x_test)"
   ]
  },
  {
   "cell_type": "code",
   "execution_count": 67,
   "id": "6f9072e1",
   "metadata": {},
   "outputs": [
    {
     "data": {
      "text/plain": [
       "array([[11407,     0],\n",
       "       [    0,  3957]], dtype=int64)"
      ]
     },
     "execution_count": 67,
     "metadata": {},
     "output_type": "execute_result"
    }
   ],
   "source": [
    "cm = confusion_matrix(y_test, y_pred)\n",
    "cm"
   ]
  },
  {
   "cell_type": "code",
   "execution_count": 68,
   "id": "239c061f",
   "metadata": {},
   "outputs": [
    {
     "name": "stdout",
     "output_type": "stream",
     "text": [
      "Test Accuracy:  1.0 \n",
      " Test Precision:  1.0 \n",
      " Test Recall:  1.0 \n",
      " Test F1 Score: 1.0\n"
     ]
    }
   ],
   "source": [
    "# compute precision and recall\n",
    "accuracy_test = accuracy_score(y_test, y_pred)\n",
    "precision_test = precision_score(y_test, y_pred)\n",
    "recall_test = recall_score(y_test, y_pred)\n",
    "f1_test = 2 * (precision_test * recall_test) / (precision_test + recall_test)\n",
    "print('Test Accuracy: ', accuracy_test, '\\n', 'Test Precision: ', precision_test, '\\n', 'Test Recall: ', recall_test, '\\n', 'Test F1 Score:', f1_test)"
   ]
  },
  {
   "cell_type": "code",
   "execution_count": 69,
   "id": "e615a86a",
   "metadata": {},
   "outputs": [
    {
     "data": {
      "text/plain": [
       "<sklearn.metrics._plot.confusion_matrix.ConfusionMatrixDisplay at 0x1bf8338ac18>"
      ]
     },
     "execution_count": 69,
     "metadata": {},
     "output_type": "execute_result"
    },
    {
     "data": {
      "image/png": "[encoded data removed]",
      "text/plain": [
       "<Figure size 432x288 with 2 Axes>"
      ]
     },
     "metadata": {
      "needs_background": "light"
     },
     "output_type": "display_data"
    }
   ],
   "source": [
    "plot_confusion_matrix(clf_rf, x_test, y_test)"
   ]
  },
  {
   "cell_type": "code",
   "execution_count": 70,
   "id": "cad7a326",
   "metadata": {},
   "outputs": [],
   "source": [
    "import shap  # package used to calculate Shap values\n",
    "\n",
    "# Create object that can calculate shap values\n",
    "#explainer = shap.TreeExplainer(clf_rf)\n",
    "\n",
    "# Calculate Shap values\n",
    "#shap_values = explainer.shap_values(x_test)\n",
    "\n",
    "#shap.initjs()\n",
    "#shap.force_plot(explainer.expected_value[1], shap_values[1], x_test)\n"
   ]
  },
  {
   "cell_type": "code",
   "execution_count": 71,
   "id": "3d2f3cb2",
   "metadata": {},
   "outputs": [
    {
     "data": {
      "text/plain": [
       "[<matplotlib.lines.Line2D at 0x1bf82cff0b8>]"
      ]
     },
     "execution_count": 71,
     "metadata": {},
     "output_type": "execute_result"
    },
    {
     "data": {
      "image/png": "[encoded data removed]",
      "text/plain": [
       "<Figure size 1200x480 with 1 Axes>"
      ]
     },
     "metadata": {
      "needs_background": "light"
     },
     "output_type": "display_data"
    }
   ],
   "source": [
    "figure(figsize=(15, 6), dpi=80)\n",
    "plt.plot(y_true+0.01,'r+')\n",
    "plt.plot(y_pred,'b+')"
   ]
  },
  {
   "cell_type": "code",
   "execution_count": 72,
   "id": "d0e2c788",
   "metadata": {},
   "outputs": [
    {
     "data": {
      "text/plain": [
       "['../data/pwb_classification_rf_no_avalanche']"
      ]
     },
     "execution_count": 72,
     "metadata": {},
     "output_type": "execute_result"
    }
   ],
   "source": [
    "import joblib\n",
    "filename = '../data/pwb_classification_rf_no_avalanche'\n",
    "joblib.dump(clf_rf, filename)"
   ]
  },
  {
   "cell_type": "markdown",
   "id": "21d743b4",
   "metadata": {},
   "source": [
    "# XGBoost"
   ]
  },
  {
   "cell_type": "code",
   "execution_count": 73,
   "id": "a940cfe6",
   "metadata": {},
   "outputs": [
    {
     "data": {
      "text/plain": [
       "0.8466545170528508"
      ]
     },
     "execution_count": 73,
     "metadata": {},
     "output_type": "execute_result"
    }
   ],
   "source": [
    "from sklearn.ensemble import GradientBoostingClassifier as xgb\n",
    "\n",
    "xgbclf = xgb(n_estimators=100, learning_rate=1.0, max_depth=1, random_state=0).fit(x_train, y_train)\n",
    "xgbclf.score(x_test, y_test)\n"
   ]
  },
  {
   "cell_type": "code",
   "execution_count": 74,
   "id": "cf92b367",
   "metadata": {},
   "outputs": [
    {
     "data": {
      "text/plain": [
       "<sklearn.metrics._plot.confusion_matrix.ConfusionMatrixDisplay at 0x1bf82ce2d68>"
      ]
     },
     "execution_count": 74,
     "metadata": {},
     "output_type": "execute_result"
    },
    {
     "data": {
      "image/png": "[encoded data removed]",
      "text/plain": [
       "<Figure size 432x288 with 2 Axes>"
      ]
     },
     "metadata": {
      "needs_background": "light"
     },
     "output_type": "display_data"
    }
   ],
   "source": [
    "plot_confusion_matrix(xgbclf, x_test, y_test)"
   ]
  },
  {
   "cell_type": "code",
   "execution_count": 75,
   "id": "3f4d52c3",
   "metadata": {},
   "outputs": [],
   "source": [
    "y_pred = xgbclf.predict(x_test)"
   ]
  },
  {
   "cell_type": "code",
   "execution_count": 76,
   "id": "6cc17c23",
   "metadata": {},
   "outputs": [],
   "source": [
    "y_test = y_test.reset_index(drop=True)"
   ]
  },
  {
   "cell_type": "code",
   "execution_count": 77,
   "id": "62529375",
   "metadata": {},
   "outputs": [
    {
     "name": "stdout",
     "output_type": "stream",
     "text": [
      "Test Accuracy:  0.8466545170528508 \n",
      " Test Precision:  0.770896785109983 \n",
      " Test Recall:  0.5756886530199646 \n",
      " Test F1 Score: 0.6591435185185186\n"
     ]
    }
   ],
   "source": [
    "# compute precision and recall\n",
    "accuracy_test = accuracy_score(y_test, y_pred)\n",
    "precision_test = precision_score(y_test, y_pred)\n",
    "recall_test = recall_score(y_test, y_pred)\n",
    "f1_test = 2 * (precision_test * recall_test) / (precision_test + recall_test)\n",
    "print('Test Accuracy: ', accuracy_test, '\\n', 'Test Precision: ', precision_test, '\\n', 'Test Recall: ', recall_test, '\\n', 'Test F1 Score:', f1_test)"
   ]
  },
  {
   "cell_type": "code",
   "execution_count": 78,
   "id": "5b28e67e",
   "metadata": {},
   "outputs": [
    {
     "data": {
      "text/plain": [
       "[<matplotlib.lines.Line2D at 0x1bf82d8bd68>]"
      ]
     },
     "execution_count": 78,
     "metadata": {},
     "output_type": "execute_result"
    },
    {
     "data": {
      "image/png": "[encoded data removed]",
      "text/plain": [
       "<Figure size 1200x480 with 1 Axes>"
      ]
     },
     "metadata": {
      "needs_background": "light"
     },
     "output_type": "display_data"
    }
   ],
   "source": [
    "figure(figsize=(15, 6), dpi=80)\n",
    "plt.plot(y_test+0.01,'r+')\n",
    "plt.plot(y_pred,'b+')"
   ]
  },
  {
   "cell_type": "code",
   "execution_count": 79,
   "id": "f8ac0469",
   "metadata": {},
   "outputs": [
    {
     "data": {
      "text/plain": [
       "['../data/pwb_classification_xgb_no_avalanche']"
      ]
     },
     "execution_count": 79,
     "metadata": {},
     "output_type": "execute_result"
    }
   ],
   "source": [
    "filename = '../data/pwb_classification_xgb_no_avalanche'\n",
    "joblib.dump(xgbclf, filename)"
   ]
  },
  {
   "cell_type": "code",
   "execution_count": null,
   "id": "7b028dea",
   "metadata": {},
   "outputs": [],
   "source": []
  }
 ],
 "metadata": {
  "kernelspec": {
   "display_name": "paper3",
   "language": "python",
   "name": "paper3"
  },
  "language_info": {
   "codemirror_mode": {
    "name": "ipython",
    "version": 3
   },
   "file_extension": ".py",
   "mimetype": "text/x-python",
   "name": "python",
   "nbconvert_exporter": "python",
   "pygments_lexer": "ipython3",
   "version": "3.6.9"
  }
 },
 "nbformat": 4,
 "nbformat_minor": 5
}
