{
 "cells": [
  {
   "cell_type": "markdown",
   "id": "35cdb27f",
   "metadata": {},
   "source": [
    "# Versionamento"
   ]
  },
  {
   "cell_type": "markdown",
   "id": "b2e887af",
   "metadata": {},
   "source": [
    "# Setup"
   ]
  },
  {
   "cell_type": "code",
   "execution_count": 1,
   "id": "bc68ad8b",
   "metadata": {},
   "outputs": [],
   "source": [
    "import pandas as pd\n",
    "import numpy as np\n",
    "import seaborn as sns\n",
    "import matplotlib.pyplot as plt\n",
    "from matplotlib.pyplot import figure\n",
    "from sklearn.metrics import confusion_matrix, recall_score, precision_score\n",
    "import datetime"
   ]
  },
  {
   "cell_type": "markdown",
   "id": "fb011b14",
   "metadata": {},
   "source": [
    "# Load Data"
   ]
  },
  {
   "cell_type": "code",
   "execution_count": 2,
   "id": "6d0806f3",
   "metadata": {},
   "outputs": [],
   "source": [
    "# pwbdatafile = '..\\\\data\\\\pwb-validation.csv'    # 3 breaks\n",
    "# pwbdatafile = '..\\\\data\\\\pwb-validation-b1-b3.csv'    # 2 breaks\n",
    "pwbdatafile = '..\\\\data\\\\pwb-validation-b1.csv'    # 1 break\n",
    "\n",
    "\n",
    "pwbds = pd.read_csv(pwbdatafile)"
   ]
  },
  {
   "cell_type": "code",
   "execution_count": 3,
   "id": "54b202b0",
   "metadata": {},
   "outputs": [
    {
     "data": {
      "text/html": [
       "<div>\n",
       "<style scoped>\n",
       "    .dataframe tbody tr th:only-of-type {\n",
       "        vertical-align: middle;\n",
       "    }\n",
       "\n",
       "    .dataframe tbody tr th {\n",
       "        vertical-align: top;\n",
       "    }\n",
       "\n",
       "    .dataframe thead th {\n",
       "        text-align: right;\n",
       "    }\n",
       "</style>\n",
       "<table border=\"1\" class=\"dataframe\">\n",
       "  <thead>\n",
       "    <tr style=\"text-align: right;\">\n",
       "      <th></th>\n",
       "      <th>time</th>\n",
       "      <th>y</th>\n",
       "      <th>x1</th>\n",
       "      <th>x2</th>\n",
       "      <th>x3</th>\n",
       "      <th>x4</th>\n",
       "      <th>x5</th>\n",
       "      <th>x6</th>\n",
       "      <th>x7</th>\n",
       "      <th>x8</th>\n",
       "      <th>...</th>\n",
       "      <th>x52</th>\n",
       "      <th>x53</th>\n",
       "      <th>x54</th>\n",
       "      <th>x55</th>\n",
       "      <th>x56</th>\n",
       "      <th>x57</th>\n",
       "      <th>x58</th>\n",
       "      <th>x59</th>\n",
       "      <th>x60</th>\n",
       "      <th>x61</th>\n",
       "    </tr>\n",
       "  </thead>\n",
       "  <tbody>\n",
       "    <tr>\n",
       "      <th>0</th>\n",
       "      <td>5/28/99 0:00</td>\n",
       "      <td>0</td>\n",
       "      <td>-3.787279</td>\n",
       "      <td>-17.31655</td>\n",
       "      <td>-18.198509</td>\n",
       "      <td>57.900154</td>\n",
       "      <td>0.039098</td>\n",
       "      <td>38.957985</td>\n",
       "      <td>-0.429273</td>\n",
       "      <td>-0.451141</td>\n",
       "      <td>...</td>\n",
       "      <td>-1.689041</td>\n",
       "      <td>-1.8205</td>\n",
       "      <td>1.340184</td>\n",
       "      <td>76.346500</td>\n",
       "      <td>64.423974</td>\n",
       "      <td>-1.470630</td>\n",
       "      <td>0.011490</td>\n",
       "      <td>-100.8105</td>\n",
       "      <td>-0.006499</td>\n",
       "      <td>0</td>\n",
       "    </tr>\n",
       "    <tr>\n",
       "      <th>1</th>\n",
       "      <td>5/28/99 0:02</td>\n",
       "      <td>0</td>\n",
       "      <td>-3.787279</td>\n",
       "      <td>-17.31655</td>\n",
       "      <td>-18.198509</td>\n",
       "      <td>59.013069</td>\n",
       "      <td>0.035696</td>\n",
       "      <td>38.966500</td>\n",
       "      <td>-0.429273</td>\n",
       "      <td>-0.451141</td>\n",
       "      <td>...</td>\n",
       "      <td>-1.689041</td>\n",
       "      <td>-1.8205</td>\n",
       "      <td>1.340273</td>\n",
       "      <td>78.859928</td>\n",
       "      <td>69.882226</td>\n",
       "      <td>-2.721852</td>\n",
       "      <td>0.011633</td>\n",
       "      <td>-100.8105</td>\n",
       "      <td>-0.006490</td>\n",
       "      <td>0</td>\n",
       "    </tr>\n",
       "    <tr>\n",
       "      <th>2</th>\n",
       "      <td>5/28/99 0:04</td>\n",
       "      <td>0</td>\n",
       "      <td>-3.787279</td>\n",
       "      <td>-17.31655</td>\n",
       "      <td>-18.198509</td>\n",
       "      <td>58.873999</td>\n",
       "      <td>0.032308</td>\n",
       "      <td>38.573860</td>\n",
       "      <td>-0.429273</td>\n",
       "      <td>-0.451141</td>\n",
       "      <td>...</td>\n",
       "      <td>-1.689041</td>\n",
       "      <td>-1.8205</td>\n",
       "      <td>1.340364</td>\n",
       "      <td>73.129703</td>\n",
       "      <td>72.937097</td>\n",
       "      <td>-1.470630</td>\n",
       "      <td>0.011775</td>\n",
       "      <td>-100.8105</td>\n",
       "      <td>-0.006481</td>\n",
       "      <td>0</td>\n",
       "    </tr>\n",
       "    <tr>\n",
       "      <th>3</th>\n",
       "      <td>5/28/99 0:06</td>\n",
       "      <td>0</td>\n",
       "      <td>-3.787279</td>\n",
       "      <td>-17.31655</td>\n",
       "      <td>-18.198509</td>\n",
       "      <td>58.734901</td>\n",
       "      <td>0.028905</td>\n",
       "      <td>38.602883</td>\n",
       "      <td>-0.429273</td>\n",
       "      <td>-0.451141</td>\n",
       "      <td>...</td>\n",
       "      <td>-1.689041</td>\n",
       "      <td>-1.8205</td>\n",
       "      <td>1.340453</td>\n",
       "      <td>76.468326</td>\n",
       "      <td>64.661676</td>\n",
       "      <td>-1.775806</td>\n",
       "      <td>0.011917</td>\n",
       "      <td>-100.8105</td>\n",
       "      <td>-0.006472</td>\n",
       "      <td>0</td>\n",
       "    </tr>\n",
       "    <tr>\n",
       "      <th>4</th>\n",
       "      <td>5/28/99 0:08</td>\n",
       "      <td>0</td>\n",
       "      <td>-3.787279</td>\n",
       "      <td>-17.31655</td>\n",
       "      <td>-18.198509</td>\n",
       "      <td>58.595831</td>\n",
       "      <td>0.025503</td>\n",
       "      <td>38.996651</td>\n",
       "      <td>-0.429273</td>\n",
       "      <td>-0.451141</td>\n",
       "      <td>...</td>\n",
       "      <td>-1.689041</td>\n",
       "      <td>-1.8205</td>\n",
       "      <td>1.340544</td>\n",
       "      <td>67.490543</td>\n",
       "      <td>63.351892</td>\n",
       "      <td>-2.416676</td>\n",
       "      <td>0.012059</td>\n",
       "      <td>-100.8105</td>\n",
       "      <td>-0.006463</td>\n",
       "      <td>0</td>\n",
       "    </tr>\n",
       "  </tbody>\n",
       "</table>\n",
       "<p>5 rows × 63 columns</p>\n",
       "</div>"
      ],
      "text/plain": [
       "           time  y        x1        x2         x3         x4        x5  \\\n",
       "0  5/28/99 0:00  0 -3.787279 -17.31655 -18.198509  57.900154  0.039098   \n",
       "1  5/28/99 0:02  0 -3.787279 -17.31655 -18.198509  59.013069  0.035696   \n",
       "2  5/28/99 0:04  0 -3.787279 -17.31655 -18.198509  58.873999  0.032308   \n",
       "3  5/28/99 0:06  0 -3.787279 -17.31655 -18.198509  58.734901  0.028905   \n",
       "4  5/28/99 0:08  0 -3.787279 -17.31655 -18.198509  58.595831  0.025503   \n",
       "\n",
       "          x6        x7        x8  ...       x52     x53       x54        x55  \\\n",
       "0  38.957985 -0.429273 -0.451141  ... -1.689041 -1.8205  1.340184  76.346500   \n",
       "1  38.966500 -0.429273 -0.451141  ... -1.689041 -1.8205  1.340273  78.859928   \n",
       "2  38.573860 -0.429273 -0.451141  ... -1.689041 -1.8205  1.340364  73.129703   \n",
       "3  38.602883 -0.429273 -0.451141  ... -1.689041 -1.8205  1.340453  76.468326   \n",
       "4  38.996651 -0.429273 -0.451141  ... -1.689041 -1.8205  1.340544  67.490543   \n",
       "\n",
       "         x56       x57       x58       x59       x60  x61  \n",
       "0  64.423974 -1.470630  0.011490 -100.8105 -0.006499    0  \n",
       "1  69.882226 -2.721852  0.011633 -100.8105 -0.006490    0  \n",
       "2  72.937097 -1.470630  0.011775 -100.8105 -0.006481    0  \n",
       "3  64.661676 -1.775806  0.011917 -100.8105 -0.006472    0  \n",
       "4  63.351892 -2.416676  0.012059 -100.8105 -0.006463    0  \n",
       "\n",
       "[5 rows x 63 columns]"
      ]
     },
     "execution_count": 3,
     "metadata": {},
     "output_type": "execute_result"
    }
   ],
   "source": [
    "pwbds.head()"
   ]
  },
  {
   "cell_type": "code",
   "execution_count": 4,
   "id": "1556e815",
   "metadata": {},
   "outputs": [
    {
     "data": {
      "text/plain": [
       "(178, 63)"
      ]
     },
     "execution_count": 4,
     "metadata": {},
     "output_type": "execute_result"
    }
   ],
   "source": [
    "pwbds.shape"
   ]
  },
  {
   "cell_type": "code",
   "execution_count": 5,
   "id": "db180f5d",
   "metadata": {},
   "outputs": [
    {
     "data": {
      "text/html": [
       "<div>\n",
       "<style scoped>\n",
       "    .dataframe tbody tr th:only-of-type {\n",
       "        vertical-align: middle;\n",
       "    }\n",
       "\n",
       "    .dataframe tbody tr th {\n",
       "        vertical-align: top;\n",
       "    }\n",
       "\n",
       "    .dataframe thead th {\n",
       "        text-align: right;\n",
       "    }\n",
       "</style>\n",
       "<table border=\"1\" class=\"dataframe\">\n",
       "  <thead>\n",
       "    <tr style=\"text-align: right;\">\n",
       "      <th></th>\n",
       "      <th>y</th>\n",
       "      <th>x1</th>\n",
       "      <th>x2</th>\n",
       "      <th>x3</th>\n",
       "      <th>x4</th>\n",
       "      <th>x5</th>\n",
       "      <th>x6</th>\n",
       "      <th>x7</th>\n",
       "      <th>x8</th>\n",
       "      <th>x9</th>\n",
       "      <th>...</th>\n",
       "      <th>x52</th>\n",
       "      <th>x53</th>\n",
       "      <th>x54</th>\n",
       "      <th>x55</th>\n",
       "      <th>x56</th>\n",
       "      <th>x57</th>\n",
       "      <th>x58</th>\n",
       "      <th>x59</th>\n",
       "      <th>x60</th>\n",
       "      <th>x61</th>\n",
       "    </tr>\n",
       "  </thead>\n",
       "  <tbody>\n",
       "    <tr>\n",
       "      <th>count</th>\n",
       "      <td>178.000000</td>\n",
       "      <td>178.000000</td>\n",
       "      <td>178.000000</td>\n",
       "      <td>178.000000</td>\n",
       "      <td>178.000000</td>\n",
       "      <td>178.000000</td>\n",
       "      <td>178.000000</td>\n",
       "      <td>178.000000</td>\n",
       "      <td>178.000000</td>\n",
       "      <td>178.000000</td>\n",
       "      <td>...</td>\n",
       "      <td>1.780000e+02</td>\n",
       "      <td>178.000000</td>\n",
       "      <td>178.000000</td>\n",
       "      <td>178.000000</td>\n",
       "      <td>178.000000</td>\n",
       "      <td>178.000000</td>\n",
       "      <td>178.000000</td>\n",
       "      <td>178.000000</td>\n",
       "      <td>178.000000</td>\n",
       "      <td>178.0</td>\n",
       "    </tr>\n",
       "    <tr>\n",
       "      <th>mean</th>\n",
       "      <td>0.005618</td>\n",
       "      <td>-0.632289</td>\n",
       "      <td>-1.617618</td>\n",
       "      <td>-1.546303</td>\n",
       "      <td>42.788829</td>\n",
       "      <td>-0.127671</td>\n",
       "      <td>27.030006</td>\n",
       "      <td>-0.109545</td>\n",
       "      <td>-0.078541</td>\n",
       "      <td>0.004518</td>\n",
       "      <td>...</td>\n",
       "      <td>-1.689041e+00</td>\n",
       "      <td>-1.822633</td>\n",
       "      <td>1.357534</td>\n",
       "      <td>91.565452</td>\n",
       "      <td>52.410411</td>\n",
       "      <td>-1.317730</td>\n",
       "      <td>0.014674</td>\n",
       "      <td>-19.278009</td>\n",
       "      <td>-0.005727</td>\n",
       "      <td>0.0</td>\n",
       "    </tr>\n",
       "    <tr>\n",
       "      <th>std</th>\n",
       "      <td>0.074953</td>\n",
       "      <td>1.569396</td>\n",
       "      <td>7.798748</td>\n",
       "      <td>8.289476</td>\n",
       "      <td>31.539934</td>\n",
       "      <td>0.315006</td>\n",
       "      <td>24.507535</td>\n",
       "      <td>0.159607</td>\n",
       "      <td>0.187093</td>\n",
       "      <td>0.119545</td>\n",
       "      <td>...</td>\n",
       "      <td>2.226710e-16</td>\n",
       "      <td>0.008809</td>\n",
       "      <td>0.017130</td>\n",
       "      <td>33.418061</td>\n",
       "      <td>27.919045</td>\n",
       "      <td>0.407550</td>\n",
       "      <td>0.002132</td>\n",
       "      <td>40.451657</td>\n",
       "      <td>0.000431</td>\n",
       "      <td>0.0</td>\n",
       "    </tr>\n",
       "    <tr>\n",
       "      <th>min</th>\n",
       "      <td>0.000000</td>\n",
       "      <td>-3.787279</td>\n",
       "      <td>-17.316550</td>\n",
       "      <td>-18.198509</td>\n",
       "      <td>-35.653772</td>\n",
       "      <td>-0.639964</td>\n",
       "      <td>-33.740318</td>\n",
       "      <td>-0.429273</td>\n",
       "      <td>-0.451141</td>\n",
       "      <td>-0.120087</td>\n",
       "      <td>...</td>\n",
       "      <td>-1.689041e+00</td>\n",
       "      <td>-1.875920</td>\n",
       "      <td>1.340184</td>\n",
       "      <td>59.711978</td>\n",
       "      <td>-17.871253</td>\n",
       "      <td>-2.721852</td>\n",
       "      <td>0.010282</td>\n",
       "      <td>-100.810500</td>\n",
       "      <td>-0.006499</td>\n",
       "      <td>0.0</td>\n",
       "    </tr>\n",
       "    <tr>\n",
       "      <th>25%</th>\n",
       "      <td>0.000000</td>\n",
       "      <td>0.006934</td>\n",
       "      <td>1.663375</td>\n",
       "      <td>1.362543</td>\n",
       "      <td>47.608733</td>\n",
       "      <td>-0.427653</td>\n",
       "      <td>31.229141</td>\n",
       "      <td>-0.059389</td>\n",
       "      <td>-0.031206</td>\n",
       "      <td>-0.047567</td>\n",
       "      <td>...</td>\n",
       "      <td>-1.689041e+00</td>\n",
       "      <td>-1.820500</td>\n",
       "      <td>1.344173</td>\n",
       "      <td>73.210391</td>\n",
       "      <td>56.182520</td>\n",
       "      <td>-1.470630</td>\n",
       "      <td>0.013195</td>\n",
       "      <td>0.179297</td>\n",
       "      <td>-0.006101</td>\n",
       "      <td>0.0</td>\n",
       "    </tr>\n",
       "    <tr>\n",
       "      <th>50%</th>\n",
       "      <td>0.000000</td>\n",
       "      <td>0.076654</td>\n",
       "      <td>1.981772</td>\n",
       "      <td>2.411455</td>\n",
       "      <td>51.320746</td>\n",
       "      <td>-0.108736</td>\n",
       "      <td>32.641335</td>\n",
       "      <td>-0.039246</td>\n",
       "      <td>0.005088</td>\n",
       "      <td>-0.019986</td>\n",
       "      <td>...</td>\n",
       "      <td>-1.689041e+00</td>\n",
       "      <td>-1.820500</td>\n",
       "      <td>1.348164</td>\n",
       "      <td>78.317814</td>\n",
       "      <td>60.323252</td>\n",
       "      <td>-1.409596</td>\n",
       "      <td>0.014288</td>\n",
       "      <td>0.473188</td>\n",
       "      <td>-0.005704</td>\n",
       "      <td>0.0</td>\n",
       "    </tr>\n",
       "    <tr>\n",
       "      <th>75%</th>\n",
       "      <td>0.000000</td>\n",
       "      <td>0.162653</td>\n",
       "      <td>2.527768</td>\n",
       "      <td>3.031242</td>\n",
       "      <td>58.700133</td>\n",
       "      <td>0.140775</td>\n",
       "      <td>39.626129</td>\n",
       "      <td>-0.019409</td>\n",
       "      <td>0.018844</td>\n",
       "      <td>0.009922</td>\n",
       "      <td>...</td>\n",
       "      <td>-1.689041e+00</td>\n",
       "      <td>-1.820500</td>\n",
       "      <td>1.370637</td>\n",
       "      <td>84.471805</td>\n",
       "      <td>65.728906</td>\n",
       "      <td>-1.104359</td>\n",
       "      <td>0.016211</td>\n",
       "      <td>0.929386</td>\n",
       "      <td>-0.005322</td>\n",
       "      <td>0.0</td>\n",
       "    </tr>\n",
       "    <tr>\n",
       "      <th>max</th>\n",
       "      <td>1.000000</td>\n",
       "      <td>0.488459</td>\n",
       "      <td>3.182733</td>\n",
       "      <td>3.791828</td>\n",
       "      <td>82.497473</td>\n",
       "      <td>0.408819</td>\n",
       "      <td>59.127266</td>\n",
       "      <td>0.020874</td>\n",
       "      <td>0.088731</td>\n",
       "      <td>0.359969</td>\n",
       "      <td>...</td>\n",
       "      <td>-1.689041e+00</td>\n",
       "      <td>-1.820500</td>\n",
       "      <td>1.396549</td>\n",
       "      <td>185.373111</td>\n",
       "      <td>88.226160</td>\n",
       "      <td>0.085826</td>\n",
       "      <td>0.019538</td>\n",
       "      <td>1.330950</td>\n",
       "      <td>-0.005078</td>\n",
       "      <td>0.0</td>\n",
       "    </tr>\n",
       "  </tbody>\n",
       "</table>\n",
       "<p>8 rows × 62 columns</p>\n",
       "</div>"
      ],
      "text/plain": [
       "                y          x1          x2          x3          x4          x5  \\\n",
       "count  178.000000  178.000000  178.000000  178.000000  178.000000  178.000000   \n",
       "mean     0.005618   -0.632289   -1.617618   -1.546303   42.788829   -0.127671   \n",
       "std      0.074953    1.569396    7.798748    8.289476   31.539934    0.315006   \n",
       "min      0.000000   -3.787279  -17.316550  -18.198509  -35.653772   -0.639964   \n",
       "25%      0.000000    0.006934    1.663375    1.362543   47.608733   -0.427653   \n",
       "50%      0.000000    0.076654    1.981772    2.411455   51.320746   -0.108736   \n",
       "75%      0.000000    0.162653    2.527768    3.031242   58.700133    0.140775   \n",
       "max      1.000000    0.488459    3.182733    3.791828   82.497473    0.408819   \n",
       "\n",
       "               x6          x7          x8          x9  ...           x52  \\\n",
       "count  178.000000  178.000000  178.000000  178.000000  ...  1.780000e+02   \n",
       "mean    27.030006   -0.109545   -0.078541    0.004518  ... -1.689041e+00   \n",
       "std     24.507535    0.159607    0.187093    0.119545  ...  2.226710e-16   \n",
       "min    -33.740318   -0.429273   -0.451141   -0.120087  ... -1.689041e+00   \n",
       "25%     31.229141   -0.059389   -0.031206   -0.047567  ... -1.689041e+00   \n",
       "50%     32.641335   -0.039246    0.005088   -0.019986  ... -1.689041e+00   \n",
       "75%     39.626129   -0.019409    0.018844    0.009922  ... -1.689041e+00   \n",
       "max     59.127266    0.020874    0.088731    0.359969  ... -1.689041e+00   \n",
       "\n",
       "              x53         x54         x55         x56         x57         x58  \\\n",
       "count  178.000000  178.000000  178.000000  178.000000  178.000000  178.000000   \n",
       "mean    -1.822633    1.357534   91.565452   52.410411   -1.317730    0.014674   \n",
       "std      0.008809    0.017130   33.418061   27.919045    0.407550    0.002132   \n",
       "min     -1.875920    1.340184   59.711978  -17.871253   -2.721852    0.010282   \n",
       "25%     -1.820500    1.344173   73.210391   56.182520   -1.470630    0.013195   \n",
       "50%     -1.820500    1.348164   78.317814   60.323252   -1.409596    0.014288   \n",
       "75%     -1.820500    1.370637   84.471805   65.728906   -1.104359    0.016211   \n",
       "max     -1.820500    1.396549  185.373111   88.226160    0.085826    0.019538   \n",
       "\n",
       "              x59         x60    x61  \n",
       "count  178.000000  178.000000  178.0  \n",
       "mean   -19.278009   -0.005727    0.0  \n",
       "std     40.451657    0.000431    0.0  \n",
       "min   -100.810500   -0.006499    0.0  \n",
       "25%      0.179297   -0.006101    0.0  \n",
       "50%      0.473188   -0.005704    0.0  \n",
       "75%      0.929386   -0.005322    0.0  \n",
       "max      1.330950   -0.005078    0.0  \n",
       "\n",
       "[8 rows x 62 columns]"
      ]
     },
     "execution_count": 5,
     "metadata": {},
     "output_type": "execute_result"
    }
   ],
   "source": [
    "pwbds.describe()"
   ]
  },
  {
   "cell_type": "code",
   "execution_count": 6,
   "id": "91d21878",
   "metadata": {},
   "outputs": [
    {
     "name": "stdout",
     "output_type": "stream",
     "text": [
      "<class 'pandas.core.frame.DataFrame'>\n",
      "RangeIndex: 178 entries, 0 to 177\n",
      "Data columns (total 63 columns):\n",
      "time    178 non-null object\n",
      "y       178 non-null int64\n",
      "x1      178 non-null float64\n",
      "x2      178 non-null float64\n",
      "x3      178 non-null float64\n",
      "x4      178 non-null float64\n",
      "x5      178 non-null float64\n",
      "x6      178 non-null float64\n",
      "x7      178 non-null float64\n",
      "x8      178 non-null float64\n",
      "x9      178 non-null float64\n",
      "x10     178 non-null float64\n",
      "x11     178 non-null float64\n",
      "x12     178 non-null float64\n",
      "x13     178 non-null float64\n",
      "x14     178 non-null float64\n",
      "x15     178 non-null float64\n",
      "x16     178 non-null float64\n",
      "x17     178 non-null float64\n",
      "x18     178 non-null float64\n",
      "x19     178 non-null float64\n",
      "x20     178 non-null float64\n",
      "x21     178 non-null float64\n",
      "x22     178 non-null float64\n",
      "x23     178 non-null float64\n",
      "x24     178 non-null float64\n",
      "x25     178 non-null float64\n",
      "x26     178 non-null float64\n",
      "x27     178 non-null float64\n",
      "x28     178 non-null int64\n",
      "x29     178 non-null float64\n",
      "x30     178 non-null float64\n",
      "x31     178 non-null float64\n",
      "x32     178 non-null float64\n",
      "x33     178 non-null float64\n",
      "x34     178 non-null float64\n",
      "x35     178 non-null float64\n",
      "x36     178 non-null float64\n",
      "x37     178 non-null float64\n",
      "x38     178 non-null float64\n",
      "x39     178 non-null float64\n",
      "x40     178 non-null float64\n",
      "x41     178 non-null float64\n",
      "x42     178 non-null float64\n",
      "x43     178 non-null float64\n",
      "x44     178 non-null float64\n",
      "x45     178 non-null float64\n",
      "x46     178 non-null float64\n",
      "x47     178 non-null float64\n",
      "x48     178 non-null float64\n",
      "x49     178 non-null float64\n",
      "x50     178 non-null float64\n",
      "x51     178 non-null float64\n",
      "x52     178 non-null float64\n",
      "x53     178 non-null float64\n",
      "x54     178 non-null float64\n",
      "x55     178 non-null float64\n",
      "x56     178 non-null float64\n",
      "x57     178 non-null float64\n",
      "x58     178 non-null float64\n",
      "x59     178 non-null float64\n",
      "x60     178 non-null float64\n",
      "x61     178 non-null int64\n",
      "dtypes: float64(59), int64(3), object(1)\n",
      "memory usage: 87.7+ KB\n"
     ]
    }
   ],
   "source": [
    "pwbds.info()"
   ]
  },
  {
   "cell_type": "code",
   "execution_count": 7,
   "id": "8c593d29",
   "metadata": {},
   "outputs": [
    {
     "data": {
      "text/plain": [
       "0    177\n",
       "1      1\n",
       "Name: y, dtype: int64"
      ]
     },
     "execution_count": 7,
     "metadata": {},
     "output_type": "execute_result"
    }
   ],
   "source": [
    "pwbds['y'].value_counts()"
   ]
  },
  {
   "cell_type": "code",
   "execution_count": 8,
   "id": "1ab500ec",
   "metadata": {},
   "outputs": [
    {
     "data": {
      "text/html": [
       "<div>\n",
       "<style scoped>\n",
       "    .dataframe tbody tr th:only-of-type {\n",
       "        vertical-align: middle;\n",
       "    }\n",
       "\n",
       "    .dataframe tbody tr th {\n",
       "        vertical-align: top;\n",
       "    }\n",
       "\n",
       "    .dataframe thead th {\n",
       "        text-align: right;\n",
       "    }\n",
       "</style>\n",
       "<table border=\"1\" class=\"dataframe\">\n",
       "  <thead>\n",
       "    <tr style=\"text-align: right;\">\n",
       "      <th></th>\n",
       "      <th>time</th>\n",
       "      <th>y</th>\n",
       "      <th>x1</th>\n",
       "      <th>x2</th>\n",
       "      <th>x3</th>\n",
       "      <th>x4</th>\n",
       "      <th>x5</th>\n",
       "      <th>x6</th>\n",
       "      <th>x7</th>\n",
       "      <th>x8</th>\n",
       "      <th>...</th>\n",
       "      <th>x52</th>\n",
       "      <th>x53</th>\n",
       "      <th>x54</th>\n",
       "      <th>x55</th>\n",
       "      <th>x56</th>\n",
       "      <th>x57</th>\n",
       "      <th>x58</th>\n",
       "      <th>x59</th>\n",
       "      <th>x60</th>\n",
       "      <th>x61</th>\n",
       "    </tr>\n",
       "  </thead>\n",
       "  <tbody>\n",
       "    <tr>\n",
       "      <th>177</th>\n",
       "      <td>5/28/99 5:54</td>\n",
       "      <td>1</td>\n",
       "      <td>0.231069</td>\n",
       "      <td>1.183568</td>\n",
       "      <td>1.780737</td>\n",
       "      <td>74.636116</td>\n",
       "      <td>-0.406168</td>\n",
       "      <td>53.183663</td>\n",
       "      <td>-0.109135</td>\n",
       "      <td>-0.041277</td>\n",
       "      <td>...</td>\n",
       "      <td>-1.689041</td>\n",
       "      <td>-1.87592</td>\n",
       "      <td>1.396549</td>\n",
       "      <td>69.665592</td>\n",
       "      <td>82.68609</td>\n",
       "      <td>-0.616077</td>\n",
       "      <td>0.01805</td>\n",
       "      <td>1.120821</td>\n",
       "      <td>-0.005341</td>\n",
       "      <td>0</td>\n",
       "    </tr>\n",
       "  </tbody>\n",
       "</table>\n",
       "<p>1 rows × 63 columns</p>\n",
       "</div>"
      ],
      "text/plain": [
       "             time  y        x1        x2        x3         x4        x5  \\\n",
       "177  5/28/99 5:54  1  0.231069  1.183568  1.780737  74.636116 -0.406168   \n",
       "\n",
       "            x6        x7        x8  ...       x52      x53       x54  \\\n",
       "177  53.183663 -0.109135 -0.041277  ... -1.689041 -1.87592  1.396549   \n",
       "\n",
       "           x55       x56       x57      x58       x59       x60  x61  \n",
       "177  69.665592  82.68609 -0.616077  0.01805  1.120821 -0.005341    0  \n",
       "\n",
       "[1 rows x 63 columns]"
      ]
     },
     "execution_count": 8,
     "metadata": {},
     "output_type": "execute_result"
    }
   ],
   "source": [
    "pwbds.loc[pwbds['y']==1]"
   ]
  },
  {
   "cell_type": "markdown",
   "id": "6170a992",
   "metadata": {},
   "source": [
    "## Cálculo do Remaining Usefull Lifecycle (RUL)"
   ]
  },
  {
   "cell_type": "code",
   "execution_count": 9,
   "id": "150a90ad",
   "metadata": {},
   "outputs": [],
   "source": [
    "pwbds['time']= pd.to_datetime(pwbds['time'])\n",
    "\n",
    "# Dates whith break\n",
    "df_sub = sorted(pwbds[pwbds['y'] == 1]['time'].tolist())\n",
    "\n",
    "# variable to store all days\n",
    "breakSubIdx=0\n",
    "breakLstIdx=0\n",
    "breakList = pwbds['y'].tolist()\n",
    "nextbreak = []\n",
    "for v1 in pwbds['time'].tolist():\n",
    "    if((breakList[breakLstIdx] == 1)):\n",
    "#        print ('1')\n",
    "        nextbreak.append(v1)\n",
    "        breakSubIdx = breakSubIdx+1\n",
    "    else:\n",
    "#        print('0')\n",
    "        if (breakSubIdx < len(df_sub)):\n",
    "            nextbreak.append(df_sub[breakSubIdx])\n",
    "        else:\n",
    "            nextbreak.append(df_sub[breakSubIdx-1])\n",
    "    breakLstIdx = breakLstIdx+1\n",
    "pwbds['nextbreaktime'] = pd.Series(nextbreak)\n",
    "pwbds['RUL']=round((pwbds['nextbreaktime']-pwbds['time']).dt.total_seconds()/60,2)\n",
    "pwbds.drop(pwbds[pwbds.RUL < 0].index, inplace=True)\n",
    "pwbds.drop(['time','nextbreaktime'], axis=1, inplace=True)"
   ]
  },
  {
   "cell_type": "code",
   "execution_count": 10,
   "id": "08151f1c",
   "metadata": {},
   "outputs": [
    {
     "data": {
      "text/plain": [
       "(178, 63)"
      ]
     },
     "execution_count": 10,
     "metadata": {},
     "output_type": "execute_result"
    }
   ],
   "source": [
    "pwbds.shape"
   ]
  },
  {
   "cell_type": "markdown",
   "id": "4a1bb14a",
   "metadata": {},
   "source": [
    "# Feature Selection and Scaling"
   ]
  },
  {
   "cell_type": "code",
   "execution_count": 11,
   "id": "8183c485",
   "metadata": {},
   "outputs": [
    {
     "data": {
      "text/html": [
       "<div>\n",
       "<style scoped>\n",
       "    .dataframe tbody tr th:only-of-type {\n",
       "        vertical-align: middle;\n",
       "    }\n",
       "\n",
       "    .dataframe tbody tr th {\n",
       "        vertical-align: top;\n",
       "    }\n",
       "\n",
       "    .dataframe thead th {\n",
       "        text-align: right;\n",
       "    }\n",
       "</style>\n",
       "<table border=\"1\" class=\"dataframe\">\n",
       "  <thead>\n",
       "    <tr style=\"text-align: right;\">\n",
       "      <th></th>\n",
       "      <th>x1</th>\n",
       "      <th>x2</th>\n",
       "      <th>x3</th>\n",
       "      <th>x4</th>\n",
       "      <th>x5</th>\n",
       "      <th>x6</th>\n",
       "      <th>x7</th>\n",
       "      <th>x8</th>\n",
       "      <th>x9</th>\n",
       "      <th>x10</th>\n",
       "      <th>...</th>\n",
       "      <th>x51</th>\n",
       "      <th>x52</th>\n",
       "      <th>x53</th>\n",
       "      <th>x54</th>\n",
       "      <th>x55</th>\n",
       "      <th>x56</th>\n",
       "      <th>x57</th>\n",
       "      <th>x58</th>\n",
       "      <th>x59</th>\n",
       "      <th>x60</th>\n",
       "    </tr>\n",
       "  </thead>\n",
       "  <tbody>\n",
       "    <tr>\n",
       "      <th>173</th>\n",
       "      <td>0.093770</td>\n",
       "      <td>1.548364</td>\n",
       "      <td>1.427538</td>\n",
       "      <td>76.805824</td>\n",
       "      <td>-0.437342</td>\n",
       "      <td>54.704750</td>\n",
       "      <td>-0.039246</td>\n",
       "      <td>0.038986</td>\n",
       "      <td>0.339827</td>\n",
       "      <td>0.341767</td>\n",
       "      <td>...</td>\n",
       "      <td>28.857427</td>\n",
       "      <td>-1.689041</td>\n",
       "      <td>-1.858342</td>\n",
       "      <td>1.394207</td>\n",
       "      <td>70.724674</td>\n",
       "      <td>81.381128</td>\n",
       "      <td>-1.775806</td>\n",
       "      <td>0.016189</td>\n",
       "      <td>1.270609</td>\n",
       "      <td>-0.005283</td>\n",
       "    </tr>\n",
       "    <tr>\n",
       "      <th>174</th>\n",
       "      <td>0.171072</td>\n",
       "      <td>1.469117</td>\n",
       "      <td>1.564514</td>\n",
       "      <td>76.473609</td>\n",
       "      <td>-0.429545</td>\n",
       "      <td>54.055733</td>\n",
       "      <td>-0.039246</td>\n",
       "      <td>0.038986</td>\n",
       "      <td>0.349898</td>\n",
       "      <td>0.351838</td>\n",
       "      <td>...</td>\n",
       "      <td>28.849370</td>\n",
       "      <td>-1.689041</td>\n",
       "      <td>-1.862736</td>\n",
       "      <td>1.394793</td>\n",
       "      <td>70.513980</td>\n",
       "      <td>80.758081</td>\n",
       "      <td>-1.165393</td>\n",
       "      <td>0.016306</td>\n",
       "      <td>0.469042</td>\n",
       "      <td>-0.005297</td>\n",
       "    </tr>\n",
       "    <tr>\n",
       "      <th>175</th>\n",
       "      <td>0.225904</td>\n",
       "      <td>1.486053</td>\n",
       "      <td>1.675394</td>\n",
       "      <td>76.141425</td>\n",
       "      <td>-0.421748</td>\n",
       "      <td>54.459847</td>\n",
       "      <td>-0.039246</td>\n",
       "      <td>0.038986</td>\n",
       "      <td>0.359969</td>\n",
       "      <td>0.351838</td>\n",
       "      <td>...</td>\n",
       "      <td>28.841069</td>\n",
       "      <td>-1.689041</td>\n",
       "      <td>-1.867131</td>\n",
       "      <td>1.395378</td>\n",
       "      <td>67.627262</td>\n",
       "      <td>80.135065</td>\n",
       "      <td>-1.165393</td>\n",
       "      <td>0.016422</td>\n",
       "      <td>0.225977</td>\n",
       "      <td>-0.005312</td>\n",
       "    </tr>\n",
       "    <tr>\n",
       "      <th>176</th>\n",
       "      <td>0.184458</td>\n",
       "      <td>1.396350</td>\n",
       "      <td>1.757244</td>\n",
       "      <td>75.809210</td>\n",
       "      <td>-0.413950</td>\n",
       "      <td>53.661415</td>\n",
       "      <td>-0.053707</td>\n",
       "      <td>0.018273</td>\n",
       "      <td>0.260647</td>\n",
       "      <td>0.242916</td>\n",
       "      <td>...</td>\n",
       "      <td>28.833012</td>\n",
       "      <td>-1.689041</td>\n",
       "      <td>-1.871525</td>\n",
       "      <td>1.395964</td>\n",
       "      <td>62.385074</td>\n",
       "      <td>83.747827</td>\n",
       "      <td>-0.616077</td>\n",
       "      <td>0.018076</td>\n",
       "      <td>0.958323</td>\n",
       "      <td>-0.005326</td>\n",
       "    </tr>\n",
       "    <tr>\n",
       "      <th>177</th>\n",
       "      <td>0.231069</td>\n",
       "      <td>1.183568</td>\n",
       "      <td>1.780737</td>\n",
       "      <td>74.636116</td>\n",
       "      <td>-0.406168</td>\n",
       "      <td>53.183663</td>\n",
       "      <td>-0.109135</td>\n",
       "      <td>-0.041277</td>\n",
       "      <td>-0.120087</td>\n",
       "      <td>-0.098310</td>\n",
       "      <td>...</td>\n",
       "      <td>28.824956</td>\n",
       "      <td>-1.689041</td>\n",
       "      <td>-1.875920</td>\n",
       "      <td>1.396549</td>\n",
       "      <td>69.665592</td>\n",
       "      <td>82.686090</td>\n",
       "      <td>-0.616077</td>\n",
       "      <td>0.018050</td>\n",
       "      <td>1.120821</td>\n",
       "      <td>-0.005341</td>\n",
       "    </tr>\n",
       "  </tbody>\n",
       "</table>\n",
       "<p>5 rows × 60 columns</p>\n",
       "</div>"
      ],
      "text/plain": [
       "           x1        x2        x3         x4        x5         x6        x7  \\\n",
       "173  0.093770  1.548364  1.427538  76.805824 -0.437342  54.704750 -0.039246   \n",
       "174  0.171072  1.469117  1.564514  76.473609 -0.429545  54.055733 -0.039246   \n",
       "175  0.225904  1.486053  1.675394  76.141425 -0.421748  54.459847 -0.039246   \n",
       "176  0.184458  1.396350  1.757244  75.809210 -0.413950  53.661415 -0.053707   \n",
       "177  0.231069  1.183568  1.780737  74.636116 -0.406168  53.183663 -0.109135   \n",
       "\n",
       "           x8        x9       x10  ...        x51       x52       x53  \\\n",
       "173  0.038986  0.339827  0.341767  ...  28.857427 -1.689041 -1.858342   \n",
       "174  0.038986  0.349898  0.351838  ...  28.849370 -1.689041 -1.862736   \n",
       "175  0.038986  0.359969  0.351838  ...  28.841069 -1.689041 -1.867131   \n",
       "176  0.018273  0.260647  0.242916  ...  28.833012 -1.689041 -1.871525   \n",
       "177 -0.041277 -0.120087 -0.098310  ...  28.824956 -1.689041 -1.875920   \n",
       "\n",
       "          x54        x55        x56       x57       x58       x59       x60  \n",
       "173  1.394207  70.724674  81.381128 -1.775806  0.016189  1.270609 -0.005283  \n",
       "174  1.394793  70.513980  80.758081 -1.165393  0.016306  0.469042 -0.005297  \n",
       "175  1.395378  67.627262  80.135065 -1.165393  0.016422  0.225977 -0.005312  \n",
       "176  1.395964  62.385074  83.747827 -0.616077  0.018076  0.958323 -0.005326  \n",
       "177  1.396549  69.665592  82.686090 -0.616077  0.018050  1.120821 -0.005341  \n",
       "\n",
       "[5 rows x 60 columns]"
      ]
     },
     "execution_count": 11,
     "metadata": {},
     "output_type": "execute_result"
    }
   ],
   "source": [
    "# Feature Selection\n",
    "# List of considered Features\n",
    "\n",
    "FEATURES = [\n",
    "    'x1', 'x2', 'x3', 'x4', 'x5', 'x6', 'x7', 'x8', 'x9', 'x10','x11','x12','x13','x14','x15','x16','x17','x18','x19','x20',\n",
    "    'x21','x22','x23','x24','x25','x26','x27','x28','x29','x30','x31','x32','x33','x34','x35','x36','x37','x38','x39','x40',\n",
    "    'x41','x42','x43','x44','x45','x46','x47','x48','x49','x50','x51','x52','x53','x54','x55','x56','x57','x58','x59','x60'\n",
    "#]\n",
    "# Redução de feature usando resultado do PCA (notebook DimRedPCAOnTS)\n",
    "#    'x1','x5','x8','x10','x13','x14','x15','x17','x18','x19','x20','x21','x22','x26','x28','x30','x31','x34',\n",
    "#    'x35','x37','x38','x40','x41','x43','x46','x48','x49','x51','x53','x54','x55','x58'\n",
    "\n",
    "# Usando as features com base na sua relação com RUL\n",
    "#    'x4','x24','x48','x58','x60','x42','x45','x61','x46','x49','x9','x10','x38','x17','x5','x28','x33','x41',   \n",
    "#    'x13','x16','x56','x8','x12','x1','x57','x50','x44','x47','x52','x27','x37','x3','x54','x26','x2','x29','x55'\n",
    "\n",
    "# Cj 1 - Não usar: derrubou métricas quando adicionado ao Cj 4 + Cj 6\n",
    "#    'x1','x2','x4','x5','x6','x7','x10', 'x11','x13','x15','x17','x28',\n",
    "#    'x1','x5','x10','x13','x14','x15',\n",
    "    \n",
    "# Cj 2\n",
    "# Medidos sem C3:\n",
    "#    'x3','x8','x10','x12','x13','x16','x18','x19','x20','x23','x25', # Precision: 0.781, Recall: 0.390, F1: 0.520\n",
    "#    'x3','x8','x10','x12','x13','x16',                               # Precision: 0.834, Recall: 0.375, F1: 0.518\n",
    "#    'x18','x19','x20','x23','x25',                                   # Precision: 0.980, Recall: 0.156, F1: 0.269\n",
    "#    'x3','x8','x10','x18','x19','x20',                               # Precision: 0.848, Recall: 0.251, F1: 0.387\n",
    "#    'x12','x13','x16','x23','x25',                                   # Precision: 0.900, Recall: 0.218, F1: 0.351\n",
    "# Medidos com C3:\n",
    "###    'x3','x8','x10','x12','x13','x16','x18','x19','x20','x23','x25',  # Precision: 0.735, Recall: 0.470, F1: 0.573\n",
    "\n",
    "    # Cj 3\n",
    "###   'x9','x21','x22','x24','x26','x27','x29','x30',                   # Precision: 0.735, Recall: 0.470, F1: 0.573\n",
    "#    'x9','x21','x22','x24',                                          # Precision: 0.785, Recall: 0.451, F1: 0.573\n",
    "#    'x26','x27','x29','x30',                                         # Precision: 0.766, Recall: 0.406, F1: 0.530\n",
    "#    'x9','x21','x29','x30',                                          # Precision: 0.742, Recall: 0.353, F1: 0.478\n",
    "#    'x22','x24','x26','x27',                                          # Precision: 0.801, Recall: 0.383, F1: 0.518   \n",
    "    \n",
    "# Cj 4\n",
    "###    'x28','x36','x37','x38','x39','x40','x31','x32','x33','x34','x35',\n",
    "    \n",
    "# Cj 5\n",
    "#    'x41','x42','x43','x44','x45','x46','x47','x48','x49','x52',\n",
    "\n",
    "# Cj 6\n",
    "###   'x50','x51','x53','x54','x55','x56','x57','x58','x59','x60'\n",
    "]\n",
    "\n",
    "# Create the dataset with features and filter the data to the list of FEATURES\n",
    "pwbds_filtered = pwbds[FEATURES]\n",
    "\n",
    "# Print the tail of the dataframe\n",
    "pwbds_filtered.tail()"
   ]
  },
  {
   "cell_type": "code",
   "execution_count": 12,
   "id": "65250f0f",
   "metadata": {},
   "outputs": [
    {
     "name": "stdout",
     "output_type": "stream",
     "text": [
      "(178, 60)\n"
     ]
    }
   ],
   "source": [
    "# This Scaler removes the median and scales the data according to the quantile range to normalize the price data \n",
    "from sklearn.preprocessing import RobustScaler, MinMaxScaler \n",
    "\n",
    "# Get the number of rows in the data\n",
    "nrows = pwbds_filtered.shape[0]\n",
    "\n",
    "# Convert the data to numpy values\n",
    "np_data_unscaled = np.array(pwbds_filtered)\n",
    "np_data = np.reshape(np_data_unscaled, (nrows, -1))\n",
    "print(np_data.shape)\n",
    "\n",
    "# Transform the data by scaling each feature to a range between 0 and 1\n",
    "scaler = MinMaxScaler()\n",
    "np_data_scaled = scaler.fit_transform(np_data_unscaled)\n",
    "pwbds_scaled = pd.DataFrame(\n",
    "    np_data_scaled,\n",
    "    columns=FEATURES\n",
    ")"
   ]
  },
  {
   "cell_type": "markdown",
   "id": "fd709b30",
   "metadata": {},
   "source": [
    "# Shaping & Splitting"
   ]
  },
  {
   "cell_type": "code",
   "execution_count": 13,
   "id": "8936176d",
   "metadata": {},
   "outputs": [],
   "source": [
    "def lstm_data_transform(x_data, y_data, num_steps=5):\n",
    "    \"\"\" Changes data to the format for LSTM training for sliding window approach \"\"\"\n",
    "    # Prepare the list for the transformed data\n",
    "    X, y = list(), list()\n",
    "    # Loop of the entire data set\n",
    "    for i in range(x_data.shape[0]):\n",
    "        # compute a new (sliding window) index\n",
    "        end_ix = i + num_steps\n",
    "        \n",
    "        # if index is larger than the size of the dataset, we stop\n",
    "        if end_ix > x_data.shape[0]:\n",
    "            break\n",
    "        \n",
    "        # Get a sequence of data for x\n",
    "        seq_X = x_data[i:end_ix]\n",
    "        \n",
    "        # Get only the last element of the sequency for y\n",
    "        seq_y = y_data[end_ix-1]\n",
    "        \n",
    "        # Append the list with sequencies\n",
    "        X.append(seq_X)\n",
    "        y.append(seq_y)\n",
    "    \n",
    "    # Make final arrays\n",
    "    x_array = np.array(X)\n",
    "    y_array = np.array(y)\n",
    "    return x_array, y_array"
   ]
  },
  {
   "cell_type": "markdown",
   "id": "8490e1cb",
   "metadata": {},
   "source": [
    "## Dataset for Model 1"
   ]
  },
  {
   "cell_type": "code",
   "execution_count": 14,
   "id": "439c4c2f",
   "metadata": {},
   "outputs": [],
   "source": [
    "pwbds_m1 = pwbds_scaled.copy()\n",
    "#pwbds_m1.drop('NEXT_H',axis='columns', inplace=True)\n",
    "yds_m1 = pwbds.pop('RUL')"
   ]
  },
  {
   "cell_type": "markdown",
   "id": "af4f1f0c",
   "metadata": {},
   "source": [
    "## Apply PCA"
   ]
  },
  {
   "cell_type": "code",
   "execution_count": 15,
   "id": "0fb8e156",
   "metadata": {},
   "outputs": [
    {
     "data": {
      "text/html": [
       "<div>\n",
       "<style scoped>\n",
       "    .dataframe tbody tr th:only-of-type {\n",
       "        vertical-align: middle;\n",
       "    }\n",
       "\n",
       "    .dataframe tbody tr th {\n",
       "        vertical-align: top;\n",
       "    }\n",
       "\n",
       "    .dataframe thead th {\n",
       "        text-align: right;\n",
       "    }\n",
       "</style>\n",
       "<table border=\"1\" class=\"dataframe\">\n",
       "  <thead>\n",
       "    <tr style=\"text-align: right;\">\n",
       "      <th></th>\n",
       "      <th>x1</th>\n",
       "      <th>x2</th>\n",
       "      <th>x3</th>\n",
       "      <th>x4</th>\n",
       "      <th>x5</th>\n",
       "      <th>x6</th>\n",
       "      <th>x7</th>\n",
       "      <th>x8</th>\n",
       "      <th>x9</th>\n",
       "      <th>x10</th>\n",
       "      <th>...</th>\n",
       "      <th>x51</th>\n",
       "      <th>x52</th>\n",
       "      <th>x53</th>\n",
       "      <th>x54</th>\n",
       "      <th>x55</th>\n",
       "      <th>x56</th>\n",
       "      <th>x57</th>\n",
       "      <th>x58</th>\n",
       "      <th>x59</th>\n",
       "      <th>x60</th>\n",
       "    </tr>\n",
       "  </thead>\n",
       "  <tbody>\n",
       "    <tr>\n",
       "      <th>0</th>\n",
       "      <td>0.0</td>\n",
       "      <td>0.0</td>\n",
       "      <td>0.0</td>\n",
       "      <td>0.791815</td>\n",
       "      <td>0.647476</td>\n",
       "      <td>0.782817</td>\n",
       "      <td>0.0</td>\n",
       "      <td>0.0</td>\n",
       "      <td>0.0</td>\n",
       "      <td>0.0</td>\n",
       "      <td>...</td>\n",
       "      <td>0.0</td>\n",
       "      <td>0.0</td>\n",
       "      <td>1.0</td>\n",
       "      <td>0.000000</td>\n",
       "      <td>0.132376</td>\n",
       "      <td>0.775657</td>\n",
       "      <td>0.445643</td>\n",
       "      <td>0.130510</td>\n",
       "      <td>0.0</td>\n",
       "      <td>0.000000</td>\n",
       "    </tr>\n",
       "    <tr>\n",
       "      <th>1</th>\n",
       "      <td>0.0</td>\n",
       "      <td>0.0</td>\n",
       "      <td>0.0</td>\n",
       "      <td>0.801234</td>\n",
       "      <td>0.644232</td>\n",
       "      <td>0.782908</td>\n",
       "      <td>0.0</td>\n",
       "      <td>0.0</td>\n",
       "      <td>0.0</td>\n",
       "      <td>0.0</td>\n",
       "      <td>...</td>\n",
       "      <td>0.0</td>\n",
       "      <td>0.0</td>\n",
       "      <td>1.0</td>\n",
       "      <td>0.001579</td>\n",
       "      <td>0.152378</td>\n",
       "      <td>0.827103</td>\n",
       "      <td>0.000000</td>\n",
       "      <td>0.145959</td>\n",
       "      <td>0.0</td>\n",
       "      <td>0.006334</td>\n",
       "    </tr>\n",
       "    <tr>\n",
       "      <th>2</th>\n",
       "      <td>0.0</td>\n",
       "      <td>0.0</td>\n",
       "      <td>0.0</td>\n",
       "      <td>0.800057</td>\n",
       "      <td>0.641002</td>\n",
       "      <td>0.778681</td>\n",
       "      <td>0.0</td>\n",
       "      <td>0.0</td>\n",
       "      <td>0.0</td>\n",
       "      <td>0.0</td>\n",
       "      <td>...</td>\n",
       "      <td>0.0</td>\n",
       "      <td>0.0</td>\n",
       "      <td>1.0</td>\n",
       "      <td>0.003193</td>\n",
       "      <td>0.106777</td>\n",
       "      <td>0.855896</td>\n",
       "      <td>0.445643</td>\n",
       "      <td>0.161301</td>\n",
       "      <td>0.0</td>\n",
       "      <td>0.012667</td>\n",
       "    </tr>\n",
       "    <tr>\n",
       "      <th>3</th>\n",
       "      <td>0.0</td>\n",
       "      <td>0.0</td>\n",
       "      <td>0.0</td>\n",
       "      <td>0.798880</td>\n",
       "      <td>0.637757</td>\n",
       "      <td>0.778993</td>\n",
       "      <td>0.0</td>\n",
       "      <td>0.0</td>\n",
       "      <td>0.0</td>\n",
       "      <td>0.0</td>\n",
       "      <td>...</td>\n",
       "      <td>0.0</td>\n",
       "      <td>0.0</td>\n",
       "      <td>1.0</td>\n",
       "      <td>0.004772</td>\n",
       "      <td>0.133346</td>\n",
       "      <td>0.777898</td>\n",
       "      <td>0.336949</td>\n",
       "      <td>0.176642</td>\n",
       "      <td>0.0</td>\n",
       "      <td>0.019001</td>\n",
       "    </tr>\n",
       "    <tr>\n",
       "      <th>4</th>\n",
       "      <td>0.0</td>\n",
       "      <td>0.0</td>\n",
       "      <td>0.0</td>\n",
       "      <td>0.797703</td>\n",
       "      <td>0.634514</td>\n",
       "      <td>0.783233</td>\n",
       "      <td>0.0</td>\n",
       "      <td>0.0</td>\n",
       "      <td>0.0</td>\n",
       "      <td>0.0</td>\n",
       "      <td>...</td>\n",
       "      <td>0.0</td>\n",
       "      <td>0.0</td>\n",
       "      <td>1.0</td>\n",
       "      <td>0.006387</td>\n",
       "      <td>0.061901</td>\n",
       "      <td>0.765553</td>\n",
       "      <td>0.108693</td>\n",
       "      <td>0.191984</td>\n",
       "      <td>0.0</td>\n",
       "      <td>0.025334</td>\n",
       "    </tr>\n",
       "  </tbody>\n",
       "</table>\n",
       "<p>5 rows × 60 columns</p>\n",
       "</div>"
      ],
      "text/plain": [
       "    x1   x2   x3        x4        x5        x6   x7   x8   x9  x10  ...  x51  \\\n",
       "0  0.0  0.0  0.0  0.791815  0.647476  0.782817  0.0  0.0  0.0  0.0  ...  0.0   \n",
       "1  0.0  0.0  0.0  0.801234  0.644232  0.782908  0.0  0.0  0.0  0.0  ...  0.0   \n",
       "2  0.0  0.0  0.0  0.800057  0.641002  0.778681  0.0  0.0  0.0  0.0  ...  0.0   \n",
       "3  0.0  0.0  0.0  0.798880  0.637757  0.778993  0.0  0.0  0.0  0.0  ...  0.0   \n",
       "4  0.0  0.0  0.0  0.797703  0.634514  0.783233  0.0  0.0  0.0  0.0  ...  0.0   \n",
       "\n",
       "   x52  x53       x54       x55       x56       x57       x58  x59       x60  \n",
       "0  0.0  1.0  0.000000  0.132376  0.775657  0.445643  0.130510  0.0  0.000000  \n",
       "1  0.0  1.0  0.001579  0.152378  0.827103  0.000000  0.145959  0.0  0.006334  \n",
       "2  0.0  1.0  0.003193  0.106777  0.855896  0.445643  0.161301  0.0  0.012667  \n",
       "3  0.0  1.0  0.004772  0.133346  0.777898  0.336949  0.176642  0.0  0.019001  \n",
       "4  0.0  1.0  0.006387  0.061901  0.765553  0.108693  0.191984  0.0  0.025334  \n",
       "\n",
       "[5 rows x 60 columns]"
      ]
     },
     "execution_count": 15,
     "metadata": {},
     "output_type": "execute_result"
    }
   ],
   "source": [
    "pwbds_m1.head()"
   ]
  },
  {
   "cell_type": "code",
   "execution_count": 16,
   "id": "8eb4e94a",
   "metadata": {},
   "outputs": [],
   "source": [
    "from sklearn.decomposition import PCA # for PCA calculation\n",
    "pca = PCA()\n",
    "X_pca = pca.fit(pwbds_m1)"
   ]
  },
  {
   "cell_type": "code",
   "execution_count": 17,
   "id": "6099cad2",
   "metadata": {},
   "outputs": [
    {
     "data": {
      "image/png": "[encoded data removed]",
      "text/plain": [
       "<Figure size 432x288 with 1 Axes>"
      ]
     },
     "metadata": {
      "needs_background": "light"
     },
     "output_type": "display_data"
    }
   ],
   "source": [
    "plt.plot(np.cumsum(pca.explained_variance_ratio_))\n",
    "plt.xlabel('number of components')\n",
    "plt.ylabel('cumulative explained variance');"
   ]
  },
  {
   "cell_type": "code",
   "execution_count": 18,
   "id": "e2fbcb8d",
   "metadata": {},
   "outputs": [],
   "source": [
    "num_components = 40\n",
    "pca = PCA(num_components)  \n",
    "X_pca = pca.fit_transform(pwbds_m1) # fit and reduce dimension"
   ]
  },
  {
   "cell_type": "code",
   "execution_count": 19,
   "id": "23e2a870",
   "metadata": {},
   "outputs": [
    {
     "data": {
      "text/plain": [
       "(178, 40)"
      ]
     },
     "execution_count": 19,
     "metadata": {},
     "output_type": "execute_result"
    }
   ],
   "source": [
    "X_pca.shape"
   ]
  },
  {
   "cell_type": "code",
   "execution_count": 20,
   "id": "14f2b141",
   "metadata": {},
   "outputs": [
    {
     "name": "stdout",
     "output_type": "stream",
     "text": [
      "The new shape of x is (169, 10, 40)\n",
      "The new shape of y is (169,)\n"
     ]
    }
   ],
   "source": [
    "num_steps = 10 # Intervalo entre medições é de 2 segundos\n",
    "x_new, y_new = lstm_data_transform(X_pca, yds_m1, num_steps=num_steps)\n",
    "print (\"The new shape of x is\", x_new.shape)\n",
    "print (\"The new shape of y is\", y_new.shape)\n"
   ]
  },
  {
   "cell_type": "code",
   "execution_count": 21,
   "id": "f7521c4d",
   "metadata": {},
   "outputs": [
    {
     "name": "stderr",
     "output_type": "stream",
     "text": [
      "C:\\Users\\hcord\\anaconda3\\envs\\paper3\\lib\\site-packages\\tensorflow\\python\\framework\\dtypes.py:516: FutureWarning: Passing (type, 1) or '1type' as a synonym of type is deprecated; in a future version of numpy, it will be understood as (type, (1,)) / '(1,)type'.\n",
      "  _np_qint8 = np.dtype([(\"qint8\", np.int8, 1)])\n",
      "C:\\Users\\hcord\\anaconda3\\envs\\paper3\\lib\\site-packages\\tensorflow\\python\\framework\\dtypes.py:517: FutureWarning: Passing (type, 1) or '1type' as a synonym of type is deprecated; in a future version of numpy, it will be understood as (type, (1,)) / '(1,)type'.\n",
      "  _np_quint8 = np.dtype([(\"quint8\", np.uint8, 1)])\n",
      "C:\\Users\\hcord\\anaconda3\\envs\\paper3\\lib\\site-packages\\tensorflow\\python\\framework\\dtypes.py:518: FutureWarning: Passing (type, 1) or '1type' as a synonym of type is deprecated; in a future version of numpy, it will be understood as (type, (1,)) / '(1,)type'.\n",
      "  _np_qint16 = np.dtype([(\"qint16\", np.int16, 1)])\n",
      "C:\\Users\\hcord\\anaconda3\\envs\\paper3\\lib\\site-packages\\tensorflow\\python\\framework\\dtypes.py:519: FutureWarning: Passing (type, 1) or '1type' as a synonym of type is deprecated; in a future version of numpy, it will be understood as (type, (1,)) / '(1,)type'.\n",
      "  _np_quint16 = np.dtype([(\"quint16\", np.uint16, 1)])\n",
      "C:\\Users\\hcord\\anaconda3\\envs\\paper3\\lib\\site-packages\\tensorflow\\python\\framework\\dtypes.py:520: FutureWarning: Passing (type, 1) or '1type' as a synonym of type is deprecated; in a future version of numpy, it will be understood as (type, (1,)) / '(1,)type'.\n",
      "  _np_qint32 = np.dtype([(\"qint32\", np.int32, 1)])\n",
      "C:\\Users\\hcord\\anaconda3\\envs\\paper3\\lib\\site-packages\\tensorflow\\python\\framework\\dtypes.py:525: FutureWarning: Passing (type, 1) or '1type' as a synonym of type is deprecated; in a future version of numpy, it will be understood as (type, (1,)) / '(1,)type'.\n",
      "  np_resource = np.dtype([(\"resource\", np.ubyte, 1)])\n"
     ]
    },
    {
     "name": "stdout",
     "output_type": "stream",
     "text": [
      "WARNING:tensorflow:From C:\\Users\\hcord\\anaconda3\\envs\\paper3\\lib\\site-packages\\tensorflow\\python\\ops\\init_ops.py:97: calling GlorotUniform.__init__ (from tensorflow.python.ops.init_ops) with dtype is deprecated and will be removed in a future version.\n",
      "Instructions for updating:\n",
      "Call initializer instance with the dtype argument instead of passing it to the constructor\n",
      "WARNING:tensorflow:From C:\\Users\\hcord\\anaconda3\\envs\\paper3\\lib\\site-packages\\tensorflow\\python\\ops\\init_ops.py:1251: calling VarianceScaling.__init__ (from tensorflow.python.ops.init_ops) with dtype is deprecated and will be removed in a future version.\n",
      "Instructions for updating:\n",
      "Call initializer instance with the dtype argument instead of passing it to the constructor\n",
      "WARNING:tensorflow:From C:\\Users\\hcord\\anaconda3\\envs\\paper3\\lib\\site-packages\\tensorflow\\python\\ops\\init_ops.py:97: calling Orthogonal.__init__ (from tensorflow.python.ops.init_ops) with dtype is deprecated and will be removed in a future version.\n",
      "Instructions for updating:\n",
      "Call initializer instance with the dtype argument instead of passing it to the constructor\n",
      "WARNING:tensorflow:From C:\\Users\\hcord\\anaconda3\\envs\\paper3\\lib\\site-packages\\tensorflow\\python\\ops\\init_ops.py:97: calling Zeros.__init__ (from tensorflow.python.ops.init_ops) with dtype is deprecated and will be removed in a future version.\n",
      "Instructions for updating:\n",
      "Call initializer instance with the dtype argument instead of passing it to the constructor\n",
      "WARNING:tensorflow:From C:\\Users\\hcord\\anaconda3\\envs\\paper3\\lib\\site-packages\\tensorflow\\python\\ops\\init_ops.py:97: calling Ones.__init__ (from tensorflow.python.ops.init_ops) with dtype is deprecated and will be removed in a future version.\n",
      "Instructions for updating:\n",
      "Call initializer instance with the dtype argument instead of passing it to the constructor\n"
     ]
    },
    {
     "name": "stderr",
     "output_type": "stream",
     "text": [
      "C:\\Users\\hcord\\anaconda3\\envs\\paper3\\lib\\site-packages\\tensorboard\\compat\\tensorflow_stub\\dtypes.py:541: FutureWarning: Passing (type, 1) or '1type' as a synonym of type is deprecated; in a future version of numpy, it will be understood as (type, (1,)) / '(1,)type'.\n",
      "  _np_qint8 = np.dtype([(\"qint8\", np.int8, 1)])\n",
      "C:\\Users\\hcord\\anaconda3\\envs\\paper3\\lib\\site-packages\\tensorboard\\compat\\tensorflow_stub\\dtypes.py:542: FutureWarning: Passing (type, 1) or '1type' as a synonym of type is deprecated; in a future version of numpy, it will be understood as (type, (1,)) / '(1,)type'.\n",
      "  _np_quint8 = np.dtype([(\"quint8\", np.uint8, 1)])\n",
      "C:\\Users\\hcord\\anaconda3\\envs\\paper3\\lib\\site-packages\\tensorboard\\compat\\tensorflow_stub\\dtypes.py:543: FutureWarning: Passing (type, 1) or '1type' as a synonym of type is deprecated; in a future version of numpy, it will be understood as (type, (1,)) / '(1,)type'.\n",
      "  _np_qint16 = np.dtype([(\"qint16\", np.int16, 1)])\n",
      "C:\\Users\\hcord\\anaconda3\\envs\\paper3\\lib\\site-packages\\tensorboard\\compat\\tensorflow_stub\\dtypes.py:544: FutureWarning: Passing (type, 1) or '1type' as a synonym of type is deprecated; in a future version of numpy, it will be understood as (type, (1,)) / '(1,)type'.\n",
      "  _np_quint16 = np.dtype([(\"quint16\", np.uint16, 1)])\n",
      "C:\\Users\\hcord\\anaconda3\\envs\\paper3\\lib\\site-packages\\tensorboard\\compat\\tensorflow_stub\\dtypes.py:545: FutureWarning: Passing (type, 1) or '1type' as a synonym of type is deprecated; in a future version of numpy, it will be understood as (type, (1,)) / '(1,)type'.\n",
      "  _np_qint32 = np.dtype([(\"qint32\", np.int32, 1)])\n",
      "C:\\Users\\hcord\\anaconda3\\envs\\paper3\\lib\\site-packages\\tensorboard\\compat\\tensorflow_stub\\dtypes.py:550: FutureWarning: Passing (type, 1) or '1type' as a synonym of type is deprecated; in a future version of numpy, it will be understood as (type, (1,)) / '(1,)type'.\n",
      "  np_resource = np.dtype([(\"resource\", np.ubyte, 1)])\n"
     ]
    },
    {
     "name": "stdout",
     "output_type": "stream",
     "text": [
      "WARNING:tensorflow:Sequential models without an `input_shape` passed to the first layer cannot reload their optimizer state. As a result, your model isstarting with a freshly initialized optimizer.\n"
     ]
    }
   ],
   "source": [
    "import tensorflow as tf\n",
    "from tensorflow import keras\n",
    "\n",
    "model_m1 = keras.models.load_model('../data/pwb_regression-10stps-noavalanche-pca40-batchnormal-bidir')\n"
   ]
  },
  {
   "cell_type": "code",
   "execution_count": 22,
   "id": "8b3cf80b",
   "metadata": {},
   "outputs": [
    {
     "name": "stdout",
     "output_type": "stream",
     "text": [
      "Model: \"sequential\"\n",
      "_________________________________________________________________\n",
      "Layer (type)                 Output Shape              Param #   \n",
      "=================================================================\n",
      "bidirectional (Bidirectional multiple                  154560    \n",
      "_________________________________________________________________\n",
      "batch_normalization (BatchNo multiple                  960       \n",
      "_________________________________________________________________\n",
      "dropout (Dropout)            multiple                  0         \n",
      "_________________________________________________________________\n",
      "bidirectional_1 (Bidirection multiple                  144480    \n",
      "_________________________________________________________________\n",
      "batch_normalization_1 (Batch multiple                  480       \n",
      "_________________________________________________________________\n",
      "dropout_1 (Dropout)          multiple                  0         \n",
      "_________________________________________________________________\n",
      "dense (Dense)                multiple                  7260      \n",
      "_________________________________________________________________\n",
      "dropout_2 (Dropout)          multiple                  0         \n",
      "_________________________________________________________________\n",
      "dense_1 (Dense)              multiple                  1830      \n",
      "_________________________________________________________________\n",
      "dropout_3 (Dropout)          multiple                  0         \n",
      "_________________________________________________________________\n",
      "dense_2 (Dense)              multiple                  31        \n",
      "=================================================================\n",
      "Total params: 309,601\n",
      "Trainable params: 308,881\n",
      "Non-trainable params: 720\n",
      "_________________________________________________________________\n",
      "None\n"
     ]
    }
   ],
   "source": [
    "# Verify the architecture \n",
    "print(model_m1.summary())"
   ]
  },
  {
   "cell_type": "code",
   "execution_count": 23,
   "id": "1faf8640",
   "metadata": {},
   "outputs": [
    {
     "data": {
      "text/plain": [
       "(169, 10, 40)"
      ]
     },
     "execution_count": 23,
     "metadata": {},
     "output_type": "execute_result"
    }
   ],
   "source": [
    "x_new.shape"
   ]
  },
  {
   "cell_type": "code",
   "execution_count": 24,
   "id": "d2195613",
   "metadata": {},
   "outputs": [
    {
     "data": {
      "text/plain": [
       "array([ 3.69038367e+00,  4.26492487e-01,  8.24477885e-02,  2.05119703e-01,\n",
       "        3.83953545e-01,  4.83573469e-01,  6.46662760e-01,  2.08141206e-01,\n",
       "       -1.59127759e-01, -4.80299751e-02,  1.40604793e-01,  1.46910480e-01,\n",
       "       -1.97936416e-01,  5.29040192e-02, -1.13490724e-01, -2.47679732e-01,\n",
       "       -1.66024597e-02, -6.48797480e-02,  6.88315257e-02,  7.69380749e-03,\n",
       "       -3.08807692e-02, -2.02727967e-02, -4.76583029e-02, -5.76050691e-02,\n",
       "        2.74749675e-02,  4.83047550e-02, -3.87204689e-02, -1.01679475e-02,\n",
       "        5.97339063e-03, -1.20512632e-02, -4.45445311e-03,  1.90859441e-03,\n",
       "       -8.23326440e-03,  1.17180295e-02,  4.09400048e-03,  3.62332813e-03,\n",
       "        1.35002699e-02, -1.00359642e-02, -1.49792614e-02,  1.17806786e-02])"
      ]
     },
     "execution_count": 24,
     "metadata": {},
     "output_type": "execute_result"
    }
   ],
   "source": [
    "x_new[0][0]"
   ]
  },
  {
   "cell_type": "code",
   "execution_count": 25,
   "id": "fc693072",
   "metadata": {},
   "outputs": [],
   "source": [
    "test_predict = model_m1.predict(x_new)"
   ]
  },
  {
   "cell_type": "code",
   "execution_count": 26,
   "id": "d2121a07",
   "metadata": {},
   "outputs": [
    {
     "data": {
      "text/plain": [
       "<matplotlib.legend.Legend at 0x14151f580f0>"
      ]
     },
     "execution_count": 26,
     "metadata": {},
     "output_type": "execute_result"
    },
    {
     "data": {
      "image/png": "[encoded data removed]",
      "text/plain": [
       "<Figure size 1200x480 with 1 Axes>"
      ]
     },
     "metadata": {
      "needs_background": "light"
     },
     "output_type": "display_data"
    }
   ],
   "source": [
    "figure(figsize=(15, 6), dpi=80)\n",
    "plt.xlabel('Timestamp')\n",
    "plt.ylabel('RUL')\n",
    "plt.plot(y_new,'r+',label=\"real\")\n",
    "plt.plot(test_predict,'b+',label=\"predict\")\n",
    "plt.legend(['real', 'predict'], loc='upper right')"
   ]
  },
  {
   "cell_type": "code",
   "execution_count": 27,
   "id": "13b4ee30",
   "metadata": {},
   "outputs": [
    {
     "data": {
      "text/plain": [
       "151.42703924801975"
      ]
     },
     "execution_count": 27,
     "metadata": {},
     "output_type": "execute_result"
    }
   ],
   "source": [
    "import math\n",
    "errordf = pd.DataFrame([])\n",
    "errordf['real'] = y_new\n",
    "errordf['pred']=test_predict\n",
    "errordf['e_squared']=(errordf['real']-errordf['pred'])**2\n",
    "errordf['e_squared']= errordf['e_squared'].astype('float')\n",
    "total_rmse = math.sqrt(errordf['e_squared'].sum()/len(errordf['e_squared']))\n",
    "total_rmse"
   ]
  },
  {
   "cell_type": "markdown",
   "id": "d5b977ab",
   "metadata": {},
   "source": [
    "## Truth"
   ]
  },
  {
   "cell_type": "markdown",
   "id": "b341ea13",
   "metadata": {},
   "source": [
    "### Quantas quebras realmente ocorreram?"
   ]
  },
  {
   "cell_type": "code",
   "execution_count": 28,
   "id": "fe590437",
   "metadata": {},
   "outputs": [
    {
     "data": {
      "text/plain": [
       "(array([False,  True]), array([168,   1], dtype=int64))"
      ]
     },
     "execution_count": 28,
     "metadata": {},
     "output_type": "execute_result"
    }
   ],
   "source": [
    "# Registro de quebras são aqueles onde RUL==0 (y_test==0)\n",
    "np.unique(y_new==0,return_counts=True)"
   ]
  },
  {
   "cell_type": "markdown",
   "id": "f70555c4",
   "metadata": {},
   "source": [
    "### Quando ocorreram?"
   ]
  },
  {
   "cell_type": "code",
   "execution_count": 29,
   "id": "a378a555",
   "metadata": {},
   "outputs": [],
   "source": [
    "break_moments= np.where(y_new == 1)"
   ]
  },
  {
   "cell_type": "code",
   "execution_count": 30,
   "id": "07f977fe",
   "metadata": {},
   "outputs": [
    {
     "data": {
      "text/plain": [
       "[array([], dtype=int64)]"
      ]
     },
     "execution_count": 30,
     "metadata": {},
     "output_type": "execute_result"
    }
   ],
   "source": [
    "list(break_moments)"
   ]
  },
  {
   "cell_type": "markdown",
   "id": "66c317b2",
   "metadata": {},
   "source": [
    "## Previsões"
   ]
  },
  {
   "cell_type": "markdown",
   "id": "2612a8e3",
   "metadata": {},
   "source": [
    "### Quantas indicações abaixo de x minutos? "
   ]
  },
  {
   "cell_type": "code",
   "execution_count": 31,
   "id": "b0bf7ffe",
   "metadata": {},
   "outputs": [
    {
     "data": {
      "text/plain": [
       "(array([False,  True]), array([133,  36], dtype=int64))"
      ]
     },
     "execution_count": 31,
     "metadata": {},
     "output_type": "execute_result"
    }
   ],
   "source": [
    "np.unique(test_predict < 90 ,return_counts=True)"
   ]
  },
  {
   "cell_type": "markdown",
   "id": "c94421ec",
   "metadata": {},
   "source": [
    "### Quando ocorreram?"
   ]
  },
  {
   "cell_type": "code",
   "execution_count": 32,
   "id": "95c7d2b7",
   "metadata": {},
   "outputs": [
    {
     "data": {
      "text/plain": [
       "array([  0,   1,   2,   3,   4,   5,   6,   8,   9,  10,  11,  12,  13,\n",
       "        14,  15,  16,  17,  18,  19,  20,  21,  22,  23,  24,  63,  64,\n",
       "        65, 144, 145, 146, 147, 148, 149, 150, 151, 168], dtype=int64)"
      ]
     },
     "execution_count": 32,
     "metadata": {},
     "output_type": "execute_result"
    }
   ],
   "source": [
    "np.where(test_predict < 90)[0]"
   ]
  },
  {
   "cell_type": "markdown",
   "id": "bfc437a5",
   "metadata": {},
   "source": [
    "## Acertos\n",
    "### Quantos e quando?"
   ]
  },
  {
   "cell_type": "code",
   "execution_count": 33,
   "id": "0e5f5fc0",
   "metadata": {},
   "outputs": [],
   "source": [
    "when_pred = np.where(test_predict < 90)[0].tolist()\n",
    "when_true = np.where(y_new == 0)[0].tolist()"
   ]
  },
  {
   "cell_type": "code",
   "execution_count": 34,
   "id": "284540b4",
   "metadata": {},
   "outputs": [],
   "source": [
    "commonalities = set(when_pred) - (set(when_pred) - set(when_true))"
   ]
  },
  {
   "cell_type": "code",
   "execution_count": 35,
   "id": "684ab104",
   "metadata": {},
   "outputs": [
    {
     "data": {
      "text/plain": [
       "1"
      ]
     },
     "execution_count": 35,
     "metadata": {},
     "output_type": "execute_result"
    }
   ],
   "source": [
    "len(commonalities)"
   ]
  },
  {
   "cell_type": "code",
   "execution_count": 36,
   "id": "20ef34fe",
   "metadata": {},
   "outputs": [
    {
     "data": {
      "text/plain": [
       "{168}"
      ]
     },
     "execution_count": 36,
     "metadata": {},
     "output_type": "execute_result"
    }
   ],
   "source": [
    "commonalities"
   ]
  },
  {
   "cell_type": "code",
   "execution_count": 37,
   "id": "689b091d",
   "metadata": {},
   "outputs": [],
   "source": [
    "import shap  # package used to calculate Shap values\n",
    "\n",
    "# use Deep SHAP to explain test set predictions\n",
    "#k_explainer = shap.KernelExplainer(model_1.predict_proba, x_test)\n",
    "#k_shap_values = k_explainer.shap_values(x_test.reshape(14315*30,32))\n",
    "#shap.force_plot(k_explainer.expected_value[1], k_shap_values[1], x_test)"
   ]
  },
  {
   "cell_type": "code",
   "execution_count": null,
   "id": "34f38b69",
   "metadata": {},
   "outputs": [],
   "source": []
  },
  {
   "cell_type": "code",
   "execution_count": null,
   "id": "d2883695",
   "metadata": {},
   "outputs": [],
   "source": []
  }
 ],
 "metadata": {
  "kernelspec": {
   "display_name": "paper3",
   "language": "python",
   "name": "paper3"
  },
  "language_info": {
   "codemirror_mode": {
    "name": "ipython",
    "version": 3
   },
   "file_extension": ".py",
   "mimetype": "text/x-python",
   "name": "python",
   "nbconvert_exporter": "python",
   "pygments_lexer": "ipython3",
   "version": "3.6.9"
  }
 },
 "nbformat": 4,
 "nbformat_minor": 5
}
