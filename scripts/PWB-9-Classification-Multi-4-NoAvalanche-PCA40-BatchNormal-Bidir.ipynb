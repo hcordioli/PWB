{
 "cells": [
  {
   "cell_type": "markdown",
   "id": "35cdb27f",
   "metadata": {},
   "source": [
    "# Versionamento"
   ]
  },
  {
   "cell_type": "markdown",
   "id": "a64b68d1",
   "metadata": {},
   "source": [
    "V2: \n",
    "<ul>\n",
    "    <li>Inclusão da variável categórica x28 que está relacionada com o tipo de papel em produção</li>\n",
    "    <li>Feature Selection</li>\n",
    "    <li>Feature Scalling</li>\n",
    "</ul>"
   ]
  },
  {
   "cell_type": "markdown",
   "id": "ab4d4236",
   "metadata": {},
   "source": [
    "V3:\n",
    "<ul>\n",
    "    <li>Ajuste de parâmetros dos modelos</li>\n",
    "    <li> V2: correção da função lstm_data_transform para pegar o target correto</li>\n",
    "</ul>"
   ]
  },
  {
   "cell_type": "markdown",
   "id": "b906e725",
   "metadata": {},
   "source": [
    "V4:\n",
    "<ul>\n",
    "    <li>Redução de feature usando resultado do PCA (notebook DimRedPCAOnTS) </li>\n",
    "    <li>num_steps de 30 para 10</li>\n",
    "</ul>"
   ]
  },
  {
   "cell_type": "markdown",
   "id": "538141e6",
   "metadata": {},
   "source": [
    "V6:\n",
    "<ul>\n",
    "    <li>Redução de features Processo Manual </li>\n",
    "    <li>Manual Data Augmentation</li>\n",
    "</ul>\n",
    "\n",
    "V6-Multi\n",
    "<ul>\n",
    "    <li>Remoção de Break Avalanche (breaks em menos de uma hora) e maiores que 3 horas</li>\n",
    "    <li>Classificação multi lable (1, 2 ou 3 horas)  </li>\n",
    "</ul>\n"
   ]
  },
  {
   "cell_type": "markdown",
   "id": "8af147a2",
   "metadata": {},
   "source": [
    "# O problema"
   ]
  },
  {
   "cell_type": "markdown",
   "id": "a5640d24",
   "metadata": {},
   "source": [
    "Paper manufacturing can be viewed as a continuous rolling process. During this process, sometimes the paper breaks. If a break happens, the entire process is stopped, the reel is taken out, any found problem is fixed, and the production is resumed. The resumption can take more than an hour.\n",
    "\n",
    "The cost of this lost production time is significant for a mill. Even a 5% reduction in the break events will give a significant cost saving for a mill. The objective of the given problem is to predict such breaks in advance (early prediction) and identify the potential cause(s) to prevent the break. \n",
    "\n",
    "To build such a prediction model, we will use the data collected from the network of sensors in a mill."
   ]
  },
  {
   "cell_type": "markdown",
   "id": "da647642",
   "metadata": {},
   "source": [
    "This is a multivariate time series data with break as the response (a\n",
    "binary variable).\n",
    "The provided data has,\n",
    "<ul>\n",
    "    <li>18,398 records.</li>\n",
    "    <li>Columns:</li>\n",
    "        <ul>\n",
    "        <li>time: the timestamp of the row</li>\n",
    "        <li>y: the binary response variable. There are only 124 rows with y = 1, rest are y = 0.</li>\n",
    "        <li>x1-x61: predictor variables. All the predictors are continuous variables, except x28 and x61. x61 is a binary variable, and x28 is a\n",
    "        categorical variable. All the predictors are centered. Besides, the predictors are a mixture of raw materials and process variables. Their descriptions are omitted for data anonymity.\n",
    "            Several sensors are placed in different parts of the machine along its length\n",
    "and breadth. These sensors measure both raw materials (e.g. amount of pulp\n",
    "fiber, chemicals, etc.) and process variables (e.g. blade type, couch vacuum,\n",
    "rotor speed, etc.).</li>\n",
    "        </ul>\n",
    "</ul>"
   ]
  },
  {
   "cell_type": "markdown",
   "id": "b2e887af",
   "metadata": {},
   "source": [
    "# Setup"
   ]
  },
  {
   "cell_type": "code",
   "execution_count": 1,
   "id": "bc68ad8b",
   "metadata": {},
   "outputs": [],
   "source": [
    "import pandas as pd\n",
    "import numpy as np\n",
    "import seaborn as sns\n",
    "import matplotlib.pyplot as plt\n",
    "from matplotlib.pyplot import figure\n",
    "from sklearn.metrics import multilabel_confusion_matrix, recall_score, precision_score, accuracy_score, plot_confusion_matrix\n",
    "import datetime"
   ]
  },
  {
   "cell_type": "markdown",
   "id": "fb011b14",
   "metadata": {},
   "source": [
    "# Load Data"
   ]
  },
  {
   "cell_type": "code",
   "execution_count": 2,
   "id": "6d0806f3",
   "metadata": {},
   "outputs": [],
   "source": [
    "pwbdatafile = '..\\\\data\\\\pwb-data-augmented.csv'\n",
    "pwbds = pd.read_csv(pwbdatafile)\n",
    "pwbds.drop('Unnamed: 0',axis=1,inplace=True)"
   ]
  },
  {
   "cell_type": "markdown",
   "id": "c75c014a",
   "metadata": {},
   "source": [
    "## Cálculo do Remaining Usefull Lifecycle (RUL)"
   ]
  },
  {
   "cell_type": "code",
   "execution_count": 3,
   "id": "1ef667a8",
   "metadata": {},
   "outputs": [],
   "source": [
    "# Dates whith break\n",
    "df_sub = sorted(pwbds[pwbds['y'] == 1]['timestamp'].tolist())"
   ]
  },
  {
   "cell_type": "code",
   "execution_count": 4,
   "id": "c87afe51",
   "metadata": {},
   "outputs": [],
   "source": [
    "# variable to store all days\n",
    "breakSubIdx=0\n",
    "breakLstIdx=0\n",
    "breakList = pwbds['y'].tolist()\n",
    "nextbreak = []\n",
    "for v1 in pwbds['timestamp'].tolist():\n",
    "    if((breakList[breakLstIdx] == 1)):\n",
    "#        print ('1')\n",
    "        nextbreak.append(v1)\n",
    "        breakSubIdx = breakSubIdx+1\n",
    "    else:\n",
    "#        print('0')\n",
    "        if (breakSubIdx < len(df_sub)):\n",
    "            nextbreak.append(df_sub[breakSubIdx])\n",
    "        else:\n",
    "            nextbreak.append(df_sub[breakSubIdx-1])\n",
    "    breakLstIdx = breakLstIdx+1\n",
    "pwbds['nextbreaktime'] = pd.Series(nextbreak)"
   ]
  },
  {
   "cell_type": "code",
   "execution_count": 5,
   "id": "700b77e4",
   "metadata": {},
   "outputs": [],
   "source": [
    "pwbds['RUL']=(pwbds['nextbreaktime']-pwbds['timestamp'])\n",
    "#pwbds.drop(pwbds[pwbds.RUL < 0].index, inplace=True)\n",
    "pwbds.drop(['timestamp','nextbreaktime'], axis=1, inplace=True)"
   ]
  },
  {
   "cell_type": "markdown",
   "id": "846c03bb",
   "metadata": {},
   "source": [
    "### Verificando cálculo do RUL"
   ]
  },
  {
   "cell_type": "code",
   "execution_count": 6,
   "id": "393fc7de",
   "metadata": {},
   "outputs": [
    {
     "data": {
      "text/html": [
       "<div>\n",
       "<style scoped>\n",
       "    .dataframe tbody tr th:only-of-type {\n",
       "        vertical-align: middle;\n",
       "    }\n",
       "\n",
       "    .dataframe tbody tr th {\n",
       "        vertical-align: top;\n",
       "    }\n",
       "\n",
       "    .dataframe thead th {\n",
       "        text-align: right;\n",
       "    }\n",
       "</style>\n",
       "<table border=\"1\" class=\"dataframe\">\n",
       "  <thead>\n",
       "    <tr style=\"text-align: right;\">\n",
       "      <th></th>\n",
       "      <th>y</th>\n",
       "      <th>x1</th>\n",
       "      <th>x2</th>\n",
       "      <th>x3</th>\n",
       "      <th>x4</th>\n",
       "      <th>x5</th>\n",
       "      <th>x6</th>\n",
       "      <th>x7</th>\n",
       "      <th>x8</th>\n",
       "      <th>x9</th>\n",
       "      <th>...</th>\n",
       "      <th>x53</th>\n",
       "      <th>x54</th>\n",
       "      <th>x55</th>\n",
       "      <th>x56</th>\n",
       "      <th>x57</th>\n",
       "      <th>x58</th>\n",
       "      <th>x59</th>\n",
       "      <th>x60</th>\n",
       "      <th>x61</th>\n",
       "      <th>RUL</th>\n",
       "    </tr>\n",
       "  </thead>\n",
       "  <tbody>\n",
       "    <tr>\n",
       "      <th>259</th>\n",
       "      <td>1</td>\n",
       "      <td>0.892311</td>\n",
       "      <td>-13.332664</td>\n",
       "      <td>-10.006578</td>\n",
       "      <td>2.855933</td>\n",
       "      <td>-0.448832</td>\n",
       "      <td>15.986336</td>\n",
       "      <td>0.000732</td>\n",
       "      <td>-0.061114</td>\n",
       "      <td>-0.030057</td>\n",
       "      <td>...</td>\n",
       "      <td>-0.752385</td>\n",
       "      <td>-5.015553</td>\n",
       "      <td>-75.896664</td>\n",
       "      <td>69.585016</td>\n",
       "      <td>3.113292</td>\n",
       "      <td>0.032223</td>\n",
       "      <td>5.685793</td>\n",
       "      <td>0.007663</td>\n",
       "      <td>1</td>\n",
       "      <td>0</td>\n",
       "    </tr>\n",
       "    <tr>\n",
       "      <th>776</th>\n",
       "      <td>1</td>\n",
       "      <td>-0.782471</td>\n",
       "      <td>-12.118747</td>\n",
       "      <td>-16.855194</td>\n",
       "      <td>-322.781610</td>\n",
       "      <td>-0.738810</td>\n",
       "      <td>25.966042</td>\n",
       "      <td>0.040711</td>\n",
       "      <td>-0.071186</td>\n",
       "      <td>0.012574</td>\n",
       "      <td>...</td>\n",
       "      <td>-5.337590</td>\n",
       "      <td>2.680329</td>\n",
       "      <td>-7.209775</td>\n",
       "      <td>-37.195777</td>\n",
       "      <td>1.642284</td>\n",
       "      <td>0.013798</td>\n",
       "      <td>2.664362</td>\n",
       "      <td>0.007856</td>\n",
       "      <td>0</td>\n",
       "      <td>0</td>\n",
       "    </tr>\n",
       "    <tr>\n",
       "      <th>835</th>\n",
       "      <td>1</td>\n",
       "      <td>-0.697450</td>\n",
       "      <td>-1.696176</td>\n",
       "      <td>4.145142</td>\n",
       "      <td>121.152838</td>\n",
       "      <td>-0.598597</td>\n",
       "      <td>-7.789024</td>\n",
       "      <td>0.060853</td>\n",
       "      <td>0.048752</td>\n",
       "      <td>-0.120087</td>\n",
       "      <td>...</td>\n",
       "      <td>-6.368351</td>\n",
       "      <td>2.568616</td>\n",
       "      <td>-26.245907</td>\n",
       "      <td>-74.477362</td>\n",
       "      <td>-0.097279</td>\n",
       "      <td>0.015905</td>\n",
       "      <td>2.700281</td>\n",
       "      <td>0.007745</td>\n",
       "      <td>0</td>\n",
       "      <td>0</td>\n",
       "    </tr>\n",
       "    <tr>\n",
       "      <th>1036</th>\n",
       "      <td>1</td>\n",
       "      <td>-0.791718</td>\n",
       "      <td>-0.076644</td>\n",
       "      <td>-1.012134</td>\n",
       "      <td>162.257269</td>\n",
       "      <td>-0.062876</td>\n",
       "      <td>9.005471</td>\n",
       "      <td>0.005767</td>\n",
       "      <td>0.033764</td>\n",
       "      <td>-0.120087</td>\n",
       "      <td>...</td>\n",
       "      <td>-6.856144</td>\n",
       "      <td>2.703874</td>\n",
       "      <td>-29.833432</td>\n",
       "      <td>-53.421866</td>\n",
       "      <td>-1.165393</td>\n",
       "      <td>0.019691</td>\n",
       "      <td>3.348276</td>\n",
       "      <td>0.006241</td>\n",
       "      <td>0</td>\n",
       "      <td>0</td>\n",
       "    </tr>\n",
       "    <tr>\n",
       "      <th>1263</th>\n",
       "      <td>1</td>\n",
       "      <td>-1.212083</td>\n",
       "      <td>-2.326809</td>\n",
       "      <td>0.922287</td>\n",
       "      <td>31.935858</td>\n",
       "      <td>-0.920100</td>\n",
       "      <td>14.183205</td>\n",
       "      <td>-0.089298</td>\n",
       "      <td>0.028915</td>\n",
       "      <td>-0.120087</td>\n",
       "      <td>...</td>\n",
       "      <td>-6.856144</td>\n",
       "      <td>2.762956</td>\n",
       "      <td>0.965763</td>\n",
       "      <td>-49.512961</td>\n",
       "      <td>-0.219349</td>\n",
       "      <td>0.041640</td>\n",
       "      <td>2.740404</td>\n",
       "      <td>0.005131</td>\n",
       "      <td>0</td>\n",
       "      <td>0</td>\n",
       "    </tr>\n",
       "    <tr>\n",
       "      <th>...</th>\n",
       "      <td>...</td>\n",
       "      <td>...</td>\n",
       "      <td>...</td>\n",
       "      <td>...</td>\n",
       "      <td>...</td>\n",
       "      <td>...</td>\n",
       "      <td>...</td>\n",
       "      <td>...</td>\n",
       "      <td>...</td>\n",
       "      <td>...</td>\n",
       "      <td>...</td>\n",
       "      <td>...</td>\n",
       "      <td>...</td>\n",
       "      <td>...</td>\n",
       "      <td>...</td>\n",
       "      <td>...</td>\n",
       "      <td>...</td>\n",
       "      <td>...</td>\n",
       "      <td>...</td>\n",
       "      <td>...</td>\n",
       "      <td>...</td>\n",
       "    </tr>\n",
       "    <tr>\n",
       "      <th>52626</th>\n",
       "      <td>1</td>\n",
       "      <td>-0.367076</td>\n",
       "      <td>-8.876281</td>\n",
       "      <td>-9.826331</td>\n",
       "      <td>-81.548181</td>\n",
       "      <td>0.719656</td>\n",
       "      <td>-31.805839</td>\n",
       "      <td>-0.058545</td>\n",
       "      <td>-0.000993</td>\n",
       "      <td>0.009922</td>\n",
       "      <td>...</td>\n",
       "      <td>10.091365</td>\n",
       "      <td>3.105512</td>\n",
       "      <td>101.055728</td>\n",
       "      <td>-59.396201</td>\n",
       "      <td>-2.111499</td>\n",
       "      <td>0.001227</td>\n",
       "      <td>1.458925</td>\n",
       "      <td>0.018978</td>\n",
       "      <td>0</td>\n",
       "      <td>0</td>\n",
       "    </tr>\n",
       "    <tr>\n",
       "      <th>52630</th>\n",
       "      <td>1</td>\n",
       "      <td>0.381548</td>\n",
       "      <td>-7.119146</td>\n",
       "      <td>-7.791697</td>\n",
       "      <td>-68.089395</td>\n",
       "      <td>0.172140</td>\n",
       "      <td>-61.932670</td>\n",
       "      <td>0.000732</td>\n",
       "      <td>-0.101094</td>\n",
       "      <td>0.009922</td>\n",
       "      <td>...</td>\n",
       "      <td>5.405574</td>\n",
       "      <td>-5.013181</td>\n",
       "      <td>-46.756772</td>\n",
       "      <td>-52.525641</td>\n",
       "      <td>-0.860218</td>\n",
       "      <td>0.016202</td>\n",
       "      <td>3.409899</td>\n",
       "      <td>0.007643</td>\n",
       "      <td>0</td>\n",
       "      <td>0</td>\n",
       "    </tr>\n",
       "    <tr>\n",
       "      <th>52708</th>\n",
       "      <td>1</td>\n",
       "      <td>0.386066</td>\n",
       "      <td>-9.029249</td>\n",
       "      <td>-8.759439</td>\n",
       "      <td>83.883705</td>\n",
       "      <td>-0.509745</td>\n",
       "      <td>52.357521</td>\n",
       "      <td>0.180791</td>\n",
       "      <td>0.268791</td>\n",
       "      <td>0.139931</td>\n",
       "      <td>...</td>\n",
       "      <td>1.914363</td>\n",
       "      <td>3.143712</td>\n",
       "      <td>18.257755</td>\n",
       "      <td>-72.250327</td>\n",
       "      <td>-1.775806</td>\n",
       "      <td>-0.149790</td>\n",
       "      <td>-0.102720</td>\n",
       "      <td>0.000803</td>\n",
       "      <td>1</td>\n",
       "      <td>0</td>\n",
       "    </tr>\n",
       "    <tr>\n",
       "      <th>52892</th>\n",
       "      <td>1</td>\n",
       "      <td>-0.082568</td>\n",
       "      <td>-8.880742</td>\n",
       "      <td>-16.979639</td>\n",
       "      <td>61.011024</td>\n",
       "      <td>-0.183390</td>\n",
       "      <td>26.041847</td>\n",
       "      <td>-0.059389</td>\n",
       "      <td>-0.091023</td>\n",
       "      <td>-0.040129</td>\n",
       "      <td>...</td>\n",
       "      <td>3.983455</td>\n",
       "      <td>-4.996303</td>\n",
       "      <td>-31.832699</td>\n",
       "      <td>54.449090</td>\n",
       "      <td>3.473400</td>\n",
       "      <td>0.011233</td>\n",
       "      <td>1.377375</td>\n",
       "      <td>0.007596</td>\n",
       "      <td>0</td>\n",
       "      <td>0</td>\n",
       "    </tr>\n",
       "    <tr>\n",
       "      <th>52900</th>\n",
       "      <td>1</td>\n",
       "      <td>-0.132460</td>\n",
       "      <td>0.664956</td>\n",
       "      <td>-9.645391</td>\n",
       "      <td>-70.156457</td>\n",
       "      <td>-0.163660</td>\n",
       "      <td>-62.941185</td>\n",
       "      <td>0.000732</td>\n",
       "      <td>-0.111165</td>\n",
       "      <td>-0.070037</td>\n",
       "      <td>...</td>\n",
       "      <td>4.488338</td>\n",
       "      <td>-4.995505</td>\n",
       "      <td>-29.216122</td>\n",
       "      <td>-54.312064</td>\n",
       "      <td>-0.860218</td>\n",
       "      <td>0.013202</td>\n",
       "      <td>2.419375</td>\n",
       "      <td>0.007412</td>\n",
       "      <td>0</td>\n",
       "      <td>0</td>\n",
       "    </tr>\n",
       "  </tbody>\n",
       "</table>\n",
       "<p>363 rows × 63 columns</p>\n",
       "</div>"
      ],
      "text/plain": [
       "       y        x1         x2         x3          x4        x5         x6  \\\n",
       "259    1  0.892311 -13.332664 -10.006578    2.855933 -0.448832  15.986336   \n",
       "776    1 -0.782471 -12.118747 -16.855194 -322.781610 -0.738810  25.966042   \n",
       "835    1 -0.697450  -1.696176   4.145142  121.152838 -0.598597  -7.789024   \n",
       "1036   1 -0.791718  -0.076644  -1.012134  162.257269 -0.062876   9.005471   \n",
       "1263   1 -1.212083  -2.326809   0.922287   31.935858 -0.920100  14.183205   \n",
       "...   ..       ...        ...        ...         ...       ...        ...   \n",
       "52626  1 -0.367076  -8.876281  -9.826331  -81.548181  0.719656 -31.805839   \n",
       "52630  1  0.381548  -7.119146  -7.791697  -68.089395  0.172140 -61.932670   \n",
       "52708  1  0.386066  -9.029249  -8.759439   83.883705 -0.509745  52.357521   \n",
       "52892  1 -0.082568  -8.880742 -16.979639   61.011024 -0.183390  26.041847   \n",
       "52900  1 -0.132460   0.664956  -9.645391  -70.156457 -0.163660 -62.941185   \n",
       "\n",
       "             x7        x8        x9  ...        x53       x54         x55  \\\n",
       "259    0.000732 -0.061114 -0.030057  ...  -0.752385 -5.015553  -75.896664   \n",
       "776    0.040711 -0.071186  0.012574  ...  -5.337590  2.680329   -7.209775   \n",
       "835    0.060853  0.048752 -0.120087  ...  -6.368351  2.568616  -26.245907   \n",
       "1036   0.005767  0.033764 -0.120087  ...  -6.856144  2.703874  -29.833432   \n",
       "1263  -0.089298  0.028915 -0.120087  ...  -6.856144  2.762956    0.965763   \n",
       "...         ...       ...       ...  ...        ...       ...         ...   \n",
       "52626 -0.058545 -0.000993  0.009922  ...  10.091365  3.105512  101.055728   \n",
       "52630  0.000732 -0.101094  0.009922  ...   5.405574 -5.013181  -46.756772   \n",
       "52708  0.180791  0.268791  0.139931  ...   1.914363  3.143712   18.257755   \n",
       "52892 -0.059389 -0.091023 -0.040129  ...   3.983455 -4.996303  -31.832699   \n",
       "52900  0.000732 -0.111165 -0.070037  ...   4.488338 -4.995505  -29.216122   \n",
       "\n",
       "             x56       x57       x58       x59       x60  x61  RUL  \n",
       "259    69.585016  3.113292  0.032223  5.685793  0.007663    1    0  \n",
       "776   -37.195777  1.642284  0.013798  2.664362  0.007856    0    0  \n",
       "835   -74.477362 -0.097279  0.015905  2.700281  0.007745    0    0  \n",
       "1036  -53.421866 -1.165393  0.019691  3.348276  0.006241    0    0  \n",
       "1263  -49.512961 -0.219349  0.041640  2.740404  0.005131    0    0  \n",
       "...          ...       ...       ...       ...       ...  ...  ...  \n",
       "52626 -59.396201 -2.111499  0.001227  1.458925  0.018978    0    0  \n",
       "52630 -52.525641 -0.860218  0.016202  3.409899  0.007643    0    0  \n",
       "52708 -72.250327 -1.775806 -0.149790 -0.102720  0.000803    1    0  \n",
       "52892  54.449090  3.473400  0.011233  1.377375  0.007596    0    0  \n",
       "52900 -54.312064 -0.860218  0.013202  2.419375  0.007412    0    0  \n",
       "\n",
       "[363 rows x 63 columns]"
      ]
     },
     "execution_count": 6,
     "metadata": {},
     "output_type": "execute_result"
    }
   ],
   "source": [
    "pwbds[pwbds.y==1]"
   ]
  },
  {
   "cell_type": "code",
   "execution_count": 7,
   "id": "591219c1",
   "metadata": {},
   "outputs": [
    {
     "data": {
      "text/html": [
       "<div>\n",
       "<style scoped>\n",
       "    .dataframe tbody tr th:only-of-type {\n",
       "        vertical-align: middle;\n",
       "    }\n",
       "\n",
       "    .dataframe tbody tr th {\n",
       "        vertical-align: top;\n",
       "    }\n",
       "\n",
       "    .dataframe thead th {\n",
       "        text-align: right;\n",
       "    }\n",
       "</style>\n",
       "<table border=\"1\" class=\"dataframe\">\n",
       "  <thead>\n",
       "    <tr style=\"text-align: right;\">\n",
       "      <th></th>\n",
       "      <th>y</th>\n",
       "      <th>RUL</th>\n",
       "    </tr>\n",
       "  </thead>\n",
       "  <tbody>\n",
       "    <tr>\n",
       "      <th>257</th>\n",
       "      <td>0</td>\n",
       "      <td>2</td>\n",
       "    </tr>\n",
       "    <tr>\n",
       "      <th>258</th>\n",
       "      <td>0</td>\n",
       "      <td>1</td>\n",
       "    </tr>\n",
       "    <tr>\n",
       "      <th>259</th>\n",
       "      <td>1</td>\n",
       "      <td>0</td>\n",
       "    </tr>\n",
       "    <tr>\n",
       "      <th>260</th>\n",
       "      <td>0</td>\n",
       "      <td>516</td>\n",
       "    </tr>\n",
       "    <tr>\n",
       "      <th>261</th>\n",
       "      <td>0</td>\n",
       "      <td>515</td>\n",
       "    </tr>\n",
       "  </tbody>\n",
       "</table>\n",
       "</div>"
      ],
      "text/plain": [
       "     y  RUL\n",
       "257  0    2\n",
       "258  0    1\n",
       "259  1    0\n",
       "260  0  516\n",
       "261  0  515"
      ]
     },
     "execution_count": 7,
     "metadata": {},
     "output_type": "execute_result"
    }
   ],
   "source": [
    "pwbds.iloc[257:262,][['y','RUL']]"
   ]
  },
  {
   "cell_type": "code",
   "execution_count": 8,
   "id": "e245b2ad",
   "metadata": {},
   "outputs": [
    {
     "data": {
      "text/html": [
       "<div>\n",
       "<style scoped>\n",
       "    .dataframe tbody tr th:only-of-type {\n",
       "        vertical-align: middle;\n",
       "    }\n",
       "\n",
       "    .dataframe tbody tr th {\n",
       "        vertical-align: top;\n",
       "    }\n",
       "\n",
       "    .dataframe thead th {\n",
       "        text-align: right;\n",
       "    }\n",
       "</style>\n",
       "<table border=\"1\" class=\"dataframe\">\n",
       "  <thead>\n",
       "    <tr style=\"text-align: right;\">\n",
       "      <th></th>\n",
       "      <th>y</th>\n",
       "      <th>x1</th>\n",
       "      <th>x2</th>\n",
       "      <th>x3</th>\n",
       "      <th>x4</th>\n",
       "      <th>x5</th>\n",
       "      <th>x6</th>\n",
       "      <th>x7</th>\n",
       "      <th>x8</th>\n",
       "      <th>x9</th>\n",
       "      <th>...</th>\n",
       "      <th>x53</th>\n",
       "      <th>x54</th>\n",
       "      <th>x55</th>\n",
       "      <th>x56</th>\n",
       "      <th>x57</th>\n",
       "      <th>x58</th>\n",
       "      <th>x59</th>\n",
       "      <th>x60</th>\n",
       "      <th>x61</th>\n",
       "      <th>RUL</th>\n",
       "    </tr>\n",
       "  </thead>\n",
       "  <tbody>\n",
       "    <tr>\n",
       "      <th>count</th>\n",
       "      <td>52901.000000</td>\n",
       "      <td>52901.000000</td>\n",
       "      <td>52901.000000</td>\n",
       "      <td>52901.000000</td>\n",
       "      <td>52901.000000</td>\n",
       "      <td>52901.000000</td>\n",
       "      <td>52901.000000</td>\n",
       "      <td>52901.000000</td>\n",
       "      <td>52901.000000</td>\n",
       "      <td>52901.000000</td>\n",
       "      <td>...</td>\n",
       "      <td>52901.000000</td>\n",
       "      <td>52901.000000</td>\n",
       "      <td>52901.000000</td>\n",
       "      <td>52901.000000</td>\n",
       "      <td>52901.000000</td>\n",
       "      <td>52901.000000</td>\n",
       "      <td>52901.000000</td>\n",
       "      <td>52901.000000</td>\n",
       "      <td>52901.000000</td>\n",
       "      <td>52901.000000</td>\n",
       "    </tr>\n",
       "    <tr>\n",
       "      <th>mean</th>\n",
       "      <td>0.006862</td>\n",
       "      <td>0.057318</td>\n",
       "      <td>0.071103</td>\n",
       "      <td>0.500544</td>\n",
       "      <td>-14.627456</td>\n",
       "      <td>0.009204</td>\n",
       "      <td>1.623773</td>\n",
       "      <td>0.006993</td>\n",
       "      <td>-0.003758</td>\n",
       "      <td>-0.005368</td>\n",
       "      <td>...</td>\n",
       "      <td>0.450461</td>\n",
       "      <td>0.084254</td>\n",
       "      <td>1.141146</td>\n",
       "      <td>10.152005</td>\n",
       "      <td>0.296800</td>\n",
       "      <td>-0.002433</td>\n",
       "      <td>0.383132</td>\n",
       "      <td>0.001676</td>\n",
       "      <td>0.001077</td>\n",
       "      <td>178.428688</td>\n",
       "    </tr>\n",
       "    <tr>\n",
       "      <th>std</th>\n",
       "      <td>0.082553</td>\n",
       "      <td>0.685456</td>\n",
       "      <td>4.717738</td>\n",
       "      <td>5.805865</td>\n",
       "      <td>131.369354</td>\n",
       "      <td>0.644561</td>\n",
       "      <td>37.207917</td>\n",
       "      <td>0.105115</td>\n",
       "      <td>0.069699</td>\n",
       "      <td>0.146264</td>\n",
       "      <td>...</td>\n",
       "      <td>14.470646</td>\n",
       "      <td>3.060186</td>\n",
       "      <td>68.392643</td>\n",
       "      <td>82.087866</td>\n",
       "      <td>2.354669</td>\n",
       "      <td>0.049561</td>\n",
       "      <td>8.044379</td>\n",
       "      <td>0.004334</td>\n",
       "      <td>0.032808</td>\n",
       "      <td>159.602377</td>\n",
       "    </tr>\n",
       "    <tr>\n",
       "      <th>min</th>\n",
       "      <td>0.000000</td>\n",
       "      <td>-3.787279</td>\n",
       "      <td>-17.316550</td>\n",
       "      <td>-18.198509</td>\n",
       "      <td>-322.781610</td>\n",
       "      <td>-1.623988</td>\n",
       "      <td>-279.408440</td>\n",
       "      <td>-0.429273</td>\n",
       "      <td>-0.451141</td>\n",
       "      <td>-0.120087</td>\n",
       "      <td>...</td>\n",
       "      <td>-1817.595500</td>\n",
       "      <td>-8.210370</td>\n",
       "      <td>-230.574030</td>\n",
       "      <td>-269.039500</td>\n",
       "      <td>-12.640370</td>\n",
       "      <td>-0.149790</td>\n",
       "      <td>-100.810500</td>\n",
       "      <td>-0.006964</td>\n",
       "      <td>0.000000</td>\n",
       "      <td>0.000000</td>\n",
       "    </tr>\n",
       "    <tr>\n",
       "      <th>25%</th>\n",
       "      <td>0.000000</td>\n",
       "      <td>-0.343774</td>\n",
       "      <td>-2.254215</td>\n",
       "      <td>-3.616665</td>\n",
       "      <td>-112.744840</td>\n",
       "      <td>-0.452250</td>\n",
       "      <td>-26.403740</td>\n",
       "      <td>-0.049319</td>\n",
       "      <td>-0.051043</td>\n",
       "      <td>-0.059966</td>\n",
       "      <td>...</td>\n",
       "      <td>-1.821965</td>\n",
       "      <td>0.434740</td>\n",
       "      <td>-41.929135</td>\n",
       "      <td>-46.152106</td>\n",
       "      <td>-1.714771</td>\n",
       "      <td>0.000625</td>\n",
       "      <td>0.296717</td>\n",
       "      <td>-0.001549</td>\n",
       "      <td>0.000000</td>\n",
       "      <td>49.000000</td>\n",
       "    </tr>\n",
       "    <tr>\n",
       "      <th>50%</th>\n",
       "      <td>0.000000</td>\n",
       "      <td>0.147292</td>\n",
       "      <td>-0.165148</td>\n",
       "      <td>-0.447418</td>\n",
       "      <td>-19.511743</td>\n",
       "      <td>-0.125300</td>\n",
       "      <td>9.528359</td>\n",
       "      <td>0.000732</td>\n",
       "      <td>-0.011064</td>\n",
       "      <td>-0.030057</td>\n",
       "      <td>...</td>\n",
       "      <td>0.345516</td>\n",
       "      <td>0.641552</td>\n",
       "      <td>17.738101</td>\n",
       "      <td>3.316736</td>\n",
       "      <td>0.146862</td>\n",
       "      <td>0.013043</td>\n",
       "      <td>0.744997</td>\n",
       "      <td>0.001104</td>\n",
       "      <td>0.000000</td>\n",
       "      <td>133.000000</td>\n",
       "    </tr>\n",
       "    <tr>\n",
       "      <th>75%</th>\n",
       "      <td>0.000000</td>\n",
       "      <td>0.433430</td>\n",
       "      <td>2.149377</td>\n",
       "      <td>3.318041</td>\n",
       "      <td>83.945716</td>\n",
       "      <td>0.344991</td>\n",
       "      <td>31.551491</td>\n",
       "      <td>0.060853</td>\n",
       "      <td>0.038986</td>\n",
       "      <td>-0.000149</td>\n",
       "      <td>...</td>\n",
       "      <td>3.857723</td>\n",
       "      <td>2.670477</td>\n",
       "      <td>43.342594</td>\n",
       "      <td>64.184320</td>\n",
       "      <td>2.222118</td>\n",
       "      <td>0.021175</td>\n",
       "      <td>1.280115</td>\n",
       "      <td>0.004578</td>\n",
       "      <td>0.000000</td>\n",
       "      <td>270.000000</td>\n",
       "    </tr>\n",
       "    <tr>\n",
       "      <th>max</th>\n",
       "      <td>1.000000</td>\n",
       "      <td>3.054156</td>\n",
       "      <td>16.734899</td>\n",
       "      <td>15.900116</td>\n",
       "      <td>334.694098</td>\n",
       "      <td>4.239385</td>\n",
       "      <td>96.060768</td>\n",
       "      <td>1.705590</td>\n",
       "      <td>0.788826</td>\n",
       "      <td>3.206675</td>\n",
       "      <td>...</td>\n",
       "      <td>11.148006</td>\n",
       "      <td>6.475137</td>\n",
       "      <td>287.252017</td>\n",
       "      <td>252.147455</td>\n",
       "      <td>6.922008</td>\n",
       "      <td>0.060264</td>\n",
       "      <td>6.985460</td>\n",
       "      <td>0.020510</td>\n",
       "      <td>1.000000</td>\n",
       "      <td>762.000000</td>\n",
       "    </tr>\n",
       "  </tbody>\n",
       "</table>\n",
       "<p>8 rows × 63 columns</p>\n",
       "</div>"
      ],
      "text/plain": [
       "                  y            x1            x2            x3            x4  \\\n",
       "count  52901.000000  52901.000000  52901.000000  52901.000000  52901.000000   \n",
       "mean       0.006862      0.057318      0.071103      0.500544    -14.627456   \n",
       "std        0.082553      0.685456      4.717738      5.805865    131.369354   \n",
       "min        0.000000     -3.787279    -17.316550    -18.198509   -322.781610   \n",
       "25%        0.000000     -0.343774     -2.254215     -3.616665   -112.744840   \n",
       "50%        0.000000      0.147292     -0.165148     -0.447418    -19.511743   \n",
       "75%        0.000000      0.433430      2.149377      3.318041     83.945716   \n",
       "max        1.000000      3.054156     16.734899     15.900116    334.694098   \n",
       "\n",
       "                 x5            x6            x7            x8            x9  \\\n",
       "count  52901.000000  52901.000000  52901.000000  52901.000000  52901.000000   \n",
       "mean       0.009204      1.623773      0.006993     -0.003758     -0.005368   \n",
       "std        0.644561     37.207917      0.105115      0.069699      0.146264   \n",
       "min       -1.623988   -279.408440     -0.429273     -0.451141     -0.120087   \n",
       "25%       -0.452250    -26.403740     -0.049319     -0.051043     -0.059966   \n",
       "50%       -0.125300      9.528359      0.000732     -0.011064     -0.030057   \n",
       "75%        0.344991     31.551491      0.060853      0.038986     -0.000149   \n",
       "max        4.239385     96.060768      1.705590      0.788826      3.206675   \n",
       "\n",
       "       ...           x53           x54           x55           x56  \\\n",
       "count  ...  52901.000000  52901.000000  52901.000000  52901.000000   \n",
       "mean   ...      0.450461      0.084254      1.141146     10.152005   \n",
       "std    ...     14.470646      3.060186     68.392643     82.087866   \n",
       "min    ...  -1817.595500     -8.210370   -230.574030   -269.039500   \n",
       "25%    ...     -1.821965      0.434740    -41.929135    -46.152106   \n",
       "50%    ...      0.345516      0.641552     17.738101      3.316736   \n",
       "75%    ...      3.857723      2.670477     43.342594     64.184320   \n",
       "max    ...     11.148006      6.475137    287.252017    252.147455   \n",
       "\n",
       "                x57           x58           x59           x60           x61  \\\n",
       "count  52901.000000  52901.000000  52901.000000  52901.000000  52901.000000   \n",
       "mean       0.296800     -0.002433      0.383132      0.001676      0.001077   \n",
       "std        2.354669      0.049561      8.044379      0.004334      0.032808   \n",
       "min      -12.640370     -0.149790   -100.810500     -0.006964      0.000000   \n",
       "25%       -1.714771      0.000625      0.296717     -0.001549      0.000000   \n",
       "50%        0.146862      0.013043      0.744997      0.001104      0.000000   \n",
       "75%        2.222118      0.021175      1.280115      0.004578      0.000000   \n",
       "max        6.922008      0.060264      6.985460      0.020510      1.000000   \n",
       "\n",
       "                RUL  \n",
       "count  52901.000000  \n",
       "mean     178.428688  \n",
       "std      159.602377  \n",
       "min        0.000000  \n",
       "25%       49.000000  \n",
       "50%      133.000000  \n",
       "75%      270.000000  \n",
       "max      762.000000  \n",
       "\n",
       "[8 rows x 63 columns]"
      ]
     },
     "execution_count": 8,
     "metadata": {},
     "output_type": "execute_result"
    }
   ],
   "source": [
    "pwbds.describe()"
   ]
  },
  {
   "cell_type": "markdown",
   "id": "7c1f792f",
   "metadata": {},
   "source": [
    "## Remove Break Avalanche "
   ]
  },
  {
   "cell_type": "code",
   "execution_count": 9,
   "id": "c59d7cc7",
   "metadata": {},
   "outputs": [],
   "source": [
    "def removeBreakAvalanche (fullds):\n",
    "    clean_ds = pd.DataFrame([])\n",
    "    breaks = np.array(np.where(pwbds['y'] == 1)).reshape(-1)\n",
    "    start = 0 \n",
    "    for breakpt in breaks:\n",
    "        if (breakpt-start >= 30):\n",
    "            clean_ds = clean_ds.append(fullds.iloc[start:breakpt+1,],ignore_index = True)\n",
    "        start = breakpt+1\n",
    "    return (clean_ds)"
   ]
  },
  {
   "cell_type": "code",
   "execution_count": 10,
   "id": "194cfe10",
   "metadata": {},
   "outputs": [],
   "source": [
    "clean_ds = removeBreakAvalanche(pwbds)\n",
    "#clean_ds = pwbds"
   ]
  },
  {
   "cell_type": "code",
   "execution_count": 11,
   "id": "ec2a8d10",
   "metadata": {},
   "outputs": [
    {
     "data": {
      "text/plain": [
       "(51212, 63)"
      ]
     },
     "execution_count": 11,
     "metadata": {},
     "output_type": "execute_result"
    }
   ],
   "source": [
    "clean_ds.shape"
   ]
  },
  {
   "cell_type": "code",
   "execution_count": 12,
   "id": "d829d1ca",
   "metadata": {},
   "outputs": [
    {
     "data": {
      "text/html": [
       "<div>\n",
       "<style scoped>\n",
       "    .dataframe tbody tr th:only-of-type {\n",
       "        vertical-align: middle;\n",
       "    }\n",
       "\n",
       "    .dataframe tbody tr th {\n",
       "        vertical-align: top;\n",
       "    }\n",
       "\n",
       "    .dataframe thead th {\n",
       "        text-align: right;\n",
       "    }\n",
       "</style>\n",
       "<table border=\"1\" class=\"dataframe\">\n",
       "  <thead>\n",
       "    <tr style=\"text-align: right;\">\n",
       "      <th></th>\n",
       "      <th>y</th>\n",
       "      <th>x1</th>\n",
       "      <th>x2</th>\n",
       "      <th>x3</th>\n",
       "      <th>x4</th>\n",
       "      <th>x5</th>\n",
       "      <th>x6</th>\n",
       "      <th>x7</th>\n",
       "      <th>x8</th>\n",
       "      <th>x9</th>\n",
       "      <th>...</th>\n",
       "      <th>x53</th>\n",
       "      <th>x54</th>\n",
       "      <th>x55</th>\n",
       "      <th>x56</th>\n",
       "      <th>x57</th>\n",
       "      <th>x58</th>\n",
       "      <th>x59</th>\n",
       "      <th>x60</th>\n",
       "      <th>x61</th>\n",
       "      <th>RUL</th>\n",
       "    </tr>\n",
       "  </thead>\n",
       "  <tbody>\n",
       "    <tr>\n",
       "      <th>count</th>\n",
       "      <td>51212.000000</td>\n",
       "      <td>51212.000000</td>\n",
       "      <td>51212.000000</td>\n",
       "      <td>51212.000000</td>\n",
       "      <td>51212.000000</td>\n",
       "      <td>51212.000000</td>\n",
       "      <td>51212.000000</td>\n",
       "      <td>51212.000000</td>\n",
       "      <td>51212.000000</td>\n",
       "      <td>51212.000000</td>\n",
       "      <td>...</td>\n",
       "      <td>51212.000000</td>\n",
       "      <td>51212.000000</td>\n",
       "      <td>51212.000000</td>\n",
       "      <td>51212.000000</td>\n",
       "      <td>51212.000000</td>\n",
       "      <td>51212.000000</td>\n",
       "      <td>51212.000000</td>\n",
       "      <td>51212.000000</td>\n",
       "      <td>51212.000000</td>\n",
       "      <td>51212.000000</td>\n",
       "    </tr>\n",
       "    <tr>\n",
       "      <th>mean</th>\n",
       "      <td>0.004745</td>\n",
       "      <td>0.050461</td>\n",
       "      <td>0.088054</td>\n",
       "      <td>0.638865</td>\n",
       "      <td>-15.212512</td>\n",
       "      <td>0.012046</td>\n",
       "      <td>2.867002</td>\n",
       "      <td>0.005429</td>\n",
       "      <td>-0.004413</td>\n",
       "      <td>-0.008527</td>\n",
       "      <td>...</td>\n",
       "      <td>0.412822</td>\n",
       "      <td>0.185933</td>\n",
       "      <td>1.829511</td>\n",
       "      <td>11.952184</td>\n",
       "      <td>0.296988</td>\n",
       "      <td>-0.002571</td>\n",
       "      <td>0.363890</td>\n",
       "      <td>0.001611</td>\n",
       "      <td>0.000644</td>\n",
       "      <td>184.004999</td>\n",
       "    </tr>\n",
       "    <tr>\n",
       "      <th>std</th>\n",
       "      <td>0.068721</td>\n",
       "      <td>0.675284</td>\n",
       "      <td>4.767542</td>\n",
       "      <td>5.817390</td>\n",
       "      <td>131.438198</td>\n",
       "      <td>0.649975</td>\n",
       "      <td>36.421118</td>\n",
       "      <td>0.104610</td>\n",
       "      <td>0.067639</td>\n",
       "      <td>0.138477</td>\n",
       "      <td>...</td>\n",
       "      <td>14.684128</td>\n",
       "      <td>3.011745</td>\n",
       "      <td>68.354633</td>\n",
       "      <td>82.256222</td>\n",
       "      <td>2.355087</td>\n",
       "      <td>0.049748</td>\n",
       "      <td>8.173235</td>\n",
       "      <td>0.004275</td>\n",
       "      <td>0.025377</td>\n",
       "      <td>159.177196</td>\n",
       "    </tr>\n",
       "    <tr>\n",
       "      <th>min</th>\n",
       "      <td>0.000000</td>\n",
       "      <td>-3.787279</td>\n",
       "      <td>-17.316550</td>\n",
       "      <td>-18.198509</td>\n",
       "      <td>-322.781610</td>\n",
       "      <td>-1.623988</td>\n",
       "      <td>-279.408440</td>\n",
       "      <td>-0.429273</td>\n",
       "      <td>-0.451141</td>\n",
       "      <td>-0.120087</td>\n",
       "      <td>...</td>\n",
       "      <td>-1817.595500</td>\n",
       "      <td>-5.370937</td>\n",
       "      <td>-230.574030</td>\n",
       "      <td>-269.039500</td>\n",
       "      <td>-12.640370</td>\n",
       "      <td>-0.149790</td>\n",
       "      <td>-100.810500</td>\n",
       "      <td>-0.006964</td>\n",
       "      <td>0.000000</td>\n",
       "      <td>0.000000</td>\n",
       "    </tr>\n",
       "    <tr>\n",
       "      <th>25%</th>\n",
       "      <td>0.000000</td>\n",
       "      <td>-0.346791</td>\n",
       "      <td>-2.259969</td>\n",
       "      <td>-3.463973</td>\n",
       "      <td>-112.978430</td>\n",
       "      <td>-0.454295</td>\n",
       "      <td>-19.421226</td>\n",
       "      <td>-0.049319</td>\n",
       "      <td>-0.051043</td>\n",
       "      <td>-0.059966</td>\n",
       "      <td>...</td>\n",
       "      <td>-1.980900</td>\n",
       "      <td>0.497023</td>\n",
       "      <td>-40.634335</td>\n",
       "      <td>-44.464499</td>\n",
       "      <td>-1.720875</td>\n",
       "      <td>0.000753</td>\n",
       "      <td>0.297320</td>\n",
       "      <td>-0.001610</td>\n",
       "      <td>0.000000</td>\n",
       "      <td>56.000000</td>\n",
       "    </tr>\n",
       "    <tr>\n",
       "      <th>50%</th>\n",
       "      <td>0.000000</td>\n",
       "      <td>0.144114</td>\n",
       "      <td>-0.158786</td>\n",
       "      <td>-0.268385</td>\n",
       "      <td>-19.380945</td>\n",
       "      <td>-0.128397</td>\n",
       "      <td>10.098061</td>\n",
       "      <td>0.000732</td>\n",
       "      <td>-0.011064</td>\n",
       "      <td>-0.030057</td>\n",
       "      <td>...</td>\n",
       "      <td>0.291561</td>\n",
       "      <td>0.660142</td>\n",
       "      <td>18.540958</td>\n",
       "      <td>5.321893</td>\n",
       "      <td>0.146862</td>\n",
       "      <td>0.012858</td>\n",
       "      <td>0.746096</td>\n",
       "      <td>0.001064</td>\n",
       "      <td>0.000000</td>\n",
       "      <td>139.000000</td>\n",
       "    </tr>\n",
       "    <tr>\n",
       "      <th>75%</th>\n",
       "      <td>0.000000</td>\n",
       "      <td>0.423192</td>\n",
       "      <td>2.213771</td>\n",
       "      <td>3.439507</td>\n",
       "      <td>83.836585</td>\n",
       "      <td>0.353445</td>\n",
       "      <td>32.113739</td>\n",
       "      <td>0.060853</td>\n",
       "      <td>0.038986</td>\n",
       "      <td>-0.000149</td>\n",
       "      <td>...</td>\n",
       "      <td>3.739315</td>\n",
       "      <td>2.679877</td>\n",
       "      <td>43.373112</td>\n",
       "      <td>66.369623</td>\n",
       "      <td>2.222118</td>\n",
       "      <td>0.021139</td>\n",
       "      <td>1.280321</td>\n",
       "      <td>0.004356</td>\n",
       "      <td>0.000000</td>\n",
       "      <td>276.000000</td>\n",
       "    </tr>\n",
       "    <tr>\n",
       "      <th>max</th>\n",
       "      <td>1.000000</td>\n",
       "      <td>3.054156</td>\n",
       "      <td>16.734899</td>\n",
       "      <td>15.900116</td>\n",
       "      <td>296.772589</td>\n",
       "      <td>4.239385</td>\n",
       "      <td>68.886910</td>\n",
       "      <td>1.705590</td>\n",
       "      <td>0.453273</td>\n",
       "      <td>3.206675</td>\n",
       "      <td>...</td>\n",
       "      <td>11.148006</td>\n",
       "      <td>6.475137</td>\n",
       "      <td>283.522037</td>\n",
       "      <td>252.147455</td>\n",
       "      <td>6.922008</td>\n",
       "      <td>0.060264</td>\n",
       "      <td>6.985460</td>\n",
       "      <td>0.020510</td>\n",
       "      <td>1.000000</td>\n",
       "      <td>762.000000</td>\n",
       "    </tr>\n",
       "  </tbody>\n",
       "</table>\n",
       "<p>8 rows × 63 columns</p>\n",
       "</div>"
      ],
      "text/plain": [
       "                  y            x1            x2            x3            x4  \\\n",
       "count  51212.000000  51212.000000  51212.000000  51212.000000  51212.000000   \n",
       "mean       0.004745      0.050461      0.088054      0.638865    -15.212512   \n",
       "std        0.068721      0.675284      4.767542      5.817390    131.438198   \n",
       "min        0.000000     -3.787279    -17.316550    -18.198509   -322.781610   \n",
       "25%        0.000000     -0.346791     -2.259969     -3.463973   -112.978430   \n",
       "50%        0.000000      0.144114     -0.158786     -0.268385    -19.380945   \n",
       "75%        0.000000      0.423192      2.213771      3.439507     83.836585   \n",
       "max        1.000000      3.054156     16.734899     15.900116    296.772589   \n",
       "\n",
       "                 x5            x6            x7            x8            x9  \\\n",
       "count  51212.000000  51212.000000  51212.000000  51212.000000  51212.000000   \n",
       "mean       0.012046      2.867002      0.005429     -0.004413     -0.008527   \n",
       "std        0.649975     36.421118      0.104610      0.067639      0.138477   \n",
       "min       -1.623988   -279.408440     -0.429273     -0.451141     -0.120087   \n",
       "25%       -0.454295    -19.421226     -0.049319     -0.051043     -0.059966   \n",
       "50%       -0.128397     10.098061      0.000732     -0.011064     -0.030057   \n",
       "75%        0.353445     32.113739      0.060853      0.038986     -0.000149   \n",
       "max        4.239385     68.886910      1.705590      0.453273      3.206675   \n",
       "\n",
       "       ...           x53           x54           x55           x56  \\\n",
       "count  ...  51212.000000  51212.000000  51212.000000  51212.000000   \n",
       "mean   ...      0.412822      0.185933      1.829511     11.952184   \n",
       "std    ...     14.684128      3.011745     68.354633     82.256222   \n",
       "min    ...  -1817.595500     -5.370937   -230.574030   -269.039500   \n",
       "25%    ...     -1.980900      0.497023    -40.634335    -44.464499   \n",
       "50%    ...      0.291561      0.660142     18.540958      5.321893   \n",
       "75%    ...      3.739315      2.679877     43.373112     66.369623   \n",
       "max    ...     11.148006      6.475137    283.522037    252.147455   \n",
       "\n",
       "                x57           x58           x59           x60           x61  \\\n",
       "count  51212.000000  51212.000000  51212.000000  51212.000000  51212.000000   \n",
       "mean       0.296988     -0.002571      0.363890      0.001611      0.000644   \n",
       "std        2.355087      0.049748      8.173235      0.004275      0.025377   \n",
       "min      -12.640370     -0.149790   -100.810500     -0.006964      0.000000   \n",
       "25%       -1.720875      0.000753      0.297320     -0.001610      0.000000   \n",
       "50%        0.146862      0.012858      0.746096      0.001064      0.000000   \n",
       "75%        2.222118      0.021139      1.280321      0.004356      0.000000   \n",
       "max        6.922008      0.060264      6.985460      0.020510      1.000000   \n",
       "\n",
       "                RUL  \n",
       "count  51212.000000  \n",
       "mean     184.004999  \n",
       "std      159.177196  \n",
       "min        0.000000  \n",
       "25%       56.000000  \n",
       "50%      139.000000  \n",
       "75%      276.000000  \n",
       "max      762.000000  \n",
       "\n",
       "[8 rows x 63 columns]"
      ]
     },
     "execution_count": 12,
     "metadata": {},
     "output_type": "execute_result"
    }
   ],
   "source": [
    "clean_ds.describe()"
   ]
  },
  {
   "cell_type": "markdown",
   "id": "386c0a62",
   "metadata": {},
   "source": [
    "## Marcação de falha no próximo período "
   ]
  },
  {
   "cell_type": "markdown",
   "id": "11757518",
   "metadata": {},
   "source": [
    "Using RUL, we can create a label indicating time to failure. We define a boolean (True\\False) value for NEXT_H indicating the engine will fail within 60 minutes (RUL  <=60 ). \n",
    "\n",
    "We can also define a multiclass MULTI  ∈{0,1,2}  indicating {Healthy, RUL <=60, RUL <=120} minutes."
   ]
  },
  {
   "cell_type": "code",
   "execution_count": 13,
   "id": "e8a41cab",
   "metadata": {},
   "outputs": [],
   "source": [
    "clean_ds['BRK_WINDOW']=0"
   ]
  },
  {
   "cell_type": "code",
   "execution_count": 14,
   "id": "01f0a5e0",
   "metadata": {},
   "outputs": [
    {
     "data": {
      "text/html": [
       "<div>\n",
       "<style scoped>\n",
       "    .dataframe tbody tr th:only-of-type {\n",
       "        vertical-align: middle;\n",
       "    }\n",
       "\n",
       "    .dataframe tbody tr th {\n",
       "        vertical-align: top;\n",
       "    }\n",
       "\n",
       "    .dataframe thead th {\n",
       "        text-align: right;\n",
       "    }\n",
       "</style>\n",
       "<table border=\"1\" class=\"dataframe\">\n",
       "  <thead>\n",
       "    <tr style=\"text-align: right;\">\n",
       "      <th></th>\n",
       "      <th>y</th>\n",
       "      <th>x1</th>\n",
       "      <th>x2</th>\n",
       "      <th>x3</th>\n",
       "      <th>x4</th>\n",
       "      <th>x5</th>\n",
       "      <th>x6</th>\n",
       "      <th>x7</th>\n",
       "      <th>x8</th>\n",
       "      <th>x9</th>\n",
       "      <th>...</th>\n",
       "      <th>x54</th>\n",
       "      <th>x55</th>\n",
       "      <th>x56</th>\n",
       "      <th>x57</th>\n",
       "      <th>x58</th>\n",
       "      <th>x59</th>\n",
       "      <th>x60</th>\n",
       "      <th>x61</th>\n",
       "      <th>RUL</th>\n",
       "      <th>BRK_WINDOW</th>\n",
       "    </tr>\n",
       "  </thead>\n",
       "  <tbody>\n",
       "    <tr>\n",
       "      <th>count</th>\n",
       "      <td>51212.000000</td>\n",
       "      <td>51212.000000</td>\n",
       "      <td>51212.000000</td>\n",
       "      <td>51212.000000</td>\n",
       "      <td>51212.000000</td>\n",
       "      <td>51212.000000</td>\n",
       "      <td>51212.000000</td>\n",
       "      <td>51212.000000</td>\n",
       "      <td>51212.000000</td>\n",
       "      <td>51212.000000</td>\n",
       "      <td>...</td>\n",
       "      <td>51212.000000</td>\n",
       "      <td>51212.000000</td>\n",
       "      <td>51212.000000</td>\n",
       "      <td>51212.000000</td>\n",
       "      <td>51212.000000</td>\n",
       "      <td>51212.000000</td>\n",
       "      <td>51212.000000</td>\n",
       "      <td>51212.000000</td>\n",
       "      <td>51212.000000</td>\n",
       "      <td>51212.0</td>\n",
       "    </tr>\n",
       "    <tr>\n",
       "      <th>mean</th>\n",
       "      <td>0.004745</td>\n",
       "      <td>0.050461</td>\n",
       "      <td>0.088054</td>\n",
       "      <td>0.638865</td>\n",
       "      <td>-15.212512</td>\n",
       "      <td>0.012046</td>\n",
       "      <td>2.867002</td>\n",
       "      <td>0.005429</td>\n",
       "      <td>-0.004413</td>\n",
       "      <td>-0.008527</td>\n",
       "      <td>...</td>\n",
       "      <td>0.185933</td>\n",
       "      <td>1.829511</td>\n",
       "      <td>11.952184</td>\n",
       "      <td>0.296988</td>\n",
       "      <td>-0.002571</td>\n",
       "      <td>0.363890</td>\n",
       "      <td>0.001611</td>\n",
       "      <td>0.000644</td>\n",
       "      <td>184.004999</td>\n",
       "      <td>0.0</td>\n",
       "    </tr>\n",
       "    <tr>\n",
       "      <th>std</th>\n",
       "      <td>0.068721</td>\n",
       "      <td>0.675284</td>\n",
       "      <td>4.767542</td>\n",
       "      <td>5.817390</td>\n",
       "      <td>131.438198</td>\n",
       "      <td>0.649975</td>\n",
       "      <td>36.421118</td>\n",
       "      <td>0.104610</td>\n",
       "      <td>0.067639</td>\n",
       "      <td>0.138477</td>\n",
       "      <td>...</td>\n",
       "      <td>3.011745</td>\n",
       "      <td>68.354633</td>\n",
       "      <td>82.256222</td>\n",
       "      <td>2.355087</td>\n",
       "      <td>0.049748</td>\n",
       "      <td>8.173235</td>\n",
       "      <td>0.004275</td>\n",
       "      <td>0.025377</td>\n",
       "      <td>159.177196</td>\n",
       "      <td>0.0</td>\n",
       "    </tr>\n",
       "    <tr>\n",
       "      <th>min</th>\n",
       "      <td>0.000000</td>\n",
       "      <td>-3.787279</td>\n",
       "      <td>-17.316550</td>\n",
       "      <td>-18.198509</td>\n",
       "      <td>-322.781610</td>\n",
       "      <td>-1.623988</td>\n",
       "      <td>-279.408440</td>\n",
       "      <td>-0.429273</td>\n",
       "      <td>-0.451141</td>\n",
       "      <td>-0.120087</td>\n",
       "      <td>...</td>\n",
       "      <td>-5.370937</td>\n",
       "      <td>-230.574030</td>\n",
       "      <td>-269.039500</td>\n",
       "      <td>-12.640370</td>\n",
       "      <td>-0.149790</td>\n",
       "      <td>-100.810500</td>\n",
       "      <td>-0.006964</td>\n",
       "      <td>0.000000</td>\n",
       "      <td>0.000000</td>\n",
       "      <td>0.0</td>\n",
       "    </tr>\n",
       "    <tr>\n",
       "      <th>25%</th>\n",
       "      <td>0.000000</td>\n",
       "      <td>-0.346791</td>\n",
       "      <td>-2.259969</td>\n",
       "      <td>-3.463973</td>\n",
       "      <td>-112.978430</td>\n",
       "      <td>-0.454295</td>\n",
       "      <td>-19.421226</td>\n",
       "      <td>-0.049319</td>\n",
       "      <td>-0.051043</td>\n",
       "      <td>-0.059966</td>\n",
       "      <td>...</td>\n",
       "      <td>0.497023</td>\n",
       "      <td>-40.634335</td>\n",
       "      <td>-44.464499</td>\n",
       "      <td>-1.720875</td>\n",
       "      <td>0.000753</td>\n",
       "      <td>0.297320</td>\n",
       "      <td>-0.001610</td>\n",
       "      <td>0.000000</td>\n",
       "      <td>56.000000</td>\n",
       "      <td>0.0</td>\n",
       "    </tr>\n",
       "    <tr>\n",
       "      <th>50%</th>\n",
       "      <td>0.000000</td>\n",
       "      <td>0.144114</td>\n",
       "      <td>-0.158786</td>\n",
       "      <td>-0.268385</td>\n",
       "      <td>-19.380945</td>\n",
       "      <td>-0.128397</td>\n",
       "      <td>10.098061</td>\n",
       "      <td>0.000732</td>\n",
       "      <td>-0.011064</td>\n",
       "      <td>-0.030057</td>\n",
       "      <td>...</td>\n",
       "      <td>0.660142</td>\n",
       "      <td>18.540958</td>\n",
       "      <td>5.321893</td>\n",
       "      <td>0.146862</td>\n",
       "      <td>0.012858</td>\n",
       "      <td>0.746096</td>\n",
       "      <td>0.001064</td>\n",
       "      <td>0.000000</td>\n",
       "      <td>139.000000</td>\n",
       "      <td>0.0</td>\n",
       "    </tr>\n",
       "    <tr>\n",
       "      <th>75%</th>\n",
       "      <td>0.000000</td>\n",
       "      <td>0.423192</td>\n",
       "      <td>2.213771</td>\n",
       "      <td>3.439507</td>\n",
       "      <td>83.836585</td>\n",
       "      <td>0.353445</td>\n",
       "      <td>32.113739</td>\n",
       "      <td>0.060853</td>\n",
       "      <td>0.038986</td>\n",
       "      <td>-0.000149</td>\n",
       "      <td>...</td>\n",
       "      <td>2.679877</td>\n",
       "      <td>43.373112</td>\n",
       "      <td>66.369623</td>\n",
       "      <td>2.222118</td>\n",
       "      <td>0.021139</td>\n",
       "      <td>1.280321</td>\n",
       "      <td>0.004356</td>\n",
       "      <td>0.000000</td>\n",
       "      <td>276.000000</td>\n",
       "      <td>0.0</td>\n",
       "    </tr>\n",
       "    <tr>\n",
       "      <th>max</th>\n",
       "      <td>1.000000</td>\n",
       "      <td>3.054156</td>\n",
       "      <td>16.734899</td>\n",
       "      <td>15.900116</td>\n",
       "      <td>296.772589</td>\n",
       "      <td>4.239385</td>\n",
       "      <td>68.886910</td>\n",
       "      <td>1.705590</td>\n",
       "      <td>0.453273</td>\n",
       "      <td>3.206675</td>\n",
       "      <td>...</td>\n",
       "      <td>6.475137</td>\n",
       "      <td>283.522037</td>\n",
       "      <td>252.147455</td>\n",
       "      <td>6.922008</td>\n",
       "      <td>0.060264</td>\n",
       "      <td>6.985460</td>\n",
       "      <td>0.020510</td>\n",
       "      <td>1.000000</td>\n",
       "      <td>762.000000</td>\n",
       "      <td>0.0</td>\n",
       "    </tr>\n",
       "  </tbody>\n",
       "</table>\n",
       "<p>8 rows × 64 columns</p>\n",
       "</div>"
      ],
      "text/plain": [
       "                  y            x1            x2            x3            x4  \\\n",
       "count  51212.000000  51212.000000  51212.000000  51212.000000  51212.000000   \n",
       "mean       0.004745      0.050461      0.088054      0.638865    -15.212512   \n",
       "std        0.068721      0.675284      4.767542      5.817390    131.438198   \n",
       "min        0.000000     -3.787279    -17.316550    -18.198509   -322.781610   \n",
       "25%        0.000000     -0.346791     -2.259969     -3.463973   -112.978430   \n",
       "50%        0.000000      0.144114     -0.158786     -0.268385    -19.380945   \n",
       "75%        0.000000      0.423192      2.213771      3.439507     83.836585   \n",
       "max        1.000000      3.054156     16.734899     15.900116    296.772589   \n",
       "\n",
       "                 x5            x6            x7            x8            x9  \\\n",
       "count  51212.000000  51212.000000  51212.000000  51212.000000  51212.000000   \n",
       "mean       0.012046      2.867002      0.005429     -0.004413     -0.008527   \n",
       "std        0.649975     36.421118      0.104610      0.067639      0.138477   \n",
       "min       -1.623988   -279.408440     -0.429273     -0.451141     -0.120087   \n",
       "25%       -0.454295    -19.421226     -0.049319     -0.051043     -0.059966   \n",
       "50%       -0.128397     10.098061      0.000732     -0.011064     -0.030057   \n",
       "75%        0.353445     32.113739      0.060853      0.038986     -0.000149   \n",
       "max        4.239385     68.886910      1.705590      0.453273      3.206675   \n",
       "\n",
       "       ...           x54           x55           x56           x57  \\\n",
       "count  ...  51212.000000  51212.000000  51212.000000  51212.000000   \n",
       "mean   ...      0.185933      1.829511     11.952184      0.296988   \n",
       "std    ...      3.011745     68.354633     82.256222      2.355087   \n",
       "min    ...     -5.370937   -230.574030   -269.039500    -12.640370   \n",
       "25%    ...      0.497023    -40.634335    -44.464499     -1.720875   \n",
       "50%    ...      0.660142     18.540958      5.321893      0.146862   \n",
       "75%    ...      2.679877     43.373112     66.369623      2.222118   \n",
       "max    ...      6.475137    283.522037    252.147455      6.922008   \n",
       "\n",
       "                x58           x59           x60           x61           RUL  \\\n",
       "count  51212.000000  51212.000000  51212.000000  51212.000000  51212.000000   \n",
       "mean      -0.002571      0.363890      0.001611      0.000644    184.004999   \n",
       "std        0.049748      8.173235      0.004275      0.025377    159.177196   \n",
       "min       -0.149790   -100.810500     -0.006964      0.000000      0.000000   \n",
       "25%        0.000753      0.297320     -0.001610      0.000000     56.000000   \n",
       "50%        0.012858      0.746096      0.001064      0.000000    139.000000   \n",
       "75%        0.021139      1.280321      0.004356      0.000000    276.000000   \n",
       "max        0.060264      6.985460      0.020510      1.000000    762.000000   \n",
       "\n",
       "       BRK_WINDOW  \n",
       "count     51212.0  \n",
       "mean          0.0  \n",
       "std           0.0  \n",
       "min           0.0  \n",
       "25%           0.0  \n",
       "50%           0.0  \n",
       "75%           0.0  \n",
       "max           0.0  \n",
       "\n",
       "[8 rows x 64 columns]"
      ]
     },
     "execution_count": 14,
     "metadata": {},
     "output_type": "execute_result"
    }
   ],
   "source": [
    "clean_ds.describe()"
   ]
  },
  {
   "cell_type": "code",
   "execution_count": 15,
   "id": "4b70995b",
   "metadata": {},
   "outputs": [],
   "source": [
    "clean_ds.loc[pwbds['RUL'] > 60 , 'BRK_WINDOW'] = 2\n",
    "clean_ds.loc[(pwbds['RUL'] <= 60) & (clean_ds['RUL'] > 30) , 'BRK_WINDOW'] = 1\n",
    "clean_ds.loc[(pwbds['RUL'] <= 30) , 'BRK_WINDOW'] = 0"
   ]
  },
  {
   "cell_type": "code",
   "execution_count": 16,
   "id": "c1f3a5df",
   "metadata": {},
   "outputs": [
    {
     "data": {
      "text/html": [
       "<div>\n",
       "<style scoped>\n",
       "    .dataframe tbody tr th:only-of-type {\n",
       "        vertical-align: middle;\n",
       "    }\n",
       "\n",
       "    .dataframe tbody tr th {\n",
       "        vertical-align: top;\n",
       "    }\n",
       "\n",
       "    .dataframe thead th {\n",
       "        text-align: right;\n",
       "    }\n",
       "</style>\n",
       "<table border=\"1\" class=\"dataframe\">\n",
       "  <thead>\n",
       "    <tr style=\"text-align: right;\">\n",
       "      <th></th>\n",
       "      <th>y</th>\n",
       "      <th>x1</th>\n",
       "      <th>x2</th>\n",
       "      <th>x3</th>\n",
       "      <th>x4</th>\n",
       "      <th>x5</th>\n",
       "      <th>x6</th>\n",
       "      <th>x7</th>\n",
       "      <th>x8</th>\n",
       "      <th>x9</th>\n",
       "      <th>...</th>\n",
       "      <th>x54</th>\n",
       "      <th>x55</th>\n",
       "      <th>x56</th>\n",
       "      <th>x57</th>\n",
       "      <th>x58</th>\n",
       "      <th>x59</th>\n",
       "      <th>x60</th>\n",
       "      <th>x61</th>\n",
       "      <th>RUL</th>\n",
       "      <th>BRK_WINDOW</th>\n",
       "    </tr>\n",
       "  </thead>\n",
       "  <tbody>\n",
       "    <tr>\n",
       "      <th>count</th>\n",
       "      <td>51212.000000</td>\n",
       "      <td>51212.000000</td>\n",
       "      <td>51212.000000</td>\n",
       "      <td>51212.000000</td>\n",
       "      <td>51212.000000</td>\n",
       "      <td>51212.000000</td>\n",
       "      <td>51212.000000</td>\n",
       "      <td>51212.000000</td>\n",
       "      <td>51212.000000</td>\n",
       "      <td>51212.000000</td>\n",
       "      <td>...</td>\n",
       "      <td>51212.000000</td>\n",
       "      <td>51212.000000</td>\n",
       "      <td>51212.000000</td>\n",
       "      <td>51212.000000</td>\n",
       "      <td>51212.000000</td>\n",
       "      <td>51212.000000</td>\n",
       "      <td>51212.000000</td>\n",
       "      <td>51212.000000</td>\n",
       "      <td>51212.000000</td>\n",
       "      <td>51212.000000</td>\n",
       "    </tr>\n",
       "    <tr>\n",
       "      <th>mean</th>\n",
       "      <td>0.004745</td>\n",
       "      <td>0.050461</td>\n",
       "      <td>0.088054</td>\n",
       "      <td>0.638865</td>\n",
       "      <td>-15.212512</td>\n",
       "      <td>0.012046</td>\n",
       "      <td>2.867002</td>\n",
       "      <td>0.005429</td>\n",
       "      <td>-0.004413</td>\n",
       "      <td>-0.008527</td>\n",
       "      <td>...</td>\n",
       "      <td>0.185933</td>\n",
       "      <td>1.829511</td>\n",
       "      <td>11.952184</td>\n",
       "      <td>0.296988</td>\n",
       "      <td>-0.002571</td>\n",
       "      <td>0.363890</td>\n",
       "      <td>0.001611</td>\n",
       "      <td>0.000644</td>\n",
       "      <td>184.004999</td>\n",
       "      <td>1.521636</td>\n",
       "    </tr>\n",
       "    <tr>\n",
       "      <th>std</th>\n",
       "      <td>0.068721</td>\n",
       "      <td>0.675284</td>\n",
       "      <td>4.767542</td>\n",
       "      <td>5.817390</td>\n",
       "      <td>131.438198</td>\n",
       "      <td>0.649975</td>\n",
       "      <td>36.421118</td>\n",
       "      <td>0.104610</td>\n",
       "      <td>0.067639</td>\n",
       "      <td>0.138477</td>\n",
       "      <td>...</td>\n",
       "      <td>3.011745</td>\n",
       "      <td>68.354633</td>\n",
       "      <td>82.256222</td>\n",
       "      <td>2.355087</td>\n",
       "      <td>0.049748</td>\n",
       "      <td>8.173235</td>\n",
       "      <td>0.004275</td>\n",
       "      <td>0.025377</td>\n",
       "      <td>159.177196</td>\n",
       "      <td>0.794218</td>\n",
       "    </tr>\n",
       "    <tr>\n",
       "      <th>min</th>\n",
       "      <td>0.000000</td>\n",
       "      <td>-3.787279</td>\n",
       "      <td>-17.316550</td>\n",
       "      <td>-18.198509</td>\n",
       "      <td>-322.781610</td>\n",
       "      <td>-1.623988</td>\n",
       "      <td>-279.408440</td>\n",
       "      <td>-0.429273</td>\n",
       "      <td>-0.451141</td>\n",
       "      <td>-0.120087</td>\n",
       "      <td>...</td>\n",
       "      <td>-5.370937</td>\n",
       "      <td>-230.574030</td>\n",
       "      <td>-269.039500</td>\n",
       "      <td>-12.640370</td>\n",
       "      <td>-0.149790</td>\n",
       "      <td>-100.810500</td>\n",
       "      <td>-0.006964</td>\n",
       "      <td>0.000000</td>\n",
       "      <td>0.000000</td>\n",
       "      <td>0.000000</td>\n",
       "    </tr>\n",
       "    <tr>\n",
       "      <th>25%</th>\n",
       "      <td>0.000000</td>\n",
       "      <td>-0.346791</td>\n",
       "      <td>-2.259969</td>\n",
       "      <td>-3.463973</td>\n",
       "      <td>-112.978430</td>\n",
       "      <td>-0.454295</td>\n",
       "      <td>-19.421226</td>\n",
       "      <td>-0.049319</td>\n",
       "      <td>-0.051043</td>\n",
       "      <td>-0.059966</td>\n",
       "      <td>...</td>\n",
       "      <td>0.497023</td>\n",
       "      <td>-40.634335</td>\n",
       "      <td>-44.464499</td>\n",
       "      <td>-1.720875</td>\n",
       "      <td>0.000753</td>\n",
       "      <td>0.297320</td>\n",
       "      <td>-0.001610</td>\n",
       "      <td>0.000000</td>\n",
       "      <td>56.000000</td>\n",
       "      <td>1.000000</td>\n",
       "    </tr>\n",
       "    <tr>\n",
       "      <th>50%</th>\n",
       "      <td>0.000000</td>\n",
       "      <td>0.144114</td>\n",
       "      <td>-0.158786</td>\n",
       "      <td>-0.268385</td>\n",
       "      <td>-19.380945</td>\n",
       "      <td>-0.128397</td>\n",
       "      <td>10.098061</td>\n",
       "      <td>0.000732</td>\n",
       "      <td>-0.011064</td>\n",
       "      <td>-0.030057</td>\n",
       "      <td>...</td>\n",
       "      <td>0.660142</td>\n",
       "      <td>18.540958</td>\n",
       "      <td>5.321893</td>\n",
       "      <td>0.146862</td>\n",
       "      <td>0.012858</td>\n",
       "      <td>0.746096</td>\n",
       "      <td>0.001064</td>\n",
       "      <td>0.000000</td>\n",
       "      <td>139.000000</td>\n",
       "      <td>2.000000</td>\n",
       "    </tr>\n",
       "    <tr>\n",
       "      <th>75%</th>\n",
       "      <td>0.000000</td>\n",
       "      <td>0.423192</td>\n",
       "      <td>2.213771</td>\n",
       "      <td>3.439507</td>\n",
       "      <td>83.836585</td>\n",
       "      <td>0.353445</td>\n",
       "      <td>32.113739</td>\n",
       "      <td>0.060853</td>\n",
       "      <td>0.038986</td>\n",
       "      <td>-0.000149</td>\n",
       "      <td>...</td>\n",
       "      <td>2.679877</td>\n",
       "      <td>43.373112</td>\n",
       "      <td>66.369623</td>\n",
       "      <td>2.222118</td>\n",
       "      <td>0.021139</td>\n",
       "      <td>1.280321</td>\n",
       "      <td>0.004356</td>\n",
       "      <td>0.000000</td>\n",
       "      <td>276.000000</td>\n",
       "      <td>2.000000</td>\n",
       "    </tr>\n",
       "    <tr>\n",
       "      <th>max</th>\n",
       "      <td>1.000000</td>\n",
       "      <td>3.054156</td>\n",
       "      <td>16.734899</td>\n",
       "      <td>15.900116</td>\n",
       "      <td>296.772589</td>\n",
       "      <td>4.239385</td>\n",
       "      <td>68.886910</td>\n",
       "      <td>1.705590</td>\n",
       "      <td>0.453273</td>\n",
       "      <td>3.206675</td>\n",
       "      <td>...</td>\n",
       "      <td>6.475137</td>\n",
       "      <td>283.522037</td>\n",
       "      <td>252.147455</td>\n",
       "      <td>6.922008</td>\n",
       "      <td>0.060264</td>\n",
       "      <td>6.985460</td>\n",
       "      <td>0.020510</td>\n",
       "      <td>1.000000</td>\n",
       "      <td>762.000000</td>\n",
       "      <td>2.000000</td>\n",
       "    </tr>\n",
       "  </tbody>\n",
       "</table>\n",
       "<p>8 rows × 64 columns</p>\n",
       "</div>"
      ],
      "text/plain": [
       "                  y            x1            x2            x3            x4  \\\n",
       "count  51212.000000  51212.000000  51212.000000  51212.000000  51212.000000   \n",
       "mean       0.004745      0.050461      0.088054      0.638865    -15.212512   \n",
       "std        0.068721      0.675284      4.767542      5.817390    131.438198   \n",
       "min        0.000000     -3.787279    -17.316550    -18.198509   -322.781610   \n",
       "25%        0.000000     -0.346791     -2.259969     -3.463973   -112.978430   \n",
       "50%        0.000000      0.144114     -0.158786     -0.268385    -19.380945   \n",
       "75%        0.000000      0.423192      2.213771      3.439507     83.836585   \n",
       "max        1.000000      3.054156     16.734899     15.900116    296.772589   \n",
       "\n",
       "                 x5            x6            x7            x8            x9  \\\n",
       "count  51212.000000  51212.000000  51212.000000  51212.000000  51212.000000   \n",
       "mean       0.012046      2.867002      0.005429     -0.004413     -0.008527   \n",
       "std        0.649975     36.421118      0.104610      0.067639      0.138477   \n",
       "min       -1.623988   -279.408440     -0.429273     -0.451141     -0.120087   \n",
       "25%       -0.454295    -19.421226     -0.049319     -0.051043     -0.059966   \n",
       "50%       -0.128397     10.098061      0.000732     -0.011064     -0.030057   \n",
       "75%        0.353445     32.113739      0.060853      0.038986     -0.000149   \n",
       "max        4.239385     68.886910      1.705590      0.453273      3.206675   \n",
       "\n",
       "       ...           x54           x55           x56           x57  \\\n",
       "count  ...  51212.000000  51212.000000  51212.000000  51212.000000   \n",
       "mean   ...      0.185933      1.829511     11.952184      0.296988   \n",
       "std    ...      3.011745     68.354633     82.256222      2.355087   \n",
       "min    ...     -5.370937   -230.574030   -269.039500    -12.640370   \n",
       "25%    ...      0.497023    -40.634335    -44.464499     -1.720875   \n",
       "50%    ...      0.660142     18.540958      5.321893      0.146862   \n",
       "75%    ...      2.679877     43.373112     66.369623      2.222118   \n",
       "max    ...      6.475137    283.522037    252.147455      6.922008   \n",
       "\n",
       "                x58           x59           x60           x61           RUL  \\\n",
       "count  51212.000000  51212.000000  51212.000000  51212.000000  51212.000000   \n",
       "mean      -0.002571      0.363890      0.001611      0.000644    184.004999   \n",
       "std        0.049748      8.173235      0.004275      0.025377    159.177196   \n",
       "min       -0.149790   -100.810500     -0.006964      0.000000      0.000000   \n",
       "25%        0.000753      0.297320     -0.001610      0.000000     56.000000   \n",
       "50%        0.012858      0.746096      0.001064      0.000000    139.000000   \n",
       "75%        0.021139      1.280321      0.004356      0.000000    276.000000   \n",
       "max        0.060264      6.985460      0.020510      1.000000    762.000000   \n",
       "\n",
       "         BRK_WINDOW  \n",
       "count  51212.000000  \n",
       "mean       1.521636  \n",
       "std        0.794218  \n",
       "min        0.000000  \n",
       "25%        1.000000  \n",
       "50%        2.000000  \n",
       "75%        2.000000  \n",
       "max        2.000000  \n",
       "\n",
       "[8 rows x 64 columns]"
      ]
     },
     "execution_count": 16,
     "metadata": {},
     "output_type": "execute_result"
    }
   ],
   "source": [
    "clean_ds.describe()"
   ]
  },
  {
   "cell_type": "code",
   "execution_count": 17,
   "id": "bcfeb089",
   "metadata": {},
   "outputs": [
    {
     "data": {
      "text/plain": [
       "2    36476\n",
       "0     9762\n",
       "1     4974\n",
       "Name: BRK_WINDOW, dtype: int64"
      ]
     },
     "execution_count": 17,
     "metadata": {},
     "output_type": "execute_result"
    }
   ],
   "source": [
    "clean_ds['BRK_WINDOW'].value_counts()"
   ]
  },
  {
   "cell_type": "code",
   "execution_count": 18,
   "id": "3d5fc218",
   "metadata": {},
   "outputs": [],
   "source": [
    "# Remove previsões acima de 3 horas\n",
    "#clean_ds.drop(clean_ds[clean_ds.BRK_WINDOW >=4].index, inplace=True)"
   ]
  },
  {
   "cell_type": "code",
   "execution_count": 19,
   "id": "43da2c36",
   "metadata": {},
   "outputs": [
    {
     "data": {
      "text/plain": [
       "2    36476\n",
       "0     9762\n",
       "1     4974\n",
       "Name: BRK_WINDOW, dtype: int64"
      ]
     },
     "execution_count": 19,
     "metadata": {},
     "output_type": "execute_result"
    }
   ],
   "source": [
    "clean_ds['BRK_WINDOW'].value_counts()"
   ]
  },
  {
   "cell_type": "code",
   "execution_count": 20,
   "id": "53d0a8d8",
   "metadata": {},
   "outputs": [],
   "source": [
    "clean_ds = clean_ds.reset_index(drop=True)"
   ]
  },
  {
   "cell_type": "code",
   "execution_count": 21,
   "id": "fefff463",
   "metadata": {},
   "outputs": [
    {
     "data": {
      "text/plain": [
       "2    36476\n",
       "0     9762\n",
       "1     4974\n",
       "Name: BRK_WINDOW, dtype: int64"
      ]
     },
     "execution_count": 21,
     "metadata": {},
     "output_type": "execute_result"
    }
   ],
   "source": [
    "clean_ds['BRK_WINDOW'].value_counts()"
   ]
  },
  {
   "cell_type": "code",
   "execution_count": 22,
   "id": "c19f92ab",
   "metadata": {},
   "outputs": [],
   "source": [
    "Y = clean_ds['BRK_WINDOW'].astype(int)"
   ]
  },
  {
   "cell_type": "markdown",
   "id": "4a1bb14a",
   "metadata": {},
   "source": [
    "# Feature Selection and Scaling"
   ]
  },
  {
   "cell_type": "code",
   "execution_count": 23,
   "id": "8183c485",
   "metadata": {},
   "outputs": [
    {
     "data": {
      "text/html": [
       "<div>\n",
       "<style scoped>\n",
       "    .dataframe tbody tr th:only-of-type {\n",
       "        vertical-align: middle;\n",
       "    }\n",
       "\n",
       "    .dataframe tbody tr th {\n",
       "        vertical-align: top;\n",
       "    }\n",
       "\n",
       "    .dataframe thead th {\n",
       "        text-align: right;\n",
       "    }\n",
       "</style>\n",
       "<table border=\"1\" class=\"dataframe\">\n",
       "  <thead>\n",
       "    <tr style=\"text-align: right;\">\n",
       "      <th></th>\n",
       "      <th>x1</th>\n",
       "      <th>x2</th>\n",
       "      <th>x3</th>\n",
       "      <th>x4</th>\n",
       "      <th>x5</th>\n",
       "      <th>x6</th>\n",
       "      <th>x7</th>\n",
       "      <th>x8</th>\n",
       "      <th>x9</th>\n",
       "      <th>x10</th>\n",
       "      <th>...</th>\n",
       "      <th>x51</th>\n",
       "      <th>x52</th>\n",
       "      <th>x53</th>\n",
       "      <th>x54</th>\n",
       "      <th>x55</th>\n",
       "      <th>x56</th>\n",
       "      <th>x57</th>\n",
       "      <th>x58</th>\n",
       "      <th>x59</th>\n",
       "      <th>x60</th>\n",
       "    </tr>\n",
       "  </thead>\n",
       "  <tbody>\n",
       "    <tr>\n",
       "      <th>51207</th>\n",
       "      <td>-0.151683</td>\n",
       "      <td>-3.954797</td>\n",
       "      <td>-4.299529</td>\n",
       "      <td>62.011024</td>\n",
       "      <td>-0.096552</td>\n",
       "      <td>25.731026</td>\n",
       "      <td>-0.059389</td>\n",
       "      <td>-0.091023</td>\n",
       "      <td>-0.030057</td>\n",
       "      <td>0.001791</td>\n",
       "      <td>...</td>\n",
       "      <td>27.413823</td>\n",
       "      <td>11.055832</td>\n",
       "      <td>4.041316</td>\n",
       "      <td>-4.996629</td>\n",
       "      <td>-31.080624</td>\n",
       "      <td>60.825372</td>\n",
       "      <td>4.114269</td>\n",
       "      <td>0.011547</td>\n",
       "      <td>1.405894</td>\n",
       "      <td>0.007603</td>\n",
       "    </tr>\n",
       "    <tr>\n",
       "      <th>51208</th>\n",
       "      <td>-0.186095</td>\n",
       "      <td>-4.056258</td>\n",
       "      <td>-4.205272</td>\n",
       "      <td>58.932471</td>\n",
       "      <td>-0.118266</td>\n",
       "      <td>25.050453</td>\n",
       "      <td>-0.059389</td>\n",
       "      <td>-0.091023</td>\n",
       "      <td>-0.040129</td>\n",
       "      <td>-0.001682</td>\n",
       "      <td>...</td>\n",
       "      <td>27.467778</td>\n",
       "      <td>11.113205</td>\n",
       "      <td>4.026912</td>\n",
       "      <td>-4.996548</td>\n",
       "      <td>-31.341977</td>\n",
       "      <td>58.203699</td>\n",
       "      <td>4.114269</td>\n",
       "      <td>0.011469</td>\n",
       "      <td>0.341051</td>\n",
       "      <td>0.007601</td>\n",
       "    </tr>\n",
       "    <tr>\n",
       "      <th>51209</th>\n",
       "      <td>-0.141189</td>\n",
       "      <td>-3.946290</td>\n",
       "      <td>-4.257756</td>\n",
       "      <td>64.271431</td>\n",
       "      <td>-0.139964</td>\n",
       "      <td>25.380898</td>\n",
       "      <td>-0.059389</td>\n",
       "      <td>-0.091023</td>\n",
       "      <td>-0.040129</td>\n",
       "      <td>-0.008280</td>\n",
       "      <td>...</td>\n",
       "      <td>27.521489</td>\n",
       "      <td>11.170578</td>\n",
       "      <td>4.012264</td>\n",
       "      <td>-4.996466</td>\n",
       "      <td>-31.505551</td>\n",
       "      <td>55.582056</td>\n",
       "      <td>3.473400</td>\n",
       "      <td>0.011390</td>\n",
       "      <td>0.110140</td>\n",
       "      <td>0.007599</td>\n",
       "    </tr>\n",
       "    <tr>\n",
       "      <th>51210</th>\n",
       "      <td>-0.163747</td>\n",
       "      <td>-6.551871</td>\n",
       "      <td>-6.632444</td>\n",
       "      <td>62.363684</td>\n",
       "      <td>-0.161677</td>\n",
       "      <td>25.711373</td>\n",
       "      <td>-0.059389</td>\n",
       "      <td>-0.091023</td>\n",
       "      <td>-0.040129</td>\n",
       "      <td>-0.008280</td>\n",
       "      <td>...</td>\n",
       "      <td>27.575444</td>\n",
       "      <td>11.227951</td>\n",
       "      <td>3.997859</td>\n",
       "      <td>-4.996385</td>\n",
       "      <td>-31.669125</td>\n",
       "      <td>54.916864</td>\n",
       "      <td>4.175304</td>\n",
       "      <td>0.011312</td>\n",
       "      <td>0.718683</td>\n",
       "      <td>0.007598</td>\n",
       "    </tr>\n",
       "    <tr>\n",
       "      <th>51211</th>\n",
       "      <td>-0.082568</td>\n",
       "      <td>-8.880742</td>\n",
       "      <td>-16.979639</td>\n",
       "      <td>61.011024</td>\n",
       "      <td>-0.183390</td>\n",
       "      <td>26.041847</td>\n",
       "      <td>-0.059389</td>\n",
       "      <td>-0.091023</td>\n",
       "      <td>-0.040129</td>\n",
       "      <td>-0.008280</td>\n",
       "      <td>...</td>\n",
       "      <td>27.629399</td>\n",
       "      <td>11.280441</td>\n",
       "      <td>3.983455</td>\n",
       "      <td>-4.996303</td>\n",
       "      <td>-31.832699</td>\n",
       "      <td>54.449090</td>\n",
       "      <td>3.473400</td>\n",
       "      <td>0.011233</td>\n",
       "      <td>1.377375</td>\n",
       "      <td>0.007596</td>\n",
       "    </tr>\n",
       "  </tbody>\n",
       "</table>\n",
       "<p>5 rows × 60 columns</p>\n",
       "</div>"
      ],
      "text/plain": [
       "             x1        x2         x3         x4        x5         x6  \\\n",
       "51207 -0.151683 -3.954797  -4.299529  62.011024 -0.096552  25.731026   \n",
       "51208 -0.186095 -4.056258  -4.205272  58.932471 -0.118266  25.050453   \n",
       "51209 -0.141189 -3.946290  -4.257756  64.271431 -0.139964  25.380898   \n",
       "51210 -0.163747 -6.551871  -6.632444  62.363684 -0.161677  25.711373   \n",
       "51211 -0.082568 -8.880742 -16.979639  61.011024 -0.183390  26.041847   \n",
       "\n",
       "             x7        x8        x9       x10  ...        x51        x52  \\\n",
       "51207 -0.059389 -0.091023 -0.030057  0.001791  ...  27.413823  11.055832   \n",
       "51208 -0.059389 -0.091023 -0.040129 -0.001682  ...  27.467778  11.113205   \n",
       "51209 -0.059389 -0.091023 -0.040129 -0.008280  ...  27.521489  11.170578   \n",
       "51210 -0.059389 -0.091023 -0.040129 -0.008280  ...  27.575444  11.227951   \n",
       "51211 -0.059389 -0.091023 -0.040129 -0.008280  ...  27.629399  11.280441   \n",
       "\n",
       "            x53       x54        x55        x56       x57       x58       x59  \\\n",
       "51207  4.041316 -4.996629 -31.080624  60.825372  4.114269  0.011547  1.405894   \n",
       "51208  4.026912 -4.996548 -31.341977  58.203699  4.114269  0.011469  0.341051   \n",
       "51209  4.012264 -4.996466 -31.505551  55.582056  3.473400  0.011390  0.110140   \n",
       "51210  3.997859 -4.996385 -31.669125  54.916864  4.175304  0.011312  0.718683   \n",
       "51211  3.983455 -4.996303 -31.832699  54.449090  3.473400  0.011233  1.377375   \n",
       "\n",
       "            x60  \n",
       "51207  0.007603  \n",
       "51208  0.007601  \n",
       "51209  0.007599  \n",
       "51210  0.007598  \n",
       "51211  0.007596  \n",
       "\n",
       "[5 rows x 60 columns]"
      ]
     },
     "execution_count": 23,
     "metadata": {},
     "output_type": "execute_result"
    }
   ],
   "source": [
    "# Feature Selection\n",
    "# List of considered Features\n",
    "\n",
    "FEATURES = [\n",
    "    'x1', 'x2', 'x3', 'x4', 'x5', 'x6', 'x7', 'x8', 'x9', 'x10','x11','x12','x13','x14','x15','x16','x17','x18','x19','x20',\n",
    "    'x21','x22','x23','x24','x25','x26','x27','x28','x29','x30','x31','x32','x33','x34','x35','x36','x37','x38','x39','x40',\n",
    "    'x41','x42','x43','x44','x45','x46','x47','x48','x49','x50','x51','x52','x53','x54','x55','x56','x57','x58','x59','x60'\n",
    "#]\n",
    "# Redução de feature usando resultado do PCA (notebook DimRedPCAOnTS)\n",
    "#    'x1','x5','x8','x10','x13','x14','x15','x17','x18','x19','x20','x21','x22','x26','x28','x30','x31','x34',\n",
    "#    'x35','x37','x38','x40','x41','x43','x46','x48','x49','x51','x53','x54','x55','x58'\n",
    "\n",
    "# Usando as features com base na sua relação com RUL\n",
    "#    'x4','x24','x48','x58','x60','x42','x45','x61','x46','x49','x9','x10','x38','x17','x5','x28','x33','x41',   \n",
    "#    'x13','x16','x56','x8','x12','x1','x57','x50','x44','x47','x52','x27','x37','x3','x54','x26','x2','x29','x55'\n",
    "\n",
    "# Cj 1 - Não usar: derrubou métricas quando adicionado ao Cj 4 + Cj 6\n",
    "#    'x1','x2','x4','x5','x6','x7','x10', 'x11','x13','x15','x17','x28',\n",
    "#    'x1','x5','x10','x13','x14','x15',\n",
    "    \n",
    "# Cj 2\n",
    "# Medidos sem C3:\n",
    "#    'x3','x8','x10','x12','x13','x16','x18','x19','x20','x23','x25', # Precision: 0.781, Recall: 0.390, F1: 0.520\n",
    "#    'x3','x8','x10','x12','x13','x16',                               # Precision: 0.834, Recall: 0.375, F1: 0.518\n",
    "#    'x18','x19','x20','x23','x25',                                   # Precision: 0.980, Recall: 0.156, F1: 0.269\n",
    "#    'x3','x8','x10','x18','x19','x20',                               # Precision: 0.848, Recall: 0.251, F1: 0.387\n",
    "#    'x12','x13','x16','x23','x25',                                   # Precision: 0.900, Recall: 0.218, F1: 0.351\n",
    "# Medidos com C3:\n",
    "###    'x3','x8','x10','x12','x13','x16','x18','x19','x20','x23','x25',  # Precision: 0.735, Recall: 0.470, F1: 0.573\n",
    "\n",
    "    # Cj 3\n",
    "###   'x9','x21','x22','x24','x26','x27','x29','x30',                   # Precision: 0.735, Recall: 0.470, F1: 0.573\n",
    "#    'x9','x21','x22','x24',                                          # Precision: 0.785, Recall: 0.451, F1: 0.573\n",
    "#    'x26','x27','x29','x30',                                         # Precision: 0.766, Recall: 0.406, F1: 0.530\n",
    "#    'x9','x21','x29','x30',                                          # Precision: 0.742, Recall: 0.353, F1: 0.478\n",
    "#    'x22','x24','x26','x27',                                          # Precision: 0.801, Recall: 0.383, F1: 0.518   \n",
    "    \n",
    "# Cj 4\n",
    "###    'x28','x36','x37','x38','x39','x40','x31','x32','x33','x34','x35',\n",
    "    \n",
    "# Cj 5\n",
    "#    'x41','x42','x43','x44','x45','x46','x47','x48','x49','x52',\n",
    "\n",
    "# Cj 6\n",
    "###   'x50','x51','x53','x54','x55','x56','x57','x58','x59','x60',\n",
    "]\n",
    "\n",
    "# Create the dataset with features and filter the data to the list of FEATURES\n",
    "clean_ds_filtered = clean_ds[FEATURES]\n",
    "\n",
    "# Print the tail of the dataframe\n",
    "clean_ds_filtered.tail()"
   ]
  },
  {
   "cell_type": "code",
   "execution_count": 24,
   "id": "65250f0f",
   "metadata": {},
   "outputs": [
    {
     "name": "stdout",
     "output_type": "stream",
     "text": [
      "(51212, 60)\n"
     ]
    }
   ],
   "source": [
    "# This Scaler removes the median and scales the data according to the quantile range to normalize the price data \n",
    "from sklearn.preprocessing import RobustScaler, MinMaxScaler \n",
    "\n",
    "# Get the number of rows in the data\n",
    "nrows = clean_ds_filtered.shape[0]\n",
    "\n",
    "# Convert the data to numpy values\n",
    "np_data_unscaled = np.array(clean_ds_filtered)\n",
    "np_data = np.reshape(np_data_unscaled, (nrows, -1))\n",
    "print(np_data.shape)\n",
    "\n",
    "# Transform the data by scaling each feature to a range between 0 and 1\n",
    "scaler = MinMaxScaler()\n",
    "np_data_scaled = scaler.fit_transform(np_data_unscaled)\n",
    "clean_ds_scaled = pd.DataFrame(\n",
    "    np_data_scaled,\n",
    "    columns=FEATURES\n",
    ")"
   ]
  },
  {
   "cell_type": "markdown",
   "id": "fd709b30",
   "metadata": {},
   "source": [
    "# Shaping & Splitting"
   ]
  },
  {
   "cell_type": "code",
   "execution_count": 25,
   "id": "8936176d",
   "metadata": {},
   "outputs": [],
   "source": [
    "def lstm_data_transform(x_data, y_data, num_steps=5):\n",
    "    \"\"\" Changes data to the format for LSTM training for sliding window approach \"\"\"\n",
    "    # Prepare the list for the transformed data\n",
    "    X, y = list(), list()\n",
    "    # Loop of the entire data set\n",
    "    for i in range(x_data.shape[0]):\n",
    "        # compute a new (sliding window) index\n",
    "        end_ix = i + num_steps\n",
    "        \n",
    "        # if index is larger than the size of the dataset, we stop\n",
    "        if end_ix > x_data.shape[0]:\n",
    "            break\n",
    "        \n",
    "        # Get a sequence of data for x\n",
    "        seq_X = x_data[i:end_ix]\n",
    "        \n",
    "        # Get only the last element of the sequency for y\n",
    "        seq_y = y_data[end_ix-1]\n",
    "        \n",
    "        # Append the list with sequencies\n",
    "        X.append(seq_X)\n",
    "        y.append(seq_y)\n",
    "    \n",
    "    # Make final arrays\n",
    "    x_array = np.array(X)\n",
    "    y_array = np.array(y)\n",
    "    return x_array, y_array"
   ]
  },
  {
   "cell_type": "markdown",
   "id": "1ffe7672",
   "metadata": {},
   "source": [
    "# Modeling 2: Multicategorical Classification - Break in the next hour"
   ]
  },
  {
   "cell_type": "markdown",
   "id": "d42d2271",
   "metadata": {},
   "source": [
    "## Dataset for model 2"
   ]
  },
  {
   "cell_type": "code",
   "execution_count": 26,
   "id": "6481d239",
   "metadata": {},
   "outputs": [],
   "source": [
    "X = clean_ds_scaled"
   ]
  },
  {
   "cell_type": "code",
   "execution_count": 27,
   "id": "4af87788",
   "metadata": {},
   "outputs": [
    {
     "data": {
      "text/plain": [
       "2    36476\n",
       "0     9762\n",
       "1     4974\n",
       "Name: BRK_WINDOW, dtype: int64"
      ]
     },
     "execution_count": 27,
     "metadata": {},
     "output_type": "execute_result"
    }
   ],
   "source": [
    "Y.value_counts()"
   ]
  },
  {
   "cell_type": "code",
   "execution_count": 28,
   "id": "f3702597",
   "metadata": {},
   "outputs": [
    {
     "data": {
      "text/plain": [
       "(51212, 60)"
      ]
     },
     "execution_count": 28,
     "metadata": {},
     "output_type": "execute_result"
    }
   ],
   "source": [
    "X.shape"
   ]
  },
  {
   "cell_type": "code",
   "execution_count": 29,
   "id": "44654b44",
   "metadata": {},
   "outputs": [
    {
     "data": {
      "text/plain": [
       "(51212,)"
      ]
     },
     "execution_count": 29,
     "metadata": {},
     "output_type": "execute_result"
    }
   ],
   "source": [
    "Y.shape"
   ]
  },
  {
   "cell_type": "markdown",
   "id": "a0f45524",
   "metadata": {},
   "source": [
    "### Apply PCA"
   ]
  },
  {
   "cell_type": "code",
   "execution_count": 30,
   "id": "2adf7fae",
   "metadata": {},
   "outputs": [],
   "source": [
    "from sklearn.decomposition import PCA # for PCA calculation\n",
    "pca = PCA()\n",
    "X_pca = pca.fit(X)"
   ]
  },
  {
   "cell_type": "code",
   "execution_count": 31,
   "id": "4c20dcdf",
   "metadata": {},
   "outputs": [
    {
     "data": {
      "image/png": "[encoded data removed]",
      "text/plain": [
       "<Figure size 432x288 with 1 Axes>"
      ]
     },
     "metadata": {
      "needs_background": "light"
     },
     "output_type": "display_data"
    }
   ],
   "source": [
    "plt.plot(np.cumsum(pca.explained_variance_ratio_))\n",
    "plt.xlabel('number of components')\n",
    "plt.ylabel('cumulative explained variance');"
   ]
  },
  {
   "cell_type": "code",
   "execution_count": 32,
   "id": "2e1c525f",
   "metadata": {},
   "outputs": [],
   "source": [
    "num_components = 40\n",
    "pca = PCA(num_components)  \n",
    "X_pca = pca.fit_transform(X) # fit and reduce dimension"
   ]
  },
  {
   "cell_type": "code",
   "execution_count": 33,
   "id": "87961fff",
   "metadata": {},
   "outputs": [
    {
     "name": "stdout",
     "output_type": "stream",
     "text": [
      "The new shape of x is (51208, 5, 40)\n"
     ]
    }
   ],
   "source": [
    "num_steps = 5 # Intervalo entre medições é de 2 minutos\n",
    "x_new, y_new = lstm_data_transform(X_pca, Y, num_steps=num_steps)\n",
    "print (\"The new shape of x is\", x_new.shape)"
   ]
  },
  {
   "cell_type": "code",
   "execution_count": 34,
   "id": "95639f7e",
   "metadata": {},
   "outputs": [],
   "source": [
    "train_ind = int(0.7 * len(X_pca))\n",
    "x_train = x_new[:train_ind]\n",
    "y_train = y_new[:train_ind]\n",
    "x_test = x_new[train_ind:]\n",
    "y_test = y_new[train_ind:]"
   ]
  },
  {
   "cell_type": "code",
   "execution_count": 35,
   "id": "d3dd66c3",
   "metadata": {},
   "outputs": [],
   "source": [
    "# Usar, caso optar por categorigal_crossentropy\n",
    "#y_train = tf.keras.utils.to_categorical(y_train, num_classes=4)\n",
    "#y_test  = tf.keras.utils.to_categorical(y_test,  num_classes=4)"
   ]
  },
  {
   "cell_type": "code",
   "execution_count": 36,
   "id": "cfcb25c1",
   "metadata": {},
   "outputs": [
    {
     "data": {
      "text/plain": [
       "(15360, 5, 40)"
      ]
     },
     "execution_count": 36,
     "metadata": {},
     "output_type": "execute_result"
    }
   ],
   "source": [
    "x_test.shape"
   ]
  },
  {
   "cell_type": "code",
   "execution_count": 37,
   "id": "39072fd8",
   "metadata": {},
   "outputs": [
    {
     "data": {
      "text/plain": [
       "array([2, 2, 2, ..., 2, 2, 2])"
      ]
     },
     "execution_count": 37,
     "metadata": {},
     "output_type": "execute_result"
    }
   ],
   "source": [
    "y_train"
   ]
  },
  {
   "cell_type": "markdown",
   "id": "a3c5f876",
   "metadata": {},
   "source": [
    "# Model 2"
   ]
  },
  {
   "cell_type": "code",
   "execution_count": 38,
   "id": "5cb97343",
   "metadata": {},
   "outputs": [
    {
     "name": "stderr",
     "output_type": "stream",
     "text": [
      "C:\\Users\\hcord\\anaconda3\\envs\\paper3\\lib\\site-packages\\tensorflow\\python\\framework\\dtypes.py:516: FutureWarning: Passing (type, 1) or '1type' as a synonym of type is deprecated; in a future version of numpy, it will be understood as (type, (1,)) / '(1,)type'.\n",
      "  _np_qint8 = np.dtype([(\"qint8\", np.int8, 1)])\n",
      "C:\\Users\\hcord\\anaconda3\\envs\\paper3\\lib\\site-packages\\tensorflow\\python\\framework\\dtypes.py:517: FutureWarning: Passing (type, 1) or '1type' as a synonym of type is deprecated; in a future version of numpy, it will be understood as (type, (1,)) / '(1,)type'.\n",
      "  _np_quint8 = np.dtype([(\"quint8\", np.uint8, 1)])\n",
      "C:\\Users\\hcord\\anaconda3\\envs\\paper3\\lib\\site-packages\\tensorflow\\python\\framework\\dtypes.py:518: FutureWarning: Passing (type, 1) or '1type' as a synonym of type is deprecated; in a future version of numpy, it will be understood as (type, (1,)) / '(1,)type'.\n",
      "  _np_qint16 = np.dtype([(\"qint16\", np.int16, 1)])\n",
      "C:\\Users\\hcord\\anaconda3\\envs\\paper3\\lib\\site-packages\\tensorflow\\python\\framework\\dtypes.py:519: FutureWarning: Passing (type, 1) or '1type' as a synonym of type is deprecated; in a future version of numpy, it will be understood as (type, (1,)) / '(1,)type'.\n",
      "  _np_quint16 = np.dtype([(\"quint16\", np.uint16, 1)])\n",
      "C:\\Users\\hcord\\anaconda3\\envs\\paper3\\lib\\site-packages\\tensorflow\\python\\framework\\dtypes.py:520: FutureWarning: Passing (type, 1) or '1type' as a synonym of type is deprecated; in a future version of numpy, it will be understood as (type, (1,)) / '(1,)type'.\n",
      "  _np_qint32 = np.dtype([(\"qint32\", np.int32, 1)])\n",
      "C:\\Users\\hcord\\anaconda3\\envs\\paper3\\lib\\site-packages\\tensorflow\\python\\framework\\dtypes.py:525: FutureWarning: Passing (type, 1) or '1type' as a synonym of type is deprecated; in a future version of numpy, it will be understood as (type, (1,)) / '(1,)type'.\n",
      "  np_resource = np.dtype([(\"resource\", np.ubyte, 1)])\n",
      "C:\\Users\\hcord\\anaconda3\\envs\\paper3\\lib\\site-packages\\tensorboard\\compat\\tensorflow_stub\\dtypes.py:541: FutureWarning: Passing (type, 1) or '1type' as a synonym of type is deprecated; in a future version of numpy, it will be understood as (type, (1,)) / '(1,)type'.\n",
      "  _np_qint8 = np.dtype([(\"qint8\", np.int8, 1)])\n",
      "C:\\Users\\hcord\\anaconda3\\envs\\paper3\\lib\\site-packages\\tensorboard\\compat\\tensorflow_stub\\dtypes.py:542: FutureWarning: Passing (type, 1) or '1type' as a synonym of type is deprecated; in a future version of numpy, it will be understood as (type, (1,)) / '(1,)type'.\n",
      "  _np_quint8 = np.dtype([(\"quint8\", np.uint8, 1)])\n",
      "C:\\Users\\hcord\\anaconda3\\envs\\paper3\\lib\\site-packages\\tensorboard\\compat\\tensorflow_stub\\dtypes.py:543: FutureWarning: Passing (type, 1) or '1type' as a synonym of type is deprecated; in a future version of numpy, it will be understood as (type, (1,)) / '(1,)type'.\n",
      "  _np_qint16 = np.dtype([(\"qint16\", np.int16, 1)])\n",
      "C:\\Users\\hcord\\anaconda3\\envs\\paper3\\lib\\site-packages\\tensorboard\\compat\\tensorflow_stub\\dtypes.py:544: FutureWarning: Passing (type, 1) or '1type' as a synonym of type is deprecated; in a future version of numpy, it will be understood as (type, (1,)) / '(1,)type'.\n",
      "  _np_quint16 = np.dtype([(\"quint16\", np.uint16, 1)])\n",
      "C:\\Users\\hcord\\anaconda3\\envs\\paper3\\lib\\site-packages\\tensorboard\\compat\\tensorflow_stub\\dtypes.py:545: FutureWarning: Passing (type, 1) or '1type' as a synonym of type is deprecated; in a future version of numpy, it will be understood as (type, (1,)) / '(1,)type'.\n",
      "  _np_qint32 = np.dtype([(\"qint32\", np.int32, 1)])\n",
      "C:\\Users\\hcord\\anaconda3\\envs\\paper3\\lib\\site-packages\\tensorboard\\compat\\tensorflow_stub\\dtypes.py:550: FutureWarning: Passing (type, 1) or '1type' as a synonym of type is deprecated; in a future version of numpy, it will be understood as (type, (1,)) / '(1,)type'.\n",
      "  np_resource = np.dtype([(\"resource\", np.ubyte, 1)])\n",
      "Using TensorFlow backend.\n"
     ]
    }
   ],
   "source": [
    "import tensorflow as tf\n",
    "from keras.models import Sequential\n",
    "from tensorflow import keras\n",
    "from keras.layers import Dense, Dropout, LSTM, Activation\n",
    "from tensorflow.keras import layers\n"
   ]
  },
  {
   "cell_type": "code",
   "execution_count": 39,
   "id": "b2909e82",
   "metadata": {},
   "outputs": [
    {
     "name": "stdout",
     "output_type": "stream",
     "text": [
      "1.14.0\n",
      "1.19.5\n",
      "3.6.9\n"
     ]
    }
   ],
   "source": [
    "print(tf. __version__)\n",
    "print(np. __version__)\n",
    "from platform import python_version\n",
    "\n",
    "print(python_version())"
   ]
  },
  {
   "cell_type": "code",
   "execution_count": 40,
   "id": "888a2a6b",
   "metadata": {},
   "outputs": [
    {
     "data": {
      "text/plain": [
       "40"
      ]
     },
     "execution_count": 40,
     "metadata": {},
     "output_type": "execute_result"
    }
   ],
   "source": [
    "x_train.shape[2]"
   ]
  },
  {
   "cell_type": "code",
   "execution_count": 41,
   "id": "28fc07bc",
   "metadata": {},
   "outputs": [
    {
     "name": "stdout",
     "output_type": "stream",
     "text": [
      "WARNING:tensorflow:From C:\\Users\\hcord\\anaconda3\\envs\\paper3\\lib\\site-packages\\tensorflow\\python\\ops\\init_ops.py:1251: calling VarianceScaling.__init__ (from tensorflow.python.ops.init_ops) with dtype is deprecated and will be removed in a future version.\n",
      "Instructions for updating:\n",
      "Call initializer instance with the dtype argument instead of passing it to the constructor\n",
      "WARNING:tensorflow:From C:\\Users\\hcord\\anaconda3\\envs\\paper3\\lib\\site-packages\\tensorflow\\python\\ops\\init_ops.py:97: calling GlorotUniform.__init__ (from tensorflow.python.ops.init_ops) with dtype is deprecated and will be removed in a future version.\n",
      "Instructions for updating:\n",
      "Call initializer instance with the dtype argument instead of passing it to the constructor\n",
      "WARNING:tensorflow:From C:\\Users\\hcord\\anaconda3\\envs\\paper3\\lib\\site-packages\\tensorflow\\python\\ops\\init_ops.py:97: calling Orthogonal.__init__ (from tensorflow.python.ops.init_ops) with dtype is deprecated and will be removed in a future version.\n",
      "Instructions for updating:\n",
      "Call initializer instance with the dtype argument instead of passing it to the constructor\n",
      "WARNING:tensorflow:From C:\\Users\\hcord\\anaconda3\\envs\\paper3\\lib\\site-packages\\tensorflow\\python\\ops\\init_ops.py:97: calling Zeros.__init__ (from tensorflow.python.ops.init_ops) with dtype is deprecated and will be removed in a future version.\n",
      "Instructions for updating:\n",
      "Call initializer instance with the dtype argument instead of passing it to the constructor\n"
     ]
    }
   ],
   "source": [
    "# LSTM model\n",
    "model = keras.Sequential()\n",
    "\n",
    "# The first layer\n",
    "model.add(layers.Bidirectional(layers.LSTM(\n",
    "         input_shape=(num_steps, x_train.shape[2]),\n",
    "         units=120,\n",
    "         activation='tanh',\n",
    "         return_sequences=True)))\n",
    "model.add(layers.BatchNormalization())\n",
    "\n",
    "# Plus a 20% dropout rate\n",
    "model.add(layers.Dropout(0.2))\n",
    "\n",
    "# The second layer\n",
    "model.add(layers.Bidirectional(layers.LSTM(\n",
    "          units=60,\n",
    "          return_sequences=False)))\n",
    "model.add(layers.BatchNormalization())\n",
    "\n",
    "# Plus a 20% dropout rate\n",
    "model.add(layers.Dropout(0.2))\n",
    "model.add(layers.Dense(units=60, activation='relu'))\n",
    "model.add(layers.Dropout(0.2))\n",
    "model.add(layers.Dense(units=30, activation='relu'))\n",
    "model.add(layers.Dropout(0.2))\n",
    "model.add(layers.Dense(units=10, activation='relu'))\n",
    "model.add(layers.Dropout(0.2))\n",
    "\n",
    "# Dense sigmoid layer\n",
    "model.add(layers.Dense(3, activation='sigmoid'))\n",
    "\n",
    "# With adam optimizer and a binary crossentropy loss. We will opimize for model accuracy.\n",
    "adam = keras.optimizers.Adam(lr=0.0001,amsgrad=True)\n",
    "adagrad = keras.optimizers.Adagrad(learning_rate=0.001,initial_accumulator_value=0.1, epsilon=1e-07)\n",
    "rmsprop = keras.optimizers.RMSprop(learning_rate=0.001,rho=0.9, momentum=0.001, epsilon=1e-07)\n",
    "\n",
    "metrics = [\n",
    "    tf.keras.metrics.FalseNegatives(name=\"fn\"),\n",
    "    tf.keras.metrics.FalsePositives(name=\"fp\"),\n",
    "    tf.keras.metrics.TrueNegatives(name=\"tn\"),\n",
    "    tf.keras.metrics.TruePositives(name=\"tp\"),\n",
    "    tf.keras.metrics.Precision(name=\"precision\"),\n",
    "    tf.keras.metrics.Recall(name=\"recall\"),\n",
    "    tf.keras.metrics.SparseCategoricalAccuracy(name=\"accuracy\"),\n",
    "]\n",
    "\n",
    "model.compile(loss='sparse_categorical_crossentropy', optimizer=adam, metrics=['accuracy'])\n"
   ]
  },
  {
   "cell_type": "code",
   "execution_count": 42,
   "id": "cdb673ef",
   "metadata": {},
   "outputs": [],
   "source": [
    "# EarlyStopping Callback\n",
    "callback = tf.keras.callbacks.EarlyStopping(monitor='loss', patience=3)"
   ]
  },
  {
   "cell_type": "code",
   "execution_count": 43,
   "id": "248cf860",
   "metadata": {},
   "outputs": [
    {
     "data": {
      "text/plain": [
       "(15360, 5, 40)"
      ]
     },
     "execution_count": 43,
     "metadata": {},
     "output_type": "execute_result"
    }
   ],
   "source": [
    "x_test.shape"
   ]
  },
  {
   "cell_type": "code",
   "execution_count": 44,
   "id": "fc15b9f2",
   "metadata": {},
   "outputs": [
    {
     "data": {
      "text/plain": [
       "(array([0, 1, 2]), array([ 6935,  3476, 25437], dtype=int64))"
      ]
     },
     "execution_count": 44,
     "metadata": {},
     "output_type": "execute_result"
    }
   ],
   "source": [
    "np.unique(y_train, return_counts=True)"
   ]
  },
  {
   "cell_type": "code",
   "execution_count": 45,
   "id": "bed9ddcd",
   "metadata": {},
   "outputs": [
    {
     "data": {
      "text/plain": [
       "(array([0, 1, 2]), array([ 6935,  3476, 25437], dtype=int64))"
      ]
     },
     "execution_count": 45,
     "metadata": {},
     "output_type": "execute_result"
    }
   ],
   "source": [
    "np.unique(y_train, return_counts=True)"
   ]
  },
  {
   "cell_type": "code",
   "execution_count": 46,
   "id": "04d389b3",
   "metadata": {},
   "outputs": [
    {
     "name": "stdout",
     "output_type": "stream",
     "text": [
      "Train on 28678 samples, validate on 7170 samples\n",
      "WARNING:tensorflow:From C:\\Users\\hcord\\anaconda3\\envs\\paper3\\lib\\site-packages\\tensorflow\\python\\ops\\math_grad.py:1250: add_dispatch_support.<locals>.wrapper (from tensorflow.python.ops.array_ops) is deprecated and will be removed in a future version.\n",
      "Instructions for updating:\n",
      "Use tf.where in 2.0, which has the same broadcast rule as np.where\n",
      "Epoch 1/60\n",
      "28678/28678 [==============================] - 25s 883us/sample - loss: 0.9961 - acc: 0.5795 - val_loss: 0.8868 - val_acc: 0.7152\n",
      "Epoch 2/60\n",
      "28678/28678 [==============================] - 21s 735us/sample - loss: 0.8740 - acc: 0.6899 - val_loss: 0.8309 - val_acc: 0.7197\n",
      "Epoch 3/60\n",
      "28678/28678 [==============================] - 25s 861us/sample - loss: 0.8134 - acc: 0.6974 - val_loss: 0.8259 - val_acc: 0.7165\n",
      "Epoch 4/60\n",
      "28678/28678 [==============================] - 23s 799us/sample - loss: 0.7803 - acc: 0.7007 - val_loss: 0.8582 - val_acc: 0.7166\n",
      "Epoch 5/60\n",
      "28678/28678 [==============================] - 22s 760us/sample - loss: 0.7513 - acc: 0.7096 - val_loss: 0.9000 - val_acc: 0.6967\n",
      "Epoch 6/60\n",
      "28678/28678 [==============================] - 23s 792us/sample - loss: 0.7306 - acc: 0.7160 - val_loss: 0.9850 - val_acc: 0.7045\n",
      "Epoch 7/60\n",
      "28678/28678 [==============================] - 23s 796us/sample - loss: 0.7130 - acc: 0.7171 - val_loss: 1.0168 - val_acc: 0.6994\n",
      "Epoch 8/60\n",
      "28678/28678 [==============================] - 24s 824us/sample - loss: 0.7019 - acc: 0.7203 - val_loss: 1.0679 - val_acc: 0.6859\n",
      "Epoch 9/60\n",
      "28678/28678 [==============================] - 22s 777us/sample - loss: 0.6815 - acc: 0.7221 - val_loss: 1.1143 - val_acc: 0.6696\n",
      "Epoch 10/60\n",
      "28678/28678 [==============================] - 22s 775us/sample - loss: 0.6737 - acc: 0.7234 - val_loss: 1.1703 - val_acc: 0.6625\n",
      "Epoch 11/60\n",
      "28678/28678 [==============================] - 22s 784us/sample - loss: 0.6580 - acc: 0.7250 - val_loss: 1.2723 - val_acc: 0.6639\n",
      "Epoch 12/60\n",
      "28678/28678 [==============================] - 23s 785us/sample - loss: 0.6486 - acc: 0.7250 - val_loss: 1.3342 - val_acc: 0.6432\n",
      "Epoch 13/60\n",
      "28678/28678 [==============================] - 22s 774us/sample - loss: 0.6337 - acc: 0.7248 - val_loss: 1.4403 - val_acc: 0.6548\n",
      "Epoch 14/60\n",
      "28678/28678 [==============================] - 22s 750us/sample - loss: 0.6218 - acc: 0.7304 - val_loss: 1.5672 - val_acc: 0.6255\n",
      "Epoch 15/60\n",
      "28678/28678 [==============================] - 23s 795us/sample - loss: 0.6125 - acc: 0.7307 - val_loss: 1.6969 - val_acc: 0.6338\n",
      "Epoch 16/60\n",
      "28678/28678 [==============================] - 22s 782us/sample - loss: 0.6041 - acc: 0.7309 - val_loss: 1.6972 - val_acc: 0.6194\n",
      "Epoch 17/60\n",
      "28678/28678 [==============================] - 22s 763us/sample - loss: 0.6011 - acc: 0.7328 - val_loss: 1.6977 - val_acc: 0.6378\n",
      "Epoch 18/60\n",
      "28678/28678 [==============================] - 22s 757us/sample - loss: 0.5890 - acc: 0.7349 - val_loss: 1.8003 - val_acc: 0.6261\n",
      "Epoch 19/60\n",
      "28678/28678 [==============================] - 22s 764us/sample - loss: 0.5837 - acc: 0.7354 - val_loss: 1.9446 - val_acc: 0.6271\n",
      "Epoch 20/60\n",
      "28678/28678 [==============================] - 23s 800us/sample - loss: 0.5793 - acc: 0.7372 - val_loss: 2.0214 - val_acc: 0.6240\n",
      "Epoch 21/60\n",
      "28678/28678 [==============================] - 23s 799us/sample - loss: 0.5714 - acc: 0.7392 - val_loss: 2.0537 - val_acc: 0.6204\n",
      "Epoch 22/60\n",
      "28678/28678 [==============================] - 23s 806us/sample - loss: 0.5673 - acc: 0.7382 - val_loss: 2.0754 - val_acc: 0.6245\n",
      "Epoch 23/60\n",
      "28678/28678 [==============================] - 22s 767us/sample - loss: 0.5601 - acc: 0.7402 - val_loss: 2.1131 - val_acc: 0.6201\n",
      "Epoch 24/60\n",
      "28678/28678 [==============================] - 22s 777us/sample - loss: 0.5532 - acc: 0.7443 - val_loss: 2.2205 - val_acc: 0.6238\n",
      "Epoch 25/60\n",
      "28678/28678 [==============================] - 22s 761us/sample - loss: 0.5522 - acc: 0.7426 - val_loss: 2.2478 - val_acc: 0.6195\n",
      "Epoch 26/60\n",
      "28678/28678 [==============================] - 23s 790us/sample - loss: 0.5436 - acc: 0.7477 - val_loss: 2.2815 - val_acc: 0.6229\n",
      "Epoch 27/60\n",
      "28678/28678 [==============================] - 22s 777us/sample - loss: 0.5382 - acc: 0.7472 - val_loss: 2.3626 - val_acc: 0.6160\n",
      "Epoch 28/60\n",
      "28678/28678 [==============================] - 22s 780us/sample - loss: 0.5374 - acc: 0.7478 - val_loss: 2.3139 - val_acc: 0.6121\n",
      "Epoch 29/60\n",
      "28678/28678 [==============================] - 22s 769us/sample - loss: 0.5313 - acc: 0.7488 - val_loss: 2.4321 - val_acc: 0.6138\n",
      "Epoch 30/60\n",
      "28678/28678 [==============================] - 22s 758us/sample - loss: 0.5285 - acc: 0.7511 - val_loss: 2.5395 - val_acc: 0.6134\n",
      "Epoch 31/60\n",
      "28678/28678 [==============================] - 23s 795us/sample - loss: 0.5220 - acc: 0.7512 - val_loss: 2.6298 - val_acc: 0.6152\n",
      "Epoch 32/60\n",
      "28678/28678 [==============================] - 23s 796us/sample - loss: 0.5157 - acc: 0.7525 - val_loss: 2.6435 - val_acc: 0.6163\n",
      "Epoch 33/60\n",
      "28678/28678 [==============================] - 23s 803us/sample - loss: 0.5128 - acc: 0.7548 - val_loss: 2.5732 - val_acc: 0.6169\n",
      "Epoch 34/60\n",
      "28678/28678 [==============================] - 22s 782us/sample - loss: 0.5078 - acc: 0.7554 - val_loss: 2.7078 - val_acc: 0.6141\n",
      "Epoch 35/60\n",
      "28678/28678 [==============================] - 22s 778us/sample - loss: 0.5085 - acc: 0.7493 - val_loss: 2.7761 - val_acc: 0.6113\n",
      "Epoch 36/60\n",
      "28678/28678 [==============================] - 22s 777us/sample - loss: 0.5056 - acc: 0.7551 - val_loss: 2.7610 - val_acc: 0.6066\n",
      "Epoch 37/60\n",
      "28678/28678 [==============================] - 22s 773us/sample - loss: 0.5016 - acc: 0.7552 - val_loss: 2.8210 - val_acc: 0.6117\n",
      "Epoch 38/60\n",
      "28678/28678 [==============================] - 22s 761us/sample - loss: 0.4978 - acc: 0.7570 - val_loss: 2.8871 - val_acc: 0.6088\n",
      "Epoch 39/60\n",
      "28678/28678 [==============================] - 22s 779us/sample - loss: 0.4925 - acc: 0.7565 - val_loss: 2.9408 - val_acc: 0.6131\n",
      "Epoch 40/60\n",
      "28678/28678 [==============================] - 24s 833us/sample - loss: 0.4918 - acc: 0.7576 - val_loss: 2.9672 - val_acc: 0.6128\n",
      "Epoch 41/60\n",
      "28678/28678 [==============================] - 24s 847us/sample - loss: 0.4898 - acc: 0.7560 - val_loss: 3.0337 - val_acc: 0.6099\n",
      "Epoch 42/60\n",
      "28678/28678 [==============================] - 23s 792us/sample - loss: 0.4854 - acc: 0.7579 - val_loss: 2.9449 - val_acc: 0.6054\n",
      "Epoch 43/60\n",
      "28678/28678 [==============================] - 22s 782us/sample - loss: 0.4809 - acc: 0.7615 - val_loss: 2.9986 - val_acc: 0.5990\n",
      "Epoch 44/60\n",
      "28678/28678 [==============================] - 23s 785us/sample - loss: 0.4822 - acc: 0.7606 - val_loss: 2.9947 - val_acc: 0.6011\n",
      "Epoch 45/60\n",
      "28678/28678 [==============================] - 23s 785us/sample - loss: 0.4770 - acc: 0.7617 - val_loss: 3.0590 - val_acc: 0.6001\n",
      "Epoch 46/60\n",
      "28678/28678 [==============================] - 22s 771us/sample - loss: 0.4774 - acc: 0.7629 - val_loss: 3.0790 - val_acc: 0.5993\n",
      "Epoch 47/60\n",
      "28678/28678 [==============================] - 23s 792us/sample - loss: 0.4763 - acc: 0.7632 - val_loss: 3.0323 - val_acc: 0.6035\n",
      "Epoch 48/60\n",
      "28678/28678 [==============================] - 22s 781us/sample - loss: 0.4684 - acc: 0.7644 - val_loss: 3.1475 - val_acc: 0.5960\n",
      "Epoch 49/60\n",
      "28678/28678 [==============================] - 23s 790us/sample - loss: 0.4722 - acc: 0.7612 - val_loss: 3.1114 - val_acc: 0.5958\n",
      "Epoch 50/60\n",
      "28678/28678 [==============================] - 22s 782us/sample - loss: 0.4694 - acc: 0.7615 - val_loss: 3.1761 - val_acc: 0.6039\n",
      "Epoch 51/60\n",
      "28678/28678 [==============================] - 23s 797us/sample - loss: 0.4651 - acc: 0.7669 - val_loss: 3.1248 - val_acc: 0.5894\n",
      "Epoch 52/60\n",
      "28678/28678 [==============================] - 22s 784us/sample - loss: 0.4644 - acc: 0.7633 - val_loss: 3.2317 - val_acc: 0.5911\n",
      "Epoch 53/60\n",
      "28678/28678 [==============================] - 22s 784us/sample - loss: 0.4609 - acc: 0.7665 - val_loss: 3.2060 - val_acc: 0.5876\n",
      "Epoch 54/60\n",
      "28678/28678 [==============================] - 22s 777us/sample - loss: 0.4571 - acc: 0.7685 - val_loss: 3.2597 - val_acc: 0.5863\n",
      "Epoch 55/60\n",
      "28678/28678 [==============================] - 22s 778us/sample - loss: 0.4580 - acc: 0.7673 - val_loss: 3.2837 - val_acc: 0.5866\n"
     ]
    },
    {
     "name": "stdout",
     "output_type": "stream",
     "text": [
      "Epoch 56/60\n",
      "28678/28678 [==============================] - 22s 781us/sample - loss: 0.4552 - acc: 0.7655 - val_loss: 3.3325 - val_acc: 0.5886\n",
      "Epoch 57/60\n",
      "28678/28678 [==============================] - 23s 787us/sample - loss: 0.4572 - acc: 0.7651 - val_loss: 3.3302 - val_acc: 0.5894\n",
      "Epoch 58/60\n",
      "28678/28678 [==============================] - 21s 746us/sample - loss: 0.4542 - acc: 0.7670 - val_loss: 3.2944 - val_acc: 0.5877\n",
      "Epoch 59/60\n",
      "28678/28678 [==============================] - 22s 760us/sample - loss: 0.4487 - acc: 0.7695 - val_loss: 3.3187 - val_acc: 0.5902\n",
      "Epoch 60/60\n",
      "28678/28678 [==============================] - 22s 775us/sample - loss: 0.4445 - acc: 0.7686 - val_loss: 3.3733 - val_acc: 0.5874\n"
     ]
    }
   ],
   "source": [
    "history = model.fit(\n",
    "    x_train, \n",
    "    y_train, \n",
    "    epochs=60,\n",
    "#    batch_size=60,\n",
    "    validation_split=0.20,\n",
    "    callbacks = [callback])"
   ]
  },
  {
   "cell_type": "code",
   "execution_count": 47,
   "id": "30934a7d",
   "metadata": {},
   "outputs": [
    {
     "name": "stdout",
     "output_type": "stream",
     "text": [
      "Model: \"sequential\"\n",
      "_________________________________________________________________\n",
      "Layer (type)                 Output Shape              Param #   \n",
      "=================================================================\n",
      "bidirectional (Bidirectional multiple                  154560    \n",
      "_________________________________________________________________\n",
      "batch_normalization (BatchNo multiple                  960       \n",
      "_________________________________________________________________\n",
      "dropout (Dropout)            multiple                  0         \n",
      "_________________________________________________________________\n",
      "bidirectional_1 (Bidirection multiple                  144480    \n",
      "_________________________________________________________________\n",
      "batch_normalization_1 (Batch multiple                  480       \n",
      "_________________________________________________________________\n",
      "dropout_1 (Dropout)          multiple                  0         \n",
      "_________________________________________________________________\n",
      "dense (Dense)                multiple                  7260      \n",
      "_________________________________________________________________\n",
      "dropout_2 (Dropout)          multiple                  0         \n",
      "_________________________________________________________________\n",
      "dense_1 (Dense)              multiple                  1830      \n",
      "_________________________________________________________________\n",
      "dropout_3 (Dropout)          multiple                  0         \n",
      "_________________________________________________________________\n",
      "dense_2 (Dense)              multiple                  310       \n",
      "_________________________________________________________________\n",
      "dropout_4 (Dropout)          multiple                  0         \n",
      "_________________________________________________________________\n",
      "dense_3 (Dense)              multiple                  33        \n",
      "=================================================================\n",
      "Total params: 309,913\n",
      "Trainable params: 309,193\n",
      "Non-trainable params: 720\n",
      "_________________________________________________________________\n",
      "None\n"
     ]
    }
   ],
   "source": [
    "# Verify the architecture \n",
    "print(model.summary())"
   ]
  },
  {
   "cell_type": "code",
   "execution_count": 48,
   "id": "8ae529d6",
   "metadata": {},
   "outputs": [
    {
     "data": {
      "text/plain": [
       "(15360, 5, 40)"
      ]
     },
     "execution_count": 48,
     "metadata": {},
     "output_type": "execute_result"
    }
   ],
   "source": [
    "x_test.shape"
   ]
  },
  {
   "cell_type": "code",
   "execution_count": 49,
   "id": "96e32bdc",
   "metadata": {},
   "outputs": [
    {
     "data": {
      "text/plain": [
       "Text(0.5, 0, 'epochs')"
      ]
     },
     "execution_count": 49,
     "metadata": {},
     "output_type": "execute_result"
    },
    {
     "data": {
      "image/png": "[encoded data removed]",
      "text/plain": [
       "<Figure size 1440x720 with 1 Axes>"
      ]
     },
     "metadata": {
      "needs_background": "light"
     },
     "output_type": "display_data"
    }
   ],
   "source": [
    "# Plot History\n",
    "pd.DataFrame(history.history).plot(figsize=(20, 10))\n",
    "plt.ylabel('loss')\n",
    "plt.xlabel('epochs')\n"
   ]
  },
  {
   "cell_type": "code",
   "execution_count": 50,
   "id": "d8e521b1",
   "metadata": {},
   "outputs": [
    {
     "name": "stdout",
     "output_type": "stream",
     "text": [
      "15360/15360 [==============================] - 2s 154us/sample - loss: 2.7874 - acc: 0.6360\n",
      "Test Accurracy: 0.6360026001930237\n"
     ]
    }
   ],
   "source": [
    "#scores_2 = model.evaluate(x_test, y_test, verbose=1, batch_size=200)\n",
    "scores_2 = model.evaluate(x_test, y_test, verbose=1)\n",
    "print('Test Accurracy: {}'.format(scores_2[1]))"
   ]
  },
  {
   "cell_type": "code",
   "execution_count": 51,
   "id": "e5bbdab9",
   "metadata": {},
   "outputs": [
    {
     "name": "stdout",
     "output_type": "stream",
     "text": [
      "15360/15360 [==============================] - 3s 163us/sample\n"
     ]
    },
    {
     "data": {
      "text/plain": [
       "array([[[11386,  1147],\n",
       "        [ 2449,   378]],\n",
       "\n",
       "       [[13038,   824],\n",
       "        [ 1400,    98]],\n",
       "\n",
       "       [[  705,  3620],\n",
       "        [ 1742,  9293]]], dtype=int64)"
      ]
     },
     "execution_count": 51,
     "metadata": {},
     "output_type": "execute_result"
    }
   ],
   "source": [
    "# make predictions and compute confusion matrix\n",
    "#y_pred = model.predict_classes(x_test,verbose=1, batch_size=200)\n",
    "y_pred = model.predict_classes(x_test,verbose=1)\n",
    "cm = multilabel_confusion_matrix(y_test.astype(int), y_pred)\n",
    "cm"
   ]
  },
  {
   "cell_type": "code",
   "execution_count": 52,
   "id": "ca0cac40",
   "metadata": {},
   "outputs": [
    {
     "name": "stdout",
     "output_type": "stream",
     "text": [
      "Test Accuracy:  0.6360026041666667 \n",
      " Test Precision:  [0.24786885 0.10629067 0.71966236] \n",
      " Test Recall:  [0.13371065 0.06542056 0.84213865] \n",
      " Test F1 Score: [0.17371324 0.08099174 0.77609821]\n"
     ]
    }
   ],
   "source": [
    "# compute precision and recall\n",
    "accuracy_test = accuracy_score(y_test, y_pred)\n",
    "precision_test = precision_score(y_test, y_pred, average=None)\n",
    "recall_test = recall_score(y_test, y_pred, average=None)\n",
    "f1_test = 2 * (precision_test * recall_test) / (precision_test + recall_test)\n",
    "print('Test Accuracy: ', accuracy_test, '\\n', 'Test Precision: ', precision_test, '\\n', 'Test Recall: ', recall_test, '\\n', 'Test F1 Score:', f1_test)"
   ]
  },
  {
   "cell_type": "code",
   "execution_count": 53,
   "id": "da2d0682",
   "metadata": {},
   "outputs": [
    {
     "data": {
      "text/plain": [
       "[<matplotlib.lines.Line2D at 0x26cffa9a710>]"
      ]
     },
     "execution_count": 53,
     "metadata": {},
     "output_type": "execute_result"
    },
    {
     "data": {
      "image/png": "[encoded data removed]",
      "text/plain": [
       "<Figure size 1200x480 with 1 Axes>"
      ]
     },
     "metadata": {
      "needs_background": "light"
     },
     "output_type": "display_data"
    }
   ],
   "source": [
    "figure(figsize=(15, 6), dpi=80)\n",
    "plt.plot(y_test+0.1,'r+')\n",
    "plt.plot(y_pred,'b+')"
   ]
  },
  {
   "cell_type": "code",
   "execution_count": 54,
   "id": "b425f9a3",
   "metadata": {},
   "outputs": [],
   "source": [
    "import shap  # package used to calculate Shap values\n",
    "\n",
    "# use Deep SHAP to explain test set predictions\n",
    "#k_explainer = shap.KernelExplainer(model_1.predict_proba, x_test)\n",
    "#k_shap_values = k_explainer.shap_values(x_test.reshape(14315*30,32))\n",
    "#shap.force_plot(k_explainer.expected_value[1], k_shap_values[1], x_test)"
   ]
  },
  {
   "cell_type": "markdown",
   "id": "91d3fca7",
   "metadata": {},
   "source": [
    "## Salvando o modelo"
   ]
  },
  {
   "cell_type": "code",
   "execution_count": 55,
   "id": "8119934a",
   "metadata": {},
   "outputs": [],
   "source": [
    "model.save('../data/pwb_classification_multi')"
   ]
  },
  {
   "cell_type": "markdown",
   "id": "5e4cbb13",
   "metadata": {},
   "source": [
    "# Random Forest"
   ]
  },
  {
   "cell_type": "code",
   "execution_count": 88,
   "id": "b9210bc5",
   "metadata": {},
   "outputs": [],
   "source": [
    "train_ind = int(0.7 * len(X_pca))\n",
    "x_train = X_pca[:train_ind]\n",
    "y_train = Y[:train_ind]\n",
    "x_test = X_pca[train_ind:]\n",
    "y_test = Y[train_ind:]"
   ]
  },
  {
   "cell_type": "code",
   "execution_count": 89,
   "id": "1921d474",
   "metadata": {},
   "outputs": [
    {
     "data": {
      "text/plain": [
       "0        2\n",
       "1        2\n",
       "2        2\n",
       "3        2\n",
       "4        2\n",
       "        ..\n",
       "35843    2\n",
       "35844    2\n",
       "35845    2\n",
       "35846    2\n",
       "35847    2\n",
       "Name: BRK_WINDOW, Length: 35848, dtype: int32"
      ]
     },
     "execution_count": 89,
     "metadata": {},
     "output_type": "execute_result"
    }
   ],
   "source": [
    "y_train"
   ]
  },
  {
   "cell_type": "code",
   "execution_count": 90,
   "id": "6ac231ee",
   "metadata": {},
   "outputs": [],
   "source": [
    "from sklearn.ensemble import RandomForestClassifier as rfc\n",
    "clf_rf = rfc(random_state=0).fit(x_train, y_train)"
   ]
  },
  {
   "cell_type": "code",
   "execution_count": 91,
   "id": "1ad30894",
   "metadata": {},
   "outputs": [
    {
     "data": {
      "text/plain": [
       "0.6029679770892996"
      ]
     },
     "execution_count": 91,
     "metadata": {},
     "output_type": "execute_result"
    }
   ],
   "source": [
    "clf_rf.score(x_test, y_test)"
   ]
  },
  {
   "cell_type": "code",
   "execution_count": 92,
   "id": "99c131f6",
   "metadata": {},
   "outputs": [],
   "source": [
    "y_pred = clf_rf.predict(x_test)"
   ]
  },
  {
   "cell_type": "code",
   "execution_count": 93,
   "id": "6f9072e1",
   "metadata": {},
   "outputs": [
    {
     "data": {
      "text/plain": [
       "array([[[10710,  1827],\n",
       "        [ 2322,   505]],\n",
       "\n",
       "       [[12916,   950],\n",
       "        [ 1326,   172]],\n",
       "\n",
       "       [[ 1002,  3323],\n",
       "        [ 2452,  8587]]], dtype=int64)"
      ]
     },
     "execution_count": 93,
     "metadata": {},
     "output_type": "execute_result"
    }
   ],
   "source": [
    "cm = multilabel_confusion_matrix(y_test, y_pred)\n",
    "cm"
   ]
  },
  {
   "cell_type": "code",
   "execution_count": 96,
   "id": "239c061f",
   "metadata": {},
   "outputs": [
    {
     "name": "stdout",
     "output_type": "stream",
     "text": [
      "Test Accuracy:  0.6029679770892996 \n",
      " Test Precision:  [0.21655232 0.15329768 0.72099076] \n",
      " Test Recall:  [1. 1. 1.] \n",
      " Test F1 Score: [0.35600987 0.26584235 0.83787871]\n"
     ]
    }
   ],
   "source": [
    "# compute precision and recall\n",
    "accuracy_test = accuracy_score(y_test, y_pred)\n",
    "precision_test = precision_score(y_test, y_pred, average=None)\n",
    "recall_test = recall_score(y_pred, y_pred, average=None)\n",
    "f1_test = 2 * (precision_test * recall_test) / (precision_test + recall_test)\n",
    "print('Test Accuracy: ', accuracy_test, '\\n', 'Test Precision: ', precision_test, '\\n', 'Test Recall: ', recall_test, '\\n', 'Test F1 Score:', f1_test)"
   ]
  },
  {
   "cell_type": "code",
   "execution_count": 97,
   "id": "e615a86a",
   "metadata": {},
   "outputs": [
    {
     "data": {
      "text/plain": [
       "<sklearn.metrics._plot.confusion_matrix.ConfusionMatrixDisplay at 0x26c83c1a320>"
      ]
     },
     "execution_count": 97,
     "metadata": {},
     "output_type": "execute_result"
    },
    {
     "data": {
      "image/png": "[encoded data removed]",
      "text/plain": [
       "<Figure size 432x288 with 2 Axes>"
      ]
     },
     "metadata": {
      "needs_background": "light"
     },
     "output_type": "display_data"
    }
   ],
   "source": [
    "plot_confusion_matrix(clf_rf, x_test, y_test)"
   ]
  },
  {
   "cell_type": "code",
   "execution_count": 98,
   "id": "cad7a326",
   "metadata": {},
   "outputs": [],
   "source": [
    "import shap  # package used to calculate Shap values\n",
    "\n",
    "# Create object that can calculate shap values\n",
    "#explainer = shap.TreeExplainer(clf_rf)\n",
    "\n",
    "# Calculate Shap values\n",
    "#shap_values = explainer.shap_values(x_test)\n",
    "\n",
    "#shap.initjs()\n",
    "#shap.force_plot(explainer.expected_value[1], shap_values[1], x_test)\n"
   ]
  },
  {
   "cell_type": "code",
   "execution_count": 99,
   "id": "935ec661",
   "metadata": {},
   "outputs": [],
   "source": [
    "y_test = y_test.reset_index(drop=True)"
   ]
  },
  {
   "cell_type": "code",
   "execution_count": 100,
   "id": "3d2f3cb2",
   "metadata": {},
   "outputs": [
    {
     "data": {
      "text/plain": [
       "[<matplotlib.lines.Line2D at 0x26c8408d198>]"
      ]
     },
     "execution_count": 100,
     "metadata": {},
     "output_type": "execute_result"
    },
    {
     "data": {
      "image/png": "[encoded data removed]",
      "text/plain": [
       "<Figure size 1200x480 with 1 Axes>"
      ]
     },
     "metadata": {
      "needs_background": "light"
     },
     "output_type": "display_data"
    }
   ],
   "source": [
    "figure(figsize=(15, 6), dpi=80)\n",
    "plt.plot(y_test+0.01,'r+')\n",
    "plt.plot(y_pred,'b+')"
   ]
  },
  {
   "cell_type": "code",
   "execution_count": 101,
   "id": "d0e2c788",
   "metadata": {},
   "outputs": [
    {
     "data": {
      "text/plain": [
       "['../data/pwb_classification_rf_multi']"
      ]
     },
     "execution_count": 101,
     "metadata": {},
     "output_type": "execute_result"
    }
   ],
   "source": [
    "import joblib\n",
    "filename = '../data/pwb_classification_rf_multi'\n",
    "joblib.dump(clf_rf, filename)"
   ]
  },
  {
   "cell_type": "markdown",
   "id": "21d743b4",
   "metadata": {},
   "source": [
    "# XGBoost"
   ]
  },
  {
   "cell_type": "code",
   "execution_count": 102,
   "id": "a940cfe6",
   "metadata": {},
   "outputs": [
    {
     "data": {
      "text/plain": [
       "0.7032673782869044"
      ]
     },
     "execution_count": 102,
     "metadata": {},
     "output_type": "execute_result"
    }
   ],
   "source": [
    "from sklearn.ensemble import GradientBoostingClassifier as xgb\n",
    "\n",
    "xgbclf = xgb(n_estimators=100, learning_rate=1.0, max_depth=1, random_state=0).fit(x_train, y_train)\n",
    "xgbclf.score(x_test, y_test)"
   ]
  },
  {
   "cell_type": "code",
   "execution_count": 103,
   "id": "cf92b367",
   "metadata": {},
   "outputs": [
    {
     "data": {
      "text/plain": [
       "<sklearn.metrics._plot.confusion_matrix.ConfusionMatrixDisplay at 0x26c81a38828>"
      ]
     },
     "execution_count": 103,
     "metadata": {},
     "output_type": "execute_result"
    },
    {
     "data": {
      "image/png": "[encoded data removed]",
      "text/plain": [
       "<Figure size 432x288 with 2 Axes>"
      ]
     },
     "metadata": {
      "needs_background": "light"
     },
     "output_type": "display_data"
    }
   ],
   "source": [
    "plot_confusion_matrix(xgbclf, x_test, y_test)"
   ]
  },
  {
   "cell_type": "code",
   "execution_count": 104,
   "id": "3f4d52c3",
   "metadata": {},
   "outputs": [],
   "source": [
    "y_pred = xgbclf.predict(x_test)"
   ]
  },
  {
   "cell_type": "code",
   "execution_count": 105,
   "id": "6cc17c23",
   "metadata": {},
   "outputs": [],
   "source": [
    "y_test = y_test.reset_index(drop=True)"
   ]
  },
  {
   "cell_type": "code",
   "execution_count": 106,
   "id": "62529375",
   "metadata": {},
   "outputs": [
    {
     "name": "stdout",
     "output_type": "stream",
     "text": [
      "Test Accuracy:  0.7032673782869044 \n",
      " Test Precision:  [0.30393701 0.07017544 0.72300981] \n",
      " Test Recall:  [1. 1. 1.] \n",
      " Test F1 Score: [0.46618357 0.13114754 0.83924051]\n"
     ]
    }
   ],
   "source": [
    "# compute precision and recall\n",
    "accuracy_test = accuracy_score(y_test, y_pred)\n",
    "precision_test = precision_score(y_test, y_pred, average=None)\n",
    "recall_test = recall_score(y_pred, y_pred, average=None)\n",
    "f1_test = 2 * (precision_test * recall_test) / (precision_test + recall_test)\n",
    "print('Test Accuracy: ', accuracy_test, '\\n', 'Test Precision: ', precision_test, '\\n', 'Test Recall: ', recall_test, '\\n', 'Test F1 Score:', f1_test)"
   ]
  },
  {
   "cell_type": "code",
   "execution_count": 107,
   "id": "5b28e67e",
   "metadata": {},
   "outputs": [
    {
     "data": {
      "text/plain": [
       "[<matplotlib.lines.Line2D at 0x26c852e0b38>]"
      ]
     },
     "execution_count": 107,
     "metadata": {},
     "output_type": "execute_result"
    },
    {
     "data": {
      "image/png": "[encoded data removed]",
      "text/plain": [
       "<Figure size 1200x480 with 1 Axes>"
      ]
     },
     "metadata": {
      "needs_background": "light"
     },
     "output_type": "display_data"
    }
   ],
   "source": [
    "figure(figsize=(15, 6), dpi=80)\n",
    "plt.plot(y_test+0.01,'r+')\n",
    "plt.plot(y_pred,'b+')"
   ]
  },
  {
   "cell_type": "code",
   "execution_count": 108,
   "id": "f8ac0469",
   "metadata": {},
   "outputs": [
    {
     "data": {
      "text/plain": [
       "['../data/pwb_classification_xgb_multi']"
      ]
     },
     "execution_count": 108,
     "metadata": {},
     "output_type": "execute_result"
    }
   ],
   "source": [
    "filename = '../data/pwb_classification_xgb_multi'\n",
    "joblib.dump(xgbclf, filename)"
   ]
  },
  {
   "cell_type": "code",
   "execution_count": null,
   "id": "774b8e39",
   "metadata": {},
   "outputs": [],
   "source": []
  }
 ],
 "metadata": {
  "kernelspec": {
   "display_name": "paper3",
   "language": "python",
   "name": "paper3"
  },
  "language_info": {
   "codemirror_mode": {
    "name": "ipython",
    "version": 3
   },
   "file_extension": ".py",
   "mimetype": "text/x-python",
   "name": "python",
   "nbconvert_exporter": "python",
   "pygments_lexer": "ipython3",
   "version": "3.6.9"
  }
 },
 "nbformat": 4,
 "nbformat_minor": 5
}
