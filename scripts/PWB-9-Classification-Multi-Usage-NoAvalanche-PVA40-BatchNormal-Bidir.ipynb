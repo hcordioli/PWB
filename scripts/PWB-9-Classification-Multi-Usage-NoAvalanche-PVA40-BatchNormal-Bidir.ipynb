{
 "cells": [
  {
   "cell_type": "markdown",
   "id": "35cdb27f",
   "metadata": {},
   "source": [
    "# Versionamento"
   ]
  },
  {
   "cell_type": "markdown",
   "id": "b2e887af",
   "metadata": {},
   "source": [
    "# Setup"
   ]
  },
  {
   "cell_type": "code",
   "execution_count": 1,
   "id": "bc68ad8b",
   "metadata": {},
   "outputs": [],
   "source": [
    "import pandas as pd\n",
    "import numpy as np\n",
    "import seaborn as sns\n",
    "import matplotlib.pyplot as plt\n",
    "from matplotlib.pyplot import figure\n",
    "from sklearn.metrics import confusion_matrix, recall_score, precision_score, accuracy_score, plot_confusion_matrix\n",
    "import datetime"
   ]
  },
  {
   "cell_type": "markdown",
   "id": "fb011b14",
   "metadata": {},
   "source": [
    "# Load Data"
   ]
  },
  {
   "cell_type": "code",
   "execution_count": 2,
   "id": "6d0806f3",
   "metadata": {},
   "outputs": [],
   "source": [
    "pwbdatafile = '..\\\\data\\\\pwb-validation.csv'    # 3 breaks\n",
    "# pwbdatafile = '..\\\\data\\\\pwb-validation-b1-b3.csv'    # 2 breaks\n",
    "# pwbdatafile = '..\\\\data\\\\pwb-validation-b1.csv'    # 1 break\n",
    "pwbds = pd.read_csv(pwbdatafile)\n",
    "pwbds['time']= pd.to_datetime(pwbds['time'])"
   ]
  },
  {
   "cell_type": "code",
   "execution_count": 3,
   "id": "da2be84c",
   "metadata": {},
   "outputs": [
    {
     "data": {
      "text/plain": [
       "0    706\n",
       "1      3\n",
       "Name: y, dtype: int64"
      ]
     },
     "execution_count": 3,
     "metadata": {},
     "output_type": "execute_result"
    }
   ],
   "source": [
    "pwbds['y'].value_counts()"
   ]
  },
  {
   "cell_type": "markdown",
   "id": "2d7957e9",
   "metadata": {},
   "source": [
    "## Cálculo do Remaining Usefull Lifecycle (RUL)"
   ]
  },
  {
   "cell_type": "code",
   "execution_count": 4,
   "id": "e907244a",
   "metadata": {},
   "outputs": [],
   "source": [
    "# Dates whith break\n",
    "df_sub = sorted(pwbds[pwbds['y'] == 1]['time'].tolist())"
   ]
  },
  {
   "cell_type": "code",
   "execution_count": 5,
   "id": "f69a04ef",
   "metadata": {},
   "outputs": [],
   "source": [
    "# variable to store all days\n",
    "breakSubIdx=0\n",
    "breakLstIdx=0\n",
    "breakList = pwbds['y'].tolist()\n",
    "nextbreak = []\n",
    "for v1 in pwbds['time'].tolist():\n",
    "    if((breakList[breakLstIdx] == 1)):\n",
    "#        print ('1')\n",
    "        nextbreak.append(v1)\n",
    "        breakSubIdx = breakSubIdx+1\n",
    "    else:\n",
    "#        print('0')\n",
    "        if (breakSubIdx < len(df_sub)):\n",
    "            nextbreak.append(df_sub[breakSubIdx])\n",
    "        else:\n",
    "            nextbreak.append(df_sub[breakSubIdx-1])\n",
    "    breakLstIdx = breakLstIdx+1\n",
    "pwbds['nextbreaktime'] = pd.Series(nextbreak)"
   ]
  },
  {
   "cell_type": "code",
   "execution_count": 6,
   "id": "2ab06f2b",
   "metadata": {},
   "outputs": [],
   "source": [
    "pwbds['RUL']=round((pwbds['nextbreaktime']-pwbds['time']).dt.total_seconds()/60,2)\n",
    "pwbds.drop(pwbds[pwbds.RUL < 0].index, inplace=True)\n",
    "pwbds.drop(['time','nextbreaktime'], axis=1, inplace=True)"
   ]
  },
  {
   "cell_type": "code",
   "execution_count": 51,
   "id": "06d076f9",
   "metadata": {},
   "outputs": [
    {
     "data": {
      "text/html": [
       "<div>\n",
       "<style scoped>\n",
       "    .dataframe tbody tr th:only-of-type {\n",
       "        vertical-align: middle;\n",
       "    }\n",
       "\n",
       "    .dataframe tbody tr th {\n",
       "        vertical-align: top;\n",
       "    }\n",
       "\n",
       "    .dataframe thead th {\n",
       "        text-align: right;\n",
       "    }\n",
       "</style>\n",
       "<table border=\"1\" class=\"dataframe\">\n",
       "  <thead>\n",
       "    <tr style=\"text-align: right;\">\n",
       "      <th></th>\n",
       "      <th>y</th>\n",
       "      <th>x1</th>\n",
       "      <th>x2</th>\n",
       "      <th>x3</th>\n",
       "      <th>x4</th>\n",
       "      <th>x5</th>\n",
       "      <th>x6</th>\n",
       "      <th>x7</th>\n",
       "      <th>x8</th>\n",
       "      <th>x9</th>\n",
       "      <th>...</th>\n",
       "      <th>x53</th>\n",
       "      <th>x54</th>\n",
       "      <th>x55</th>\n",
       "      <th>x56</th>\n",
       "      <th>x57</th>\n",
       "      <th>x58</th>\n",
       "      <th>x59</th>\n",
       "      <th>x60</th>\n",
       "      <th>x61</th>\n",
       "      <th>RUL</th>\n",
       "    </tr>\n",
       "  </thead>\n",
       "  <tbody>\n",
       "    <tr>\n",
       "      <th>177</th>\n",
       "      <td>1</td>\n",
       "      <td>0.231069</td>\n",
       "      <td>1.183568</td>\n",
       "      <td>1.780737</td>\n",
       "      <td>74.636116</td>\n",
       "      <td>-0.406168</td>\n",
       "      <td>53.183663</td>\n",
       "      <td>-0.109135</td>\n",
       "      <td>-0.041277</td>\n",
       "      <td>-0.120087</td>\n",
       "      <td>...</td>\n",
       "      <td>-1.875920</td>\n",
       "      <td>1.396549</td>\n",
       "      <td>69.665592</td>\n",
       "      <td>82.686090</td>\n",
       "      <td>-0.616077</td>\n",
       "      <td>0.018050</td>\n",
       "      <td>1.120821</td>\n",
       "      <td>-0.005341</td>\n",
       "      <td>0</td>\n",
       "      <td>0.0</td>\n",
       "    </tr>\n",
       "    <tr>\n",
       "      <th>204</th>\n",
       "      <td>1</td>\n",
       "      <td>0.075007</td>\n",
       "      <td>-13.796615</td>\n",
       "      <td>-16.995079</td>\n",
       "      <td>177.938849</td>\n",
       "      <td>-0.240000</td>\n",
       "      <td>57.281533</td>\n",
       "      <td>-0.009339</td>\n",
       "      <td>-0.000993</td>\n",
       "      <td>0.119788</td>\n",
       "      <td>...</td>\n",
       "      <td>-1.997746</td>\n",
       "      <td>2.452444</td>\n",
       "      <td>80.604312</td>\n",
       "      <td>-19.472189</td>\n",
       "      <td>-1.226490</td>\n",
       "      <td>0.014139</td>\n",
       "      <td>0.717982</td>\n",
       "      <td>-0.005746</td>\n",
       "      <td>0</td>\n",
       "      <td>0.0</td>\n",
       "    </tr>\n",
       "    <tr>\n",
       "      <th>320</th>\n",
       "      <td>1</td>\n",
       "      <td>-0.717117</td>\n",
       "      <td>-8.988349</td>\n",
       "      <td>-9.846894</td>\n",
       "      <td>158.351050</td>\n",
       "      <td>-0.114481</td>\n",
       "      <td>42.107338</td>\n",
       "      <td>-0.009339</td>\n",
       "      <td>0.288933</td>\n",
       "      <td>-0.120087</td>\n",
       "      <td>...</td>\n",
       "      <td>-2.520207</td>\n",
       "      <td>2.519503</td>\n",
       "      <td>18.840640</td>\n",
       "      <td>-26.888526</td>\n",
       "      <td>-0.796131</td>\n",
       "      <td>0.031466</td>\n",
       "      <td>1.121523</td>\n",
       "      <td>-0.007481</td>\n",
       "      <td>0</td>\n",
       "      <td>0.0</td>\n",
       "    </tr>\n",
       "  </tbody>\n",
       "</table>\n",
       "<p>3 rows × 63 columns</p>\n",
       "</div>"
      ],
      "text/plain": [
       "     y        x1         x2         x3          x4        x5         x6  \\\n",
       "177  1  0.231069   1.183568   1.780737   74.636116 -0.406168  53.183663   \n",
       "204  1  0.075007 -13.796615 -16.995079  177.938849 -0.240000  57.281533   \n",
       "320  1 -0.717117  -8.988349  -9.846894  158.351050 -0.114481  42.107338   \n",
       "\n",
       "           x7        x8        x9  ...       x53       x54        x55  \\\n",
       "177 -0.109135 -0.041277 -0.120087  ... -1.875920  1.396549  69.665592   \n",
       "204 -0.009339 -0.000993  0.119788  ... -1.997746  2.452444  80.604312   \n",
       "320 -0.009339  0.288933 -0.120087  ... -2.520207  2.519503  18.840640   \n",
       "\n",
       "           x56       x57       x58       x59       x60  x61  RUL  \n",
       "177  82.686090 -0.616077  0.018050  1.120821 -0.005341    0  0.0  \n",
       "204 -19.472189 -1.226490  0.014139  0.717982 -0.005746    0  0.0  \n",
       "320 -26.888526 -0.796131  0.031466  1.121523 -0.007481    0  0.0  \n",
       "\n",
       "[3 rows x 63 columns]"
      ]
     },
     "execution_count": 51,
     "metadata": {},
     "output_type": "execute_result"
    }
   ],
   "source": [
    "pwbds[pwbds.y==1]"
   ]
  },
  {
   "cell_type": "code",
   "execution_count": 54,
   "id": "31f0f4db",
   "metadata": {},
   "outputs": [
    {
     "data": {
      "text/html": [
       "<div>\n",
       "<style scoped>\n",
       "    .dataframe tbody tr th:only-of-type {\n",
       "        vertical-align: middle;\n",
       "    }\n",
       "\n",
       "    .dataframe tbody tr th {\n",
       "        vertical-align: top;\n",
       "    }\n",
       "\n",
       "    .dataframe thead th {\n",
       "        text-align: right;\n",
       "    }\n",
       "</style>\n",
       "<table border=\"1\" class=\"dataframe\">\n",
       "  <thead>\n",
       "    <tr style=\"text-align: right;\">\n",
       "      <th></th>\n",
       "      <th>y</th>\n",
       "      <th>RUL</th>\n",
       "    </tr>\n",
       "  </thead>\n",
       "  <tbody>\n",
       "    <tr>\n",
       "      <th>172</th>\n",
       "      <td>0</td>\n",
       "      <td>10.0</td>\n",
       "    </tr>\n",
       "    <tr>\n",
       "      <th>173</th>\n",
       "      <td>0</td>\n",
       "      <td>8.0</td>\n",
       "    </tr>\n",
       "    <tr>\n",
       "      <th>174</th>\n",
       "      <td>0</td>\n",
       "      <td>6.0</td>\n",
       "    </tr>\n",
       "    <tr>\n",
       "      <th>175</th>\n",
       "      <td>0</td>\n",
       "      <td>4.0</td>\n",
       "    </tr>\n",
       "    <tr>\n",
       "      <th>176</th>\n",
       "      <td>0</td>\n",
       "      <td>2.0</td>\n",
       "    </tr>\n",
       "    <tr>\n",
       "      <th>177</th>\n",
       "      <td>1</td>\n",
       "      <td>0.0</td>\n",
       "    </tr>\n",
       "    <tr>\n",
       "      <th>178</th>\n",
       "      <td>0</td>\n",
       "      <td>52.0</td>\n",
       "    </tr>\n",
       "    <tr>\n",
       "      <th>179</th>\n",
       "      <td>0</td>\n",
       "      <td>50.0</td>\n",
       "    </tr>\n",
       "  </tbody>\n",
       "</table>\n",
       "</div>"
      ],
      "text/plain": [
       "     y   RUL\n",
       "172  0  10.0\n",
       "173  0   8.0\n",
       "174  0   6.0\n",
       "175  0   4.0\n",
       "176  0   2.0\n",
       "177  1   0.0\n",
       "178  0  52.0\n",
       "179  0  50.0"
      ]
     },
     "execution_count": 54,
     "metadata": {},
     "output_type": "execute_result"
    }
   ],
   "source": [
    "pwbds.iloc[172:180,][['y','RUL']]"
   ]
  },
  {
   "cell_type": "markdown",
   "id": "0ee23531",
   "metadata": {},
   "source": [
    "## Marcação de falha no próximo período\n",
    "Using RUL, we can create a label indicating time to failure. We define a boolean (True\\False) value for NEXT_H indicating the engine will fail within 60 minutes (RUL <=60 ).\n",
    "\n",
    "We can also define a multiclass MULTI ∈{0,1,2} indicating {Healthy, RUL <=60, RUL <=120} minutes."
   ]
  },
  {
   "cell_type": "code",
   "execution_count": 55,
   "id": "b1ab246d",
   "metadata": {},
   "outputs": [],
   "source": [
    "pwbds['BRK_WINDOW']=0"
   ]
  },
  {
   "cell_type": "code",
   "execution_count": 56,
   "id": "e0f0bc22",
   "metadata": {},
   "outputs": [],
   "source": [
    "pwbds.loc[pwbds['RUL'] > 60 , 'BRK_WINDOW'] = 2\n",
    "pwbds.loc[(pwbds['RUL'] <= 60) & (pwbds['RUL'] > 30) , 'BRK_WINDOW'] = 1\n",
    "pwbds.loc[(pwbds['RUL'] <= 30) , 'BRK_WINDOW'] = 0"
   ]
  },
  {
   "cell_type": "code",
   "execution_count": 57,
   "id": "1094330d",
   "metadata": {},
   "outputs": [
    {
     "data": {
      "text/plain": [
       "2    232\n",
       "0     48\n",
       "1     41\n",
       "Name: BRK_WINDOW, dtype: int64"
      ]
     },
     "execution_count": 57,
     "metadata": {},
     "output_type": "execute_result"
    }
   ],
   "source": [
    "pwbds['BRK_WINDOW'].value_counts()"
   ]
  },
  {
   "cell_type": "code",
   "execution_count": 58,
   "id": "e5e4a8bb",
   "metadata": {},
   "outputs": [],
   "source": [
    "Y = pwbds['BRK_WINDOW'].astype(int)"
   ]
  },
  {
   "cell_type": "markdown",
   "id": "4a1bb14a",
   "metadata": {},
   "source": [
    "# Feature Selection and Scaling"
   ]
  },
  {
   "cell_type": "code",
   "execution_count": 59,
   "id": "8183c485",
   "metadata": {},
   "outputs": [
    {
     "data": {
      "text/html": [
       "<div>\n",
       "<style scoped>\n",
       "    .dataframe tbody tr th:only-of-type {\n",
       "        vertical-align: middle;\n",
       "    }\n",
       "\n",
       "    .dataframe tbody tr th {\n",
       "        vertical-align: top;\n",
       "    }\n",
       "\n",
       "    .dataframe thead th {\n",
       "        text-align: right;\n",
       "    }\n",
       "</style>\n",
       "<table border=\"1\" class=\"dataframe\">\n",
       "  <thead>\n",
       "    <tr style=\"text-align: right;\">\n",
       "      <th></th>\n",
       "      <th>x1</th>\n",
       "      <th>x2</th>\n",
       "      <th>x3</th>\n",
       "      <th>x4</th>\n",
       "      <th>x5</th>\n",
       "      <th>x6</th>\n",
       "      <th>x7</th>\n",
       "      <th>x8</th>\n",
       "      <th>x9</th>\n",
       "      <th>x10</th>\n",
       "      <th>...</th>\n",
       "      <th>x51</th>\n",
       "      <th>x52</th>\n",
       "      <th>x53</th>\n",
       "      <th>x54</th>\n",
       "      <th>x55</th>\n",
       "      <th>x56</th>\n",
       "      <th>x57</th>\n",
       "      <th>x58</th>\n",
       "      <th>x59</th>\n",
       "      <th>x60</th>\n",
       "    </tr>\n",
       "  </thead>\n",
       "  <tbody>\n",
       "    <tr>\n",
       "      <th>316</th>\n",
       "      <td>-0.842707</td>\n",
       "      <td>13.601751</td>\n",
       "      <td>13.935345</td>\n",
       "      <td>160.604102</td>\n",
       "      <td>0.003973</td>\n",
       "      <td>44.368416</td>\n",
       "      <td>-0.060895</td>\n",
       "      <td>0.183380</td>\n",
       "      <td>-0.049627</td>\n",
       "      <td>0.007243</td>\n",
       "      <td>...</td>\n",
       "      <td>29.902837</td>\n",
       "      <td>-1.689041</td>\n",
       "      <td>-2.502873</td>\n",
       "      <td>2.619979</td>\n",
       "      <td>23.443302</td>\n",
       "      <td>-26.953970</td>\n",
       "      <td>-2.596729</td>\n",
       "      <td>0.045492</td>\n",
       "      <td>1.242174</td>\n",
       "      <td>-0.007423</td>\n",
       "    </tr>\n",
       "    <tr>\n",
       "      <th>317</th>\n",
       "      <td>-0.814918</td>\n",
       "      <td>13.597999</td>\n",
       "      <td>13.761725</td>\n",
       "      <td>160.489996</td>\n",
       "      <td>-0.025645</td>\n",
       "      <td>40.372109</td>\n",
       "      <td>-0.044352</td>\n",
       "      <td>0.217521</td>\n",
       "      <td>-0.072235</td>\n",
       "      <td>-0.026898</td>\n",
       "      <td>...</td>\n",
       "      <td>29.943120</td>\n",
       "      <td>-1.689041</td>\n",
       "      <td>-2.507268</td>\n",
       "      <td>2.594859</td>\n",
       "      <td>21.177799</td>\n",
       "      <td>-26.937613</td>\n",
       "      <td>-1.470630</td>\n",
       "      <td>0.040017</td>\n",
       "      <td>0.594202</td>\n",
       "      <td>-0.007438</td>\n",
       "    </tr>\n",
       "    <tr>\n",
       "      <th>318</th>\n",
       "      <td>-0.787129</td>\n",
       "      <td>13.460828</td>\n",
       "      <td>13.824803</td>\n",
       "      <td>160.375922</td>\n",
       "      <td>-0.055247</td>\n",
       "      <td>40.684334</td>\n",
       "      <td>-0.027811</td>\n",
       "      <td>0.251662</td>\n",
       "      <td>-0.094842</td>\n",
       "      <td>-0.061039</td>\n",
       "      <td>...</td>\n",
       "      <td>29.983403</td>\n",
       "      <td>-1.689041</td>\n",
       "      <td>-2.511662</td>\n",
       "      <td>2.569741</td>\n",
       "      <td>15.235538</td>\n",
       "      <td>-26.921240</td>\n",
       "      <td>-0.219349</td>\n",
       "      <td>0.040017</td>\n",
       "      <td>0.344118</td>\n",
       "      <td>-0.007452</td>\n",
       "    </tr>\n",
       "    <tr>\n",
       "      <th>319</th>\n",
       "      <td>-0.759339</td>\n",
       "      <td>-8.898044</td>\n",
       "      <td>13.828613</td>\n",
       "      <td>159.445166</td>\n",
       "      <td>-0.084864</td>\n",
       "      <td>44.653633</td>\n",
       "      <td>-0.011269</td>\n",
       "      <td>0.285803</td>\n",
       "      <td>-0.117449</td>\n",
       "      <td>-0.095180</td>\n",
       "      <td>...</td>\n",
       "      <td>29.984624</td>\n",
       "      <td>-1.689041</td>\n",
       "      <td>-2.516057</td>\n",
       "      <td>2.544622</td>\n",
       "      <td>24.041080</td>\n",
       "      <td>-26.904883</td>\n",
       "      <td>-0.921253</td>\n",
       "      <td>0.034558</td>\n",
       "      <td>0.858965</td>\n",
       "      <td>-0.007467</td>\n",
       "    </tr>\n",
       "    <tr>\n",
       "      <th>320</th>\n",
       "      <td>-0.717117</td>\n",
       "      <td>-8.988349</td>\n",
       "      <td>-9.846894</td>\n",
       "      <td>158.351050</td>\n",
       "      <td>-0.114481</td>\n",
       "      <td>42.107338</td>\n",
       "      <td>-0.009339</td>\n",
       "      <td>0.288933</td>\n",
       "      <td>-0.120087</td>\n",
       "      <td>-0.098310</td>\n",
       "      <td>...</td>\n",
       "      <td>29.984624</td>\n",
       "      <td>-1.689041</td>\n",
       "      <td>-2.520207</td>\n",
       "      <td>2.519503</td>\n",
       "      <td>18.840640</td>\n",
       "      <td>-26.888526</td>\n",
       "      <td>-0.796131</td>\n",
       "      <td>0.031466</td>\n",
       "      <td>1.121523</td>\n",
       "      <td>-0.007481</td>\n",
       "    </tr>\n",
       "  </tbody>\n",
       "</table>\n",
       "<p>5 rows × 60 columns</p>\n",
       "</div>"
      ],
      "text/plain": [
       "           x1         x2         x3          x4        x5         x6  \\\n",
       "316 -0.842707  13.601751  13.935345  160.604102  0.003973  44.368416   \n",
       "317 -0.814918  13.597999  13.761725  160.489996 -0.025645  40.372109   \n",
       "318 -0.787129  13.460828  13.824803  160.375922 -0.055247  40.684334   \n",
       "319 -0.759339  -8.898044  13.828613  159.445166 -0.084864  44.653633   \n",
       "320 -0.717117  -8.988349  -9.846894  158.351050 -0.114481  42.107338   \n",
       "\n",
       "           x7        x8        x9       x10  ...        x51       x52  \\\n",
       "316 -0.060895  0.183380 -0.049627  0.007243  ...  29.902837 -1.689041   \n",
       "317 -0.044352  0.217521 -0.072235 -0.026898  ...  29.943120 -1.689041   \n",
       "318 -0.027811  0.251662 -0.094842 -0.061039  ...  29.983403 -1.689041   \n",
       "319 -0.011269  0.285803 -0.117449 -0.095180  ...  29.984624 -1.689041   \n",
       "320 -0.009339  0.288933 -0.120087 -0.098310  ...  29.984624 -1.689041   \n",
       "\n",
       "          x53       x54        x55        x56       x57       x58       x59  \\\n",
       "316 -2.502873  2.619979  23.443302 -26.953970 -2.596729  0.045492  1.242174   \n",
       "317 -2.507268  2.594859  21.177799 -26.937613 -1.470630  0.040017  0.594202   \n",
       "318 -2.511662  2.569741  15.235538 -26.921240 -0.219349  0.040017  0.344118   \n",
       "319 -2.516057  2.544622  24.041080 -26.904883 -0.921253  0.034558  0.858965   \n",
       "320 -2.520207  2.519503  18.840640 -26.888526 -0.796131  0.031466  1.121523   \n",
       "\n",
       "          x60  \n",
       "316 -0.007423  \n",
       "317 -0.007438  \n",
       "318 -0.007452  \n",
       "319 -0.007467  \n",
       "320 -0.007481  \n",
       "\n",
       "[5 rows x 60 columns]"
      ]
     },
     "execution_count": 59,
     "metadata": {},
     "output_type": "execute_result"
    }
   ],
   "source": [
    "# Feature Selection\n",
    "# List of considered Features\n",
    "\n",
    "FEATURES = [\n",
    "    'x1', 'x2', 'x3', 'x4', 'x5', 'x6', 'x7', 'x8', 'x9', 'x10','x11','x12','x13','x14','x15','x16','x17','x18','x19','x20',\n",
    "    'x21','x22','x23','x24','x25','x26','x27','x28','x29','x30','x31','x32','x33','x34','x35','x36','x37','x38','x39','x40',\n",
    "    'x41','x42','x43','x44','x45','x46','x47','x48','x49','x50','x51','x52','x53','x54','x55','x56','x57','x58','x59','x60'\n",
    "#]\n",
    "# Redução de feature usando resultado do PCA (notebook DimRedPCAOnTS)\n",
    "#    'x1','x5','x8','x10','x13','x14','x15','x17','x18','x19','x20','x21','x22','x26','x28','x30','x31','x34',\n",
    "#    'x35','x37','x38','x40','x41','x43','x46','x48','x49','x51','x53','x54','x55','x58'\n",
    "\n",
    "# Usando as features com base na sua relação com RUL\n",
    "#    'x4','x24','x48','x58','x60','x42','x45','x61','x46','x49','x9','x10','x38','x17','x5','x28','x33','x41',   \n",
    "#    'x13','x16','x56','x8','x12','x1','x57','x50','x44','x47','x52','x27','x37','x3','x54','x26','x2','x29','x55'\n",
    "\n",
    "# Cj 1 - Não usar: derrubou métricas quando adicionado ao Cj 4 + Cj 6\n",
    "#    'x1','x2','x4','x5','x6','x7','x10', 'x11','x13','x15','x17','x28',\n",
    "#    'x1','x5','x10','x13','x14','x15',\n",
    "    \n",
    "# Cj 2\n",
    "# Medidos sem C3:\n",
    "#    'x3','x8','x10','x12','x13','x16','x18','x19','x20','x23','x25', # Precision: 0.781, Recall: 0.390, F1: 0.520\n",
    "#    'x3','x8','x10','x12','x13','x16',                               # Precision: 0.834, Recall: 0.375, F1: 0.518\n",
    "#    'x18','x19','x20','x23','x25',                                   # Precision: 0.980, Recall: 0.156, F1: 0.269\n",
    "#    'x3','x8','x10','x18','x19','x20',                               # Precision: 0.848, Recall: 0.251, F1: 0.387\n",
    "#    'x12','x13','x16','x23','x25',                                   # Precision: 0.900, Recall: 0.218, F1: 0.351\n",
    "# Medidos com C3:\n",
    "###    'x3','x8','x10','x12','x13','x16','x18','x19','x20','x23','x25',  # Precision: 0.735, Recall: 0.470, F1: 0.573\n",
    "\n",
    "    # Cj 3\n",
    "###   'x9','x21','x22','x24','x26','x27','x29','x30',                   # Precision: 0.735, Recall: 0.470, F1: 0.573\n",
    "#    'x9','x21','x22','x24',                                          # Precision: 0.785, Recall: 0.451, F1: 0.573\n",
    "#    'x26','x27','x29','x30',                                         # Precision: 0.766, Recall: 0.406, F1: 0.530\n",
    "#    'x9','x21','x29','x30',                                          # Precision: 0.742, Recall: 0.353, F1: 0.478\n",
    "#    'x22','x24','x26','x27',                                          # Precision: 0.801, Recall: 0.383, F1: 0.518   \n",
    "    \n",
    "# Cj 4\n",
    "###    'x28','x36','x37','x38','x39','x40','x31','x32','x33','x34','x35',\n",
    "    \n",
    "# Cj 5\n",
    "#    'x41','x42','x43','x44','x45','x46','x47','x48','x49','x52',\n",
    "\n",
    "# Cj 6\n",
    "###   'x50','x51','x53','x54','x55','x56','x57','x58','x59','x60'\n",
    "]\n",
    "\n",
    "# Create the dataset with features and filter the data to the list of FEATURES\n",
    "pwbds_filtered = pwbds[FEATURES]\n",
    "\n",
    "# Print the tail of the dataframe\n",
    "pwbds_filtered.tail()"
   ]
  },
  {
   "cell_type": "code",
   "execution_count": 60,
   "id": "65250f0f",
   "metadata": {},
   "outputs": [
    {
     "name": "stdout",
     "output_type": "stream",
     "text": [
      "(321, 60)\n"
     ]
    }
   ],
   "source": [
    "# This Scaler removes the median and scales the data according to the quantile range to normalize the price data \n",
    "from sklearn.preprocessing import RobustScaler, MinMaxScaler \n",
    "\n",
    "# Get the number of rows in the data\n",
    "nrows = pwbds_filtered.shape[0]\n",
    "\n",
    "# Convert the data to numpy values\n",
    "np_data_unscaled = np.array(pwbds_filtered)\n",
    "np_data = np.reshape(np_data_unscaled, (nrows, -1))\n",
    "print(np_data.shape)\n",
    "\n",
    "# Transform the data by scaling each feature to a range between 0 and 1\n",
    "scaler = MinMaxScaler()\n",
    "np_data_scaled = scaler.fit_transform(np_data_unscaled)\n",
    "pwbds_scaled = pd.DataFrame(\n",
    "    np_data_scaled,\n",
    "    columns=FEATURES\n",
    ")\n"
   ]
  },
  {
   "cell_type": "markdown",
   "id": "fd709b30",
   "metadata": {},
   "source": [
    "# Shaping & Splitting"
   ]
  },
  {
   "cell_type": "code",
   "execution_count": 61,
   "id": "8936176d",
   "metadata": {},
   "outputs": [],
   "source": [
    "def lstm_data_transform(x_data, y_data, num_steps=5):\n",
    "    \"\"\" Changes data to the format for LSTM training for sliding window approach \"\"\"\n",
    "    # Prepare the list for the transformed data\n",
    "    X, y = list(), list()\n",
    "    # Loop of the entire data set\n",
    "    for i in range(x_data.shape[0]):\n",
    "        # compute a new (sliding window) index\n",
    "        end_ix = i + num_steps\n",
    "        \n",
    "        # if index is larger than the size of the dataset, we stop\n",
    "        if end_ix > x_data.shape[0]:\n",
    "            break\n",
    "        \n",
    "        # Get a sequence of data for x\n",
    "        seq_X = x_data[i:end_ix]\n",
    "        \n",
    "        # Get only the last element of the sequency for y\n",
    "        seq_y = y_data[end_ix-1]\n",
    "        \n",
    "        # Append the list with sequencies\n",
    "        X.append(seq_X)\n",
    "        y.append(seq_y)\n",
    "    \n",
    "    # Make final arrays\n",
    "    x_array = np.array(X)\n",
    "    y_array = np.array(y)\n",
    "    return x_array, y_array"
   ]
  },
  {
   "cell_type": "markdown",
   "id": "529cd37b",
   "metadata": {},
   "source": [
    "## Apply PCA"
   ]
  },
  {
   "cell_type": "code",
   "execution_count": 64,
   "id": "525f4ec9",
   "metadata": {},
   "outputs": [
    {
     "data": {
      "text/html": [
       "<div>\n",
       "<style scoped>\n",
       "    .dataframe tbody tr th:only-of-type {\n",
       "        vertical-align: middle;\n",
       "    }\n",
       "\n",
       "    .dataframe tbody tr th {\n",
       "        vertical-align: top;\n",
       "    }\n",
       "\n",
       "    .dataframe thead th {\n",
       "        text-align: right;\n",
       "    }\n",
       "</style>\n",
       "<table border=\"1\" class=\"dataframe\">\n",
       "  <thead>\n",
       "    <tr style=\"text-align: right;\">\n",
       "      <th></th>\n",
       "      <th>x1</th>\n",
       "      <th>x2</th>\n",
       "      <th>x3</th>\n",
       "      <th>x4</th>\n",
       "      <th>x5</th>\n",
       "      <th>x6</th>\n",
       "      <th>x7</th>\n",
       "      <th>x8</th>\n",
       "      <th>x9</th>\n",
       "      <th>x10</th>\n",
       "      <th>...</th>\n",
       "      <th>x51</th>\n",
       "      <th>x52</th>\n",
       "      <th>x53</th>\n",
       "      <th>x54</th>\n",
       "      <th>x55</th>\n",
       "      <th>x56</th>\n",
       "      <th>x57</th>\n",
       "      <th>x58</th>\n",
       "      <th>x59</th>\n",
       "      <th>x60</th>\n",
       "    </tr>\n",
       "  </thead>\n",
       "  <tbody>\n",
       "    <tr>\n",
       "      <th>0</th>\n",
       "      <td>0.0</td>\n",
       "      <td>0.0</td>\n",
       "      <td>0.0</td>\n",
       "      <td>0.438002</td>\n",
       "      <td>0.432463</td>\n",
       "      <td>0.782817</td>\n",
       "      <td>0.0</td>\n",
       "      <td>0.0</td>\n",
       "      <td>0.0</td>\n",
       "      <td>0.0</td>\n",
       "      <td>...</td>\n",
       "      <td>0.0</td>\n",
       "      <td>0.0</td>\n",
       "      <td>1.0</td>\n",
       "      <td>0.000000</td>\n",
       "      <td>0.570119</td>\n",
       "      <td>0.807306</td>\n",
       "      <td>0.445643</td>\n",
       "      <td>0.293454</td>\n",
       "      <td>0.0</td>\n",
       "      <td>0.408656</td>\n",
       "    </tr>\n",
       "    <tr>\n",
       "      <th>1</th>\n",
       "      <td>0.0</td>\n",
       "      <td>0.0</td>\n",
       "      <td>0.0</td>\n",
       "      <td>0.443212</td>\n",
       "      <td>0.430296</td>\n",
       "      <td>0.782908</td>\n",
       "      <td>0.0</td>\n",
       "      <td>0.0</td>\n",
       "      <td>0.0</td>\n",
       "      <td>0.0</td>\n",
       "      <td>...</td>\n",
       "      <td>0.0</td>\n",
       "      <td>0.0</td>\n",
       "      <td>1.0</td>\n",
       "      <td>0.000062</td>\n",
       "      <td>0.580029</td>\n",
       "      <td>0.851494</td>\n",
       "      <td>0.000000</td>\n",
       "      <td>0.296028</td>\n",
       "      <td>0.0</td>\n",
       "      <td>0.412401</td>\n",
       "    </tr>\n",
       "    <tr>\n",
       "      <th>2</th>\n",
       "      <td>0.0</td>\n",
       "      <td>0.0</td>\n",
       "      <td>0.0</td>\n",
       "      <td>0.442561</td>\n",
       "      <td>0.428138</td>\n",
       "      <td>0.778681</td>\n",
       "      <td>0.0</td>\n",
       "      <td>0.0</td>\n",
       "      <td>0.0</td>\n",
       "      <td>0.0</td>\n",
       "      <td>...</td>\n",
       "      <td>0.0</td>\n",
       "      <td>0.0</td>\n",
       "      <td>1.0</td>\n",
       "      <td>0.000126</td>\n",
       "      <td>0.557436</td>\n",
       "      <td>0.876225</td>\n",
       "      <td>0.445643</td>\n",
       "      <td>0.298585</td>\n",
       "      <td>0.0</td>\n",
       "      <td>0.416146</td>\n",
       "    </tr>\n",
       "    <tr>\n",
       "      <th>3</th>\n",
       "      <td>0.0</td>\n",
       "      <td>0.0</td>\n",
       "      <td>0.0</td>\n",
       "      <td>0.441910</td>\n",
       "      <td>0.425971</td>\n",
       "      <td>0.778993</td>\n",
       "      <td>0.0</td>\n",
       "      <td>0.0</td>\n",
       "      <td>0.0</td>\n",
       "      <td>0.0</td>\n",
       "      <td>...</td>\n",
       "      <td>0.0</td>\n",
       "      <td>0.0</td>\n",
       "      <td>1.0</td>\n",
       "      <td>0.000188</td>\n",
       "      <td>0.570600</td>\n",
       "      <td>0.809230</td>\n",
       "      <td>0.336949</td>\n",
       "      <td>0.301141</td>\n",
       "      <td>0.0</td>\n",
       "      <td>0.419892</td>\n",
       "    </tr>\n",
       "    <tr>\n",
       "      <th>4</th>\n",
       "      <td>0.0</td>\n",
       "      <td>0.0</td>\n",
       "      <td>0.0</td>\n",
       "      <td>0.441259</td>\n",
       "      <td>0.423805</td>\n",
       "      <td>0.783233</td>\n",
       "      <td>0.0</td>\n",
       "      <td>0.0</td>\n",
       "      <td>0.0</td>\n",
       "      <td>0.0</td>\n",
       "      <td>...</td>\n",
       "      <td>0.0</td>\n",
       "      <td>0.0</td>\n",
       "      <td>1.0</td>\n",
       "      <td>0.000252</td>\n",
       "      <td>0.535201</td>\n",
       "      <td>0.798627</td>\n",
       "      <td>0.108693</td>\n",
       "      <td>0.303697</td>\n",
       "      <td>0.0</td>\n",
       "      <td>0.423637</td>\n",
       "    </tr>\n",
       "  </tbody>\n",
       "</table>\n",
       "<p>5 rows × 60 columns</p>\n",
       "</div>"
      ],
      "text/plain": [
       "    x1   x2   x3        x4        x5        x6   x7   x8   x9  x10  ...  x51  \\\n",
       "0  0.0  0.0  0.0  0.438002  0.432463  0.782817  0.0  0.0  0.0  0.0  ...  0.0   \n",
       "1  0.0  0.0  0.0  0.443212  0.430296  0.782908  0.0  0.0  0.0  0.0  ...  0.0   \n",
       "2  0.0  0.0  0.0  0.442561  0.428138  0.778681  0.0  0.0  0.0  0.0  ...  0.0   \n",
       "3  0.0  0.0  0.0  0.441910  0.425971  0.778993  0.0  0.0  0.0  0.0  ...  0.0   \n",
       "4  0.0  0.0  0.0  0.441259  0.423805  0.783233  0.0  0.0  0.0  0.0  ...  0.0   \n",
       "\n",
       "   x52  x53       x54       x55       x56       x57       x58  x59       x60  \n",
       "0  0.0  1.0  0.000000  0.570119  0.807306  0.445643  0.293454  0.0  0.408656  \n",
       "1  0.0  1.0  0.000062  0.580029  0.851494  0.000000  0.296028  0.0  0.412401  \n",
       "2  0.0  1.0  0.000126  0.557436  0.876225  0.445643  0.298585  0.0  0.416146  \n",
       "3  0.0  1.0  0.000188  0.570600  0.809230  0.336949  0.301141  0.0  0.419892  \n",
       "4  0.0  1.0  0.000252  0.535201  0.798627  0.108693  0.303697  0.0  0.423637  \n",
       "\n",
       "[5 rows x 60 columns]"
      ]
     },
     "execution_count": 64,
     "metadata": {},
     "output_type": "execute_result"
    }
   ],
   "source": [
    "pwbds_m2.head()"
   ]
  },
  {
   "cell_type": "code",
   "execution_count": 65,
   "id": "ee8a1523",
   "metadata": {},
   "outputs": [],
   "source": [
    "from sklearn.decomposition import PCA # for PCA calculation\n",
    "pca = PCA()\n",
    "X_pca = pca.fit(pwbds_m2)"
   ]
  },
  {
   "cell_type": "code",
   "execution_count": 66,
   "id": "aa0e7288",
   "metadata": {},
   "outputs": [
    {
     "data": {
      "image/png": "[encoded data removed]",
      "text/plain": [
       "<Figure size 432x288 with 1 Axes>"
      ]
     },
     "metadata": {
      "needs_background": "light"
     },
     "output_type": "display_data"
    }
   ],
   "source": [
    "plt.plot(np.cumsum(pca.explained_variance_ratio_))\n",
    "plt.xlabel('number of components')\n",
    "plt.ylabel('cumulative explained variance');"
   ]
  },
  {
   "cell_type": "code",
   "execution_count": 67,
   "id": "d8d82df9",
   "metadata": {},
   "outputs": [],
   "source": [
    "num_components = 40\n",
    "pca = PCA(num_components)  \n",
    "X_pca = pca.fit_transform(pwbds_m2) # fit and reduce dimension"
   ]
  },
  {
   "cell_type": "code",
   "execution_count": 68,
   "id": "1371fd47",
   "metadata": {},
   "outputs": [
    {
     "data": {
      "text/plain": [
       "(321, 40)"
      ]
     },
     "execution_count": 68,
     "metadata": {},
     "output_type": "execute_result"
    }
   ],
   "source": [
    "X_pca.shape"
   ]
  },
  {
   "cell_type": "code",
   "execution_count": 69,
   "id": "87961fff",
   "metadata": {},
   "outputs": [
    {
     "name": "stdout",
     "output_type": "stream",
     "text": [
      "The new shape of x is (317, 5, 40)\n"
     ]
    }
   ],
   "source": [
    "num_steps = 5 # Intervalo entre medições é de 2 minutos\n",
    "x_new, y_new = lstm_data_transform(X_pca, yds_m2, num_steps=num_steps)\n",
    "print (\"The new shape of x is\", x_new.shape)"
   ]
  },
  {
   "cell_type": "markdown",
   "id": "a3c5f876",
   "metadata": {},
   "source": [
    "# Load Model"
   ]
  },
  {
   "cell_type": "code",
   "execution_count": 70,
   "id": "5cb97343",
   "metadata": {},
   "outputs": [],
   "source": [
    "import tensorflow as tf\n",
    "from keras.models import Sequential"
   ]
  },
  {
   "cell_type": "code",
   "execution_count": 71,
   "id": "28fc07bc",
   "metadata": {},
   "outputs": [
    {
     "name": "stdout",
     "output_type": "stream",
     "text": [
      "WARNING:tensorflow:Sequential models without an `input_shape` passed to the first layer cannot reload their optimizer state. As a result, your model isstarting with a freshly initialized optimizer.\n",
      "Model: \"sequential\"\n",
      "_________________________________________________________________\n",
      "Layer (type)                 Output Shape              Param #   \n",
      "=================================================================\n",
      "bidirectional (Bidirectional multiple                  154560    \n",
      "_________________________________________________________________\n",
      "batch_normalization (BatchNo multiple                  960       \n",
      "_________________________________________________________________\n",
      "dropout (Dropout)            multiple                  0         \n",
      "_________________________________________________________________\n",
      "bidirectional_1 (Bidirection multiple                  144480    \n",
      "_________________________________________________________________\n",
      "batch_normalization_1 (Batch multiple                  480       \n",
      "_________________________________________________________________\n",
      "dropout_1 (Dropout)          multiple                  0         \n",
      "_________________________________________________________________\n",
      "dense (Dense)                multiple                  7260      \n",
      "_________________________________________________________________\n",
      "dropout_2 (Dropout)          multiple                  0         \n",
      "_________________________________________________________________\n",
      "dense_1 (Dense)              multiple                  1830      \n",
      "_________________________________________________________________\n",
      "dropout_3 (Dropout)          multiple                  0         \n",
      "_________________________________________________________________\n",
      "dense_2 (Dense)              multiple                  310       \n",
      "_________________________________________________________________\n",
      "dropout_4 (Dropout)          multiple                  0         \n",
      "_________________________________________________________________\n",
      "dense_3 (Dense)              multiple                  33        \n",
      "=================================================================\n",
      "Total params: 309,913\n",
      "Trainable params: 309,193\n",
      "Non-trainable params: 720\n",
      "_________________________________________________________________\n",
      "None\n"
     ]
    }
   ],
   "source": [
    "import tensorflow as tf\n",
    "from tensorflow import keras\n",
    "model = keras.models.load_model('../data/pwb_classification_multi')\n",
    "\n",
    "# Verify the architecture \n",
    "print(model.summary())"
   ]
  },
  {
   "cell_type": "code",
   "execution_count": 72,
   "id": "1863d2c9",
   "metadata": {},
   "outputs": [
    {
     "name": "stdout",
     "output_type": "stream",
     "text": [
      "Training Confusion matrix\n",
      "- x-axis is true labels.\n",
      "- y-axis is predicted labels\n"
     ]
    },
    {
     "data": {
      "text/plain": [
       "array([[  8,   0, 220],\n",
       "       [  1,  16,  72],\n",
       "       [  0,   0,   0]], dtype=int64)"
      ]
     },
     "execution_count": 72,
     "metadata": {},
     "output_type": "execute_result"
    }
   ],
   "source": [
    "# make predictions and compute confusion matrix\n",
    "#y_pred = model.predict_classes(x_test,verbose=1, batch_size=200)\n",
    "y_pred = model.predict_classes(x_new)\n",
    "print('Training Confusion matrix\\n- x-axis is true labels.\\n- y-axis is predicted labels')\n",
    "cm = confusion_matrix(y_new, y_pred)\n",
    "cm"
   ]
  },
  {
   "cell_type": "code",
   "execution_count": 74,
   "id": "ca0cac40",
   "metadata": {},
   "outputs": [
    {
     "name": "stdout",
     "output_type": "stream",
     "text": [
      "Test Accuracy:  0.07570977917981073 \n",
      " Test Precision:  [0.88888889 1.         0.        ] \n",
      " Test Recall:  [0.03508772 0.17977528 0.        ] \n",
      " Test F1 Score: [0.06751055 0.3047619         nan]\n"
     ]
    },
    {
     "name": "stderr",
     "output_type": "stream",
     "text": [
      "Recall is ill-defined and being set to 0.0 in labels with no true samples. Use `zero_division` parameter to control this behavior.\n",
      "invalid value encountered in true_divide\n"
     ]
    }
   ],
   "source": [
    "# compute precision and recall\n",
    "accuracy_test = accuracy_score(y_new, y_pred)\n",
    "precision_test = precision_score(y_new, y_pred, average=None)\n",
    "recall_test = recall_score(y_new, y_pred, average=None)\n",
    "f1_test = 2 * (precision_test * recall_test) / (precision_test + recall_test)\n",
    "print('Test Accuracy: ', accuracy_test, '\\n', 'Test Precision: ', precision_test, '\\n', 'Test Recall: ', recall_test, '\\n', 'Test F1 Score:', f1_test)"
   ]
  },
  {
   "cell_type": "code",
   "execution_count": 75,
   "id": "0472b959",
   "metadata": {},
   "outputs": [
    {
     "data": {
      "text/plain": [
       "(array([0, 1]), array([228,  89], dtype=int64))"
      ]
     },
     "execution_count": 75,
     "metadata": {},
     "output_type": "execute_result"
    }
   ],
   "source": [
    "np.unique(y_new,return_counts=True)"
   ]
  },
  {
   "cell_type": "code",
   "execution_count": 76,
   "id": "32e5fd5f",
   "metadata": {},
   "outputs": [
    {
     "data": {
      "text/plain": [
       "[<matplotlib.lines.Line2D at 0x1faa0b3ab00>]"
      ]
     },
     "execution_count": 76,
     "metadata": {},
     "output_type": "execute_result"
    },
    {
     "data": {
      "image/png": "[encoded data removed]",
      "text/plain": [
       "<Figure size 1200x480 with 1 Axes>"
      ]
     },
     "metadata": {
      "needs_background": "light"
     },
     "output_type": "display_data"
    }
   ],
   "source": [
    "figure(figsize=(15, 6), dpi=80)\n",
    "plt.plot(y_new,'r+')\n",
    "plt.plot(y_pred+0.01,'b+')"
   ]
  },
  {
   "cell_type": "code",
   "execution_count": 77,
   "id": "b425f9a3",
   "metadata": {},
   "outputs": [],
   "source": [
    "import shap  # package used to calculate Shap values\n",
    "\n",
    "# use Deep SHAP to explain test set predictions\n",
    "#k_explainer = shap.KernelExplainer(model_1.predict_proba, x_test)\n",
    "#k_shap_values = k_explainer.shap_values(x_test.reshape(14315*30,32))\n",
    "#shap.force_plot(k_explainer.expected_value[1], k_shap_values[1], x_test)"
   ]
  },
  {
   "cell_type": "markdown",
   "id": "9dcf87a4",
   "metadata": {},
   "source": [
    "# Usando o Random Forest"
   ]
  },
  {
   "cell_type": "code",
   "execution_count": 102,
   "id": "c0b3c864",
   "metadata": {},
   "outputs": [],
   "source": [
    "import joblib\n",
    "filename = '../data/pwb_classification_rf_multi'\n",
    "# load the model from disk\n",
    "clf_rf = joblib.load(filename)"
   ]
  },
  {
   "cell_type": "code",
   "execution_count": 103,
   "id": "66980f08",
   "metadata": {},
   "outputs": [
    {
     "data": {
      "text/plain": [
       "(321, 40)"
      ]
     },
     "execution_count": 103,
     "metadata": {},
     "output_type": "execute_result"
    }
   ],
   "source": [
    "X_pca.shape"
   ]
  },
  {
   "cell_type": "code",
   "execution_count": 104,
   "id": "b38d4844",
   "metadata": {},
   "outputs": [
    {
     "data": {
      "text/plain": [
       "(array([0, 1, 2]), array([ 48,  41, 232], dtype=int64))"
      ]
     },
     "execution_count": 104,
     "metadata": {},
     "output_type": "execute_result"
    }
   ],
   "source": [
    "np.unique(Y,return_counts=True)"
   ]
  },
  {
   "cell_type": "code",
   "execution_count": 105,
   "id": "f82b8c9d",
   "metadata": {},
   "outputs": [
    {
     "name": "stdout",
     "output_type": "stream",
     "text": [
      "0.7227414330218068\n"
     ]
    }
   ],
   "source": [
    "#y_pred_rf = cf_rf.predict_classes(x_new)\n",
    "result_rf = clf_rf.score(X_pca, Y)\n",
    "print(result_rf)"
   ]
  },
  {
   "cell_type": "code",
   "execution_count": 106,
   "id": "f89f8941",
   "metadata": {},
   "outputs": [
    {
     "name": "stdout",
     "output_type": "stream",
     "text": [
      "Training Confusion matrix\n",
      "- x-axis is true labels.\n",
      "- y-axis is predicted labels\n"
     ]
    },
    {
     "data": {
      "text/plain": [
       "array([[  0,   0,  48],\n",
       "       [  0,   0,  41],\n",
       "       [  0,   0, 232]], dtype=int64)"
      ]
     },
     "execution_count": 106,
     "metadata": {},
     "output_type": "execute_result"
    }
   ],
   "source": [
    "y_pred = clf_rf.predict(X_pca)\n",
    "print('Training Confusion matrix\\n- x-axis is true labels.\\n- y-axis is predicted labels')\n",
    "cm = confusion_matrix(Y, y_pred)\n",
    "cm"
   ]
  },
  {
   "cell_type": "code",
   "execution_count": 107,
   "id": "6bb93245",
   "metadata": {},
   "outputs": [
    {
     "data": {
      "text/plain": [
       "(array([2]), array([321], dtype=int64))"
      ]
     },
     "execution_count": 107,
     "metadata": {},
     "output_type": "execute_result"
    }
   ],
   "source": [
    "np.unique(y_pred,return_counts=True)"
   ]
  },
  {
   "cell_type": "code",
   "execution_count": 109,
   "id": "ab9dce05",
   "metadata": {},
   "outputs": [
    {
     "data": {
      "text/plain": [
       "[<matplotlib.lines.Line2D at 0x1faa832c278>]"
      ]
     },
     "execution_count": 109,
     "metadata": {},
     "output_type": "execute_result"
    },
    {
     "data": {
      "image/png": "[encoded data removed]",
      "text/plain": [
       "<Figure size 1200x480 with 1 Axes>"
      ]
     },
     "metadata": {
      "needs_background": "light"
     },
     "output_type": "display_data"
    }
   ],
   "source": [
    "figure(figsize=(15, 6), dpi=80)\n",
    "plt.plot(Y+0.01,'r+')\n",
    "plt.plot(y_pred,'b+')"
   ]
  },
  {
   "cell_type": "code",
   "execution_count": 111,
   "id": "6f5893e3",
   "metadata": {},
   "outputs": [
    {
     "name": "stdout",
     "output_type": "stream",
     "text": [
      "Test Accuracy:  0.7227414330218068 \n",
      " Test Precision:  [0.         0.         0.72274143] \n",
      " Test Recall:  [0. 0. 1.] \n",
      " Test F1 Score: [       nan        nan 0.83905967]\n"
     ]
    },
    {
     "name": "stderr",
     "output_type": "stream",
     "text": [
      "Precision is ill-defined and being set to 0.0 in labels with no predicted samples. Use `zero_division` parameter to control this behavior.\n",
      "invalid value encountered in true_divide\n"
     ]
    }
   ],
   "source": [
    "# compute precision and recall\n",
    "accuracy_test = accuracy_score(Y, y_pred)\n",
    "precision_test = precision_score(Y, y_pred,average=None)\n",
    "recall_test = recall_score(Y, y_pred,average=None)\n",
    "f1_test = 2 * (precision_test * recall_test) / (precision_test + recall_test)\n",
    "print('Test Accuracy: ', accuracy_test, '\\n', 'Test Precision: ', precision_test, '\\n', 'Test Recall: ', recall_test, '\\n', 'Test F1 Score:', f1_test)"
   ]
  },
  {
   "cell_type": "code",
   "execution_count": 112,
   "id": "3ee5ac48",
   "metadata": {},
   "outputs": [
    {
     "data": {
      "text/plain": [
       "<sklearn.metrics._plot.confusion_matrix.ConfusionMatrixDisplay at 0x1faa8308c88>"
      ]
     },
     "execution_count": 112,
     "metadata": {},
     "output_type": "execute_result"
    },
    {
     "data": {
      "image/png": "[encoded data removed]",
      "text/plain": [
       "<Figure size 432x288 with 2 Axes>"
      ]
     },
     "metadata": {
      "needs_background": "light"
     },
     "output_type": "display_data"
    }
   ],
   "source": [
    "plot_confusion_matrix(cf_rf, X_pca, Y)"
   ]
  },
  {
   "cell_type": "markdown",
   "id": "c40bb8a8",
   "metadata": {},
   "source": [
    "# Usando o XGBOOST"
   ]
  },
  {
   "cell_type": "code",
   "execution_count": 113,
   "id": "049ed5f6",
   "metadata": {},
   "outputs": [],
   "source": [
    "filename = '../data/pwb_classification_xgb_no_avalanche'\n",
    "# load the model from disk\n",
    "cf_xgb = joblib.load(filename)"
   ]
  },
  {
   "cell_type": "code",
   "execution_count": 114,
   "id": "6da65432",
   "metadata": {},
   "outputs": [
    {
     "name": "stdout",
     "output_type": "stream",
     "text": [
      "Training Confusion matrix\n",
      "- x-axis is true labels.\n",
      "- y-axis is predicted labels\n"
     ]
    },
    {
     "data": {
      "text/plain": [
       "array([[ 36,  12,   0],\n",
       "       [ 36,   5,   0],\n",
       "       [172,  60,   0]], dtype=int64)"
      ]
     },
     "execution_count": 114,
     "metadata": {},
     "output_type": "execute_result"
    }
   ],
   "source": [
    "y_pred = cf_xgb.predict(X_pca)\n",
    "print('Training Confusion matrix\\n- x-axis is true labels.\\n- y-axis is predicted labels')\n",
    "cm = confusion_matrix(Y, y_pred)\n",
    "cm"
   ]
  },
  {
   "cell_type": "code",
   "execution_count": 115,
   "id": "8e32c040",
   "metadata": {},
   "outputs": [
    {
     "data": {
      "text/plain": [
       "[<matplotlib.lines.Line2D at 0x1faa7f4b208>]"
      ]
     },
     "execution_count": 115,
     "metadata": {},
     "output_type": "execute_result"
    },
    {
     "data": {
      "image/png": "[encoded data removed]",
      "text/plain": [
       "<Figure size 1200x480 with 1 Axes>"
      ]
     },
     "metadata": {
      "needs_background": "light"
     },
     "output_type": "display_data"
    }
   ],
   "source": [
    "figure(figsize=(15, 6), dpi=80)\n",
    "plt.plot(Y+0.01,'r+')\n",
    "plt.plot(y_pred,'b+')"
   ]
  },
  {
   "cell_type": "code",
   "execution_count": 116,
   "id": "7eed59c7",
   "metadata": {},
   "outputs": [
    {
     "name": "stdout",
     "output_type": "stream",
     "text": [
      "Test Accuracy:  0.1277258566978193 \n",
      " Test Precision:  [0.14754098 0.06493506 0.        ] \n",
      " Test Recall:  [0.75       0.12195122 0.        ] \n",
      " Test F1 Score: [0.24657534 0.08474576        nan]\n"
     ]
    },
    {
     "name": "stderr",
     "output_type": "stream",
     "text": [
      "Precision is ill-defined and being set to 0.0 in labels with no predicted samples. Use `zero_division` parameter to control this behavior.\n",
      "invalid value encountered in true_divide\n"
     ]
    }
   ],
   "source": [
    "# compute precision and recall\n",
    "accuracy_test = accuracy_score(Y, y_pred)\n",
    "precision_test = precision_score(Y, y_pred,average=None)\n",
    "recall_test = recall_score(Y, y_pred,average=None)\n",
    "f1_test = 2 * (precision_test * recall_test) / (precision_test + recall_test)\n",
    "print('Test Accuracy: ', accuracy_test, '\\n', 'Test Precision: ', precision_test, '\\n', 'Test Recall: ', recall_test, '\\n', 'Test F1 Score:', f1_test)"
   ]
  },
  {
   "cell_type": "code",
   "execution_count": 117,
   "id": "9d8062e9",
   "metadata": {},
   "outputs": [
    {
     "data": {
      "text/plain": [
       "<sklearn.metrics._plot.confusion_matrix.ConfusionMatrixDisplay at 0x1faa80f5f60>"
      ]
     },
     "execution_count": 117,
     "metadata": {},
     "output_type": "execute_result"
    },
    {
     "data": {
      "image/png": "[encoded data removed]",
      "text/plain": [
       "<Figure size 432x288 with 2 Axes>"
      ]
     },
     "metadata": {
      "needs_background": "light"
     },
     "output_type": "display_data"
    }
   ],
   "source": [
    "plot_confusion_matrix(cf_xgb, X_pca, Y)"
   ]
  },
  {
   "cell_type": "code",
   "execution_count": null,
   "id": "1868232b",
   "metadata": {},
   "outputs": [],
   "source": []
  },
  {
   "cell_type": "code",
   "execution_count": null,
   "id": "42f74a81",
   "metadata": {},
   "outputs": [],
   "source": []
  }
 ],
 "metadata": {
  "kernelspec": {
   "display_name": "paper3",
   "language": "python",
   "name": "paper3"
  },
  "language_info": {
   "codemirror_mode": {
    "name": "ipython",
    "version": 3
   },
   "file_extension": ".py",
   "mimetype": "text/x-python",
   "name": "python",
   "nbconvert_exporter": "python",
   "pygments_lexer": "ipython3",
   "version": "3.6.9"
  }
 },
 "nbformat": 4,
 "nbformat_minor": 5
}
